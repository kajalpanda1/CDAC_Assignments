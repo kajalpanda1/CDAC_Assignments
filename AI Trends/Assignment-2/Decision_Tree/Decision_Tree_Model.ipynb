{
 "cells": [
  {
   "cell_type": "code",
   "execution_count": 1,
   "metadata": {},
   "outputs": [],
   "source": [
    "#importing pyspark\n",
    "import findspark\n",
    "findspark.init()\n",
    "import pyspark"
   ]
  },
  {
   "cell_type": "code",
   "execution_count": 2,
   "metadata": {},
   "outputs": [],
   "source": [
    "#creating sparksession\n",
    "from pyspark.sql import SparkSession\n",
    "spark=SparkSession.builder.appName('Decision_Tree').getOrCreate()"
   ]
  },
  {
   "cell_type": "code",
   "execution_count": 3,
   "metadata": {},
   "outputs": [],
   "source": [
    "#importing required libraries\n",
    "from pyspark.ml import Pipeline\n",
    "from pyspark.ml.feature import StringIndexer, VectorAssembler, VectorIndexer\n",
    "from pyspark.ml.classification import DecisionTreeClassifier\n",
    "from pyspark.ml.evaluation import MulticlassClassificationEvaluator"
   ]
  },
  {
   "cell_type": "code",
   "execution_count": 4,
   "metadata": {},
   "outputs": [],
   "source": [
    "#loading the dataset\n",
    "iris_df=spark.read.csv('Iris.csv',inferSchema=True,header=False)"
   ]
  },
  {
   "cell_type": "code",
   "execution_count": 5,
   "metadata": {},
   "outputs": [
    {
     "name": "stdout",
     "output_type": "stream",
     "text": [
      "root\n",
      " |-- _c0: double (nullable = true)\n",
      " |-- _c1: double (nullable = true)\n",
      " |-- _c2: double (nullable = true)\n",
      " |-- _c3: double (nullable = true)\n",
      " |-- _c4: string (nullable = true)\n",
      "\n"
     ]
    }
   ],
   "source": [
    "iris_df.printSchema()"
   ]
  },
  {
   "cell_type": "code",
   "execution_count": 6,
   "metadata": {},
   "outputs": [
    {
     "data": {
      "text/plain": [
       "150"
      ]
     },
     "execution_count": 6,
     "metadata": {},
     "output_type": "execute_result"
    }
   ],
   "source": [
    "#total data instances in the dataset\n",
    "iris_df.count()"
   ]
  },
  {
   "cell_type": "code",
   "execution_count": 7,
   "metadata": {},
   "outputs": [
    {
     "name": "stdout",
     "output_type": "stream",
     "text": [
      "+-------+------------------+-------------------+------------------+------------------+--------------+\n",
      "|summary|_c0               |_c1                |_c2               |_c3               |_c4           |\n",
      "+-------+------------------+-------------------+------------------+------------------+--------------+\n",
      "|count  |150               |150                |150               |150               |150           |\n",
      "|mean   |5.843333333333335 |3.0540000000000007 |3.7586666666666693|1.1986666666666672|null          |\n",
      "|stddev |0.8280661279778637|0.43359431136217375|1.764420419952262 |0.7631607417008414|null          |\n",
      "|min    |4.3               |2.0                |1.0               |0.1               |Iris-setosa   |\n",
      "|max    |7.9               |4.4                |6.9               |2.5               |Iris-virginica|\n",
      "+-------+------------------+-------------------+------------------+------------------+--------------+\n",
      "\n"
     ]
    }
   ],
   "source": [
    "#statistical summary\n",
    "iris_df.describe().show(5,False)"
   ]
  },
  {
   "cell_type": "code",
   "execution_count": 8,
   "metadata": {},
   "outputs": [],
   "source": [
    "#fitting string indexer for target label\n",
    "labelIndexer = StringIndexer(inputCol=\"_c4\", outputCol=\"indexedLabel\").fit(iris_df)"
   ]
  },
  {
   "cell_type": "code",
   "execution_count": 9,
   "metadata": {},
   "outputs": [],
   "source": [
    "feature_list=['_c0','_c1','_c2','_c3']\n",
    "#fitting vector assembler for features\n",
    "featureAssembler=VectorAssembler(inputCols=feature_list,outputCol='indexedFeatures')"
   ]
  },
  {
   "cell_type": "code",
   "execution_count": 10,
   "metadata": {},
   "outputs": [],
   "source": [
    "#splitting the data into 75/25 ratio for training and testing set\n",
    "train_df,test_df=iris_df.randomSplit([0.75,0.25])"
   ]
  },
  {
   "cell_type": "code",
   "execution_count": 11,
   "metadata": {},
   "outputs": [],
   "source": [
    "#creating DecisionTreeClassifier instance\n",
    "dt=DecisionTreeClassifier(labelCol=\"indexedLabel\", featuresCol=\"indexedFeatures\")"
   ]
  },
  {
   "cell_type": "code",
   "execution_count": 12,
   "metadata": {},
   "outputs": [],
   "source": [
    "#creating pipeline for all stages of model creation\n",
    "pipeline=Pipeline(stages=[labelIndexer, featureAssembler, dt])"
   ]
  },
  {
   "cell_type": "code",
   "execution_count": 13,
   "metadata": {},
   "outputs": [],
   "source": [
    "#fitting the pipeline\n",
    "dt_model=pipeline.fit(train_df)"
   ]
  },
  {
   "cell_type": "code",
   "execution_count": 14,
   "metadata": {},
   "outputs": [],
   "source": [
    "#predicting for test dataset\n",
    "predictions=dt_model.transform(test_df)"
   ]
  },
  {
   "cell_type": "code",
   "execution_count": 15,
   "metadata": {},
   "outputs": [
    {
     "name": "stdout",
     "output_type": "stream",
     "text": [
      "+----------+------------+-----------------+\n",
      "|prediction|indexedLabel|  indexedFeatures|\n",
      "+----------+------------+-----------------+\n",
      "|       0.0|         0.0|[4.4,2.9,1.4,0.2]|\n",
      "|       0.0|         0.0|[4.4,3.0,1.3,0.2]|\n",
      "|       0.0|         0.0|[4.6,3.1,1.5,0.2]|\n",
      "|       0.0|         0.0|[4.8,3.1,1.6,0.2]|\n",
      "|       1.0|         1.0|[5.0,2.0,3.5,1.0]|\n",
      "+----------+------------+-----------------+\n",
      "only showing top 5 rows\n",
      "\n"
     ]
    }
   ],
   "source": [
    "#viewing predictions\n",
    "predictions.select(\"prediction\", \"indexedLabel\", \"indexedFeatures\").show(5)"
   ]
  },
  {
   "cell_type": "code",
   "execution_count": 17,
   "metadata": {},
   "outputs": [],
   "source": [
    "#creating dataframe with prediction and actual labels of the target variable\n",
    "predictionAndLabels=predictions.select(\"prediction\", \"indexedLabel\")"
   ]
  },
  {
   "cell_type": "code",
   "execution_count": 25,
   "metadata": {},
   "outputs": [],
   "source": [
    "#evaluating the model\n",
    "evaluator=MulticlassClassificationEvaluator(labelCol=\"indexedLabel\", predictionCol=\"prediction\")\n",
    "\n",
    "#list of metrics\n",
    "acc=evaluator.evaluate(predictionAndLabels, {evaluator.metricName: \"accuracy\"})\n",
    "f1=evaluator.evaluate(predictionAndLabels, {evaluator.metricName: \"f1\"})\n",
    "weightedPrecision=evaluator.evaluate(predictionAndLabels, {evaluator.metricName: \"weightedPrecision\"})\n",
    "weightedRecall=evaluator.evaluate(predictionAndLabels, {evaluator.metricName: \"weightedRecall\"})"
   ]
  },
  {
   "cell_type": "code",
   "execution_count": 26,
   "metadata": {},
   "outputs": [
    {
     "name": "stdout",
     "output_type": "stream",
     "text": [
      "Accuracy of the model: 93.023\n"
     ]
    }
   ],
   "source": [
    "print('Accuracy of the model:',round(acc*100,3))"
   ]
  },
  {
   "cell_type": "code",
   "execution_count": 27,
   "metadata": {},
   "outputs": [
    {
     "name": "stdout",
     "output_type": "stream",
     "text": [
      "f1-score of the model: 93.042\n"
     ]
    }
   ],
   "source": [
    "print('f1-score of the model:',round(f1*100,3))"
   ]
  },
  {
   "cell_type": "code",
   "execution_count": 28,
   "metadata": {},
   "outputs": [
    {
     "name": "stdout",
     "output_type": "stream",
     "text": [
      "Precision of the model: 93.185\n"
     ]
    }
   ],
   "source": [
    "print('Precision of the model:',round(weightedPrecision*100,3)) "
   ]
  },
  {
   "cell_type": "code",
   "execution_count": 29,
   "metadata": {},
   "outputs": [
    {
     "name": "stdout",
     "output_type": "stream",
     "text": [
      "Recall of the model: 93.023\n"
     ]
    }
   ],
   "source": [
    "print('Recall of the model:',round(weightedRecall*100,3)) "
   ]
  }
 ],
 "metadata": {
  "kernelspec": {
   "display_name": "Python 3",
   "language": "python",
   "name": "python3"
  },
  "language_info": {
   "codemirror_mode": {
    "name": "ipython",
    "version": 3
   },
   "file_extension": ".py",
   "mimetype": "text/x-python",
   "name": "python",
   "nbconvert_exporter": "python",
   "pygments_lexer": "ipython3",
   "version": "3.8.3"
  }
 },
 "nbformat": 4,
 "nbformat_minor": 4
}
