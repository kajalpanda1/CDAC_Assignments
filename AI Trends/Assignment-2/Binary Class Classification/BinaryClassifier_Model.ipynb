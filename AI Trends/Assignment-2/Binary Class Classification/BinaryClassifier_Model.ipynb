{
 "cells": [
  {
   "cell_type": "code",
   "execution_count": 1,
   "metadata": {},
   "outputs": [],
   "source": [
    "#importing pyspark\n",
    "import findspark\n",
    "findspark.init()\n",
    "import pyspark"
   ]
  },
  {
   "cell_type": "code",
   "execution_count": 2,
   "metadata": {},
   "outputs": [],
   "source": [
    "#creating sparksession\n",
    "from pyspark.sql import SparkSession\n",
    "spark=SparkSession.builder.appName('Classifier').getOrCreate()"
   ]
  },
  {
   "cell_type": "code",
   "execution_count": 3,
   "metadata": {},
   "outputs": [],
   "source": [
    "#importing required libraries\n",
    "from pyspark.ml.feature import StringIndexer, VectorAssembler\n",
    "from pyspark.ml.classification import NaiveBayes, LogisticRegression, GBTClassifier, LinearSVC \n",
    "from pyspark.ml.evaluation import MulticlassClassificationEvaluator"
   ]
  },
  {
   "cell_type": "code",
   "execution_count": 5,
   "metadata": {},
   "outputs": [],
   "source": [
    "#loading the dataset\n",
    "diabetes_df=spark.read.csv('Diabetes.csv',inferSchema=True,header=True)"
   ]
  },
  {
   "cell_type": "code",
   "execution_count": 6,
   "metadata": {},
   "outputs": [
    {
     "name": "stdout",
     "output_type": "stream",
     "text": [
      "root\n",
      " |-- preg: integer (nullable = true)\n",
      " |-- plas: integer (nullable = true)\n",
      " |-- pres: integer (nullable = true)\n",
      " |-- skin: integer (nullable = true)\n",
      " |-- insu: integer (nullable = true)\n",
      " |-- mass: double (nullable = true)\n",
      " |-- pedi: double (nullable = true)\n",
      " |-- age: integer (nullable = true)\n",
      " |-- class: string (nullable = true)\n",
      "\n"
     ]
    }
   ],
   "source": [
    "diabetes_df.printSchema()"
   ]
  },
  {
   "cell_type": "code",
   "execution_count": 7,
   "metadata": {},
   "outputs": [
    {
     "data": {
      "text/plain": [
       "768"
      ]
     },
     "execution_count": 7,
     "metadata": {},
     "output_type": "execute_result"
    }
   ],
   "source": [
    "#total data instances in the dataset\n",
    "diabetes_df.count()"
   ]
  },
  {
   "cell_type": "code",
   "execution_count": 8,
   "metadata": {},
   "outputs": [
    {
     "name": "stdout",
     "output_type": "stream",
     "text": [
      "+-------+------------------+-----------------+------------------+------------------+------------------+------------------+------------------+------------------+---------------+\n",
      "|summary|              preg|             plas|              pres|              skin|              insu|              mass|              pedi|               age|          class|\n",
      "+-------+------------------+-----------------+------------------+------------------+------------------+------------------+------------------+------------------+---------------+\n",
      "|  count|               768|              768|               768|               768|               768|               768|               768|               768|            768|\n",
      "|   mean|3.8450520833333335|     120.89453125|       69.10546875|20.536458333333332| 79.79947916666667|31.992578124999977|0.4718763020833327|33.240885416666664|           null|\n",
      "| stddev|  3.36957806269887|31.97261819513622|19.355807170644777|15.952217567727642|115.24400235133803| 7.884160320375441| 0.331328595012775|11.760231540678689|           null|\n",
      "|    min|                 0|                0|                 0|                 0|                 0|               0.0|             0.078|                21|tested_negative|\n",
      "|    max|                17|              199|               122|                99|               846|              67.1|              2.42|                81|tested_positive|\n",
      "+-------+------------------+-----------------+------------------+------------------+------------------+------------------+------------------+------------------+---------------+\n",
      "\n"
     ]
    }
   ],
   "source": [
    "#statistical summary\n",
    "diabetes_df.describe().show(5)"
   ]
  },
  {
   "cell_type": "code",
   "execution_count": 9,
   "metadata": {},
   "outputs": [
    {
     "name": "stdout",
     "output_type": "stream",
     "text": [
      "+----+----+----+----+----+----+-----+---+---------------+------------+\n",
      "|preg|plas|pres|skin|insu|mass| pedi|age|          class|indexedLabel|\n",
      "+----+----+----+----+----+----+-----+---+---------------+------------+\n",
      "|   6| 148|  72|  35|   0|33.6|0.627| 50|tested_positive|         1.0|\n",
      "|   1|  85|  66|  29|   0|26.6|0.351| 31|tested_negative|         0.0|\n",
      "|   8| 183|  64|   0|   0|23.3|0.672| 32|tested_positive|         1.0|\n",
      "|   1|  89|  66|  23|  94|28.1|0.167| 21|tested_negative|         0.0|\n",
      "|   0| 137|  40|  35| 168|43.1|2.288| 33|tested_positive|         1.0|\n",
      "+----+----+----+----+----+----+-----+---+---------------+------------+\n",
      "only showing top 5 rows\n",
      "\n"
     ]
    }
   ],
   "source": [
    "#fitting string indexer for target label\n",
    "labelIndexer = StringIndexer(inputCol=\"class\", outputCol=\"indexedLabel\").fit(diabetes_df)\n",
    "df=labelIndexer.transform(diabetes_df)\n",
    "df.show(5)"
   ]
  },
  {
   "cell_type": "code",
   "execution_count": 10,
   "metadata": {},
   "outputs": [
    {
     "name": "stdout",
     "output_type": "stream",
     "text": [
      "+----+----+----+----+----+----+-----+---+---------------+------------+--------------------+\n",
      "|preg|plas|pres|skin|insu|mass| pedi|age|          class|indexedLabel|     indexedFeatures|\n",
      "+----+----+----+----+----+----+-----+---+---------------+------------+--------------------+\n",
      "|   6| 148|  72|  35|   0|33.6|0.627| 50|tested_positive|         1.0|[6.0,148.0,72.0,3...|\n",
      "|   1|  85|  66|  29|   0|26.6|0.351| 31|tested_negative|         0.0|[1.0,85.0,66.0,29...|\n",
      "|   8| 183|  64|   0|   0|23.3|0.672| 32|tested_positive|         1.0|[8.0,183.0,64.0,0...|\n",
      "|   1|  89|  66|  23|  94|28.1|0.167| 21|tested_negative|         0.0|[1.0,89.0,66.0,23...|\n",
      "|   0| 137|  40|  35| 168|43.1|2.288| 33|tested_positive|         1.0|[0.0,137.0,40.0,3...|\n",
      "+----+----+----+----+----+----+-----+---+---------------+------------+--------------------+\n",
      "only showing top 5 rows\n",
      "\n"
     ]
    }
   ],
   "source": [
    "feature_list=['preg','plas','pres','skin','insu','mass','pedi','age']\n",
    "#fitting vector assembler for features\n",
    "featureAssembler=VectorAssembler(inputCols=feature_list,outputCol='indexedFeatures')\n",
    "output_df=featureAssembler.transform(df)\n",
    "output_df.show(5)"
   ]
  },
  {
   "cell_type": "code",
   "execution_count": 11,
   "metadata": {},
   "outputs": [],
   "source": [
    "#diabetes dataset with feature and output vector\n",
    "diabetes_data=output_df.select('indexedFeatures','indexedLabel')"
   ]
  },
  {
   "cell_type": "code",
   "execution_count": 12,
   "metadata": {},
   "outputs": [],
   "source": [
    "#splitting the data into 75/25 ratio for training and testing set\n",
    "train_df,test_df=diabetes_data.randomSplit([0.7,0.3])"
   ]
  },
  {
   "cell_type": "markdown",
   "metadata": {},
   "source": [
    "## Naive Bayes Classifier"
   ]
  },
  {
   "cell_type": "code",
   "execution_count": 15,
   "metadata": {},
   "outputs": [],
   "source": [
    "#creating NaiveBayesClassifier instance\n",
    "nb=NaiveBayes(labelCol=\"indexedLabel\", featuresCol=\"indexedFeatures\")"
   ]
  },
  {
   "cell_type": "code",
   "execution_count": 16,
   "metadata": {},
   "outputs": [],
   "source": [
    "#fitting the model\n",
    "nb_model=nb.fit(train_df)"
   ]
  },
  {
   "cell_type": "code",
   "execution_count": 17,
   "metadata": {},
   "outputs": [],
   "source": [
    "#predicting for test dataset\n",
    "nb_pred=nb_model.transform(test_df)"
   ]
  },
  {
   "cell_type": "code",
   "execution_count": 18,
   "metadata": {},
   "outputs": [
    {
     "name": "stdout",
     "output_type": "stream",
     "text": [
      "+----------+------------+--------------------+\n",
      "|prediction|indexedLabel|     indexedFeatures|\n",
      "+----------+------------+--------------------+\n",
      "|       1.0|         0.0|(8,[0,1,6,7],[2.0...|\n",
      "|       1.0|         0.0|(8,[1,5,6,7],[99....|\n",
      "|       1.0|         1.0|(8,[1,5,6,7],[119...|\n",
      "|       1.0|         1.0|(8,[1,5,6,7],[131...|\n",
      "|       1.0|         1.0|(8,[1,5,6,7],[167...|\n",
      "+----------+------------+--------------------+\n",
      "only showing top 5 rows\n",
      "\n"
     ]
    }
   ],
   "source": [
    "#viewing predictions\n",
    "nb_pred.select(\"prediction\", \"indexedLabel\", \"indexedFeatures\").show(5)"
   ]
  },
  {
   "cell_type": "code",
   "execution_count": 19,
   "metadata": {},
   "outputs": [],
   "source": [
    "#evaluating the model\n",
    "evaluator=MulticlassClassificationEvaluator(labelCol=\"indexedLabel\", predictionCol=\"prediction\")\n",
    "acc=evaluator.evaluate(nb_pred, {evaluator.metricName: \"accuracy\"})"
   ]
  },
  {
   "cell_type": "code",
   "execution_count": 20,
   "metadata": {},
   "outputs": [
    {
     "name": "stdout",
     "output_type": "stream",
     "text": [
      "Accuracy of Naive Bayes classifier model: 59.211\n"
     ]
    }
   ],
   "source": [
    "print('Accuracy of Naive Bayes classifier model:',round(acc*100,3))"
   ]
  },
  {
   "cell_type": "markdown",
   "metadata": {},
   "source": [
    "## Logistic Regression Classifier"
   ]
  },
  {
   "cell_type": "code",
   "execution_count": 21,
   "metadata": {},
   "outputs": [],
   "source": [
    "#creating LogisticRegression instance\n",
    "lr=LogisticRegression(labelCol=\"indexedLabel\", featuresCol=\"indexedFeatures\")"
   ]
  },
  {
   "cell_type": "code",
   "execution_count": 22,
   "metadata": {},
   "outputs": [],
   "source": [
    "#fitting the model\n",
    "lr_model=lr.fit(train_df)"
   ]
  },
  {
   "cell_type": "code",
   "execution_count": 23,
   "metadata": {},
   "outputs": [],
   "source": [
    "#predicting for test dataset\n",
    "lr_pred=lr_model.transform(test_df)"
   ]
  },
  {
   "cell_type": "code",
   "execution_count": 24,
   "metadata": {},
   "outputs": [
    {
     "name": "stdout",
     "output_type": "stream",
     "text": [
      "+----------+------------+--------------------+\n",
      "|prediction|indexedLabel|     indexedFeatures|\n",
      "+----------+------------+--------------------+\n",
      "|       0.0|         0.0|(8,[0,1,6,7],[2.0...|\n",
      "|       0.0|         0.0|(8,[1,5,6,7],[99....|\n",
      "|       0.0|         1.0|(8,[1,5,6,7],[119...|\n",
      "|       1.0|         1.0|(8,[1,5,6,7],[131...|\n",
      "|       1.0|         1.0|(8,[1,5,6,7],[167...|\n",
      "+----------+------------+--------------------+\n",
      "only showing top 5 rows\n",
      "\n"
     ]
    }
   ],
   "source": [
    "#viewing predictions\n",
    "lr_pred.select(\"prediction\", \"indexedLabel\", \"indexedFeatures\").show(5)"
   ]
  },
  {
   "cell_type": "code",
   "execution_count": 25,
   "metadata": {},
   "outputs": [],
   "source": [
    "#evaluating the model\n",
    "evaluator=MulticlassClassificationEvaluator(labelCol=\"indexedLabel\", predictionCol=\"prediction\")\n",
    "acc=evaluator.evaluate(lr_pred, {evaluator.metricName: \"accuracy\"})"
   ]
  },
  {
   "cell_type": "code",
   "execution_count": 26,
   "metadata": {},
   "outputs": [
    {
     "name": "stdout",
     "output_type": "stream",
     "text": [
      "Accuracy of Logistic Regression model: 74.123\n"
     ]
    }
   ],
   "source": [
    "print('Accuracy of Logistic Regression model:',round(acc*100,3))"
   ]
  },
  {
   "cell_type": "markdown",
   "metadata": {},
   "source": [
    "## Support Vector Machine Classifier"
   ]
  },
  {
   "cell_type": "code",
   "execution_count": 27,
   "metadata": {},
   "outputs": [],
   "source": [
    "#creating SVMClassifier instance\n",
    "svm=LinearSVC(labelCol=\"indexedLabel\", featuresCol=\"indexedFeatures\")"
   ]
  },
  {
   "cell_type": "code",
   "execution_count": 28,
   "metadata": {},
   "outputs": [],
   "source": [
    "#fitting the model\n",
    "svm_model=svm.fit(train_df)"
   ]
  },
  {
   "cell_type": "code",
   "execution_count": 29,
   "metadata": {},
   "outputs": [],
   "source": [
    "#predicting for test dataset\n",
    "svm_pred=svm_model.transform(test_df)"
   ]
  },
  {
   "cell_type": "code",
   "execution_count": 30,
   "metadata": {},
   "outputs": [
    {
     "name": "stdout",
     "output_type": "stream",
     "text": [
      "+----------+------------+--------------------+\n",
      "|prediction|indexedLabel|     indexedFeatures|\n",
      "+----------+------------+--------------------+\n",
      "|       0.0|         0.0|(8,[0,1,6,7],[2.0...|\n",
      "|       0.0|         0.0|(8,[1,5,6,7],[99....|\n",
      "|       0.0|         1.0|(8,[1,5,6,7],[119...|\n",
      "|       1.0|         1.0|(8,[1,5,6,7],[131...|\n",
      "|       1.0|         1.0|(8,[1,5,6,7],[167...|\n",
      "+----------+------------+--------------------+\n",
      "only showing top 5 rows\n",
      "\n"
     ]
    }
   ],
   "source": [
    "#viewing predictions\n",
    "svm_pred.select(\"prediction\", \"indexedLabel\", \"indexedFeatures\").show(5)"
   ]
  },
  {
   "cell_type": "code",
   "execution_count": 31,
   "metadata": {},
   "outputs": [],
   "source": [
    "#evaluating the model\n",
    "evaluator=MulticlassClassificationEvaluator(labelCol=\"indexedLabel\", predictionCol=\"prediction\")\n",
    "acc=evaluator.evaluate(svm_pred, {evaluator.metricName: \"accuracy\"})"
   ]
  },
  {
   "cell_type": "code",
   "execution_count": 32,
   "metadata": {},
   "outputs": [
    {
     "name": "stdout",
     "output_type": "stream",
     "text": [
      "Accuracy of SVM Classifier model: 75.439\n"
     ]
    }
   ],
   "source": [
    "print('Accuracy of SVM Classifier model:',round(acc*100,3))"
   ]
  },
  {
   "cell_type": "markdown",
   "metadata": {},
   "source": [
    "# Ensemble Model"
   ]
  },
  {
   "cell_type": "markdown",
   "metadata": {},
   "source": [
    "## Gradient Boosting Classifier"
   ]
  },
  {
   "cell_type": "code",
   "execution_count": 33,
   "metadata": {},
   "outputs": [],
   "source": [
    "#creating GradientBoostClassifier instance\n",
    "gbt=GBTClassifier(labelCol=\"indexedLabel\", featuresCol=\"indexedFeatures\", maxIter=200)"
   ]
  },
  {
   "cell_type": "code",
   "execution_count": 34,
   "metadata": {},
   "outputs": [],
   "source": [
    "#fitting the model\n",
    "gbt_model=gbt.fit(train_df)"
   ]
  },
  {
   "cell_type": "code",
   "execution_count": 35,
   "metadata": {},
   "outputs": [],
   "source": [
    "#predicting for test dataset\n",
    "gbt_pred=gbt_model.transform(test_df)"
   ]
  },
  {
   "cell_type": "code",
   "execution_count": 36,
   "metadata": {},
   "outputs": [
    {
     "name": "stdout",
     "output_type": "stream",
     "text": [
      "+----------+------------+--------------------+\n",
      "|prediction|indexedLabel|     indexedFeatures|\n",
      "+----------+------------+--------------------+\n",
      "|       0.0|         0.0|(8,[0,1,6,7],[2.0...|\n",
      "|       0.0|         0.0|(8,[1,5,6,7],[99....|\n",
      "|       0.0|         1.0|(8,[1,5,6,7],[119...|\n",
      "|       1.0|         1.0|(8,[1,5,6,7],[131...|\n",
      "|       1.0|         1.0|(8,[1,5,6,7],[167...|\n",
      "+----------+------------+--------------------+\n",
      "only showing top 5 rows\n",
      "\n"
     ]
    }
   ],
   "source": [
    "#viewing predictions\n",
    "gbt_pred.select(\"prediction\", \"indexedLabel\", \"indexedFeatures\").show(5)"
   ]
  },
  {
   "cell_type": "code",
   "execution_count": 37,
   "metadata": {},
   "outputs": [],
   "source": [
    "#evaluating the model\n",
    "evaluator=MulticlassClassificationEvaluator(labelCol=\"indexedLabel\", predictionCol=\"prediction\")\n",
    "acc=evaluator.evaluate(gbt_pred, {evaluator.metricName: \"accuracy\"})"
   ]
  },
  {
   "cell_type": "code",
   "execution_count": 38,
   "metadata": {},
   "outputs": [
    {
     "name": "stdout",
     "output_type": "stream",
     "text": [
      "Accuracy of Gradient Boost Classifier model: 69.737\n"
     ]
    }
   ],
   "source": [
    "print('Accuracy of Gradient Boost Classifier model:',round(acc*100,3))"
   ]
  }
 ],
 "metadata": {
  "kernelspec": {
   "display_name": "Python 3",
   "language": "python",
   "name": "python3"
  },
  "language_info": {
   "codemirror_mode": {
    "name": "ipython",
    "version": 3
   },
   "file_extension": ".py",
   "mimetype": "text/x-python",
   "name": "python",
   "nbconvert_exporter": "python",
   "pygments_lexer": "ipython3",
   "version": "3.8.3"
  }
 },
 "nbformat": 4,
 "nbformat_minor": 4
}
