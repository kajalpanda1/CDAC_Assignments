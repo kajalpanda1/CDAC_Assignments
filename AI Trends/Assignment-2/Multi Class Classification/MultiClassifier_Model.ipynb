{
 "cells": [
  {
   "cell_type": "code",
   "execution_count": 1,
   "metadata": {},
   "outputs": [],
   "source": [
    "#importing pyspark\n",
    "import findspark\n",
    "findspark.init()\n",
    "import pyspark"
   ]
  },
  {
   "cell_type": "code",
   "execution_count": 2,
   "metadata": {},
   "outputs": [],
   "source": [
    "#creating sparksession\n",
    "from pyspark.sql import SparkSession\n",
    "spark=SparkSession.builder.appName('Classifier').getOrCreate()"
   ]
  },
  {
   "cell_type": "code",
   "execution_count": 3,
   "metadata": {},
   "outputs": [],
   "source": [
    "#importing required libraries\n",
    "from pyspark.ml.feature import StringIndexer, VectorAssembler\n",
    "from pyspark.ml.classification import DecisionTreeClassifier, MultilayerPerceptronClassifier\n",
    "from pyspark.ml.classification import RandomForestClassifier\n",
    "from pyspark.ml.evaluation import MulticlassClassificationEvaluator"
   ]
  },
  {
   "cell_type": "code",
   "execution_count": 4,
   "metadata": {},
   "outputs": [],
   "source": [
    "#loading the dataset\n",
    "iris_df=spark.read.csv('Iris.csv',inferSchema=True,header=False)"
   ]
  },
  {
   "cell_type": "code",
   "execution_count": 5,
   "metadata": {},
   "outputs": [
    {
     "name": "stdout",
     "output_type": "stream",
     "text": [
      "root\n",
      " |-- _c0: double (nullable = true)\n",
      " |-- _c1: double (nullable = true)\n",
      " |-- _c2: double (nullable = true)\n",
      " |-- _c3: double (nullable = true)\n",
      " |-- _c4: string (nullable = true)\n",
      "\n"
     ]
    }
   ],
   "source": [
    "iris_df.printSchema()"
   ]
  },
  {
   "cell_type": "code",
   "execution_count": 6,
   "metadata": {},
   "outputs": [
    {
     "data": {
      "text/plain": [
       "150"
      ]
     },
     "execution_count": 6,
     "metadata": {},
     "output_type": "execute_result"
    }
   ],
   "source": [
    "#total data instances in the dataset\n",
    "iris_df.count()"
   ]
  },
  {
   "cell_type": "code",
   "execution_count": 7,
   "metadata": {},
   "outputs": [
    {
     "name": "stdout",
     "output_type": "stream",
     "text": [
      "+-------+------------------+-------------------+------------------+------------------+--------------+\n",
      "|summary|_c0               |_c1                |_c2               |_c3               |_c4           |\n",
      "+-------+------------------+-------------------+------------------+------------------+--------------+\n",
      "|count  |150               |150                |150               |150               |150           |\n",
      "|mean   |5.843333333333335 |3.0540000000000007 |3.7586666666666693|1.1986666666666672|null          |\n",
      "|stddev |0.8280661279778637|0.43359431136217375|1.764420419952262 |0.7631607417008414|null          |\n",
      "|min    |4.3               |2.0                |1.0               |0.1               |Iris-setosa   |\n",
      "|max    |7.9               |4.4                |6.9               |2.5               |Iris-virginica|\n",
      "+-------+------------------+-------------------+------------------+------------------+--------------+\n",
      "\n"
     ]
    }
   ],
   "source": [
    "#statistical summary\n",
    "iris_df.describe().show(5,False)"
   ]
  },
  {
   "cell_type": "code",
   "execution_count": 8,
   "metadata": {},
   "outputs": [
    {
     "name": "stdout",
     "output_type": "stream",
     "text": [
      "+---+---+---+---+-----------+------------+\n",
      "|_c0|_c1|_c2|_c3|        _c4|indexedLabel|\n",
      "+---+---+---+---+-----------+------------+\n",
      "|5.1|3.5|1.4|0.2|Iris-setosa|         0.0|\n",
      "|4.9|3.0|1.4|0.2|Iris-setosa|         0.0|\n",
      "|4.7|3.2|1.3|0.2|Iris-setosa|         0.0|\n",
      "|4.6|3.1|1.5|0.2|Iris-setosa|         0.0|\n",
      "|5.0|3.6|1.4|0.2|Iris-setosa|         0.0|\n",
      "+---+---+---+---+-----------+------------+\n",
      "only showing top 5 rows\n",
      "\n"
     ]
    }
   ],
   "source": [
    "#fitting string indexer for target label\n",
    "labelIndexer = StringIndexer(inputCol=\"_c4\", outputCol=\"indexedLabel\").fit(iris_df)\n",
    "df=labelIndexer.transform(iris_df)\n",
    "df.show(5)"
   ]
  },
  {
   "cell_type": "code",
   "execution_count": 9,
   "metadata": {},
   "outputs": [
    {
     "name": "stdout",
     "output_type": "stream",
     "text": [
      "+---+---+---+---+-----------+------------+-----------------+\n",
      "|_c0|_c1|_c2|_c3|        _c4|indexedLabel|  indexedFeatures|\n",
      "+---+---+---+---+-----------+------------+-----------------+\n",
      "|5.1|3.5|1.4|0.2|Iris-setosa|         0.0|[5.1,3.5,1.4,0.2]|\n",
      "|4.9|3.0|1.4|0.2|Iris-setosa|         0.0|[4.9,3.0,1.4,0.2]|\n",
      "|4.7|3.2|1.3|0.2|Iris-setosa|         0.0|[4.7,3.2,1.3,0.2]|\n",
      "|4.6|3.1|1.5|0.2|Iris-setosa|         0.0|[4.6,3.1,1.5,0.2]|\n",
      "|5.0|3.6|1.4|0.2|Iris-setosa|         0.0|[5.0,3.6,1.4,0.2]|\n",
      "+---+---+---+---+-----------+------------+-----------------+\n",
      "only showing top 5 rows\n",
      "\n"
     ]
    }
   ],
   "source": [
    "feature_list=['_c0','_c1','_c2','_c3']\n",
    "#fitting vector assembler for features\n",
    "featureAssembler=VectorAssembler(inputCols=feature_list,outputCol='indexedFeatures')\n",
    "output_df=featureAssembler.transform(df)\n",
    "output_df.show(5)"
   ]
  },
  {
   "cell_type": "code",
   "execution_count": 10,
   "metadata": {},
   "outputs": [],
   "source": [
    "#iris dataset with feature and output vector\n",
    "iris_data=output_df.select('indexedFeatures','indexedLabel')"
   ]
  },
  {
   "cell_type": "code",
   "execution_count": 11,
   "metadata": {},
   "outputs": [],
   "source": [
    "#splitting the data into 75/25 ratio for training and testing set\n",
    "train_df,test_df=iris_data.randomSplit([0.8,0.2])"
   ]
  },
  {
   "cell_type": "markdown",
   "metadata": {},
   "source": [
    "## Decision Tree Classifier"
   ]
  },
  {
   "cell_type": "code",
   "execution_count": 12,
   "metadata": {},
   "outputs": [],
   "source": [
    "#creating DecisionTreeClassifier instance\n",
    "dt=DecisionTreeClassifier(labelCol=\"indexedLabel\", featuresCol=\"indexedFeatures\")"
   ]
  },
  {
   "cell_type": "code",
   "execution_count": 14,
   "metadata": {},
   "outputs": [],
   "source": [
    "#fitting the model\n",
    "dt_model=dt.fit(train_df)"
   ]
  },
  {
   "cell_type": "code",
   "execution_count": 15,
   "metadata": {},
   "outputs": [],
   "source": [
    "#predicting for test dataset\n",
    "dt_pred=dt_model.transform(test_df)"
   ]
  },
  {
   "cell_type": "code",
   "execution_count": 16,
   "metadata": {},
   "outputs": [
    {
     "name": "stdout",
     "output_type": "stream",
     "text": [
      "+----------+------------+-----------------+\n",
      "|prediction|indexedLabel|  indexedFeatures|\n",
      "+----------+------------+-----------------+\n",
      "|       0.0|         0.0|[4.4,3.0,1.3,0.2]|\n",
      "|       0.0|         0.0|[4.6,3.4,1.4,0.3]|\n",
      "|       2.0|         1.0|[4.9,2.4,3.3,1.0]|\n",
      "|       0.0|         0.0|[4.9,3.0,1.4,0.2]|\n",
      "|       0.0|         0.0|[4.9,3.1,1.5,0.1]|\n",
      "+----------+------------+-----------------+\n",
      "only showing top 5 rows\n",
      "\n"
     ]
    }
   ],
   "source": [
    "#viewing predictions\n",
    "dt_pred.select(\"prediction\", \"indexedLabel\", \"indexedFeatures\").show(5)"
   ]
  },
  {
   "cell_type": "code",
   "execution_count": 17,
   "metadata": {},
   "outputs": [],
   "source": [
    "#evaluating the model\n",
    "evaluator=MulticlassClassificationEvaluator(labelCol=\"indexedLabel\", predictionCol=\"prediction\")\n",
    "acc=evaluator.evaluate(dt_pred, {evaluator.metricName: \"accuracy\"})"
   ]
  },
  {
   "cell_type": "code",
   "execution_count": 18,
   "metadata": {},
   "outputs": [
    {
     "name": "stdout",
     "output_type": "stream",
     "text": [
      "Accuracy of Decision tree classifier model: 93.939\n"
     ]
    }
   ],
   "source": [
    "print('Accuracy of Decision tree classifier model:',round(acc*100,3))"
   ]
  },
  {
   "cell_type": "markdown",
   "metadata": {},
   "source": [
    "## Multilayer Perceptron Classifier"
   ]
  },
  {
   "cell_type": "code",
   "execution_count": 19,
   "metadata": {},
   "outputs": [],
   "source": [
    "#creating MultilayerPerceptronClassifier instance\n",
    "mlp=MultilayerPerceptronClassifier(labelCol=\"indexedLabel\", featuresCol=\"indexedFeatures\", maxIter=200, layers=[4,3,2,3], \n",
    "                                   blockSize=64)"
   ]
  },
  {
   "cell_type": "code",
   "execution_count": 20,
   "metadata": {},
   "outputs": [],
   "source": [
    "#fitting the model\n",
    "mlp_model=mlp.fit(train_df)"
   ]
  },
  {
   "cell_type": "code",
   "execution_count": 21,
   "metadata": {},
   "outputs": [],
   "source": [
    "#predicting for test dataset\n",
    "mlp_pred=mlp_model.transform(test_df)"
   ]
  },
  {
   "cell_type": "code",
   "execution_count": 22,
   "metadata": {},
   "outputs": [
    {
     "name": "stdout",
     "output_type": "stream",
     "text": [
      "+----------+------------+-----------------+\n",
      "|prediction|indexedLabel|  indexedFeatures|\n",
      "+----------+------------+-----------------+\n",
      "|       0.0|         0.0|[4.4,3.0,1.3,0.2]|\n",
      "|       0.0|         0.0|[4.6,3.4,1.4,0.3]|\n",
      "|       1.0|         1.0|[4.9,2.4,3.3,1.0]|\n",
      "|       0.0|         0.0|[4.9,3.0,1.4,0.2]|\n",
      "|       0.0|         0.0|[4.9,3.1,1.5,0.1]|\n",
      "+----------+------------+-----------------+\n",
      "only showing top 5 rows\n",
      "\n"
     ]
    }
   ],
   "source": [
    "#viewing predictions\n",
    "mlp_pred.select(\"prediction\", \"indexedLabel\", \"indexedFeatures\").show(5)"
   ]
  },
  {
   "cell_type": "code",
   "execution_count": 23,
   "metadata": {},
   "outputs": [],
   "source": [
    "#evaluating the model\n",
    "evaluator=MulticlassClassificationEvaluator(labelCol=\"indexedLabel\", predictionCol=\"prediction\")\n",
    "acc=evaluator.evaluate(mlp_pred, {evaluator.metricName: \"accuracy\"})"
   ]
  },
  {
   "cell_type": "code",
   "execution_count": 24,
   "metadata": {},
   "outputs": [
    {
     "name": "stdout",
     "output_type": "stream",
     "text": [
      "Accuracy of Multilayer Perceptron Classifier model: 96.97\n"
     ]
    }
   ],
   "source": [
    "print('Accuracy of Multilayer Perceptron Classifier model:',round(acc*100,3))"
   ]
  },
  {
   "cell_type": "markdown",
   "metadata": {},
   "source": [
    "# Ensemble Model"
   ]
  },
  {
   "cell_type": "markdown",
   "metadata": {},
   "source": [
    "## Random Forest Classifier"
   ]
  },
  {
   "cell_type": "code",
   "execution_count": 37,
   "metadata": {},
   "outputs": [],
   "source": [
    "#creating RandomForestClassifier instance\n",
    "rfc=RandomForestClassifier(labelCol=\"indexedLabel\", featuresCol=\"indexedFeatures\", numTrees=10)"
   ]
  },
  {
   "cell_type": "code",
   "execution_count": 38,
   "metadata": {},
   "outputs": [],
   "source": [
    "#fitting the model\n",
    "rfc_model=rfc.fit(train_df)"
   ]
  },
  {
   "cell_type": "code",
   "execution_count": 39,
   "metadata": {},
   "outputs": [],
   "source": [
    "#predicting for test dataset\n",
    "rfc_pred=rfc_model.transform(test_df)"
   ]
  },
  {
   "cell_type": "code",
   "execution_count": 40,
   "metadata": {},
   "outputs": [
    {
     "name": "stdout",
     "output_type": "stream",
     "text": [
      "+----------+------------+-----------------+\n",
      "|prediction|indexedLabel|  indexedFeatures|\n",
      "+----------+------------+-----------------+\n",
      "|       0.0|         0.0|[4.4,3.0,1.3,0.2]|\n",
      "|       0.0|         0.0|[4.6,3.4,1.4,0.3]|\n",
      "|       1.0|         1.0|[4.9,2.4,3.3,1.0]|\n",
      "|       0.0|         0.0|[4.9,3.0,1.4,0.2]|\n",
      "|       0.0|         0.0|[4.9,3.1,1.5,0.1]|\n",
      "+----------+------------+-----------------+\n",
      "only showing top 5 rows\n",
      "\n"
     ]
    }
   ],
   "source": [
    "#viewing predictions\n",
    "rfc_pred.select(\"prediction\", \"indexedLabel\", \"indexedFeatures\").show(5)"
   ]
  },
  {
   "cell_type": "code",
   "execution_count": 41,
   "metadata": {},
   "outputs": [],
   "source": [
    "#evaluating the model\n",
    "evaluator=MulticlassClassificationEvaluator(labelCol=\"indexedLabel\", predictionCol=\"prediction\")\n",
    "acc=evaluator.evaluate(rfc_pred, {evaluator.metricName: \"accuracy\"})"
   ]
  },
  {
   "cell_type": "code",
   "execution_count": 42,
   "metadata": {},
   "outputs": [
    {
     "name": "stdout",
     "output_type": "stream",
     "text": [
      "Accuracy of Random Forest Classifier model: 100.0\n"
     ]
    }
   ],
   "source": [
    "print('Accuracy of Random Forest Classifier model:',round(acc*100,3))"
   ]
  }
 ],
 "metadata": {
  "kernelspec": {
   "display_name": "Python 3",
   "language": "python",
   "name": "python3"
  },
  "language_info": {
   "codemirror_mode": {
    "name": "ipython",
    "version": 3
   },
   "file_extension": ".py",
   "mimetype": "text/x-python",
   "name": "python",
   "nbconvert_exporter": "python",
   "pygments_lexer": "ipython3",
   "version": "3.8.3"
  }
 },
 "nbformat": 4,
 "nbformat_minor": 4
}
