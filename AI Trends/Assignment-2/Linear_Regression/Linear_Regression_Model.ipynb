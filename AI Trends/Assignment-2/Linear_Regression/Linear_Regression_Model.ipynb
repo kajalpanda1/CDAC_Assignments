{
 "cells": [
  {
   "cell_type": "code",
   "execution_count": 1,
   "metadata": {},
   "outputs": [],
   "source": [
    "#importing pyspark\n",
    "import findspark\n",
    "findspark.init()\n",
    "import pyspark"
   ]
  },
  {
   "cell_type": "code",
   "execution_count": 2,
   "metadata": {},
   "outputs": [],
   "source": [
    "#creating sparksession\n",
    "from pyspark.sql import SparkSession\n",
    "spark=SparkSession.builder.appName('Linear_Regression').getOrCreate()"
   ]
  },
  {
   "cell_type": "code",
   "execution_count": 3,
   "metadata": {},
   "outputs": [],
   "source": [
    "#importing required libraries\n",
    "from pyspark.sql.functions import corr\n",
    "from pyspark.ml.feature import VectorAssembler\n",
    "from pyspark.ml.regression import LinearRegression\n",
    "from pyspark.ml.feature import StandardScaler"
   ]
  },
  {
   "cell_type": "code",
   "execution_count": 4,
   "metadata": {},
   "outputs": [],
   "source": [
    "#loading the dataset\n",
    "fish_df=spark.read.csv('Fish.csv',inferSchema=True,header=True)"
   ]
  },
  {
   "cell_type": "code",
   "execution_count": 5,
   "metadata": {},
   "outputs": [
    {
     "name": "stdout",
     "output_type": "stream",
     "text": [
      "root\n",
      " |-- Species: string (nullable = true)\n",
      " |-- Weight: double (nullable = true)\n",
      " |-- Length1: double (nullable = true)\n",
      " |-- Length2: double (nullable = true)\n",
      " |-- Length3: double (nullable = true)\n",
      " |-- Height: double (nullable = true)\n",
      " |-- Width: double (nullable = true)\n",
      "\n"
     ]
    }
   ],
   "source": [
    "fish_df.printSchema()"
   ]
  },
  {
   "cell_type": "code",
   "execution_count": 6,
   "metadata": {},
   "outputs": [
    {
     "data": {
      "text/plain": [
       "159"
      ]
     },
     "execution_count": 6,
     "metadata": {},
     "output_type": "execute_result"
    }
   ],
   "source": [
    "#total number of records\n",
    "fish_df.count()"
   ]
  },
  {
   "cell_type": "code",
   "execution_count": 7,
   "metadata": {},
   "outputs": [
    {
     "name": "stdout",
     "output_type": "stream",
     "text": [
      "+-------+---------+------------------+-----------------+------------------+------------------+-----------------+------------------+\n",
      "|summary|Species  |Weight            |Length1          |Length2           |Length3           |Height           |Width             |\n",
      "+-------+---------+------------------+-----------------+------------------+------------------+-----------------+------------------+\n",
      "|count  |159      |159               |159              |159               |159               |159              |159               |\n",
      "|mean   |null     |398.3264150943396 |26.24716981132075|28.415723270440253|31.227044025157248|8.970993710691822|4.417485534591194 |\n",
      "|stddev |null     |357.97831655089306|9.996441210553128|10.716328098884247|11.61024583269096 |4.286207619968869|1.6858038699921665|\n",
      "|min    |Bream    |0.0               |7.5              |8.4               |8.8               |1.7284           |1.0476            |\n",
      "|max    |Whitefish|1650.0            |59.0             |63.4              |68.0              |18.957           |8.142             |\n",
      "+-------+---------+------------------+-----------------+------------------+------------------+-----------------+------------------+\n",
      "\n"
     ]
    }
   ],
   "source": [
    "#statistical summary\n",
    "fish_df.describe().show(5,False)"
   ]
  },
  {
   "cell_type": "code",
   "execution_count": 8,
   "metadata": {},
   "outputs": [
    {
     "name": "stdout",
     "output_type": "stream",
     "text": [
      "+---------------------+\n",
      "|corr(Length1, Weight)|\n",
      "+---------------------+\n",
      "|   0.9157117160312038|\n",
      "+---------------------+\n",
      "\n",
      "+---------------------+\n",
      "|corr(Length2, Weight)|\n",
      "+---------------------+\n",
      "|   0.9186177013642219|\n",
      "+---------------------+\n",
      "\n",
      "+---------------------+\n",
      "|corr(Length3, Weight)|\n",
      "+---------------------+\n",
      "|   0.9230435593620122|\n",
      "+---------------------+\n",
      "\n",
      "+--------------------+\n",
      "|corr(Height, Weight)|\n",
      "+--------------------+\n",
      "|  0.7243453291993319|\n",
      "+--------------------+\n",
      "\n",
      "+-------------------+\n",
      "|corr(Width, Weight)|\n",
      "+-------------------+\n",
      "| 0.8865066052433449|\n",
      "+-------------------+\n",
      "\n"
     ]
    }
   ],
   "source": [
    "# check for correlation\n",
    "feature_list=['Length1','Length2','Length3','Height','Width']\n",
    "for i in feature_list:\n",
    "    fish_df.select(corr(i,'Weight')).show()"
   ]
  },
  {
   "cell_type": "code",
   "execution_count": 9,
   "metadata": {},
   "outputs": [],
   "source": [
    "#fitting vector assembler\n",
    "vec_assembler=VectorAssembler(inputCols=feature_list,outputCol='Features')"
   ]
  },
  {
   "cell_type": "code",
   "execution_count": 10,
   "metadata": {},
   "outputs": [],
   "source": [
    "#transforming the values\n",
    "features_df=vec_assembler.transform(fish_df)"
   ]
  },
  {
   "cell_type": "code",
   "execution_count": 11,
   "metadata": {},
   "outputs": [],
   "source": [
    "#dataframe with assembled features and target\n",
    "model_df=features_df.select('Features','Weight')"
   ]
  },
  {
   "cell_type": "code",
   "execution_count": 12,
   "metadata": {},
   "outputs": [],
   "source": [
    "#scaling the features\n",
    "Scalerizer=StandardScaler().setInputCol(\"Features\").setOutputCol(\"features\")\n",
    "scaled_df=Scalerizer.fit(model_df).transform(model_df)"
   ]
  },
  {
   "cell_type": "code",
   "execution_count": 13,
   "metadata": {},
   "outputs": [
    {
     "name": "stdout",
     "output_type": "stream",
     "text": [
      "+--------------------+------+\n",
      "|            features|Weight|\n",
      "+--------------------+------+\n",
      "|[2.32082593308386...| 242.0|\n",
      "|[2.40085441353503...| 290.0|\n",
      "|[2.39085085347864...| 340.0|\n",
      "|[2.63093629483214...| 363.0|\n",
      "|[2.65094341494493...| 430.0|\n",
      "+--------------------+------+\n",
      "only showing top 5 rows\n",
      "\n"
     ]
    }
   ],
   "source": [
    "scaled_df.show(5)"
   ]
  },
  {
   "cell_type": "code",
   "execution_count": 14,
   "metadata": {},
   "outputs": [],
   "source": [
    "#creating model with scaled features and output column\n",
    "model_df=scaled_df.select('features','Weight')"
   ]
  },
  {
   "cell_type": "code",
   "execution_count": 15,
   "metadata": {},
   "outputs": [
    {
     "name": "stdout",
     "output_type": "stream",
     "text": [
      "+-----------------------------------------------------------------------------------------------+------+\n",
      "|features                                                                                       |Weight|\n",
      "+-----------------------------------------------------------------------------------------------+------+\n",
      "|[2.3208259330838685,2.370214850238168,2.5839246155778217,2.6876906163690855,2.3846190363880706]|242.0 |\n",
      "|[2.4008544135350363,2.454198840994639,2.6872816002009348,2.911664834399843,2.5540337619583275] |290.0 |\n",
      "|[2.3908508534786406,2.4728619500516325,2.6786685181490086,2.8878209124386522,2.785673994224383]|340.0 |\n",
      "|[2.630936294832144,2.7061508132640504,2.8853824873952343,2.969991453678686,2.6429527653301115] |363.0 |\n",
      "|[2.650943414944936,2.7061508132640504,2.928447897654865,2.90326580122369,3.0454313763224765]   |430.0 |\n",
      "+-----------------------------------------------------------------------------------------------+------+\n",
      "only showing top 5 rows\n",
      "\n"
     ]
    }
   ],
   "source": [
    "model_df.show(5,False)"
   ]
  },
  {
   "cell_type": "code",
   "execution_count": 16,
   "metadata": {},
   "outputs": [],
   "source": [
    "#splitting the data into 75/25 ratio for training and testing set\n",
    "train_df,test_df=model_df.randomSplit([0.8,0.2])"
   ]
  },
  {
   "cell_type": "code",
   "execution_count": 19,
   "metadata": {},
   "outputs": [],
   "source": [
    "#building Linear Regression model \n",
    "lin_Reg=LinearRegression(labelCol='Weight',featuresCol='features')"
   ]
  },
  {
   "cell_type": "code",
   "execution_count": 20,
   "metadata": {},
   "outputs": [],
   "source": [
    "#fitting the linear regression model on training data set \n",
    "lr_model=lin_Reg.fit(train_df)"
   ]
  },
  {
   "cell_type": "code",
   "execution_count": 21,
   "metadata": {},
   "outputs": [
    {
     "name": "stdout",
     "output_type": "stream",
     "text": [
      "Intercept: -442.17771085310136\n"
     ]
    }
   ],
   "source": [
    "#intercept value of model equation\n",
    "print('Intercept:',lr_model.intercept)"
   ]
  },
  {
   "cell_type": "code",
   "execution_count": 22,
   "metadata": {},
   "outputs": [
    {
     "name": "stdout",
     "output_type": "stream",
     "text": [
      "Coefficients: [905.7236404215063,-279.1486415994291,-461.33130585332617,156.04290952007082,43.10143979226833]\n"
     ]
    }
   ],
   "source": [
    "#weight coefficients of the model\n",
    "print('Coefficients:',lr_model.coefficients)"
   ]
  },
  {
   "cell_type": "code",
   "execution_count": 23,
   "metadata": {},
   "outputs": [],
   "source": [
    "#evaluating the model on the train set\n",
    "train_pred=lr_model.evaluate(train_df)"
   ]
  },
  {
   "cell_type": "code",
   "execution_count": 24,
   "metadata": {},
   "outputs": [
    {
     "name": "stdout",
     "output_type": "stream",
     "text": [
      "R-Squared value for the training set: 0.8838\n"
     ]
    }
   ],
   "source": [
    "print('R-Squared value for the training set:',round(train_pred.r2,4))"
   ]
  },
  {
   "cell_type": "code",
   "execution_count": 25,
   "metadata": {},
   "outputs": [
    {
     "name": "stdout",
     "output_type": "stream",
     "text": [
      "MSE value for the training set: 13127.3991\n"
     ]
    }
   ],
   "source": [
    "print('MSE value for the training set:',round(train_pred.meanSquaredError,4))"
   ]
  },
  {
   "cell_type": "code",
   "execution_count": 26,
   "metadata": {},
   "outputs": [
    {
     "name": "stdout",
     "output_type": "stream",
     "text": [
      "+------------------+\n",
      "|         residuals|\n",
      "+------------------+\n",
      "|224.13275744998782|\n",
      "|  200.583725700335|\n",
      "| 176.6190092042163|\n",
      "|157.71584903843956|\n",
      "| 158.4730799293897|\n",
      "+------------------+\n",
      "only showing top 5 rows\n",
      "\n"
     ]
    }
   ],
   "source": [
    "lr_model.summary.residuals.show(5)"
   ]
  },
  {
   "cell_type": "code",
   "execution_count": 27,
   "metadata": {},
   "outputs": [],
   "source": [
    "#evaluating the model on the test set\n",
    "test_pred=lr_model.evaluate(test_df)"
   ]
  },
  {
   "cell_type": "code",
   "execution_count": 28,
   "metadata": {},
   "outputs": [
    {
     "name": "stdout",
     "output_type": "stream",
     "text": [
      "R-Squared value for the test set: 0.866\n"
     ]
    }
   ],
   "source": [
    "print('R-Squared value for the test set:',round(test_pred.r2,4))"
   ]
  },
  {
   "cell_type": "code",
   "execution_count": 29,
   "metadata": {},
   "outputs": [
    {
     "name": "stdout",
     "output_type": "stream",
     "text": [
      "MSE value for the test set: 24703.513\n"
     ]
    }
   ],
   "source": [
    "print('MSE value for the test set:',round(test_pred.meanSquaredError,4))"
   ]
  },
  {
   "cell_type": "code",
   "execution_count": 30,
   "metadata": {},
   "outputs": [
    {
     "name": "stdout",
     "output_type": "stream",
     "text": [
      "+------+-------------------+\n",
      "|Weight|    EstimatedWeight|\n",
      "+------+-------------------+\n",
      "|   7.0| -171.8284778477048|\n",
      "|  40.0|-16.929718631889898|\n",
      "|  60.0|  56.94003095985602|\n",
      "|  70.0|  34.20513180666143|\n",
      "|  69.0|  37.12306669488072|\n",
      "+------+-------------------+\n",
      "only showing top 5 rows\n",
      "\n"
     ]
    }
   ],
   "source": [
    "#predcited and actual columns\n",
    "predictions=lr_model.transform(test_df)\n",
    "predictions=predictions.withColumnRenamed('prediction','EstimatedWeight')\n",
    "predictions.select('Weight','EstimatedWeight').show(5)"
   ]
  }
 ],
 "metadata": {
  "kernelspec": {
   "display_name": "Python 3",
   "language": "python",
   "name": "python3"
  },
  "language_info": {
   "codemirror_mode": {
    "name": "ipython",
    "version": 3
   },
   "file_extension": ".py",
   "mimetype": "text/x-python",
   "name": "python",
   "nbconvert_exporter": "python",
   "pygments_lexer": "ipython3",
   "version": "3.8.3"
  }
 },
 "nbformat": 4,
 "nbformat_minor": 4
}
