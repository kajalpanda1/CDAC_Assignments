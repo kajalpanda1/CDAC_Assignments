{
 "cells": [
  {
   "cell_type": "code",
   "execution_count": 1,
   "metadata": {},
   "outputs": [],
   "source": [
    "#adding readxl package to import excel file\n",
    "library(readxl)"
   ]
  },
  {
   "cell_type": "code",
   "execution_count": 2,
   "metadata": {},
   "outputs": [
    {
     "data": {
      "text/html": [
       "<ol class=list-inline>\n",
       "\t<li>'Sheet1'</li>\n",
       "\t<li>'Sheet2'</li>\n",
       "</ol>\n"
      ],
      "text/latex": [
       "\\begin{enumerate*}\n",
       "\\item 'Sheet1'\n",
       "\\item 'Sheet2'\n",
       "\\end{enumerate*}\n"
      ],
      "text/markdown": [
       "1. 'Sheet1'\n",
       "2. 'Sheet2'\n",
       "\n",
       "\n"
      ],
      "text/plain": [
       "[1] \"Sheet1\" \"Sheet2\""
      ]
     },
     "metadata": {},
     "output_type": "display_data"
    }
   ],
   "source": [
    "#number of sheets in the Rdata file\n",
    "excel_sheets('D://KAJAL//R//R data.xlsx')"
   ]
  },
  {
   "cell_type": "code",
   "execution_count": 3,
   "metadata": {},
   "outputs": [],
   "source": [
    "#importing excel file a sper sheets \n",
    "data_sheet1=read_excel('D://KAJAL//R//R data.xlsx',sheet=1)\n",
    "data_sheet2=read_excel('D://KAJAL//R//R data.xlsx',sheet=2)"
   ]
  },
  {
   "cell_type": "code",
   "execution_count": 4,
   "metadata": {},
   "outputs": [
    {
     "data": {
      "text/html": [
       "<ol class=list-inline>\n",
       "\t<li>'Rank'</li>\n",
       "\t<li>'Language'</li>\n",
       "\t<li>'Share'</li>\n",
       "\t<li>'Trend'</li>\n",
       "</ol>\n"
      ],
      "text/latex": [
       "\\begin{enumerate*}\n",
       "\\item 'Rank'\n",
       "\\item 'Language'\n",
       "\\item 'Share'\n",
       "\\item 'Trend'\n",
       "\\end{enumerate*}\n"
      ],
      "text/markdown": [
       "1. 'Rank'\n",
       "2. 'Language'\n",
       "3. 'Share'\n",
       "4. 'Trend'\n",
       "\n",
       "\n"
      ],
      "text/plain": [
       "[1] \"Rank\"     \"Language\" \"Share\"    \"Trend\"   "
      ]
     },
     "metadata": {},
     "output_type": "display_data"
    },
    {
     "data": {
      "text/html": [
       "<ol class=list-inline>\n",
       "\t<li>'44075'</li>\n",
       "\t<li>'43709'</li>\n",
       "\t<li>'Programming Language'</li>\n",
       "\t<li>'Ratings'</li>\n",
       "\t<li>'Change'</li>\n",
       "</ol>\n"
      ],
      "text/latex": [
       "\\begin{enumerate*}\n",
       "\\item '44075'\n",
       "\\item '43709'\n",
       "\\item 'Programming Language'\n",
       "\\item 'Ratings'\n",
       "\\item 'Change'\n",
       "\\end{enumerate*}\n"
      ],
      "text/markdown": [
       "1. '44075'\n",
       "2. '43709'\n",
       "3. 'Programming Language'\n",
       "4. 'Ratings'\n",
       "5. 'Change'\n",
       "\n",
       "\n"
      ],
      "text/plain": [
       "[1] \"44075\"                \"43709\"                \"Programming Language\"\n",
       "[4] \"Ratings\"              \"Change\"              "
      ]
     },
     "metadata": {},
     "output_type": "display_data"
    }
   ],
   "source": [
    "#column names of the data\n",
    "colnames(data_sheet1)\n",
    "colnames(data_sheet2)"
   ]
  },
  {
   "cell_type": "code",
   "execution_count": 5,
   "metadata": {},
   "outputs": [],
   "source": [
    "#renaming the column names in sheet 2 for easy access\n",
    "names(data_sheet2)[names(data_sheet2) == \"44075\"] <- \"Rank_2020\"\n",
    "names(data_sheet2)[names(data_sheet2) == \"43709\"] <- \"Rank_2019\"\n",
    "names(data_sheet2)[names(data_sheet2) == \"Programming Language\"] <- \"Programming_Language\""
   ]
  },
  {
   "cell_type": "code",
   "execution_count": 6,
   "metadata": {},
   "outputs": [
    {
     "data": {
      "text/html": [
       "<table>\n",
       "<thead><tr><th scope=col>Rank</th><th scope=col>Language</th><th scope=col>Share</th><th scope=col>Trend</th></tr></thead>\n",
       "<tbody>\n",
       "\t<tr><td>1                     </td><td>Python                </td><td>31.56 %               </td><td>2.8999999999999998E-2 </td></tr>\n",
       "\t<tr><td>2                     </td><td>Java                  </td><td>16.4 %                </td><td>-3.1 %                </td></tr>\n",
       "\t<tr><td>3                     </td><td>Javascript            </td><td>8.38 %                </td><td>3.0000000000000001E-3 </td></tr>\n",
       "\t<tr><td>4                     </td><td>C#                    </td><td>6.5 %                 </td><td>-8.0000000000000002E-3</td></tr>\n",
       "\t<tr><td>5                     </td><td>PHP                   </td><td>5.85 %                </td><td>-0.5 %                </td></tr>\n",
       "\t<tr><td>6                     </td><td>C/C++                 </td><td>5.8 %                 </td><td>0                     </td></tr>\n",
       "</tbody>\n",
       "</table>\n"
      ],
      "text/latex": [
       "\\begin{tabular}{r|llll}\n",
       " Rank & Language & Share & Trend\\\\\n",
       "\\hline\n",
       "\t 1                      & Python                 & 31.56 \\%              & 2.8999999999999998E-2 \\\\\n",
       "\t 2                        & Java                     & 16.4 \\%                 & -3.1 \\%                \\\\\n",
       "\t 3                      & Javascript             & 8.38 \\%               & 3.0000000000000001E-3 \\\\\n",
       "\t 4                      & C\\#                   & 6.5 \\%                & -8.0000000000000002E-3\\\\\n",
       "\t 5                        & PHP                      & 5.85 \\%                 & -0.5 \\%                \\\\\n",
       "\t 6                      & C/C++                  & 5.8 \\%                & 0                     \\\\\n",
       "\\end{tabular}\n"
      ],
      "text/markdown": [
       "\n",
       "| Rank | Language | Share | Trend |\n",
       "|---|---|---|---|\n",
       "| 1                      | Python                 | 31.56 %                | 2.8999999999999998E-2  |\n",
       "| 2                      | Java                   | 16.4 %                 | -3.1 %                 |\n",
       "| 3                      | Javascript             | 8.38 %                 | 3.0000000000000001E-3  |\n",
       "| 4                      | C#                     | 6.5 %                  | -8.0000000000000002E-3 |\n",
       "| 5                      | PHP                    | 5.85 %                 | -0.5 %                 |\n",
       "| 6                      | C/C++                  | 5.8 %                  | 0                      |\n",
       "\n"
      ],
      "text/plain": [
       "  Rank Language   Share   Trend                 \n",
       "1 1    Python     31.56 % 2.8999999999999998E-2 \n",
       "2 2    Java       16.4 %  -3.1 %                \n",
       "3 3    Javascript 8.38 %  3.0000000000000001E-3 \n",
       "4 4    C#         6.5 %   -8.0000000000000002E-3\n",
       "5 5    PHP        5.85 %  -0.5 %                \n",
       "6 6    C/C++      5.8 %   0                     "
      ]
     },
     "metadata": {},
     "output_type": "display_data"
    },
    {
     "data": {
      "text/html": [
       "<table>\n",
       "<thead><tr><th scope=col>Rank_2020</th><th scope=col>Rank_2019</th><th scope=col>Programming_Language</th><th scope=col>Ratings</th><th scope=col>Change</th></tr></thead>\n",
       "<tbody>\n",
       "\t<tr><td>1           </td><td>2           </td><td>C           </td><td>0.1595      </td><td> 0.0074     </td></tr>\n",
       "\t<tr><td>2           </td><td>1           </td><td>Java        </td><td>0.1348      </td><td>-0.0318     </td></tr>\n",
       "\t<tr><td>3           </td><td>3           </td><td>Python      </td><td>0.1047      </td><td> 0.0059     </td></tr>\n",
       "\t<tr><td>4           </td><td>4           </td><td>C++         </td><td>0.0711      </td><td> 0.0148     </td></tr>\n",
       "\t<tr><td>5           </td><td>5           </td><td>C#          </td><td>0.0458      </td><td> 0.0118     </td></tr>\n",
       "\t<tr><td>6           </td><td>6           </td><td>Visual Basic</td><td>0.0412      </td><td> 0.0083     </td></tr>\n",
       "</tbody>\n",
       "</table>\n"
      ],
      "text/latex": [
       "\\begin{tabular}{r|lllll}\n",
       " Rank\\_2020 & Rank\\_2019 & Programming\\_Language & Ratings & Change\\\\\n",
       "\\hline\n",
       "\t 1            & 2            & C            & 0.1595       &  0.0074     \\\\\n",
       "\t 2            & 1            & Java         & 0.1348       & -0.0318     \\\\\n",
       "\t 3            & 3            & Python       & 0.1047       &  0.0059     \\\\\n",
       "\t 4            & 4            & C++          & 0.0711       &  0.0148     \\\\\n",
       "\t 5              & 5              & C\\#           & 0.0458         &  0.0118       \\\\\n",
       "\t 6            & 6            & Visual Basic & 0.0412       &  0.0083     \\\\\n",
       "\\end{tabular}\n"
      ],
      "text/markdown": [
       "\n",
       "| Rank_2020 | Rank_2019 | Programming_Language | Ratings | Change |\n",
       "|---|---|---|---|---|\n",
       "| 1            | 2            | C            | 0.1595       |  0.0074      |\n",
       "| 2            | 1            | Java         | 0.1348       | -0.0318      |\n",
       "| 3            | 3            | Python       | 0.1047       |  0.0059      |\n",
       "| 4            | 4            | C++          | 0.0711       |  0.0148      |\n",
       "| 5            | 5            | C#           | 0.0458       |  0.0118      |\n",
       "| 6            | 6            | Visual Basic | 0.0412       |  0.0083      |\n",
       "\n"
      ],
      "text/plain": [
       "  Rank_2020 Rank_2019 Programming_Language Ratings Change \n",
       "1 1         2         C                    0.1595   0.0074\n",
       "2 2         1         Java                 0.1348  -0.0318\n",
       "3 3         3         Python               0.1047   0.0059\n",
       "4 4         4         C++                  0.0711   0.0148\n",
       "5 5         5         C#                   0.0458   0.0118\n",
       "6 6         6         Visual Basic         0.0412   0.0083"
      ]
     },
     "metadata": {},
     "output_type": "display_data"
    }
   ],
   "source": [
    "#retrieving first five records form the data\n",
    "head(data_sheet1)\n",
    "head(data_sheet2)"
   ]
  },
  {
   "cell_type": "code",
   "execution_count": 7,
   "metadata": {},
   "outputs": [
    {
     "data": {
      "text/html": [
       "<table>\n",
       "<thead><tr><th scope=col>Rank</th><th scope=col>Language</th><th scope=col>Share</th><th scope=col>Trend</th></tr></thead>\n",
       "<tbody>\n",
       "\t<tr><td>1                     </td><td>Python                </td><td>31.56                 </td><td>2.8999999999999998E-2 </td></tr>\n",
       "\t<tr><td>2                     </td><td>Java                  </td><td>16.4                  </td><td>-3.1                  </td></tr>\n",
       "\t<tr><td>3                     </td><td>Javascript            </td><td>8.38                  </td><td>3.0000000000000001E-3 </td></tr>\n",
       "\t<tr><td>4                     </td><td>C#                    </td><td>6.5                   </td><td>-8.0000000000000002E-3</td></tr>\n",
       "\t<tr><td>5                     </td><td>PHP                   </td><td>5.85                  </td><td>-0.5                  </td></tr>\n",
       "\t<tr><td>6                     </td><td>C/C++                 </td><td>5.8                   </td><td>0                     </td></tr>\n",
       "</tbody>\n",
       "</table>\n"
      ],
      "text/latex": [
       "\\begin{tabular}{r|llll}\n",
       " Rank & Language & Share & Trend\\\\\n",
       "\\hline\n",
       "\t 1                      & Python                 & 31.56                  & 2.8999999999999998E-2 \\\\\n",
       "\t 2                      & Java                   & 16.4                   & -3.1                  \\\\\n",
       "\t 3                      & Javascript             & 8.38                   & 3.0000000000000001E-3 \\\\\n",
       "\t 4                      & C\\#                   & 6.5                    & -8.0000000000000002E-3\\\\\n",
       "\t 5                      & PHP                    & 5.85                   & -0.5                  \\\\\n",
       "\t 6                      & C/C++                  & 5.8                    & 0                     \\\\\n",
       "\\end{tabular}\n"
      ],
      "text/markdown": [
       "\n",
       "| Rank | Language | Share | Trend |\n",
       "|---|---|---|---|\n",
       "| 1                      | Python                 | 31.56                  | 2.8999999999999998E-2  |\n",
       "| 2                      | Java                   | 16.4                   | -3.1                   |\n",
       "| 3                      | Javascript             | 8.38                   | 3.0000000000000001E-3  |\n",
       "| 4                      | C#                     | 6.5                    | -8.0000000000000002E-3 |\n",
       "| 5                      | PHP                    | 5.85                   | -0.5                   |\n",
       "| 6                      | C/C++                  | 5.8                    | 0                      |\n",
       "\n"
      ],
      "text/plain": [
       "  Rank Language   Share  Trend                 \n",
       "1 1    Python     31.56  2.8999999999999998E-2 \n",
       "2 2    Java       16.4   -3.1                  \n",
       "3 3    Javascript 8.38   3.0000000000000001E-3 \n",
       "4 4    C#         6.5    -8.0000000000000002E-3\n",
       "5 5    PHP        5.85   -0.5                  \n",
       "6 6    C/C++      5.8    0                     "
      ]
     },
     "metadata": {},
     "output_type": "display_data"
    }
   ],
   "source": [
    "#removing % symbol from Trend and Share column values of data sheet1\n",
    "data_sheet1$Share=gsub('%','',data_sheet1$Share)\n",
    "data_sheet1$Trend=gsub('%','',data_sheet1$Trend)\n",
    "head(data_sheet1)"
   ]
  },
  {
   "cell_type": "code",
   "execution_count": 8,
   "metadata": {},
   "outputs": [
    {
     "data": {
      "text/html": [
       "0"
      ],
      "text/latex": [
       "0"
      ],
      "text/markdown": [
       "0"
      ],
      "text/plain": [
       "[1] 0"
      ]
     },
     "metadata": {},
     "output_type": "display_data"
    },
    {
     "data": {
      "text/html": [
       "0"
      ],
      "text/latex": [
       "0"
      ],
      "text/markdown": [
       "0"
      ],
      "text/plain": [
       "[1] 0"
      ]
     },
     "metadata": {},
     "output_type": "display_data"
    }
   ],
   "source": [
    "#checking for NA values in the data\n",
    "sum(is.na(data_sheet1))\n",
    "sum(is.na(data_sheet2))"
   ]
  },
  {
   "cell_type": "code",
   "execution_count": 9,
   "metadata": {},
   "outputs": [
    {
     "data": {
      "text/html": [
       "<dl class=dl-horizontal>\n",
       "\t<dt>Rank</dt>\n",
       "\t\t<dd>'numeric'</dd>\n",
       "\t<dt>Language</dt>\n",
       "\t\t<dd>'character'</dd>\n",
       "\t<dt>Share</dt>\n",
       "\t\t<dd>'character'</dd>\n",
       "\t<dt>Trend</dt>\n",
       "\t\t<dd>'character'</dd>\n",
       "</dl>\n"
      ],
      "text/latex": [
       "\\begin{description*}\n",
       "\\item[Rank] 'numeric'\n",
       "\\item[Language] 'character'\n",
       "\\item[Share] 'character'\n",
       "\\item[Trend] 'character'\n",
       "\\end{description*}\n"
      ],
      "text/markdown": [
       "Rank\n",
       ":   'numeric'Language\n",
       ":   'character'Share\n",
       ":   'character'Trend\n",
       ":   'character'\n",
       "\n"
      ],
      "text/plain": [
       "       Rank    Language       Share       Trend \n",
       "  \"numeric\" \"character\" \"character\" \"character\" "
      ]
     },
     "metadata": {},
     "output_type": "display_data"
    },
    {
     "data": {
      "text/html": [
       "<dl class=dl-horizontal>\n",
       "\t<dt>Rank_2020</dt>\n",
       "\t\t<dd>'numeric'</dd>\n",
       "\t<dt>Rank_2019</dt>\n",
       "\t\t<dd>'numeric'</dd>\n",
       "\t<dt>Programming_Language</dt>\n",
       "\t\t<dd>'character'</dd>\n",
       "\t<dt>Ratings</dt>\n",
       "\t\t<dd>'numeric'</dd>\n",
       "\t<dt>Change</dt>\n",
       "\t\t<dd>'numeric'</dd>\n",
       "</dl>\n"
      ],
      "text/latex": [
       "\\begin{description*}\n",
       "\\item[Rank\\textbackslash{}\\_2020] 'numeric'\n",
       "\\item[Rank\\textbackslash{}\\_2019] 'numeric'\n",
       "\\item[Programming\\textbackslash{}\\_Language] 'character'\n",
       "\\item[Ratings] 'numeric'\n",
       "\\item[Change] 'numeric'\n",
       "\\end{description*}\n"
      ],
      "text/markdown": [
       "Rank_2020\n",
       ":   'numeric'Rank_2019\n",
       ":   'numeric'Programming_Language\n",
       ":   'character'Ratings\n",
       ":   'numeric'Change\n",
       ":   'numeric'\n",
       "\n"
      ],
      "text/plain": [
       "           Rank_2020            Rank_2019 Programming_Language \n",
       "           \"numeric\"            \"numeric\"          \"character\" \n",
       "             Ratings               Change \n",
       "           \"numeric\"            \"numeric\" "
      ]
     },
     "metadata": {},
     "output_type": "display_data"
    }
   ],
   "source": [
    "#data types of the columns in the data\n",
    "sapply(data_sheet1,FUN=class)\n",
    "sapply(data_sheet2,FUN=class)"
   ]
  },
  {
   "cell_type": "code",
   "execution_count": 10,
   "metadata": {},
   "outputs": [
    {
     "data": {
      "text/html": [
       "'numeric'"
      ],
      "text/latex": [
       "'numeric'"
      ],
      "text/markdown": [
       "'numeric'"
      ],
      "text/plain": [
       "[1] \"numeric\""
      ]
     },
     "metadata": {},
     "output_type": "display_data"
    },
    {
     "data": {
      "text/html": [
       "'numeric'"
      ],
      "text/latex": [
       "'numeric'"
      ],
      "text/markdown": [
       "'numeric'"
      ],
      "text/plain": [
       "[1] \"numeric\""
      ]
     },
     "metadata": {},
     "output_type": "display_data"
    }
   ],
   "source": [
    "#converting character into numerical columns for statistics\n",
    "data_sheet1$Share=as.numeric(data_sheet1$Share)\n",
    "data_sheet1$Trend=as.numeric(data_sheet1$Trend)\n",
    "class(data_sheet1$Share)\n",
    "class(data_sheet1$Trend)"
   ]
  },
  {
   "cell_type": "code",
   "execution_count": 11,
   "metadata": {},
   "outputs": [
    {
     "data": {
      "text/plain": [
       "      Rank         Language             Share             Trend        \n",
       " Min.   : 1.00   Length:28          Min.   : 0.0192   Min.   :-3.1000  \n",
       " 1st Qu.: 7.75   Class :character   1st Qu.: 0.4975   1st Qu.:-0.1000  \n",
       " Median :14.50   Mode  :character   Median : 1.0850   Median : 0.0000  \n",
       " Mean   :14.50                      Mean   : 3.5028   Mean   :-0.1662  \n",
       " 3rd Qu.:21.25                      3rd Qu.: 3.1125   3rd Qu.: 0.0020  \n",
       " Max.   :28.00                      Max.   :31.5600   Max.   : 0.0290  "
      ]
     },
     "metadata": {},
     "output_type": "display_data"
    }
   ],
   "source": [
    "#descriptive summary of sheet1 \n",
    "summary(data_sheet1)"
   ]
  },
  {
   "cell_type": "code",
   "execution_count": 12,
   "metadata": {},
   "outputs": [
    {
     "data": {
      "text/plain": [
       "   Rank_2020       Rank_2019     Programming_Language    Ratings       \n",
       " Min.   : 1.00   Min.   : 1.00   Length:20            Min.   :0.00770  \n",
       " 1st Qu.: 5.75   1st Qu.: 5.75   Class :character     1st Qu.:0.01205  \n",
       " Median :10.50   Median :10.50   Mode  :character     Median :0.01610  \n",
       " Mean   :10.50   Mean   :11.85                        Mean   :0.03809  \n",
       " 3rd Qu.:15.25   3rd Qu.:16.50                        3rd Qu.:0.04235  \n",
       " Max.   :20.00   Max.   :33.00                        Max.   :0.15950  \n",
       "     Change         \n",
       " Min.   :-0.031800  \n",
       " 1st Qu.: 0.000025  \n",
       " Median : 0.002700  \n",
       " Mean   : 0.001875  \n",
       " 3rd Qu.: 0.006500  \n",
       " Max.   : 0.014800  "
      ]
     },
     "metadata": {},
     "output_type": "display_data"
    }
   ],
   "source": [
    "#descriptive summary of sheet 2\n",
    "summary(data_sheet2)"
   ]
  },
  {
   "cell_type": "code",
   "execution_count": 13,
   "metadata": {},
   "outputs": [
    {
     "data": {
      "image/png": "[encoded data removed]",
      "text/plain": [
       "plot without title"
      ]
     },
     "metadata": {},
     "output_type": "display_data"
    }
   ],
   "source": [
    "#barplot of numerical columns\n",
    "par(mfrow=c(2,2))\n",
    "barplot(table(data_sheet1$Trend))\n",
    "barplot(table(data_sheet1$Share))\n",
    "barplot(table(data_sheet2$Ratings))\n",
    "barplot(table(data_sheet2$Change))"
   ]
  },
  {
   "cell_type": "code",
   "execution_count": 18,
   "metadata": {},
   "outputs": [
    {
     "data": {
      "text/html": [
       "<ol class=list-inline>\n",
       "\t<li>'Python'</li>\n",
       "\t<li>'Java'</li>\n",
       "\t<li>'Javascript'</li>\n",
       "\t<li>'C#'</li>\n",
       "\t<li>'PHP'</li>\n",
       "\t<li>'C/C++'</li>\n",
       "\t<li>'R'</li>\n",
       "\t<li>'Objective-C'</li>\n",
       "\t<li>'Swift'</li>\n",
       "\t<li>'TypeScript'</li>\n",
       "\t<li>'Matlab'</li>\n",
       "\t<li>'Kotlin'</li>\n",
       "\t<li>'Go'</li>\n",
       "\t<li>'Ruby'</li>\n",
       "\t<li>'VBA'</li>\n",
       "\t<li>'Rust'</li>\n",
       "\t<li>'Scala'</li>\n",
       "\t<li>'Visual Basic'</li>\n",
       "\t<li>'Lua'</li>\n",
       "\t<li>'Dart'</li>\n",
       "\t<li>'Ada'</li>\n",
       "\t<li>'Perl'</li>\n",
       "\t<li>'Groovy'</li>\n",
       "\t<li>'Julia'</li>\n",
       "\t<li>'Cobol'</li>\n",
       "\t<li>'Abap'</li>\n",
       "\t<li>'Delphi'</li>\n",
       "\t<li>'Haskell'</li>\n",
       "</ol>\n"
      ],
      "text/latex": [
       "\\begin{enumerate*}\n",
       "\\item 'Python'\n",
       "\\item 'Java'\n",
       "\\item 'Javascript'\n",
       "\\item 'C\\#'\n",
       "\\item 'PHP'\n",
       "\\item 'C/C++'\n",
       "\\item 'R'\n",
       "\\item 'Objective-C'\n",
       "\\item 'Swift'\n",
       "\\item 'TypeScript'\n",
       "\\item 'Matlab'\n",
       "\\item 'Kotlin'\n",
       "\\item 'Go'\n",
       "\\item 'Ruby'\n",
       "\\item 'VBA'\n",
       "\\item 'Rust'\n",
       "\\item 'Scala'\n",
       "\\item 'Visual Basic'\n",
       "\\item 'Lua'\n",
       "\\item 'Dart'\n",
       "\\item 'Ada'\n",
       "\\item 'Perl'\n",
       "\\item 'Groovy'\n",
       "\\item 'Julia'\n",
       "\\item 'Cobol'\n",
       "\\item 'Abap'\n",
       "\\item 'Delphi'\n",
       "\\item 'Haskell'\n",
       "\\end{enumerate*}\n"
      ],
      "text/markdown": [
       "1. 'Python'\n",
       "2. 'Java'\n",
       "3. 'Javascript'\n",
       "4. 'C#'\n",
       "5. 'PHP'\n",
       "6. 'C/C++'\n",
       "7. 'R'\n",
       "8. 'Objective-C'\n",
       "9. 'Swift'\n",
       "10. 'TypeScript'\n",
       "11. 'Matlab'\n",
       "12. 'Kotlin'\n",
       "13. 'Go'\n",
       "14. 'Ruby'\n",
       "15. 'VBA'\n",
       "16. 'Rust'\n",
       "17. 'Scala'\n",
       "18. 'Visual Basic'\n",
       "19. 'Lua'\n",
       "20. 'Dart'\n",
       "21. 'Ada'\n",
       "22. 'Perl'\n",
       "23. 'Groovy'\n",
       "24. 'Julia'\n",
       "25. 'Cobol'\n",
       "26. 'Abap'\n",
       "27. 'Delphi'\n",
       "28. 'Haskell'\n",
       "\n",
       "\n"
      ],
      "text/plain": [
       " [1] \"Python\"       \"Java\"         \"Javascript\"   \"C#\"           \"PHP\"         \n",
       " [6] \"C/C++\"        \"R\"            \"Objective-C\"  \"Swift\"        \"TypeScript\"  \n",
       "[11] \"Matlab\"       \"Kotlin\"       \"Go\"           \"Ruby\"         \"VBA\"         \n",
       "[16] \"Rust\"         \"Scala\"        \"Visual Basic\" \"Lua\"          \"Dart\"        \n",
       "[21] \"Ada\"          \"Perl\"         \"Groovy\"       \"Julia\"        \"Cobol\"       \n",
       "[26] \"Abap\"         \"Delphi\"       \"Haskell\"     "
      ]
     },
     "metadata": {},
     "output_type": "display_data"
    },
    {
     "data": {
      "text/html": [
       "<ol class=list-inline>\n",
       "\t<li>'C'</li>\n",
       "\t<li>'Java'</li>\n",
       "\t<li>'Python'</li>\n",
       "\t<li>'C++'</li>\n",
       "\t<li>'C#'</li>\n",
       "\t<li>'Visual Basic'</li>\n",
       "\t<li>'JavaScript'</li>\n",
       "\t<li>'PHP'</li>\n",
       "\t<li>'R'</li>\n",
       "\t<li>'SQL'</li>\n",
       "\t<li>'Go'</li>\n",
       "\t<li>'Swift'</li>\n",
       "\t<li>'Perl'</li>\n",
       "\t<li>'Assembly language'</li>\n",
       "\t<li>'Ruby'</li>\n",
       "\t<li>'MATLAB'</li>\n",
       "\t<li>'Groovy'</li>\n",
       "\t<li>'Rust'</li>\n",
       "\t<li>'Objective-C'</li>\n",
       "\t<li>'Dart'</li>\n",
       "</ol>\n"
      ],
      "text/latex": [
       "\\begin{enumerate*}\n",
       "\\item 'C'\n",
       "\\item 'Java'\n",
       "\\item 'Python'\n",
       "\\item 'C++'\n",
       "\\item 'C\\#'\n",
       "\\item 'Visual Basic'\n",
       "\\item 'JavaScript'\n",
       "\\item 'PHP'\n",
       "\\item 'R'\n",
       "\\item 'SQL'\n",
       "\\item 'Go'\n",
       "\\item 'Swift'\n",
       "\\item 'Perl'\n",
       "\\item 'Assembly language'\n",
       "\\item 'Ruby'\n",
       "\\item 'MATLAB'\n",
       "\\item 'Groovy'\n",
       "\\item 'Rust'\n",
       "\\item 'Objective-C'\n",
       "\\item 'Dart'\n",
       "\\end{enumerate*}\n"
      ],
      "text/markdown": [
       "1. 'C'\n",
       "2. 'Java'\n",
       "3. 'Python'\n",
       "4. 'C++'\n",
       "5. 'C#'\n",
       "6. 'Visual Basic'\n",
       "7. 'JavaScript'\n",
       "8. 'PHP'\n",
       "9. 'R'\n",
       "10. 'SQL'\n",
       "11. 'Go'\n",
       "12. 'Swift'\n",
       "13. 'Perl'\n",
       "14. 'Assembly language'\n",
       "15. 'Ruby'\n",
       "16. 'MATLAB'\n",
       "17. 'Groovy'\n",
       "18. 'Rust'\n",
       "19. 'Objective-C'\n",
       "20. 'Dart'\n",
       "\n",
       "\n"
      ],
      "text/plain": [
       " [1] \"C\"                 \"Java\"              \"Python\"           \n",
       " [4] \"C++\"               \"C#\"                \"Visual Basic\"     \n",
       " [7] \"JavaScript\"        \"PHP\"               \"R\"                \n",
       "[10] \"SQL\"               \"Go\"                \"Swift\"            \n",
       "[13] \"Perl\"              \"Assembly language\" \"Ruby\"             \n",
       "[16] \"MATLAB\"            \"Groovy\"            \"Rust\"             \n",
       "[19] \"Objective-C\"       \"Dart\"             "
      ]
     },
     "metadata": {},
     "output_type": "display_data"
    }
   ],
   "source": [
    "#unique values of programming languages in both the sheets\n",
    "unique(data_sheet1$Language) \n",
    "unique(data_sheet2$Programming_Language)"
   ]
  },
  {
   "cell_type": "code",
   "execution_count": 19,
   "metadata": {},
   "outputs": [
    {
     "name": "stdout",
     "output_type": "stream",
     "text": [
      "[1] \"The total of programming languages from both the data sheets:\"\n"
     ]
    },
    {
     "data": {
      "text/html": [
       "<ol class=list-inline>\n",
       "\t<li>'Abap'</li>\n",
       "\t<li>'Ada'</li>\n",
       "\t<li>'Assembly language'</li>\n",
       "\t<li>'C'</li>\n",
       "\t<li>'C#'</li>\n",
       "\t<li>'C/C++'</li>\n",
       "\t<li>'C++'</li>\n",
       "\t<li>'Cobol'</li>\n",
       "\t<li>'Dart'</li>\n",
       "\t<li>'Delphi'</li>\n",
       "\t<li>'Go'</li>\n",
       "\t<li>'Groovy'</li>\n",
       "\t<li>'Haskell'</li>\n",
       "\t<li>'Java'</li>\n",
       "\t<li>'Javascript'</li>\n",
       "\t<li>'JavaScript'</li>\n",
       "\t<li>'Julia'</li>\n",
       "\t<li>'Kotlin'</li>\n",
       "\t<li>'Lua'</li>\n",
       "\t<li>'Matlab'</li>\n",
       "\t<li>'MATLAB'</li>\n",
       "\t<li>'Objective-C'</li>\n",
       "\t<li>'Perl'</li>\n",
       "\t<li>'PHP'</li>\n",
       "\t<li>'Python'</li>\n",
       "\t<li>'R'</li>\n",
       "\t<li>'Ruby'</li>\n",
       "\t<li>'Rust'</li>\n",
       "\t<li>'Scala'</li>\n",
       "\t<li>'SQL'</li>\n",
       "\t<li>'Swift'</li>\n",
       "\t<li>'TypeScript'</li>\n",
       "\t<li>'VBA'</li>\n",
       "\t<li>'Visual Basic'</li>\n",
       "</ol>\n"
      ],
      "text/latex": [
       "\\begin{enumerate*}\n",
       "\\item 'Abap'\n",
       "\\item 'Ada'\n",
       "\\item 'Assembly language'\n",
       "\\item 'C'\n",
       "\\item 'C\\#'\n",
       "\\item 'C/C++'\n",
       "\\item 'C++'\n",
       "\\item 'Cobol'\n",
       "\\item 'Dart'\n",
       "\\item 'Delphi'\n",
       "\\item 'Go'\n",
       "\\item 'Groovy'\n",
       "\\item 'Haskell'\n",
       "\\item 'Java'\n",
       "\\item 'Javascript'\n",
       "\\item 'JavaScript'\n",
       "\\item 'Julia'\n",
       "\\item 'Kotlin'\n",
       "\\item 'Lua'\n",
       "\\item 'Matlab'\n",
       "\\item 'MATLAB'\n",
       "\\item 'Objective-C'\n",
       "\\item 'Perl'\n",
       "\\item 'PHP'\n",
       "\\item 'Python'\n",
       "\\item 'R'\n",
       "\\item 'Ruby'\n",
       "\\item 'Rust'\n",
       "\\item 'Scala'\n",
       "\\item 'SQL'\n",
       "\\item 'Swift'\n",
       "\\item 'TypeScript'\n",
       "\\item 'VBA'\n",
       "\\item 'Visual Basic'\n",
       "\\end{enumerate*}\n"
      ],
      "text/markdown": [
       "1. 'Abap'\n",
       "2. 'Ada'\n",
       "3. 'Assembly language'\n",
       "4. 'C'\n",
       "5. 'C#'\n",
       "6. 'C/C++'\n",
       "7. 'C++'\n",
       "8. 'Cobol'\n",
       "9. 'Dart'\n",
       "10. 'Delphi'\n",
       "11. 'Go'\n",
       "12. 'Groovy'\n",
       "13. 'Haskell'\n",
       "14. 'Java'\n",
       "15. 'Javascript'\n",
       "16. 'JavaScript'\n",
       "17. 'Julia'\n",
       "18. 'Kotlin'\n",
       "19. 'Lua'\n",
       "20. 'Matlab'\n",
       "21. 'MATLAB'\n",
       "22. 'Objective-C'\n",
       "23. 'Perl'\n",
       "24. 'PHP'\n",
       "25. 'Python'\n",
       "26. 'R'\n",
       "27. 'Ruby'\n",
       "28. 'Rust'\n",
       "29. 'Scala'\n",
       "30. 'SQL'\n",
       "31. 'Swift'\n",
       "32. 'TypeScript'\n",
       "33. 'VBA'\n",
       "34. 'Visual Basic'\n",
       "\n",
       "\n"
      ],
      "text/plain": [
       " [1] \"Abap\"              \"Ada\"               \"Assembly language\"\n",
       " [4] \"C\"                 \"C#\"                \"C/C++\"            \n",
       " [7] \"C++\"               \"Cobol\"             \"Dart\"             \n",
       "[10] \"Delphi\"            \"Go\"                \"Groovy\"           \n",
       "[13] \"Haskell\"           \"Java\"              \"Javascript\"       \n",
       "[16] \"JavaScript\"        \"Julia\"             \"Kotlin\"           \n",
       "[19] \"Lua\"               \"Matlab\"            \"MATLAB\"           \n",
       "[22] \"Objective-C\"       \"Perl\"              \"PHP\"              \n",
       "[25] \"Python\"            \"R\"                 \"Ruby\"             \n",
       "[28] \"Rust\"              \"Scala\"             \"SQL\"              \n",
       "[31] \"Swift\"             \"TypeScript\"        \"VBA\"              \n",
       "[34] \"Visual Basic\"     "
      ]
     },
     "metadata": {},
     "output_type": "display_data"
    }
   ],
   "source": [
    "print(\"The total of programming languages from both the data sheets:\")\n",
    "sort(union(data_sheet1$Language,data_sheet2$Programming_Language))"
   ]
  },
  {
   "cell_type": "code",
   "execution_count": 20,
   "metadata": {},
   "outputs": [],
   "source": [
    "#C C++ is in one row for sheet 1 data but it appears two times in sheet2 so combining them as C/C++ \n",
    "data_sheet2$Ratings[1]=mean(c(data_sheet2$Ratings[1],data_sheet2$Ratings[4]))\n",
    "data_sheet2$Change[1]=mean(c(data_sheet2$Change[1],data_sheet2$Change[4]))"
   ]
  },
  {
   "cell_type": "code",
   "execution_count": 21,
   "metadata": {},
   "outputs": [],
   "source": [
    "data_sheet2$Programming_Language[1][data_sheet2$Programming_Language[1] == \"C\"] <- \"C/C++\""
   ]
  },
  {
   "cell_type": "code",
   "execution_count": 22,
   "metadata": {},
   "outputs": [],
   "source": [
    "#deleting C++ row ffrom data sheet2\n",
    "data_sheet2=data_sheet2[-c(4),]\n",
    "#reordering as per ratings\n",
    "data_sheet2=data_sheet2[order(-data_sheet2$Ratings),]"
   ]
  },
  {
   "cell_type": "code",
   "execution_count": 23,
   "metadata": {},
   "outputs": [
    {
     "data": {
      "text/html": [
       "<table>\n",
       "<thead><tr><th scope=col>Rank_2020</th><th scope=col>Rank_2019</th><th scope=col>Programming_Language</th><th scope=col>Ratings</th><th scope=col>Change</th></tr></thead>\n",
       "<tbody>\n",
       "\t<tr><td>2           </td><td>1           </td><td>Java        </td><td>0.1348      </td><td>-0.0318     </td></tr>\n",
       "\t<tr><td>1           </td><td>2           </td><td>C/C++       </td><td>0.1153      </td><td> 0.0111     </td></tr>\n",
       "\t<tr><td>3           </td><td>3           </td><td>Python      </td><td>0.1047      </td><td> 0.0059     </td></tr>\n",
       "\t<tr><td>5           </td><td>5           </td><td>C#          </td><td>0.0458      </td><td> 0.0118     </td></tr>\n",
       "\t<tr><td>6           </td><td>6           </td><td>Visual Basic</td><td>0.0412      </td><td> 0.0083     </td></tr>\n",
       "\t<tr><td>7           </td><td>7           </td><td>JavaScript  </td><td>0.0254      </td><td> 0.0041     </td></tr>\n",
       "</tbody>\n",
       "</table>\n"
      ],
      "text/latex": [
       "\\begin{tabular}{r|lllll}\n",
       " Rank\\_2020 & Rank\\_2019 & Programming\\_Language & Ratings & Change\\\\\n",
       "\\hline\n",
       "\t 2            & 1            & Java         & 0.1348       & -0.0318     \\\\\n",
       "\t 1            & 2            & C/C++        & 0.1153       &  0.0111     \\\\\n",
       "\t 3            & 3            & Python       & 0.1047       &  0.0059     \\\\\n",
       "\t 5              & 5              & C\\#           & 0.0458         &  0.0118       \\\\\n",
       "\t 6            & 6            & Visual Basic & 0.0412       &  0.0083     \\\\\n",
       "\t 7            & 7            & JavaScript   & 0.0254       &  0.0041     \\\\\n",
       "\\end{tabular}\n"
      ],
      "text/markdown": [
       "\n",
       "| Rank_2020 | Rank_2019 | Programming_Language | Ratings | Change |\n",
       "|---|---|---|---|---|\n",
       "| 2            | 1            | Java         | 0.1348       | -0.0318      |\n",
       "| 1            | 2            | C/C++        | 0.1153       |  0.0111      |\n",
       "| 3            | 3            | Python       | 0.1047       |  0.0059      |\n",
       "| 5            | 5            | C#           | 0.0458       |  0.0118      |\n",
       "| 6            | 6            | Visual Basic | 0.0412       |  0.0083      |\n",
       "| 7            | 7            | JavaScript   | 0.0254       |  0.0041      |\n",
       "\n"
      ],
      "text/plain": [
       "  Rank_2020 Rank_2019 Programming_Language Ratings Change \n",
       "1 2         1         Java                 0.1348  -0.0318\n",
       "2 1         2         C/C++                0.1153   0.0111\n",
       "3 3         3         Python               0.1047   0.0059\n",
       "4 5         5         C#                   0.0458   0.0118\n",
       "5 6         6         Visual Basic         0.0412   0.0083\n",
       "6 7         7         JavaScript           0.0254   0.0041"
      ]
     },
     "metadata": {},
     "output_type": "display_data"
    }
   ],
   "source": [
    "head(data_sheet2)"
   ]
  },
  {
   "cell_type": "code",
   "execution_count": 24,
   "metadata": {},
   "outputs": [
    {
     "data": {
      "text/html": [
       "<ol class=list-inline>\n",
       "\t<li>'Abap'</li>\n",
       "\t<li>'Ada'</li>\n",
       "\t<li>'Assembly language'</li>\n",
       "\t<li>'C#'</li>\n",
       "\t<li>'C/C++'</li>\n",
       "\t<li>'Cobol'</li>\n",
       "\t<li>'Dart'</li>\n",
       "\t<li>'Delphi'</li>\n",
       "\t<li>'Go'</li>\n",
       "\t<li>'Groovy'</li>\n",
       "\t<li>'Haskell'</li>\n",
       "\t<li>'Java'</li>\n",
       "\t<li>'Javascript'</li>\n",
       "\t<li>'JavaScript'</li>\n",
       "\t<li>'Julia'</li>\n",
       "\t<li>'Kotlin'</li>\n",
       "\t<li>'Lua'</li>\n",
       "\t<li>'Matlab'</li>\n",
       "\t<li>'MATLAB'</li>\n",
       "\t<li>'Objective-C'</li>\n",
       "\t<li>'Perl'</li>\n",
       "\t<li>'PHP'</li>\n",
       "\t<li>'Python'</li>\n",
       "\t<li>'R'</li>\n",
       "\t<li>'Ruby'</li>\n",
       "\t<li>'Rust'</li>\n",
       "\t<li>'Scala'</li>\n",
       "\t<li>'SQL'</li>\n",
       "\t<li>'Swift'</li>\n",
       "\t<li>'TypeScript'</li>\n",
       "\t<li>'VBA'</li>\n",
       "\t<li>'Visual Basic'</li>\n",
       "</ol>\n"
      ],
      "text/latex": [
       "\\begin{enumerate*}\n",
       "\\item 'Abap'\n",
       "\\item 'Ada'\n",
       "\\item 'Assembly language'\n",
       "\\item 'C\\#'\n",
       "\\item 'C/C++'\n",
       "\\item 'Cobol'\n",
       "\\item 'Dart'\n",
       "\\item 'Delphi'\n",
       "\\item 'Go'\n",
       "\\item 'Groovy'\n",
       "\\item 'Haskell'\n",
       "\\item 'Java'\n",
       "\\item 'Javascript'\n",
       "\\item 'JavaScript'\n",
       "\\item 'Julia'\n",
       "\\item 'Kotlin'\n",
       "\\item 'Lua'\n",
       "\\item 'Matlab'\n",
       "\\item 'MATLAB'\n",
       "\\item 'Objective-C'\n",
       "\\item 'Perl'\n",
       "\\item 'PHP'\n",
       "\\item 'Python'\n",
       "\\item 'R'\n",
       "\\item 'Ruby'\n",
       "\\item 'Rust'\n",
       "\\item 'Scala'\n",
       "\\item 'SQL'\n",
       "\\item 'Swift'\n",
       "\\item 'TypeScript'\n",
       "\\item 'VBA'\n",
       "\\item 'Visual Basic'\n",
       "\\end{enumerate*}\n"
      ],
      "text/markdown": [
       "1. 'Abap'\n",
       "2. 'Ada'\n",
       "3. 'Assembly language'\n",
       "4. 'C#'\n",
       "5. 'C/C++'\n",
       "6. 'Cobol'\n",
       "7. 'Dart'\n",
       "8. 'Delphi'\n",
       "9. 'Go'\n",
       "10. 'Groovy'\n",
       "11. 'Haskell'\n",
       "12. 'Java'\n",
       "13. 'Javascript'\n",
       "14. 'JavaScript'\n",
       "15. 'Julia'\n",
       "16. 'Kotlin'\n",
       "17. 'Lua'\n",
       "18. 'Matlab'\n",
       "19. 'MATLAB'\n",
       "20. 'Objective-C'\n",
       "21. 'Perl'\n",
       "22. 'PHP'\n",
       "23. 'Python'\n",
       "24. 'R'\n",
       "25. 'Ruby'\n",
       "26. 'Rust'\n",
       "27. 'Scala'\n",
       "28. 'SQL'\n",
       "29. 'Swift'\n",
       "30. 'TypeScript'\n",
       "31. 'VBA'\n",
       "32. 'Visual Basic'\n",
       "\n",
       "\n"
      ],
      "text/plain": [
       " [1] \"Abap\"              \"Ada\"               \"Assembly language\"\n",
       " [4] \"C#\"                \"C/C++\"             \"Cobol\"            \n",
       " [7] \"Dart\"              \"Delphi\"            \"Go\"               \n",
       "[10] \"Groovy\"            \"Haskell\"           \"Java\"             \n",
       "[13] \"Javascript\"        \"JavaScript\"        \"Julia\"            \n",
       "[16] \"Kotlin\"            \"Lua\"               \"Matlab\"           \n",
       "[19] \"MATLAB\"            \"Objective-C\"       \"Perl\"             \n",
       "[22] \"PHP\"               \"Python\"            \"R\"                \n",
       "[25] \"Ruby\"              \"Rust\"              \"Scala\"            \n",
       "[28] \"SQL\"               \"Swift\"             \"TypeScript\"       \n",
       "[31] \"VBA\"               \"Visual Basic\"     "
      ]
     },
     "metadata": {},
     "output_type": "display_data"
    },
    {
     "name": "stdout",
     "output_type": "stream",
     "text": [
      "Total number of programming languages: 32"
     ]
    }
   ],
   "source": [
    "#total programming languages from both the sheets\n",
    "total_lang=union(data_sheet1$Language,data_sheet2$Programming_Language)\n",
    "sort(total_lang)\n",
    "cat(\"Total number of programming languages:\",length(total_lang))"
   ]
  },
  {
   "cell_type": "code",
   "execution_count": 25,
   "metadata": {},
   "outputs": [],
   "source": [
    "#as the rank of the languages differ so much for both sheets we need to remove the rank columns\n",
    "data_sheet1=subset(data_sheet1,select=-Rank)\n",
    "data_sheet2=subset(data_sheet2,select=-c(Rank_2020,Rank_2019))"
   ]
  },
  {
   "cell_type": "code",
   "execution_count": 26,
   "metadata": {},
   "outputs": [
    {
     "data": {
      "image/png": "[encoded data removed]",
      "text/plain": [
       "Plot with title \"Pie chart for market share of languages\""
      ]
     },
     "metadata": {},
     "output_type": "display_data"
    }
   ],
   "source": [
    "pie(as.numeric(data_sheet1$Share),labels=data_sheet1$Language,main='Pie chart for market share of languages')"
   ]
  },
  {
   "cell_type": "code",
   "execution_count": 22,
   "metadata": {},
   "outputs": [
    {
     "data": {
      "image/png": "[encoded data removed]",
      "text/plain": [
       "Plot with title \"Pie chart for Rating of Programming languages\""
      ]
     },
     "metadata": {},
     "output_type": "display_data"
    }
   ],
   "source": [
    "pie(data_sheet2$Ratings,labels=data_sheet2$Programming_Language,main='Pie chart for Rating of Programming languages')"
   ]
  },
  {
   "cell_type": "code",
   "execution_count": 33,
   "metadata": {},
   "outputs": [
    {
     "data": {
      "image/png": "[encoded data removed]",
      "text/plain": [
       "plot without title"
      ]
     },
     "metadata": {},
     "output_type": "display_data"
    }
   ],
   "source": [
    "plot(factor(data_sheet1$Language),data_sheet1$Trend)"
   ]
  },
  {
   "cell_type": "code",
   "execution_count": 34,
   "metadata": {},
   "outputs": [
    {
     "data": {
      "image/png": "[encoded data removed]",
      "text/plain": [
       "plot without title"
      ]
     },
     "metadata": {},
     "output_type": "display_data"
    }
   ],
   "source": [
    "plot(factor(data_sheet2$Programming_Language),data_sheet2$Change)"
   ]
  }
 ],
 "metadata": {
  "kernelspec": {
   "display_name": "R",
   "language": "R",
   "name": "ir"
  },
  "language_info": {
   "codemirror_mode": "r",
   "file_extension": ".r",
   "mimetype": "text/x-r-source",
   "name": "R",
   "pygments_lexer": "r",
   "version": "3.6.1"
  }
 },
 "nbformat": 4,
 "nbformat_minor": 4
}
