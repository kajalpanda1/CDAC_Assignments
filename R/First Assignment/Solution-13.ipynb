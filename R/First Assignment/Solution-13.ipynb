{
 "cells": [
  {
   "cell_type": "code",
   "execution_count": 1,
   "metadata": {},
   "outputs": [
    {
     "name": "stdout",
     "output_type": "stream",
     "text": [
      "Enter the species type: (setosa or versicolor or virginica): virginica\n"
     ]
    }
   ],
   "source": [
    "#input by user\n",
    "species=readline(prompt=\"Enter the species type: (setosa or versicolor or virginica): \")"
   ]
  },
  {
   "cell_type": "code",
   "execution_count": 2,
   "metadata": {},
   "outputs": [
    {
     "name": "stdout",
     "output_type": "stream",
     "text": [
      "You have entered species type: virginica"
     ]
    }
   ],
   "source": [
    "#checking the user input valid or not\n",
    "species=tolower(species)\n",
    "if(species=='setosa'|species=='versicolor'|species=='virginica'){\n",
    "    cat(\"You have entered species type:\",species)\n",
    "}else{\n",
    "    print(\"Please enter a valid species type!\")\n",
    "}"
   ]
  },
  {
   "cell_type": "code",
   "execution_count": 3,
   "metadata": {},
   "outputs": [],
   "source": [
    "#extracting rows from iris of the species type given by user\n",
    "iris_sml=iris[iris$Species==species,c(1:4)]"
   ]
  },
  {
   "cell_type": "code",
   "execution_count": 4,
   "metadata": {},
   "outputs": [
    {
     "data": {
      "image/png": "[encoded data removed]",
      "text/plain": [
       "Plot with title \"Histogram of Petal Width\""
      ]
     },
     "metadata": {},
     "output_type": "display_data"
    }
   ],
   "source": [
    "#plotting histogram for all features of iris_sml data\n",
    "par(mfrow=c(2,2))\n",
    "hist(iris_sml$Sepal.Length,main=paste(\"Histogram of\",\"Sepal Length\"),xlab='Sepal Length', ylab='Frequency',breaks=20)\n",
    "hist(iris_sml$Sepal.Width,main=paste(\"Histogram of\",\"Sepal Width\"),xlab='Sepal Width', ylab='Frequency',breaks=20)\n",
    "hist(iris_sml$Petal.Length,main=paste(\"Histogram of\",\"Petal Length\"),xlab='Petal Length', ylab='Frequency',breaks=20)\n",
    "hist(iris_sml$Petal.Width,main=paste(\"Histogram of\",\"Petal Width\"),xlab='Petal Width', ylab='Frequency',breaks=20)"
   ]
  },
  {
   "cell_type": "code",
   "execution_count": 5,
   "metadata": {},
   "outputs": [],
   "source": [
    "#Mean Function\n",
    "mean_fun<-function(lst){ \n",
    "    n=length(lst)\n",
    "    if (n==0){ \n",
    "        cat('Mean:',0)\n",
    "    }else{ \n",
    "        cat('Mean:',sum(lst)/n)\n",
    "    }\n",
    "}\n",
    "#Median Function\n",
    "median_fun<-function(lst) { \n",
    "    n<-length(lst)\n",
    "    s<-sort(lst) \n",
    "    if(n==0){ \n",
    "        cat('Median:',lst)\n",
    "    }else{ \n",
    "        t=(n+1)/2\n",
    "        med_val=(s[floor(t)]+s[ceiling(t)])/2 \n",
    "        cat('Median:',med_val)\n",
    "    }\n",
    "}\n",
    "#Mode Function\n",
    "mode_fun<-function(lst){ \n",
    "    t=table(lst)\n",
    "    cat('Mode:',names(t)[which(t==max(t))])\n",
    "}"
   ]
  },
  {
   "cell_type": "code",
   "execution_count": 6,
   "metadata": {},
   "outputs": [
    {
     "name": "stdout",
     "output_type": "stream",
     "text": [
      "Mean: 214.25"
     ]
    }
   ],
   "source": [
    "mean_fun(iris_sml)"
   ]
  },
  {
   "cell_type": "code",
   "execution_count": 7,
   "metadata": {},
   "outputs": [
    {
     "name": "stdout",
     "output_type": "stream",
     "text": [
      "Median: 6.5Median: 3Median: 5.55Median: 2"
     ]
    }
   ],
   "source": [
    "median_fun(iris_sml$Sepal.Length)\n",
    "median_fun(iris_sml$Sepal.Width)\n",
    "median_fun(iris_sml$Petal.Length)\n",
    "median_fun(iris_sml$Petal.Width)"
   ]
  },
  {
   "cell_type": "code",
   "execution_count": 8,
   "metadata": {},
   "outputs": [
    {
     "name": "stdout",
     "output_type": "stream",
     "text": [
      "Mode: 6.3Mode: 3Mode: 5.1Mode: 1.8"
     ]
    }
   ],
   "source": [
    "mode_fun(iris_sml$Sepal.Length)\n",
    "mode_fun(iris_sml$Sepal.Width)\n",
    "mode_fun(iris_sml$Petal.Length)\n",
    "mode_fun(iris_sml$Petal.Width)"
   ]
  }
 ],
 "metadata": {
  "kernelspec": {
   "display_name": "R",
   "language": "R",
   "name": "ir"
  },
  "language_info": {
   "codemirror_mode": "r",
   "file_extension": ".r",
   "mimetype": "text/x-r-source",
   "name": "R",
   "pygments_lexer": "r",
   "version": "3.6.1"
  }
 },
 "nbformat": 4,
 "nbformat_minor": 4
}
