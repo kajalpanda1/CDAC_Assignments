{
 "cells": [
  {
   "cell_type": "markdown",
   "metadata": {},
   "source": [
    "# Solution 9:"
   ]
  },
  {
   "cell_type": "code",
   "execution_count": 1,
   "metadata": {},
   "outputs": [
    {
     "data": {
      "text/plain": [
       "\n",
       "\tOne Sample t-test\n",
       "\n",
       "data:  pulse_data\n",
       "t = 17.687, df = 14, p-value = 5.652e-11\n",
       "alternative hypothesis: true mean is not equal to 0\n",
       "95 percent confidence interval:\n",
       " 60.86694 77.66640\n",
       "sample estimates:\n",
       "mean of x \n",
       " 69.26667 \n"
      ]
     },
     "metadata": {},
     "output_type": "display_data"
    }
   ],
   "source": [
    "pulse_data=c(54, 63, 58, 72, 49, 92, 70, 73, 69, 104, 48, 66, 80, 64, 77)\n",
    "\n",
    "#Two_tailed test: \n",
    "t.test(pulse_data,conf.int=0.95)"
   ]
  },
  {
   "cell_type": "code",
   "execution_count": 2,
   "metadata": {},
   "outputs": [
    {
     "data": {
      "text/plain": [
       "\n",
       "\tOne Sample t-test\n",
       "\n",
       "data:  pulse_data\n",
       "t = 17.687, df = 14, p-value = 2.826e-11\n",
       "alternative hypothesis: true mean is greater than 0\n",
       "95 percent confidence interval:\n",
       " 62.36876      Inf\n",
       "sample estimates:\n",
       "mean of x \n",
       " 69.26667 \n"
      ]
     },
     "metadata": {},
     "output_type": "display_data"
    }
   ],
   "source": [
    "#One_tailed test: \n",
    "t.test(pulse_data,conf.int=0.95,alternative='greater')"
   ]
  },
  {
   "cell_type": "markdown",
   "metadata": {},
   "source": [
    "# Solution 10:\n",
    "\n",
    "Given, Null Hypothesis, H0 : µ ≥ 40,000 \n",
    "       Alternate Hypothesis, H1 : µ < 40,000"
   ]
  },
  {
   "cell_type": "code",
   "execution_count": 3,
   "metadata": {},
   "outputs": [
    {
     "data": {
      "text/plain": [
       "\n",
       "\tOne Sample t-test\n",
       "\n",
       "data:  tires_life\n",
       "t = 47.276, df = 11, p-value = 1\n",
       "alternative hypothesis: true mean is less than 0\n",
       "95 percent confidence interval:\n",
       "     -Inf 38.69963\n",
       "sample estimates:\n",
       "mean of x \n",
       " 37.28333 \n"
      ]
     },
     "metadata": {},
     "output_type": "display_data"
    }
   ],
   "source": [
    "tires_life=c(36.1, 40.2, 33.8, 38.5, 42.0, 35.8, 37.0, 41.0, 36.8, 37.2, 33.0, 36.0)\n",
    "t.test(tires_life,conf.int=0.95,alternative='less')"
   ]
  }
 ],
 "metadata": {
  "kernelspec": {
   "display_name": "R",
   "language": "R",
   "name": "ir"
  },
  "language_info": {
   "codemirror_mode": "r",
   "file_extension": ".r",
   "mimetype": "text/x-r-source",
   "name": "R",
   "pygments_lexer": "r",
   "version": "3.6.1"
  }
 },
 "nbformat": 4,
 "nbformat_minor": 4
}
