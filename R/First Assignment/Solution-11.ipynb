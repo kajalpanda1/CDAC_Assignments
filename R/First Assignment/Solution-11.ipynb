{
 "cells": [
  {
   "cell_type": "code",
   "execution_count": 1,
   "metadata": {},
   "outputs": [],
   "source": [
    "#Creating a list\n",
    "mylist=c(7,24,9,42,12,131,47,71,51,51,47,51)"
   ]
  },
  {
   "cell_type": "code",
   "execution_count": 2,
   "metadata": {},
   "outputs": [],
   "source": [
    "#Mean Function\n",
    "mean_fun<-function(lst){ \n",
    "    n=length(lst)\n",
    "    if (n==0){ \n",
    "        cat('Mean:',0)\n",
    "    }else{ \n",
    "        cat('Mean:',sum(lst)/n)\n",
    "    }\n",
    "}"
   ]
  },
  {
   "cell_type": "code",
   "execution_count": 3,
   "metadata": {},
   "outputs": [
    {
     "name": "stdout",
     "output_type": "stream",
     "text": [
      "Mean: 45.25"
     ]
    }
   ],
   "source": [
    "#mean of the list\n",
    "mean_fun(mylist)"
   ]
  },
  {
   "cell_type": "code",
   "execution_count": 4,
   "metadata": {},
   "outputs": [],
   "source": [
    "#Median Function\n",
    "median_fun<-function(lst) { \n",
    "    n<-length(lst)\n",
    "    s<-sort(lst) \n",
    "    if(n==0){ \n",
    "        cat('Median:',lst)\n",
    "    }else{ \n",
    "        t=(n+1)/2\n",
    "        med_val=(s[floor(t)]+s[ceiling(t)])/2 \n",
    "        cat('Median:',med_val)\n",
    "    }\n",
    "}"
   ]
  },
  {
   "cell_type": "code",
   "execution_count": 5,
   "metadata": {},
   "outputs": [
    {
     "name": "stdout",
     "output_type": "stream",
     "text": [
      "Median: 47"
     ]
    }
   ],
   "source": [
    "#median of the list\n",
    "median_fun(mylist)"
   ]
  },
  {
   "cell_type": "code",
   "execution_count": 9,
   "metadata": {},
   "outputs": [],
   "source": [
    "#Mode Function\n",
    "mode_fun<-function(lst){ \n",
    "    t=table(lst)\n",
    "    cat('Mode:',names(t)[which(t==max(t))])\n",
    "}"
   ]
  },
  {
   "cell_type": "code",
   "execution_count": 10,
   "metadata": {},
   "outputs": [
    {
     "name": "stdout",
     "output_type": "stream",
     "text": [
      "Mode: 51"
     ]
    }
   ],
   "source": [
    "#mode of the list\n",
    "mode_fun(mylist)"
   ]
  },
  {
   "cell_type": "code",
   "execution_count": 11,
   "metadata": {},
   "outputs": [],
   "source": [
    "#Standard Deviation Function\n",
    "std_dev_fun<-function(lst){ \n",
    "    n=length(lst)\n",
    "    m=sum(lst)/n \n",
    "    a=sum((lst-m)^2)\n",
    "    cat('Standard deviation:',sqrt(a/n))\n",
    "}"
   ]
  },
  {
   "cell_type": "code",
   "execution_count": 12,
   "metadata": {},
   "outputs": [
    {
     "name": "stdout",
     "output_type": "stream",
     "text": [
      "Standard deviation: 32.23126"
     ]
    }
   ],
   "source": [
    "#standard deviation of the list\n",
    "std_dev_fun(mylist)"
   ]
  },
  {
   "cell_type": "code",
   "execution_count": 13,
   "metadata": {},
   "outputs": [],
   "source": [
    "#Variance Function\n",
    "var_fun<-function(lst){ \n",
    "    n=length(lst) \n",
    "    m=sum(lst)/n \n",
    "    a=sum((lst-m)^2) \n",
    "    cat('Variance:',a/n)\n",
    "}"
   ]
  },
  {
   "cell_type": "code",
   "execution_count": 14,
   "metadata": {},
   "outputs": [
    {
     "name": "stdout",
     "output_type": "stream",
     "text": [
      "Variance: 1038.854"
     ]
    }
   ],
   "source": [
    "#variance of the list\n",
    "var_fun(mylist)"
   ]
  },
  {
   "cell_type": "code",
   "execution_count": 15,
   "metadata": {},
   "outputs": [],
   "source": [
    "#Creating a matrix\n",
    "data=matrix(seq(1,9),nrow=3,ncol=3)"
   ]
  },
  {
   "cell_type": "code",
   "execution_count": 16,
   "metadata": {},
   "outputs": [],
   "source": [
    "#Covariance Function\n",
    "cov_fun<-function(d){ \n",
    "    if (nrow(d)==ncol(d)){ \n",
    "        r=rowMeans(d)\n",
    "        c=colMeans(d) \n",
    "        diff_r=d-r \n",
    "        diff_c=d-c\n",
    "        prod=diff_c * diff_r \n",
    "        cov_val=prod/(nrow(d)*ncol(d))-1 \n",
    "        cat(matrix(cov_val))\n",
    "    }else{\n",
    "        print(\"Number of rows and columns should be same!\")\n",
    "    }\n",
    "}"
   ]
  },
  {
   "cell_type": "code",
   "execution_count": 17,
   "metadata": {},
   "outputs": [
    {
     "name": "stdout",
     "output_type": "stream",
     "text": [
      "-0.6666667 0 0.6666667 -1 -1 -1 0.6666667 0 -0.6666667"
     ]
    }
   ],
   "source": [
    "#covariance of the data\n",
    "cov_fun(data)"
   ]
  },
  {
   "cell_type": "code",
   "execution_count": 27,
   "metadata": {},
   "outputs": [],
   "source": [
    "#Creating the variables\n",
    "list1=sample(20,4)\n",
    "list2=sample(20,4)"
   ]
  },
  {
   "cell_type": "code",
   "execution_count": 28,
   "metadata": {},
   "outputs": [],
   "source": [
    "#Correlation Function\n",
    "cor_fun<-function(x,y){\n",
    "    denom=sd(x)*sd(y)\n",
    "    nom=cov(x,y)\n",
    "    cor_val=nom/denom\n",
    "    cat(\"Correlation:\",cor_val)\n",
    "}"
   ]
  },
  {
   "cell_type": "code",
   "execution_count": 29,
   "metadata": {},
   "outputs": [
    {
     "name": "stdout",
     "output_type": "stream",
     "text": [
      "Correlation: 0.50763"
     ]
    }
   ],
   "source": [
    "#correlation of the variables\n",
    "cor_fun(list1,list2)"
   ]
  }
 ],
 "metadata": {
  "kernelspec": {
   "display_name": "R",
   "language": "R",
   "name": "ir"
  },
  "language_info": {
   "codemirror_mode": "r",
   "file_extension": ".r",
   "mimetype": "text/x-r-source",
   "name": "R",
   "pygments_lexer": "r",
   "version": "3.6.1"
  }
 },
 "nbformat": 4,
 "nbformat_minor": 4
}
