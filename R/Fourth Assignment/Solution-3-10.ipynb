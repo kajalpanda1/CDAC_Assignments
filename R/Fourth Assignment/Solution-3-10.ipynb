{
 "cells": [
  {
   "cell_type": "markdown",
   "metadata": {},
   "source": [
    "How many flights have a missing dep_time? What other variables are missing? What might these rows represent?"
   ]
  },
  {
   "cell_type": "code",
   "execution_count": 1,
   "metadata": {},
   "outputs": [
    {
     "name": "stderr",
     "output_type": "stream",
     "text": [
      "\n",
      "Attaching package: 'dplyr'\n",
      "\n",
      "The following objects are masked from 'package:stats':\n",
      "\n",
      "    filter, lag\n",
      "\n",
      "The following objects are masked from 'package:base':\n",
      "\n",
      "    intersect, setdiff, setequal, union\n",
      "\n",
      "Warning message:\n",
      "\"package 'nycflights13' was built under R version 3.6.3\""
     ]
    }
   ],
   "source": [
    "library(dplyr)\n",
    "library(nycflights13)"
   ]
  },
  {
   "cell_type": "code",
   "execution_count": 2,
   "metadata": {},
   "outputs": [
    {
     "data": {
      "text/html": [
       "<table>\n",
       "<thead><tr><th scope=col>year</th><th scope=col>month</th><th scope=col>day</th><th scope=col>dep_time</th><th scope=col>sched_dep_time</th><th scope=col>dep_delay</th><th scope=col>arr_time</th><th scope=col>sched_arr_time</th><th scope=col>arr_delay</th><th scope=col>carrier</th><th scope=col>flight</th><th scope=col>tailnum</th><th scope=col>origin</th><th scope=col>dest</th><th scope=col>air_time</th><th scope=col>distance</th><th scope=col>hour</th><th scope=col>minute</th><th scope=col>time_hour</th></tr></thead>\n",
       "<tbody>\n",
       "\t<tr><td>2013               </td><td>1                  </td><td>1                  </td><td>NA                 </td><td>1630               </td><td>NA                 </td><td>NA                 </td><td>1815               </td><td>NA                 </td><td>EV                 </td><td>4308               </td><td>N18120             </td><td>EWR                </td><td>RDU                </td><td>NA                 </td><td> 416               </td><td>16                 </td><td>30                 </td><td>2013-01-01 16:00:00</td></tr>\n",
       "\t<tr><td>2013               </td><td>1                  </td><td>1                  </td><td>NA                 </td><td>1935               </td><td>NA                 </td><td>NA                 </td><td>2240               </td><td>NA                 </td><td>AA                 </td><td> 791               </td><td>N3EHAA             </td><td>LGA                </td><td>DFW                </td><td>NA                 </td><td>1389               </td><td>19                 </td><td>35                 </td><td>2013-01-01 19:00:00</td></tr>\n",
       "\t<tr><td>2013               </td><td>1                  </td><td>1                  </td><td>NA                 </td><td>1500               </td><td>NA                 </td><td>NA                 </td><td>1825               </td><td>NA                 </td><td>AA                 </td><td>1925               </td><td>N3EVAA             </td><td>LGA                </td><td>MIA                </td><td>NA                 </td><td>1096               </td><td>15                 </td><td> 0                 </td><td>2013-01-01 15:00:00</td></tr>\n",
       "\t<tr><td>2013               </td><td>1                  </td><td>1                  </td><td>NA                 </td><td> 600               </td><td>NA                 </td><td>NA                 </td><td> 901               </td><td>NA                 </td><td>B6                 </td><td> 125               </td><td>N618JB             </td><td>JFK                </td><td>FLL                </td><td>NA                 </td><td>1069               </td><td> 6                 </td><td> 0                 </td><td>2013-01-01 06:00:00</td></tr>\n",
       "\t<tr><td>2013               </td><td>1                  </td><td>2                  </td><td>NA                 </td><td>1540               </td><td>NA                 </td><td>NA                 </td><td>1747               </td><td>NA                 </td><td>EV                 </td><td>4352               </td><td>N10575             </td><td>EWR                </td><td>CVG                </td><td>NA                 </td><td> 569               </td><td>15                 </td><td>40                 </td><td>2013-01-02 15:00:00</td></tr>\n",
       "\t<tr><td>2013               </td><td>1                  </td><td>2                  </td><td>NA                 </td><td>1620               </td><td>NA                 </td><td>NA                 </td><td>1746               </td><td>NA                 </td><td>EV                 </td><td>4406               </td><td>N13949             </td><td>EWR                </td><td>PIT                </td><td>NA                 </td><td> 319               </td><td>16                 </td><td>20                 </td><td>2013-01-02 16:00:00</td></tr>\n",
       "</tbody>\n",
       "</table>\n"
      ],
      "text/latex": [
       "\\begin{tabular}{r|lllllllllllllllllll}\n",
       " year & month & day & dep\\_time & sched\\_dep\\_time & dep\\_delay & arr\\_time & sched\\_arr\\_time & arr\\_delay & carrier & flight & tailnum & origin & dest & air\\_time & distance & hour & minute & time\\_hour\\\\\n",
       "\\hline\n",
       "\t 2013                & 1                   & 1                   & NA                  & 1630                & NA                  & NA                  & 1815                & NA                  & EV                  & 4308                & N18120              & EWR                 & RDU                 & NA                  &  416                & 16                  & 30                  & 2013-01-01 16:00:00\\\\\n",
       "\t 2013                & 1                   & 1                   & NA                  & 1935                & NA                  & NA                  & 2240                & NA                  & AA                  &  791                & N3EHAA              & LGA                 & DFW                 & NA                  & 1389                & 19                  & 35                  & 2013-01-01 19:00:00\\\\\n",
       "\t 2013                & 1                   & 1                   & NA                  & 1500                & NA                  & NA                  & 1825                & NA                  & AA                  & 1925                & N3EVAA              & LGA                 & MIA                 & NA                  & 1096                & 15                  &  0                  & 2013-01-01 15:00:00\\\\\n",
       "\t 2013                & 1                   & 1                   & NA                  &  600                & NA                  & NA                  &  901                & NA                  & B6                  &  125                & N618JB              & JFK                 & FLL                 & NA                  & 1069                &  6                  &  0                  & 2013-01-01 06:00:00\\\\\n",
       "\t 2013                & 1                   & 2                   & NA                  & 1540                & NA                  & NA                  & 1747                & NA                  & EV                  & 4352                & N10575              & EWR                 & CVG                 & NA                  &  569                & 15                  & 40                  & 2013-01-02 15:00:00\\\\\n",
       "\t 2013                & 1                   & 2                   & NA                  & 1620                & NA                  & NA                  & 1746                & NA                  & EV                  & 4406                & N13949              & EWR                 & PIT                 & NA                  &  319                & 16                  & 20                  & 2013-01-02 16:00:00\\\\\n",
       "\\end{tabular}\n"
      ],
      "text/markdown": [
       "\n",
       "| year | month | day | dep_time | sched_dep_time | dep_delay | arr_time | sched_arr_time | arr_delay | carrier | flight | tailnum | origin | dest | air_time | distance | hour | minute | time_hour |\n",
       "|---|---|---|---|---|---|---|---|---|---|---|---|---|---|---|---|---|---|---|\n",
       "| 2013                | 1                   | 1                   | NA                  | 1630                | NA                  | NA                  | 1815                | NA                  | EV                  | 4308                | N18120              | EWR                 | RDU                 | NA                  |  416                | 16                  | 30                  | 2013-01-01 16:00:00 |\n",
       "| 2013                | 1                   | 1                   | NA                  | 1935                | NA                  | NA                  | 2240                | NA                  | AA                  |  791                | N3EHAA              | LGA                 | DFW                 | NA                  | 1389                | 19                  | 35                  | 2013-01-01 19:00:00 |\n",
       "| 2013                | 1                   | 1                   | NA                  | 1500                | NA                  | NA                  | 1825                | NA                  | AA                  | 1925                | N3EVAA              | LGA                 | MIA                 | NA                  | 1096                | 15                  |  0                  | 2013-01-01 15:00:00 |\n",
       "| 2013                | 1                   | 1                   | NA                  |  600                | NA                  | NA                  |  901                | NA                  | B6                  |  125                | N618JB              | JFK                 | FLL                 | NA                  | 1069                |  6                  |  0                  | 2013-01-01 06:00:00 |\n",
       "| 2013                | 1                   | 2                   | NA                  | 1540                | NA                  | NA                  | 1747                | NA                  | EV                  | 4352                | N10575              | EWR                 | CVG                 | NA                  |  569                | 15                  | 40                  | 2013-01-02 15:00:00 |\n",
       "| 2013                | 1                   | 2                   | NA                  | 1620                | NA                  | NA                  | 1746                | NA                  | EV                  | 4406                | N13949              | EWR                 | PIT                 | NA                  |  319                | 16                  | 20                  | 2013-01-02 16:00:00 |\n",
       "\n"
      ],
      "text/plain": [
       "  year month day dep_time sched_dep_time dep_delay arr_time sched_arr_time\n",
       "1 2013 1     1   NA       1630           NA        NA       1815          \n",
       "2 2013 1     1   NA       1935           NA        NA       2240          \n",
       "3 2013 1     1   NA       1500           NA        NA       1825          \n",
       "4 2013 1     1   NA        600           NA        NA        901          \n",
       "5 2013 1     2   NA       1540           NA        NA       1747          \n",
       "6 2013 1     2   NA       1620           NA        NA       1746          \n",
       "  arr_delay carrier flight tailnum origin dest air_time distance hour minute\n",
       "1 NA        EV      4308   N18120  EWR    RDU  NA        416     16   30    \n",
       "2 NA        AA       791   N3EHAA  LGA    DFW  NA       1389     19   35    \n",
       "3 NA        AA      1925   N3EVAA  LGA    MIA  NA       1096     15    0    \n",
       "4 NA        B6       125   N618JB  JFK    FLL  NA       1069      6    0    \n",
       "5 NA        EV      4352   N10575  EWR    CVG  NA        569     15   40    \n",
       "6 NA        EV      4406   N13949  EWR    PIT  NA        319     16   20    \n",
       "  time_hour          \n",
       "1 2013-01-01 16:00:00\n",
       "2 2013-01-01 19:00:00\n",
       "3 2013-01-01 15:00:00\n",
       "4 2013-01-01 06:00:00\n",
       "5 2013-01-02 15:00:00\n",
       "6 2013-01-02 16:00:00"
      ]
     },
     "metadata": {},
     "output_type": "display_data"
    }
   ],
   "source": [
    "dep_time_na=filter(flights, is.na(dep_time))\n",
    "head(dep_time_na)"
   ]
  },
  {
   "cell_type": "code",
   "execution_count": 3,
   "metadata": {},
   "outputs": [
    {
     "data": {
      "text/html": [
       "<table>\n",
       "<thead><tr><th scope=col>n</th></tr></thead>\n",
       "<tbody>\n",
       "\t<tr><td>8255</td></tr>\n",
       "</tbody>\n",
       "</table>\n"
      ],
      "text/latex": [
       "\\begin{tabular}{r|l}\n",
       " n\\\\\n",
       "\\hline\n",
       "\t 8255\\\\\n",
       "\\end{tabular}\n"
      ],
      "text/markdown": [
       "\n",
       "| n |\n",
       "|---|\n",
       "| 8255 |\n",
       "\n"
      ],
      "text/plain": [
       "  n   \n",
       "1 8255"
      ]
     },
     "metadata": {},
     "output_type": "display_data"
    }
   ],
   "source": [
    "count(dep_time_na)"
   ]
  },
  {
   "cell_type": "markdown",
   "metadata": {},
   "source": [
    "#### From the above table output, we can see that other variables like arr_time, arr_delay, dep_delay and most importantly air_time have value==NA for flights with dep_time==NA. We can conclude that these flights has been cancelled though scheduled, due to some technical issue or bad weather condition or some other problems. "
   ]
  },
  {
   "cell_type": "markdown",
   "metadata": {},
   "source": [
    "Why is NA ^ 0 not missing? Why is NA | TRUE not missing? Why is FALSE & NA not missing? Can you figure out the general rule?"
   ]
  },
  {
   "cell_type": "code",
   "execution_count": 4,
   "metadata": {},
   "outputs": [
    {
     "name": "stdout",
     "output_type": "stream",
     "text": [
      "1 TRUE FALSE"
     ]
    }
   ],
   "source": [
    "cat(NA^0, NA|T, NA&F)"
   ]
  },
  {
   "cell_type": "markdown",
   "metadata": {},
   "source": [
    "#### For NA^0, we can say that any number to the power zero is always 1, i.e. x^0=1. Hence, this rule applies for NA too."
   ]
  },
  {
   "cell_type": "markdown",
   "metadata": {},
   "source": [
    "#### For NA|TRUE, anything logically 'OR' operated with TRUE gives TRUE, as per the general rule, T|F=T, F|T=T and T|T=T."
   ]
  },
  {
   "cell_type": "markdown",
   "metadata": {},
   "source": [
    "#### For NA&FALSE, any value logically 'AND' operated with FAlSE gives FALSE, as per the general rule, T&F=F, F&T=F and F&F=F."
   ]
  },
  {
   "cell_type": "markdown",
   "metadata": {},
   "source": [
    "#### These OR and AND rule also applies for NA too."
   ]
  },
  {
   "cell_type": "markdown",
   "metadata": {},
   "source": [
    "How could you use arrange() to sort all missing values to the start? "
   ]
  },
  {
   "cell_type": "code",
   "execution_count": 5,
   "metadata": {},
   "outputs": [
    {
     "data": {
      "text/html": [
       "<table>\n",
       "<thead><tr><th scope=col>year</th><th scope=col>month</th><th scope=col>day</th><th scope=col>dep_time</th><th scope=col>sched_dep_time</th><th scope=col>dep_delay</th><th scope=col>arr_time</th><th scope=col>sched_arr_time</th><th scope=col>arr_delay</th><th scope=col>carrier</th><th scope=col>flight</th><th scope=col>tailnum</th><th scope=col>origin</th><th scope=col>dest</th><th scope=col>air_time</th><th scope=col>distance</th><th scope=col>hour</th><th scope=col>minute</th><th scope=col>time_hour</th></tr></thead>\n",
       "<tbody>\n",
       "\t<tr><td>2013               </td><td>1                  </td><td>1                  </td><td>NA                 </td><td>1630               </td><td>NA                 </td><td>NA                 </td><td>1815               </td><td>NA                 </td><td>EV                 </td><td>4308               </td><td>N18120             </td><td>EWR                </td><td>RDU                </td><td>NA                 </td><td> 416               </td><td>16                 </td><td>30                 </td><td>2013-01-01 16:00:00</td></tr>\n",
       "\t<tr><td>2013               </td><td>1                  </td><td>1                  </td><td>NA                 </td><td>1935               </td><td>NA                 </td><td>NA                 </td><td>2240               </td><td>NA                 </td><td>AA                 </td><td> 791               </td><td>N3EHAA             </td><td>LGA                </td><td>DFW                </td><td>NA                 </td><td>1389               </td><td>19                 </td><td>35                 </td><td>2013-01-01 19:00:00</td></tr>\n",
       "\t<tr><td>2013               </td><td>1                  </td><td>1                  </td><td>NA                 </td><td>1500               </td><td>NA                 </td><td>NA                 </td><td>1825               </td><td>NA                 </td><td>AA                 </td><td>1925               </td><td>N3EVAA             </td><td>LGA                </td><td>MIA                </td><td>NA                 </td><td>1096               </td><td>15                 </td><td> 0                 </td><td>2013-01-01 15:00:00</td></tr>\n",
       "\t<tr><td>2013               </td><td>1                  </td><td>1                  </td><td>NA                 </td><td> 600               </td><td>NA                 </td><td>NA                 </td><td> 901               </td><td>NA                 </td><td>B6                 </td><td> 125               </td><td>N618JB             </td><td>JFK                </td><td>FLL                </td><td>NA                 </td><td>1069               </td><td> 6                 </td><td> 0                 </td><td>2013-01-01 06:00:00</td></tr>\n",
       "\t<tr><td>2013               </td><td>1                  </td><td>2                  </td><td>NA                 </td><td>1540               </td><td>NA                 </td><td>NA                 </td><td>1747               </td><td>NA                 </td><td>EV                 </td><td>4352               </td><td>N10575             </td><td>EWR                </td><td>CVG                </td><td>NA                 </td><td> 569               </td><td>15                 </td><td>40                 </td><td>2013-01-02 15:00:00</td></tr>\n",
       "\t<tr><td>2013               </td><td>1                  </td><td>2                  </td><td>NA                 </td><td>1620               </td><td>NA                 </td><td>NA                 </td><td>1746               </td><td>NA                 </td><td>EV                 </td><td>4406               </td><td>N13949             </td><td>EWR                </td><td>PIT                </td><td>NA                 </td><td> 319               </td><td>16                 </td><td>20                 </td><td>2013-01-02 16:00:00</td></tr>\n",
       "</tbody>\n",
       "</table>\n"
      ],
      "text/latex": [
       "\\begin{tabular}{r|lllllllllllllllllll}\n",
       " year & month & day & dep\\_time & sched\\_dep\\_time & dep\\_delay & arr\\_time & sched\\_arr\\_time & arr\\_delay & carrier & flight & tailnum & origin & dest & air\\_time & distance & hour & minute & time\\_hour\\\\\n",
       "\\hline\n",
       "\t 2013                & 1                   & 1                   & NA                  & 1630                & NA                  & NA                  & 1815                & NA                  & EV                  & 4308                & N18120              & EWR                 & RDU                 & NA                  &  416                & 16                  & 30                  & 2013-01-01 16:00:00\\\\\n",
       "\t 2013                & 1                   & 1                   & NA                  & 1935                & NA                  & NA                  & 2240                & NA                  & AA                  &  791                & N3EHAA              & LGA                 & DFW                 & NA                  & 1389                & 19                  & 35                  & 2013-01-01 19:00:00\\\\\n",
       "\t 2013                & 1                   & 1                   & NA                  & 1500                & NA                  & NA                  & 1825                & NA                  & AA                  & 1925                & N3EVAA              & LGA                 & MIA                 & NA                  & 1096                & 15                  &  0                  & 2013-01-01 15:00:00\\\\\n",
       "\t 2013                & 1                   & 1                   & NA                  &  600                & NA                  & NA                  &  901                & NA                  & B6                  &  125                & N618JB              & JFK                 & FLL                 & NA                  & 1069                &  6                  &  0                  & 2013-01-01 06:00:00\\\\\n",
       "\t 2013                & 1                   & 2                   & NA                  & 1540                & NA                  & NA                  & 1747                & NA                  & EV                  & 4352                & N10575              & EWR                 & CVG                 & NA                  &  569                & 15                  & 40                  & 2013-01-02 15:00:00\\\\\n",
       "\t 2013                & 1                   & 2                   & NA                  & 1620                & NA                  & NA                  & 1746                & NA                  & EV                  & 4406                & N13949              & EWR                 & PIT                 & NA                  &  319                & 16                  & 20                  & 2013-01-02 16:00:00\\\\\n",
       "\\end{tabular}\n"
      ],
      "text/markdown": [
       "\n",
       "| year | month | day | dep_time | sched_dep_time | dep_delay | arr_time | sched_arr_time | arr_delay | carrier | flight | tailnum | origin | dest | air_time | distance | hour | minute | time_hour |\n",
       "|---|---|---|---|---|---|---|---|---|---|---|---|---|---|---|---|---|---|---|\n",
       "| 2013                | 1                   | 1                   | NA                  | 1630                | NA                  | NA                  | 1815                | NA                  | EV                  | 4308                | N18120              | EWR                 | RDU                 | NA                  |  416                | 16                  | 30                  | 2013-01-01 16:00:00 |\n",
       "| 2013                | 1                   | 1                   | NA                  | 1935                | NA                  | NA                  | 2240                | NA                  | AA                  |  791                | N3EHAA              | LGA                 | DFW                 | NA                  | 1389                | 19                  | 35                  | 2013-01-01 19:00:00 |\n",
       "| 2013                | 1                   | 1                   | NA                  | 1500                | NA                  | NA                  | 1825                | NA                  | AA                  | 1925                | N3EVAA              | LGA                 | MIA                 | NA                  | 1096                | 15                  |  0                  | 2013-01-01 15:00:00 |\n",
       "| 2013                | 1                   | 1                   | NA                  |  600                | NA                  | NA                  |  901                | NA                  | B6                  |  125                | N618JB              | JFK                 | FLL                 | NA                  | 1069                |  6                  |  0                  | 2013-01-01 06:00:00 |\n",
       "| 2013                | 1                   | 2                   | NA                  | 1540                | NA                  | NA                  | 1747                | NA                  | EV                  | 4352                | N10575              | EWR                 | CVG                 | NA                  |  569                | 15                  | 40                  | 2013-01-02 15:00:00 |\n",
       "| 2013                | 1                   | 2                   | NA                  | 1620                | NA                  | NA                  | 1746                | NA                  | EV                  | 4406                | N13949              | EWR                 | PIT                 | NA                  |  319                | 16                  | 20                  | 2013-01-02 16:00:00 |\n",
       "\n"
      ],
      "text/plain": [
       "  year month day dep_time sched_dep_time dep_delay arr_time sched_arr_time\n",
       "1 2013 1     1   NA       1630           NA        NA       1815          \n",
       "2 2013 1     1   NA       1935           NA        NA       2240          \n",
       "3 2013 1     1   NA       1500           NA        NA       1825          \n",
       "4 2013 1     1   NA        600           NA        NA        901          \n",
       "5 2013 1     2   NA       1540           NA        NA       1747          \n",
       "6 2013 1     2   NA       1620           NA        NA       1746          \n",
       "  arr_delay carrier flight tailnum origin dest air_time distance hour minute\n",
       "1 NA        EV      4308   N18120  EWR    RDU  NA        416     16   30    \n",
       "2 NA        AA       791   N3EHAA  LGA    DFW  NA       1389     19   35    \n",
       "3 NA        AA      1925   N3EVAA  LGA    MIA  NA       1096     15    0    \n",
       "4 NA        B6       125   N618JB  JFK    FLL  NA       1069      6    0    \n",
       "5 NA        EV      4352   N10575  EWR    CVG  NA        569     15   40    \n",
       "6 NA        EV      4406   N13949  EWR    PIT  NA        319     16   20    \n",
       "  time_hour          \n",
       "1 2013-01-01 16:00:00\n",
       "2 2013-01-01 19:00:00\n",
       "3 2013-01-01 15:00:00\n",
       "4 2013-01-01 06:00:00\n",
       "5 2013-01-02 15:00:00\n",
       "6 2013-01-02 16:00:00"
      ]
     },
     "metadata": {},
     "output_type": "display_data"
    }
   ],
   "source": [
    "#sorting missing values to start\n",
    "head(arrange(flights, desc(is.na(dep_time))))"
   ]
  },
  {
   "cell_type": "markdown",
   "metadata": {},
   "source": [
    "Sort flights to find the most delayed flights. Find the flights that left earliest."
   ]
  },
  {
   "cell_type": "code",
   "execution_count": 6,
   "metadata": {},
   "outputs": [
    {
     "data": {
      "text/html": [
       "<table>\n",
       "<thead><tr><th scope=col>year</th><th scope=col>month</th><th scope=col>day</th><th scope=col>dep_time</th><th scope=col>sched_dep_time</th><th scope=col>dep_delay</th><th scope=col>arr_time</th><th scope=col>sched_arr_time</th><th scope=col>arr_delay</th><th scope=col>carrier</th><th scope=col>flight</th><th scope=col>tailnum</th><th scope=col>origin</th><th scope=col>dest</th><th scope=col>air_time</th><th scope=col>distance</th><th scope=col>hour</th><th scope=col>minute</th><th scope=col>time_hour</th></tr></thead>\n",
       "<tbody>\n",
       "\t<tr><td>2013               </td><td>1                  </td><td> 9                 </td><td> 641               </td><td> 900               </td><td>1301               </td><td>1242               </td><td>1530               </td><td>1272               </td><td>HA                 </td><td>  51               </td><td>N384HA             </td><td>JFK                </td><td>HNL                </td><td>640                </td><td>4983               </td><td> 9                 </td><td> 0                 </td><td>2013-01-09 09:00:00</td></tr>\n",
       "\t<tr><td>2013               </td><td>6                  </td><td>15                 </td><td>1432               </td><td>1935               </td><td>1137               </td><td>1607               </td><td>2120               </td><td>1127               </td><td>MQ                 </td><td>3535               </td><td>N504MQ             </td><td>JFK                </td><td>CMH                </td><td> 74                </td><td> 483               </td><td>19                 </td><td>35                 </td><td>2013-06-15 19:00:00</td></tr>\n",
       "\t<tr><td>2013               </td><td>1                  </td><td>10                 </td><td>1121               </td><td>1635               </td><td>1126               </td><td>1239               </td><td>1810               </td><td>1109               </td><td>MQ                 </td><td>3695               </td><td>N517MQ             </td><td>EWR                </td><td>ORD                </td><td>111                </td><td> 719               </td><td>16                 </td><td>35                 </td><td>2013-01-10 16:00:00</td></tr>\n",
       "\t<tr><td>2013               </td><td>9                  </td><td>20                 </td><td>1139               </td><td>1845               </td><td>1014               </td><td>1457               </td><td>2210               </td><td>1007               </td><td>AA                 </td><td> 177               </td><td>N338AA             </td><td>JFK                </td><td>SFO                </td><td>354                </td><td>2586               </td><td>18                 </td><td>45                 </td><td>2013-09-20 18:00:00</td></tr>\n",
       "\t<tr><td>2013               </td><td>7                  </td><td>22                 </td><td> 845               </td><td>1600               </td><td>1005               </td><td>1044               </td><td>1815               </td><td> 989               </td><td>MQ                 </td><td>3075               </td><td>N665MQ             </td><td>JFK                </td><td>CVG                </td><td> 96                </td><td> 589               </td><td>16                 </td><td> 0                 </td><td>2013-07-22 16:00:00</td></tr>\n",
       "\t<tr><td>2013               </td><td>4                  </td><td>10                 </td><td>1100               </td><td>1900               </td><td> 960               </td><td>1342               </td><td>2211               </td><td> 931               </td><td>DL                 </td><td>2391               </td><td>N959DL             </td><td>JFK                </td><td>TPA                </td><td>139                </td><td>1005               </td><td>19                 </td><td> 0                 </td><td>2013-04-10 19:00:00</td></tr>\n",
       "</tbody>\n",
       "</table>\n"
      ],
      "text/latex": [
       "\\begin{tabular}{r|lllllllllllllllllll}\n",
       " year & month & day & dep\\_time & sched\\_dep\\_time & dep\\_delay & arr\\_time & sched\\_arr\\_time & arr\\_delay & carrier & flight & tailnum & origin & dest & air\\_time & distance & hour & minute & time\\_hour\\\\\n",
       "\\hline\n",
       "\t 2013                & 1                   &  9                  &  641                &  900                & 1301                & 1242                & 1530                & 1272                & HA                  &   51                & N384HA              & JFK                 & HNL                 & 640                 & 4983                &  9                  &  0                  & 2013-01-09 09:00:00\\\\\n",
       "\t 2013                & 6                   & 15                  & 1432                & 1935                & 1137                & 1607                & 2120                & 1127                & MQ                  & 3535                & N504MQ              & JFK                 & CMH                 &  74                 &  483                & 19                  & 35                  & 2013-06-15 19:00:00\\\\\n",
       "\t 2013                & 1                   & 10                  & 1121                & 1635                & 1126                & 1239                & 1810                & 1109                & MQ                  & 3695                & N517MQ              & EWR                 & ORD                 & 111                 &  719                & 16                  & 35                  & 2013-01-10 16:00:00\\\\\n",
       "\t 2013                & 9                   & 20                  & 1139                & 1845                & 1014                & 1457                & 2210                & 1007                & AA                  &  177                & N338AA              & JFK                 & SFO                 & 354                 & 2586                & 18                  & 45                  & 2013-09-20 18:00:00\\\\\n",
       "\t 2013                & 7                   & 22                  &  845                & 1600                & 1005                & 1044                & 1815                &  989                & MQ                  & 3075                & N665MQ              & JFK                 & CVG                 &  96                 &  589                & 16                  &  0                  & 2013-07-22 16:00:00\\\\\n",
       "\t 2013                & 4                   & 10                  & 1100                & 1900                &  960                & 1342                & 2211                &  931                & DL                  & 2391                & N959DL              & JFK                 & TPA                 & 139                 & 1005                & 19                  &  0                  & 2013-04-10 19:00:00\\\\\n",
       "\\end{tabular}\n"
      ],
      "text/markdown": [
       "\n",
       "| year | month | day | dep_time | sched_dep_time | dep_delay | arr_time | sched_arr_time | arr_delay | carrier | flight | tailnum | origin | dest | air_time | distance | hour | minute | time_hour |\n",
       "|---|---|---|---|---|---|---|---|---|---|---|---|---|---|---|---|---|---|---|\n",
       "| 2013                | 1                   |  9                  |  641                |  900                | 1301                | 1242                | 1530                | 1272                | HA                  |   51                | N384HA              | JFK                 | HNL                 | 640                 | 4983                |  9                  |  0                  | 2013-01-09 09:00:00 |\n",
       "| 2013                | 6                   | 15                  | 1432                | 1935                | 1137                | 1607                | 2120                | 1127                | MQ                  | 3535                | N504MQ              | JFK                 | CMH                 |  74                 |  483                | 19                  | 35                  | 2013-06-15 19:00:00 |\n",
       "| 2013                | 1                   | 10                  | 1121                | 1635                | 1126                | 1239                | 1810                | 1109                | MQ                  | 3695                | N517MQ              | EWR                 | ORD                 | 111                 |  719                | 16                  | 35                  | 2013-01-10 16:00:00 |\n",
       "| 2013                | 9                   | 20                  | 1139                | 1845                | 1014                | 1457                | 2210                | 1007                | AA                  |  177                | N338AA              | JFK                 | SFO                 | 354                 | 2586                | 18                  | 45                  | 2013-09-20 18:00:00 |\n",
       "| 2013                | 7                   | 22                  |  845                | 1600                | 1005                | 1044                | 1815                |  989                | MQ                  | 3075                | N665MQ              | JFK                 | CVG                 |  96                 |  589                | 16                  |  0                  | 2013-07-22 16:00:00 |\n",
       "| 2013                | 4                   | 10                  | 1100                | 1900                |  960                | 1342                | 2211                |  931                | DL                  | 2391                | N959DL              | JFK                 | TPA                 | 139                 | 1005                | 19                  |  0                  | 2013-04-10 19:00:00 |\n",
       "\n"
      ],
      "text/plain": [
       "  year month day dep_time sched_dep_time dep_delay arr_time sched_arr_time\n",
       "1 2013 1      9   641      900           1301      1242     1530          \n",
       "2 2013 6     15  1432     1935           1137      1607     2120          \n",
       "3 2013 1     10  1121     1635           1126      1239     1810          \n",
       "4 2013 9     20  1139     1845           1014      1457     2210          \n",
       "5 2013 7     22   845     1600           1005      1044     1815          \n",
       "6 2013 4     10  1100     1900            960      1342     2211          \n",
       "  arr_delay carrier flight tailnum origin dest air_time distance hour minute\n",
       "1 1272      HA        51   N384HA  JFK    HNL  640      4983      9    0    \n",
       "2 1127      MQ      3535   N504MQ  JFK    CMH   74       483     19   35    \n",
       "3 1109      MQ      3695   N517MQ  EWR    ORD  111       719     16   35    \n",
       "4 1007      AA       177   N338AA  JFK    SFO  354      2586     18   45    \n",
       "5  989      MQ      3075   N665MQ  JFK    CVG   96       589     16    0    \n",
       "6  931      DL      2391   N959DL  JFK    TPA  139      1005     19    0    \n",
       "  time_hour          \n",
       "1 2013-01-09 09:00:00\n",
       "2 2013-06-15 19:00:00\n",
       "3 2013-01-10 16:00:00\n",
       "4 2013-09-20 18:00:00\n",
       "5 2013-07-22 16:00:00\n",
       "6 2013-04-10 19:00:00"
      ]
     },
     "metadata": {},
     "output_type": "display_data"
    }
   ],
   "source": [
    "#most delayed flights\n",
    "head(arrange(flights, desc(dep_delay)))"
   ]
  },
  {
   "cell_type": "code",
   "execution_count": 7,
   "metadata": {},
   "outputs": [
    {
     "data": {
      "text/html": [
       "<table>\n",
       "<thead><tr><th scope=col>year</th><th scope=col>month</th><th scope=col>day</th><th scope=col>dep_time</th><th scope=col>sched_dep_time</th><th scope=col>dep_delay</th><th scope=col>arr_time</th><th scope=col>sched_arr_time</th><th scope=col>arr_delay</th><th scope=col>carrier</th><th scope=col>flight</th><th scope=col>tailnum</th><th scope=col>origin</th><th scope=col>dest</th><th scope=col>air_time</th><th scope=col>distance</th><th scope=col>hour</th><th scope=col>minute</th><th scope=col>time_hour</th></tr></thead>\n",
       "<tbody>\n",
       "\t<tr><td>2013               </td><td>12                 </td><td> 7                 </td><td>2040               </td><td>2123               </td><td>-43                </td><td>  40               </td><td>2352               </td><td> 48                </td><td>B6                 </td><td>  97               </td><td>N592JB             </td><td>JFK                </td><td>DEN                </td><td>265                </td><td>1626               </td><td>21                 </td><td>23                 </td><td>2013-12-07 21:00:00</td></tr>\n",
       "\t<tr><td>2013               </td><td> 2                 </td><td> 3                 </td><td>2022               </td><td>2055               </td><td>-33                </td><td>2240               </td><td>2338               </td><td>-58                </td><td>DL                 </td><td>1715               </td><td>N612DL             </td><td>LGA                </td><td>MSY                </td><td>162                </td><td>1183               </td><td>20                 </td><td>55                 </td><td>2013-02-03 20:00:00</td></tr>\n",
       "\t<tr><td>2013               </td><td>11                 </td><td>10                 </td><td>1408               </td><td>1440               </td><td>-32                </td><td>1549               </td><td>1559               </td><td>-10                </td><td>EV                 </td><td>5713               </td><td>N825AS             </td><td>LGA                </td><td>IAD                </td><td> 52                </td><td> 229               </td><td>14                 </td><td>40                 </td><td>2013-11-10 14:00:00</td></tr>\n",
       "\t<tr><td>2013               </td><td> 1                 </td><td>11                 </td><td>1900               </td><td>1930               </td><td>-30                </td><td>2233               </td><td>2243               </td><td>-10                </td><td>DL                 </td><td>1435               </td><td>N934DL             </td><td>LGA                </td><td>TPA                </td><td>139                </td><td>1010               </td><td>19                 </td><td>30                 </td><td>2013-01-11 19:00:00</td></tr>\n",
       "\t<tr><td>2013               </td><td> 1                 </td><td>29                 </td><td>1703               </td><td>1730               </td><td>-27                </td><td>1947               </td><td>1957               </td><td>-10                </td><td>F9                 </td><td> 837               </td><td>N208FR             </td><td>LGA                </td><td>DEN                </td><td>250                </td><td>1620               </td><td>17                 </td><td>30                 </td><td>2013-01-29 17:00:00</td></tr>\n",
       "\t<tr><td>2013               </td><td> 8                 </td><td> 9                 </td><td> 729               </td><td> 755               </td><td>-26                </td><td>1002               </td><td> 955               </td><td>  7                </td><td>MQ                 </td><td>3478               </td><td>N711MQ             </td><td>LGA                </td><td>DTW                </td><td> 88                </td><td> 502               </td><td> 7                 </td><td>55                 </td><td>2013-08-09 07:00:00</td></tr>\n",
       "</tbody>\n",
       "</table>\n"
      ],
      "text/latex": [
       "\\begin{tabular}{r|lllllllllllllllllll}\n",
       " year & month & day & dep\\_time & sched\\_dep\\_time & dep\\_delay & arr\\_time & sched\\_arr\\_time & arr\\_delay & carrier & flight & tailnum & origin & dest & air\\_time & distance & hour & minute & time\\_hour\\\\\n",
       "\\hline\n",
       "\t 2013                & 12                  &  7                  & 2040                & 2123                & -43                 &   40                & 2352                &  48                 & B6                  &   97                & N592JB              & JFK                 & DEN                 & 265                 & 1626                & 21                  & 23                  & 2013-12-07 21:00:00\\\\\n",
       "\t 2013                &  2                  &  3                  & 2022                & 2055                & -33                 & 2240                & 2338                & -58                 & DL                  & 1715                & N612DL              & LGA                 & MSY                 & 162                 & 1183                & 20                  & 55                  & 2013-02-03 20:00:00\\\\\n",
       "\t 2013                & 11                  & 10                  & 1408                & 1440                & -32                 & 1549                & 1559                & -10                 & EV                  & 5713                & N825AS              & LGA                 & IAD                 &  52                 &  229                & 14                  & 40                  & 2013-11-10 14:00:00\\\\\n",
       "\t 2013                &  1                  & 11                  & 1900                & 1930                & -30                 & 2233                & 2243                & -10                 & DL                  & 1435                & N934DL              & LGA                 & TPA                 & 139                 & 1010                & 19                  & 30                  & 2013-01-11 19:00:00\\\\\n",
       "\t 2013                &  1                  & 29                  & 1703                & 1730                & -27                 & 1947                & 1957                & -10                 & F9                  &  837                & N208FR              & LGA                 & DEN                 & 250                 & 1620                & 17                  & 30                  & 2013-01-29 17:00:00\\\\\n",
       "\t 2013                &  8                  &  9                  &  729                &  755                & -26                 & 1002                &  955                &   7                 & MQ                  & 3478                & N711MQ              & LGA                 & DTW                 &  88                 &  502                &  7                  & 55                  & 2013-08-09 07:00:00\\\\\n",
       "\\end{tabular}\n"
      ],
      "text/markdown": [
       "\n",
       "| year | month | day | dep_time | sched_dep_time | dep_delay | arr_time | sched_arr_time | arr_delay | carrier | flight | tailnum | origin | dest | air_time | distance | hour | minute | time_hour |\n",
       "|---|---|---|---|---|---|---|---|---|---|---|---|---|---|---|---|---|---|---|\n",
       "| 2013                | 12                  |  7                  | 2040                | 2123                | -43                 |   40                | 2352                |  48                 | B6                  |   97                | N592JB              | JFK                 | DEN                 | 265                 | 1626                | 21                  | 23                  | 2013-12-07 21:00:00 |\n",
       "| 2013                |  2                  |  3                  | 2022                | 2055                | -33                 | 2240                | 2338                | -58                 | DL                  | 1715                | N612DL              | LGA                 | MSY                 | 162                 | 1183                | 20                  | 55                  | 2013-02-03 20:00:00 |\n",
       "| 2013                | 11                  | 10                  | 1408                | 1440                | -32                 | 1549                | 1559                | -10                 | EV                  | 5713                | N825AS              | LGA                 | IAD                 |  52                 |  229                | 14                  | 40                  | 2013-11-10 14:00:00 |\n",
       "| 2013                |  1                  | 11                  | 1900                | 1930                | -30                 | 2233                | 2243                | -10                 | DL                  | 1435                | N934DL              | LGA                 | TPA                 | 139                 | 1010                | 19                  | 30                  | 2013-01-11 19:00:00 |\n",
       "| 2013                |  1                  | 29                  | 1703                | 1730                | -27                 | 1947                | 1957                | -10                 | F9                  |  837                | N208FR              | LGA                 | DEN                 | 250                 | 1620                | 17                  | 30                  | 2013-01-29 17:00:00 |\n",
       "| 2013                |  8                  |  9                  |  729                |  755                | -26                 | 1002                |  955                |   7                 | MQ                  | 3478                | N711MQ              | LGA                 | DTW                 |  88                 |  502                |  7                  | 55                  | 2013-08-09 07:00:00 |\n",
       "\n"
      ],
      "text/plain": [
       "  year month day dep_time sched_dep_time dep_delay arr_time sched_arr_time\n",
       "1 2013 12     7  2040     2123           -43         40     2352          \n",
       "2 2013  2     3  2022     2055           -33       2240     2338          \n",
       "3 2013 11    10  1408     1440           -32       1549     1559          \n",
       "4 2013  1    11  1900     1930           -30       2233     2243          \n",
       "5 2013  1    29  1703     1730           -27       1947     1957          \n",
       "6 2013  8     9   729      755           -26       1002      955          \n",
       "  arr_delay carrier flight tailnum origin dest air_time distance hour minute\n",
       "1  48       B6        97   N592JB  JFK    DEN  265      1626     21   23    \n",
       "2 -58       DL      1715   N612DL  LGA    MSY  162      1183     20   55    \n",
       "3 -10       EV      5713   N825AS  LGA    IAD   52       229     14   40    \n",
       "4 -10       DL      1435   N934DL  LGA    TPA  139      1010     19   30    \n",
       "5 -10       F9       837   N208FR  LGA    DEN  250      1620     17   30    \n",
       "6   7       MQ      3478   N711MQ  LGA    DTW   88       502      7   55    \n",
       "  time_hour          \n",
       "1 2013-12-07 21:00:00\n",
       "2 2013-02-03 20:00:00\n",
       "3 2013-11-10 14:00:00\n",
       "4 2013-01-11 19:00:00\n",
       "5 2013-01-29 17:00:00\n",
       "6 2013-08-09 07:00:00"
      ]
     },
     "metadata": {},
     "output_type": "display_data"
    },
    {
     "data": {
      "text/html": [
       "<table>\n",
       "<thead><tr><th scope=col>n</th></tr></thead>\n",
       "<tbody>\n",
       "\t<tr><td>183575</td></tr>\n",
       "</tbody>\n",
       "</table>\n"
      ],
      "text/latex": [
       "\\begin{tabular}{r|l}\n",
       " n\\\\\n",
       "\\hline\n",
       "\t 183575\\\\\n",
       "\\end{tabular}\n"
      ],
      "text/markdown": [
       "\n",
       "| n |\n",
       "|---|\n",
       "| 183575 |\n",
       "\n"
      ],
      "text/plain": [
       "  n     \n",
       "1 183575"
      ]
     },
     "metadata": {},
     "output_type": "display_data"
    }
   ],
   "source": [
    "#earliest flights in order\n",
    "flights_sml=filter(flights, dep_delay<0)\n",
    "head(arrange(flights_sml, dep_delay))\n",
    "count(flights_sml)"
   ]
  },
  {
   "cell_type": "markdown",
   "metadata": {},
   "source": [
    "Sort flights to find the fastest (highest speed) flights."
   ]
  },
  {
   "cell_type": "code",
   "execution_count": 8,
   "metadata": {},
   "outputs": [],
   "source": [
    "#finding the fastest flights form speed variable\n",
    "flights_sml=data.frame(flights)\n",
    "flights_sml=mutate(flights_sml,speed=distance/air_time)"
   ]
  },
  {
   "cell_type": "code",
   "execution_count": 9,
   "metadata": {},
   "outputs": [
    {
     "data": {
      "text/html": [
       "<ol class=list-inline>\n",
       "\t<li>'year'</li>\n",
       "\t<li>'month'</li>\n",
       "\t<li>'day'</li>\n",
       "\t<li>'dep_time'</li>\n",
       "\t<li>'sched_dep_time'</li>\n",
       "\t<li>'dep_delay'</li>\n",
       "\t<li>'arr_time'</li>\n",
       "\t<li>'sched_arr_time'</li>\n",
       "\t<li>'arr_delay'</li>\n",
       "\t<li>'carrier'</li>\n",
       "\t<li>'flight'</li>\n",
       "\t<li>'tailnum'</li>\n",
       "\t<li>'origin'</li>\n",
       "\t<li>'dest'</li>\n",
       "\t<li>'air_time'</li>\n",
       "\t<li>'distance'</li>\n",
       "\t<li>'hour'</li>\n",
       "\t<li>'minute'</li>\n",
       "\t<li>'time_hour'</li>\n",
       "\t<li>'speed'</li>\n",
       "</ol>\n"
      ],
      "text/latex": [
       "\\begin{enumerate*}\n",
       "\\item 'year'\n",
       "\\item 'month'\n",
       "\\item 'day'\n",
       "\\item 'dep\\_time'\n",
       "\\item 'sched\\_dep\\_time'\n",
       "\\item 'dep\\_delay'\n",
       "\\item 'arr\\_time'\n",
       "\\item 'sched\\_arr\\_time'\n",
       "\\item 'arr\\_delay'\n",
       "\\item 'carrier'\n",
       "\\item 'flight'\n",
       "\\item 'tailnum'\n",
       "\\item 'origin'\n",
       "\\item 'dest'\n",
       "\\item 'air\\_time'\n",
       "\\item 'distance'\n",
       "\\item 'hour'\n",
       "\\item 'minute'\n",
       "\\item 'time\\_hour'\n",
       "\\item 'speed'\n",
       "\\end{enumerate*}\n"
      ],
      "text/markdown": [
       "1. 'year'\n",
       "2. 'month'\n",
       "3. 'day'\n",
       "4. 'dep_time'\n",
       "5. 'sched_dep_time'\n",
       "6. 'dep_delay'\n",
       "7. 'arr_time'\n",
       "8. 'sched_arr_time'\n",
       "9. 'arr_delay'\n",
       "10. 'carrier'\n",
       "11. 'flight'\n",
       "12. 'tailnum'\n",
       "13. 'origin'\n",
       "14. 'dest'\n",
       "15. 'air_time'\n",
       "16. 'distance'\n",
       "17. 'hour'\n",
       "18. 'minute'\n",
       "19. 'time_hour'\n",
       "20. 'speed'\n",
       "\n",
       "\n"
      ],
      "text/plain": [
       " [1] \"year\"           \"month\"          \"day\"            \"dep_time\"      \n",
       " [5] \"sched_dep_time\" \"dep_delay\"      \"arr_time\"       \"sched_arr_time\"\n",
       " [9] \"arr_delay\"      \"carrier\"        \"flight\"         \"tailnum\"       \n",
       "[13] \"origin\"         \"dest\"           \"air_time\"       \"distance\"      \n",
       "[17] \"hour\"           \"minute\"         \"time_hour\"      \"speed\"         "
      ]
     },
     "metadata": {},
     "output_type": "display_data"
    }
   ],
   "source": [
    "colnames(flights_sml)"
   ]
  },
  {
   "cell_type": "code",
   "execution_count": 10,
   "metadata": {},
   "outputs": [
    {
     "data": {
      "text/html": [
       "<table>\n",
       "<thead><tr><th scope=col>year</th><th scope=col>month</th><th scope=col>day</th><th scope=col>dep_time</th><th scope=col>sched_dep_time</th><th scope=col>dep_delay</th><th scope=col>arr_time</th><th scope=col>sched_arr_time</th><th scope=col>arr_delay</th><th scope=col>carrier</th><th scope=col>flight</th><th scope=col>tailnum</th><th scope=col>origin</th><th scope=col>dest</th><th scope=col>air_time</th><th scope=col>distance</th><th scope=col>hour</th><th scope=col>minute</th><th scope=col>time_hour</th><th scope=col>speed</th></tr></thead>\n",
       "<tbody>\n",
       "\t<tr><td>2013               </td><td> 5                 </td><td>25                 </td><td>1709               </td><td>1700               </td><td> 9                 </td><td>1923               </td><td>1937               </td><td>-14                </td><td>DL                 </td><td>1499               </td><td>N666DN             </td><td>LGA                </td><td>ATL                </td><td> 65                </td><td> 762               </td><td>17                 </td><td> 0                 </td><td>2013-05-25 17:00:00</td><td>11.723077          </td></tr>\n",
       "\t<tr><td>2013               </td><td> 7                 </td><td> 2                 </td><td>1558               </td><td>1513               </td><td>45                 </td><td>1745               </td><td>1719               </td><td> 26                </td><td>EV                 </td><td>4667               </td><td>N17196             </td><td>EWR                </td><td>MSP                </td><td> 93                </td><td>1008               </td><td>15                 </td><td>13                 </td><td>2013-07-02 15:00:00</td><td>10.838710          </td></tr>\n",
       "\t<tr><td>2013               </td><td> 5                 </td><td>13                 </td><td>2040               </td><td>2025               </td><td>15                 </td><td>2225               </td><td>2226               </td><td> -1                </td><td>EV                 </td><td>4292               </td><td>N14568             </td><td>EWR                </td><td>GSP                </td><td> 55                </td><td> 594               </td><td>20                 </td><td>25                 </td><td>2013-05-13 20:00:00</td><td>10.800000          </td></tr>\n",
       "\t<tr><td>2013               </td><td> 3                 </td><td>23                 </td><td>1914               </td><td>1910               </td><td> 4                 </td><td>2045               </td><td>2043               </td><td>  2                </td><td>EV                 </td><td>3805               </td><td>N12567             </td><td>EWR                </td><td>BNA                </td><td> 70                </td><td> 748               </td><td>19                 </td><td>10                 </td><td>2013-03-23 19:00:00</td><td>10.685714          </td></tr>\n",
       "\t<tr><td>2013               </td><td> 1                 </td><td>12                 </td><td>1559               </td><td>1600               </td><td>-1                 </td><td>1849               </td><td>1917               </td><td>-28                </td><td>DL                 </td><td>1902               </td><td>N956DL             </td><td>LGA                </td><td>PBI                </td><td>105                </td><td>1035               </td><td>16                 </td><td> 0                 </td><td>2013-01-12 16:00:00</td><td> 9.857143          </td></tr>\n",
       "\t<tr><td>2013               </td><td>11                 </td><td>17                 </td><td> 650               </td><td> 655               </td><td>-5                 </td><td>1059               </td><td>1150               </td><td>-51                </td><td>DL                 </td><td> 315               </td><td>N3768              </td><td>JFK                </td><td>SJU                </td><td>170                </td><td>1598               </td><td> 6                 </td><td>55                 </td><td>2013-11-17 06:00:00</td><td> 9.400000          </td></tr>\n",
       "</tbody>\n",
       "</table>\n"
      ],
      "text/latex": [
       "\\begin{tabular}{r|llllllllllllllllllll}\n",
       " year & month & day & dep\\_time & sched\\_dep\\_time & dep\\_delay & arr\\_time & sched\\_arr\\_time & arr\\_delay & carrier & flight & tailnum & origin & dest & air\\_time & distance & hour & minute & time\\_hour & speed\\\\\n",
       "\\hline\n",
       "\t 2013                &  5                  & 25                  & 1709                & 1700                &  9                  & 1923                & 1937                & -14                 & DL                  & 1499                & N666DN              & LGA                 & ATL                 &  65                 &  762                & 17                  &  0                  & 2013-05-25 17:00:00 & 11.723077          \\\\\n",
       "\t 2013                &  7                  &  2                  & 1558                & 1513                & 45                  & 1745                & 1719                &  26                 & EV                  & 4667                & N17196              & EWR                 & MSP                 &  93                 & 1008                & 15                  & 13                  & 2013-07-02 15:00:00 & 10.838710          \\\\\n",
       "\t 2013                &  5                  & 13                  & 2040                & 2025                & 15                  & 2225                & 2226                &  -1                 & EV                  & 4292                & N14568              & EWR                 & GSP                 &  55                 &  594                & 20                  & 25                  & 2013-05-13 20:00:00 & 10.800000          \\\\\n",
       "\t 2013                &  3                  & 23                  & 1914                & 1910                &  4                  & 2045                & 2043                &   2                 & EV                  & 3805                & N12567              & EWR                 & BNA                 &  70                 &  748                & 19                  & 10                  & 2013-03-23 19:00:00 & 10.685714          \\\\\n",
       "\t 2013                &  1                  & 12                  & 1559                & 1600                & -1                  & 1849                & 1917                & -28                 & DL                  & 1902                & N956DL              & LGA                 & PBI                 & 105                 & 1035                & 16                  &  0                  & 2013-01-12 16:00:00 &  9.857143          \\\\\n",
       "\t 2013                & 11                  & 17                  &  650                &  655                & -5                  & 1059                & 1150                & -51                 & DL                  &  315                & N3768               & JFK                 & SJU                 & 170                 & 1598                &  6                  & 55                  & 2013-11-17 06:00:00 &  9.400000          \\\\\n",
       "\\end{tabular}\n"
      ],
      "text/markdown": [
       "\n",
       "| year | month | day | dep_time | sched_dep_time | dep_delay | arr_time | sched_arr_time | arr_delay | carrier | flight | tailnum | origin | dest | air_time | distance | hour | minute | time_hour | speed |\n",
       "|---|---|---|---|---|---|---|---|---|---|---|---|---|---|---|---|---|---|---|---|\n",
       "| 2013                |  5                  | 25                  | 1709                | 1700                |  9                  | 1923                | 1937                | -14                 | DL                  | 1499                | N666DN              | LGA                 | ATL                 |  65                 |  762                | 17                  |  0                  | 2013-05-25 17:00:00 | 11.723077           |\n",
       "| 2013                |  7                  |  2                  | 1558                | 1513                | 45                  | 1745                | 1719                |  26                 | EV                  | 4667                | N17196              | EWR                 | MSP                 |  93                 | 1008                | 15                  | 13                  | 2013-07-02 15:00:00 | 10.838710           |\n",
       "| 2013                |  5                  | 13                  | 2040                | 2025                | 15                  | 2225                | 2226                |  -1                 | EV                  | 4292                | N14568              | EWR                 | GSP                 |  55                 |  594                | 20                  | 25                  | 2013-05-13 20:00:00 | 10.800000           |\n",
       "| 2013                |  3                  | 23                  | 1914                | 1910                |  4                  | 2045                | 2043                |   2                 | EV                  | 3805                | N12567              | EWR                 | BNA                 |  70                 |  748                | 19                  | 10                  | 2013-03-23 19:00:00 | 10.685714           |\n",
       "| 2013                |  1                  | 12                  | 1559                | 1600                | -1                  | 1849                | 1917                | -28                 | DL                  | 1902                | N956DL              | LGA                 | PBI                 | 105                 | 1035                | 16                  |  0                  | 2013-01-12 16:00:00 |  9.857143           |\n",
       "| 2013                | 11                  | 17                  |  650                |  655                | -5                  | 1059                | 1150                | -51                 | DL                  |  315                | N3768               | JFK                 | SJU                 | 170                 | 1598                |  6                  | 55                  | 2013-11-17 06:00:00 |  9.400000           |\n",
       "\n"
      ],
      "text/plain": [
       "  year month day dep_time sched_dep_time dep_delay arr_time sched_arr_time\n",
       "1 2013  5    25  1709     1700            9        1923     1937          \n",
       "2 2013  7     2  1558     1513           45        1745     1719          \n",
       "3 2013  5    13  2040     2025           15        2225     2226          \n",
       "4 2013  3    23  1914     1910            4        2045     2043          \n",
       "5 2013  1    12  1559     1600           -1        1849     1917          \n",
       "6 2013 11    17   650      655           -5        1059     1150          \n",
       "  arr_delay carrier flight tailnum origin dest air_time distance hour minute\n",
       "1 -14       DL      1499   N666DN  LGA    ATL   65       762     17    0    \n",
       "2  26       EV      4667   N17196  EWR    MSP   93      1008     15   13    \n",
       "3  -1       EV      4292   N14568  EWR    GSP   55       594     20   25    \n",
       "4   2       EV      3805   N12567  EWR    BNA   70       748     19   10    \n",
       "5 -28       DL      1902   N956DL  LGA    PBI  105      1035     16    0    \n",
       "6 -51       DL       315   N3768   JFK    SJU  170      1598      6   55    \n",
       "  time_hour           speed    \n",
       "1 2013-05-25 17:00:00 11.723077\n",
       "2 2013-07-02 15:00:00 10.838710\n",
       "3 2013-05-13 20:00:00 10.800000\n",
       "4 2013-03-23 19:00:00 10.685714\n",
       "5 2013-01-12 16:00:00  9.857143\n",
       "6 2013-11-17 06:00:00  9.400000"
      ]
     },
     "metadata": {},
     "output_type": "display_data"
    }
   ],
   "source": [
    "#fastest flights sorted in order\n",
    "head(arrange(flights_sml,desc(speed)))"
   ]
  },
  {
   "cell_type": "markdown",
   "metadata": {},
   "source": [
    "Which flights travelled the farthest? Which travelled the shortest?"
   ]
  },
  {
   "cell_type": "code",
   "execution_count": 11,
   "metadata": {},
   "outputs": [
    {
     "data": {
      "text/html": [
       "<table>\n",
       "<thead><tr><th scope=col>year</th><th scope=col>month</th><th scope=col>day</th><th scope=col>dep_time</th><th scope=col>sched_dep_time</th><th scope=col>dep_delay</th><th scope=col>arr_time</th><th scope=col>sched_arr_time</th><th scope=col>arr_delay</th><th scope=col>carrier</th><th scope=col>flight</th><th scope=col>tailnum</th><th scope=col>origin</th><th scope=col>dest</th><th scope=col>air_time</th><th scope=col>distance</th><th scope=col>hour</th><th scope=col>minute</th><th scope=col>time_hour</th></tr></thead>\n",
       "<tbody>\n",
       "\t<tr><td>2013               </td><td>1                  </td><td>1                  </td><td> 857               </td><td>900                </td><td>-3                 </td><td>1516               </td><td>1530               </td><td>-14                </td><td>HA                 </td><td>51                 </td><td>N380HA             </td><td>JFK                </td><td>HNL                </td><td>659                </td><td>4983               </td><td>9                  </td><td>0                  </td><td>2013-01-01 09:00:00</td></tr>\n",
       "\t<tr><td>2013               </td><td>1                  </td><td>2                  </td><td> 909               </td><td>900                </td><td> 9                 </td><td>1525               </td><td>1530               </td><td> -5                </td><td>HA                 </td><td>51                 </td><td>N380HA             </td><td>JFK                </td><td>HNL                </td><td>638                </td><td>4983               </td><td>9                  </td><td>0                  </td><td>2013-01-02 09:00:00</td></tr>\n",
       "\t<tr><td>2013               </td><td>1                  </td><td>3                  </td><td> 914               </td><td>900                </td><td>14                 </td><td>1504               </td><td>1530               </td><td>-26                </td><td>HA                 </td><td>51                 </td><td>N380HA             </td><td>JFK                </td><td>HNL                </td><td>616                </td><td>4983               </td><td>9                  </td><td>0                  </td><td>2013-01-03 09:00:00</td></tr>\n",
       "\t<tr><td>2013               </td><td>1                  </td><td>4                  </td><td> 900               </td><td>900                </td><td> 0                 </td><td>1516               </td><td>1530               </td><td>-14                </td><td>HA                 </td><td>51                 </td><td>N384HA             </td><td>JFK                </td><td>HNL                </td><td>639                </td><td>4983               </td><td>9                  </td><td>0                  </td><td>2013-01-04 09:00:00</td></tr>\n",
       "\t<tr><td>2013               </td><td>1                  </td><td>5                  </td><td> 858               </td><td>900                </td><td>-2                 </td><td>1519               </td><td>1530               </td><td>-11                </td><td>HA                 </td><td>51                 </td><td>N381HA             </td><td>JFK                </td><td>HNL                </td><td>635                </td><td>4983               </td><td>9                  </td><td>0                  </td><td>2013-01-05 09:00:00</td></tr>\n",
       "\t<tr><td>2013               </td><td>1                  </td><td>6                  </td><td>1019               </td><td>900                </td><td>79                 </td><td>1558               </td><td>1530               </td><td> 28                </td><td>HA                 </td><td>51                 </td><td>N385HA             </td><td>JFK                </td><td>HNL                </td><td>611                </td><td>4983               </td><td>9                  </td><td>0                  </td><td>2013-01-06 09:00:00</td></tr>\n",
       "</tbody>\n",
       "</table>\n"
      ],
      "text/latex": [
       "\\begin{tabular}{r|lllllllllllllllllll}\n",
       " year & month & day & dep\\_time & sched\\_dep\\_time & dep\\_delay & arr\\_time & sched\\_arr\\_time & arr\\_delay & carrier & flight & tailnum & origin & dest & air\\_time & distance & hour & minute & time\\_hour\\\\\n",
       "\\hline\n",
       "\t 2013                & 1                   & 1                   &  857                & 900                 & -3                  & 1516                & 1530                & -14                 & HA                  & 51                  & N380HA              & JFK                 & HNL                 & 659                 & 4983                & 9                   & 0                   & 2013-01-01 09:00:00\\\\\n",
       "\t 2013                & 1                   & 2                   &  909                & 900                 &  9                  & 1525                & 1530                &  -5                 & HA                  & 51                  & N380HA              & JFK                 & HNL                 & 638                 & 4983                & 9                   & 0                   & 2013-01-02 09:00:00\\\\\n",
       "\t 2013                & 1                   & 3                   &  914                & 900                 & 14                  & 1504                & 1530                & -26                 & HA                  & 51                  & N380HA              & JFK                 & HNL                 & 616                 & 4983                & 9                   & 0                   & 2013-01-03 09:00:00\\\\\n",
       "\t 2013                & 1                   & 4                   &  900                & 900                 &  0                  & 1516                & 1530                & -14                 & HA                  & 51                  & N384HA              & JFK                 & HNL                 & 639                 & 4983                & 9                   & 0                   & 2013-01-04 09:00:00\\\\\n",
       "\t 2013                & 1                   & 5                   &  858                & 900                 & -2                  & 1519                & 1530                & -11                 & HA                  & 51                  & N381HA              & JFK                 & HNL                 & 635                 & 4983                & 9                   & 0                   & 2013-01-05 09:00:00\\\\\n",
       "\t 2013                & 1                   & 6                   & 1019                & 900                 & 79                  & 1558                & 1530                &  28                 & HA                  & 51                  & N385HA              & JFK                 & HNL                 & 611                 & 4983                & 9                   & 0                   & 2013-01-06 09:00:00\\\\\n",
       "\\end{tabular}\n"
      ],
      "text/markdown": [
       "\n",
       "| year | month | day | dep_time | sched_dep_time | dep_delay | arr_time | sched_arr_time | arr_delay | carrier | flight | tailnum | origin | dest | air_time | distance | hour | minute | time_hour |\n",
       "|---|---|---|---|---|---|---|---|---|---|---|---|---|---|---|---|---|---|---|\n",
       "| 2013                | 1                   | 1                   |  857                | 900                 | -3                  | 1516                | 1530                | -14                 | HA                  | 51                  | N380HA              | JFK                 | HNL                 | 659                 | 4983                | 9                   | 0                   | 2013-01-01 09:00:00 |\n",
       "| 2013                | 1                   | 2                   |  909                | 900                 |  9                  | 1525                | 1530                |  -5                 | HA                  | 51                  | N380HA              | JFK                 | HNL                 | 638                 | 4983                | 9                   | 0                   | 2013-01-02 09:00:00 |\n",
       "| 2013                | 1                   | 3                   |  914                | 900                 | 14                  | 1504                | 1530                | -26                 | HA                  | 51                  | N380HA              | JFK                 | HNL                 | 616                 | 4983                | 9                   | 0                   | 2013-01-03 09:00:00 |\n",
       "| 2013                | 1                   | 4                   |  900                | 900                 |  0                  | 1516                | 1530                | -14                 | HA                  | 51                  | N384HA              | JFK                 | HNL                 | 639                 | 4983                | 9                   | 0                   | 2013-01-04 09:00:00 |\n",
       "| 2013                | 1                   | 5                   |  858                | 900                 | -2                  | 1519                | 1530                | -11                 | HA                  | 51                  | N381HA              | JFK                 | HNL                 | 635                 | 4983                | 9                   | 0                   | 2013-01-05 09:00:00 |\n",
       "| 2013                | 1                   | 6                   | 1019                | 900                 | 79                  | 1558                | 1530                |  28                 | HA                  | 51                  | N385HA              | JFK                 | HNL                 | 611                 | 4983                | 9                   | 0                   | 2013-01-06 09:00:00 |\n",
       "\n"
      ],
      "text/plain": [
       "  year month day dep_time sched_dep_time dep_delay arr_time sched_arr_time\n",
       "1 2013 1     1    857     900            -3        1516     1530          \n",
       "2 2013 1     2    909     900             9        1525     1530          \n",
       "3 2013 1     3    914     900            14        1504     1530          \n",
       "4 2013 1     4    900     900             0        1516     1530          \n",
       "5 2013 1     5    858     900            -2        1519     1530          \n",
       "6 2013 1     6   1019     900            79        1558     1530          \n",
       "  arr_delay carrier flight tailnum origin dest air_time distance hour minute\n",
       "1 -14       HA      51     N380HA  JFK    HNL  659      4983     9    0     \n",
       "2  -5       HA      51     N380HA  JFK    HNL  638      4983     9    0     \n",
       "3 -26       HA      51     N380HA  JFK    HNL  616      4983     9    0     \n",
       "4 -14       HA      51     N384HA  JFK    HNL  639      4983     9    0     \n",
       "5 -11       HA      51     N381HA  JFK    HNL  635      4983     9    0     \n",
       "6  28       HA      51     N385HA  JFK    HNL  611      4983     9    0     \n",
       "  time_hour          \n",
       "1 2013-01-01 09:00:00\n",
       "2 2013-01-02 09:00:00\n",
       "3 2013-01-03 09:00:00\n",
       "4 2013-01-04 09:00:00\n",
       "5 2013-01-05 09:00:00\n",
       "6 2013-01-06 09:00:00"
      ]
     },
     "metadata": {},
     "output_type": "display_data"
    },
    {
     "data": {
      "text/html": [
       "<table>\n",
       "<thead><tr><th scope=col>n</th></tr></thead>\n",
       "<tbody>\n",
       "\t<tr><td>342</td></tr>\n",
       "</tbody>\n",
       "</table>\n"
      ],
      "text/latex": [
       "\\begin{tabular}{r|l}\n",
       " n\\\\\n",
       "\\hline\n",
       "\t 342\\\\\n",
       "\\end{tabular}\n"
      ],
      "text/markdown": [
       "\n",
       "| n |\n",
       "|---|\n",
       "| 342 |\n",
       "\n"
      ],
      "text/plain": [
       "  n  \n",
       "1 342"
      ]
     },
     "metadata": {},
     "output_type": "display_data"
    }
   ],
   "source": [
    "#farthest flights\n",
    "far_flights=filter(flights,distance==max(distance))\n",
    "head(far_flights)\n",
    "count(far_flights)"
   ]
  },
  {
   "cell_type": "code",
   "execution_count": 12,
   "metadata": {},
   "outputs": [
    {
     "data": {
      "text/html": [
       "<table>\n",
       "<thead><tr><th scope=col>year</th><th scope=col>month</th><th scope=col>day</th><th scope=col>dep_time</th><th scope=col>sched_dep_time</th><th scope=col>dep_delay</th><th scope=col>arr_time</th><th scope=col>sched_arr_time</th><th scope=col>arr_delay</th><th scope=col>carrier</th><th scope=col>flight</th><th scope=col>tailnum</th><th scope=col>origin</th><th scope=col>dest</th><th scope=col>air_time</th><th scope=col>distance</th><th scope=col>hour</th><th scope=col>minute</th><th scope=col>time_hour</th></tr></thead>\n",
       "<tbody>\n",
       "\t<tr><td>2013               </td><td>7                  </td><td>27                 </td><td>  NA               </td><td> 106               </td><td> NA                </td><td>  NA               </td><td> 245               </td><td> NA                </td><td>US                 </td><td>1632               </td><td>NA                 </td><td>EWR                </td><td>LGA                </td><td>NA                 </td><td>17                 </td><td> 1                 </td><td> 6                 </td><td>2013-07-27 01:00:00</td></tr>\n",
       "\t<tr><td>2013               </td><td>1                  </td><td> 3                 </td><td>2127               </td><td>2129               </td><td> -2                </td><td>2222               </td><td>2224               </td><td> -2                </td><td>EV                 </td><td>3833               </td><td>N13989             </td><td>EWR                </td><td>PHL                </td><td>30                 </td><td>80                 </td><td>21                 </td><td>29                 </td><td>2013-01-03 21:00:00</td></tr>\n",
       "\t<tr><td>2013               </td><td>1                  </td><td> 4                 </td><td>1240               </td><td>1200               </td><td> 40                </td><td>1333               </td><td>1306               </td><td> 27                </td><td>EV                 </td><td>4193               </td><td>N14972             </td><td>EWR                </td><td>PHL                </td><td>30                 </td><td>80                 </td><td>12                 </td><td> 0                 </td><td>2013-01-04 12:00:00</td></tr>\n",
       "\t<tr><td>2013               </td><td>1                  </td><td> 4                 </td><td>1829               </td><td>1615               </td><td>134                </td><td>1937               </td><td>1721               </td><td>136                </td><td>EV                 </td><td>4502               </td><td>N15983             </td><td>EWR                </td><td>PHL                </td><td>28                 </td><td>80                 </td><td>16                 </td><td>15                 </td><td>2013-01-04 16:00:00</td></tr>\n",
       "\t<tr><td>2013               </td><td>1                  </td><td> 4                 </td><td>2128               </td><td>2129               </td><td> -1                </td><td>2218               </td><td>2224               </td><td> -6                </td><td>EV                 </td><td>4645               </td><td>N27962             </td><td>EWR                </td><td>PHL                </td><td>32                 </td><td>80                 </td><td>21                 </td><td>29                 </td><td>2013-01-04 21:00:00</td></tr>\n",
       "\t<tr><td>2013               </td><td>1                  </td><td> 5                 </td><td>1155               </td><td>1200               </td><td> -5                </td><td>1241               </td><td>1306               </td><td>-25                </td><td>EV                 </td><td>4193               </td><td>N14902             </td><td>EWR                </td><td>PHL                </td><td>29                 </td><td>80                 </td><td>12                 </td><td> 0                 </td><td>2013-01-05 12:00:00</td></tr>\n",
       "</tbody>\n",
       "</table>\n"
      ],
      "text/latex": [
       "\\begin{tabular}{r|lllllllllllllllllll}\n",
       " year & month & day & dep\\_time & sched\\_dep\\_time & dep\\_delay & arr\\_time & sched\\_arr\\_time & arr\\_delay & carrier & flight & tailnum & origin & dest & air\\_time & distance & hour & minute & time\\_hour\\\\\n",
       "\\hline\n",
       "\t 2013                & 7                   & 27                  &   NA                &  106                &  NA                 &   NA                &  245                &  NA                 & US                  & 1632                & NA                  & EWR                 & LGA                 & NA                  & 17                  &  1                  &  6                  & 2013-07-27 01:00:00\\\\\n",
       "\t 2013                & 1                   &  3                  & 2127                & 2129                &  -2                 & 2222                & 2224                &  -2                 & EV                  & 3833                & N13989              & EWR                 & PHL                 & 30                  & 80                  & 21                  & 29                  & 2013-01-03 21:00:00\\\\\n",
       "\t 2013                & 1                   &  4                  & 1240                & 1200                &  40                 & 1333                & 1306                &  27                 & EV                  & 4193                & N14972              & EWR                 & PHL                 & 30                  & 80                  & 12                  &  0                  & 2013-01-04 12:00:00\\\\\n",
       "\t 2013                & 1                   &  4                  & 1829                & 1615                & 134                 & 1937                & 1721                & 136                 & EV                  & 4502                & N15983              & EWR                 & PHL                 & 28                  & 80                  & 16                  & 15                  & 2013-01-04 16:00:00\\\\\n",
       "\t 2013                & 1                   &  4                  & 2128                & 2129                &  -1                 & 2218                & 2224                &  -6                 & EV                  & 4645                & N27962              & EWR                 & PHL                 & 32                  & 80                  & 21                  & 29                  & 2013-01-04 21:00:00\\\\\n",
       "\t 2013                & 1                   &  5                  & 1155                & 1200                &  -5                 & 1241                & 1306                & -25                 & EV                  & 4193                & N14902              & EWR                 & PHL                 & 29                  & 80                  & 12                  &  0                  & 2013-01-05 12:00:00\\\\\n",
       "\\end{tabular}\n"
      ],
      "text/markdown": [
       "\n",
       "| year | month | day | dep_time | sched_dep_time | dep_delay | arr_time | sched_arr_time | arr_delay | carrier | flight | tailnum | origin | dest | air_time | distance | hour | minute | time_hour |\n",
       "|---|---|---|---|---|---|---|---|---|---|---|---|---|---|---|---|---|---|---|\n",
       "| 2013                | 7                   | 27                  |   NA                |  106                |  NA                 |   NA                |  245                |  NA                 | US                  | 1632                | NA                  | EWR                 | LGA                 | NA                  | 17                  |  1                  |  6                  | 2013-07-27 01:00:00 |\n",
       "| 2013                | 1                   |  3                  | 2127                | 2129                |  -2                 | 2222                | 2224                |  -2                 | EV                  | 3833                | N13989              | EWR                 | PHL                 | 30                  | 80                  | 21                  | 29                  | 2013-01-03 21:00:00 |\n",
       "| 2013                | 1                   |  4                  | 1240                | 1200                |  40                 | 1333                | 1306                |  27                 | EV                  | 4193                | N14972              | EWR                 | PHL                 | 30                  | 80                  | 12                  |  0                  | 2013-01-04 12:00:00 |\n",
       "| 2013                | 1                   |  4                  | 1829                | 1615                | 134                 | 1937                | 1721                | 136                 | EV                  | 4502                | N15983              | EWR                 | PHL                 | 28                  | 80                  | 16                  | 15                  | 2013-01-04 16:00:00 |\n",
       "| 2013                | 1                   |  4                  | 2128                | 2129                |  -1                 | 2218                | 2224                |  -6                 | EV                  | 4645                | N27962              | EWR                 | PHL                 | 32                  | 80                  | 21                  | 29                  | 2013-01-04 21:00:00 |\n",
       "| 2013                | 1                   |  5                  | 1155                | 1200                |  -5                 | 1241                | 1306                | -25                 | EV                  | 4193                | N14902              | EWR                 | PHL                 | 29                  | 80                  | 12                  |  0                  | 2013-01-05 12:00:00 |\n",
       "\n"
      ],
      "text/plain": [
       "  year month day dep_time sched_dep_time dep_delay arr_time sched_arr_time\n",
       "1 2013 7     27    NA      106            NA         NA      245          \n",
       "2 2013 1      3  2127     2129            -2       2222     2224          \n",
       "3 2013 1      4  1240     1200            40       1333     1306          \n",
       "4 2013 1      4  1829     1615           134       1937     1721          \n",
       "5 2013 1      4  2128     2129            -1       2218     2224          \n",
       "6 2013 1      5  1155     1200            -5       1241     1306          \n",
       "  arr_delay carrier flight tailnum origin dest air_time distance hour minute\n",
       "1  NA       US      1632   NA      EWR    LGA  NA       17        1    6    \n",
       "2  -2       EV      3833   N13989  EWR    PHL  30       80       21   29    \n",
       "3  27       EV      4193   N14972  EWR    PHL  30       80       12    0    \n",
       "4 136       EV      4502   N15983  EWR    PHL  28       80       16   15    \n",
       "5  -6       EV      4645   N27962  EWR    PHL  32       80       21   29    \n",
       "6 -25       EV      4193   N14902  EWR    PHL  29       80       12    0    \n",
       "  time_hour          \n",
       "1 2013-07-27 01:00:00\n",
       "2 2013-01-03 21:00:00\n",
       "3 2013-01-04 12:00:00\n",
       "4 2013-01-04 16:00:00\n",
       "5 2013-01-04 21:00:00\n",
       "6 2013-01-05 12:00:00"
      ]
     },
     "metadata": {},
     "output_type": "display_data"
    }
   ],
   "source": [
    "#shortest flights in order\n",
    "head(arrange(flights,distance))"
   ]
  },
  {
   "cell_type": "markdown",
   "metadata": {},
   "source": [
    "Brainstorm as many ways as possible to select dep_time, dep_delay, arr_time, and arr_delay from flights."
   ]
  },
  {
   "cell_type": "code",
   "execution_count": 13,
   "metadata": {},
   "outputs": [],
   "source": [
    "#select by giving column names\n",
    "flights_sml=select(flights,dep_time,dep_delay,arr_time,arr_delay)"
   ]
  },
  {
   "cell_type": "code",
   "execution_count": 14,
   "metadata": {},
   "outputs": [],
   "source": [
    "#select by giving column names as strings\n",
    "flights_sml=select(flights,\"dep_time\",\"dep_delay\",\"arr_time\",\"arr_delay\")"
   ]
  },
  {
   "cell_type": "code",
   "execution_count": 15,
   "metadata": {},
   "outputs": [],
   "source": [
    "#select by giving column names as a vector\n",
    "flights_sml=select(flights,c(\"dep_time\",\"dep_delay\",\"arr_time\",\"arr_delay\"))"
   ]
  },
  {
   "cell_type": "code",
   "execution_count": 16,
   "metadata": {},
   "outputs": [],
   "source": [
    "#select by giving column indices\n",
    "flights_sml=select(flights, 4, 6, 7, 9)"
   ]
  },
  {
   "cell_type": "code",
   "execution_count": 17,
   "metadata": {},
   "outputs": [],
   "source": [
    "#select by using starts_with parameter\n",
    "flights_sml=select(flights, starts_with(\"dep\"), starts_with(\"arr\"))"
   ]
  },
  {
   "cell_type": "markdown",
   "metadata": {},
   "source": [
    "What happens if you include the name of a variable multiple times in a select() call?"
   ]
  },
  {
   "cell_type": "code",
   "execution_count": 18,
   "metadata": {},
   "outputs": [
    {
     "data": {
      "text/html": [
       "<table>\n",
       "<thead><tr><th scope=col>year</th><th scope=col>dep_time</th><th scope=col>arr_time</th><th scope=col>dep_delay</th><th scope=col>arr_delay</th></tr></thead>\n",
       "<tbody>\n",
       "\t<tr><td>2013</td><td>517 </td><td> 830</td><td> 2  </td><td> 11 </td></tr>\n",
       "\t<tr><td>2013</td><td>533 </td><td> 850</td><td> 4  </td><td> 20 </td></tr>\n",
       "\t<tr><td>2013</td><td>542 </td><td> 923</td><td> 2  </td><td> 33 </td></tr>\n",
       "\t<tr><td>2013</td><td>544 </td><td>1004</td><td>-1  </td><td>-18 </td></tr>\n",
       "\t<tr><td>2013</td><td>554 </td><td> 812</td><td>-6  </td><td>-25 </td></tr>\n",
       "\t<tr><td>2013</td><td>554 </td><td> 740</td><td>-4  </td><td> 12 </td></tr>\n",
       "</tbody>\n",
       "</table>\n"
      ],
      "text/latex": [
       "\\begin{tabular}{r|lllll}\n",
       " year & dep\\_time & arr\\_time & dep\\_delay & arr\\_delay\\\\\n",
       "\\hline\n",
       "\t 2013 & 517  &  830 &  2   &  11 \\\\\n",
       "\t 2013 & 533  &  850 &  4   &  20 \\\\\n",
       "\t 2013 & 542  &  923 &  2   &  33 \\\\\n",
       "\t 2013 & 544  & 1004 & -1   & -18 \\\\\n",
       "\t 2013 & 554  &  812 & -6   & -25 \\\\\n",
       "\t 2013 & 554  &  740 & -4   &  12 \\\\\n",
       "\\end{tabular}\n"
      ],
      "text/markdown": [
       "\n",
       "| year | dep_time | arr_time | dep_delay | arr_delay |\n",
       "|---|---|---|---|---|\n",
       "| 2013 | 517  |  830 |  2   |  11  |\n",
       "| 2013 | 533  |  850 |  4   |  20  |\n",
       "| 2013 | 542  |  923 |  2   |  33  |\n",
       "| 2013 | 544  | 1004 | -1   | -18  |\n",
       "| 2013 | 554  |  812 | -6   | -25  |\n",
       "| 2013 | 554  |  740 | -4   |  12  |\n",
       "\n"
      ],
      "text/plain": [
       "  year dep_time arr_time dep_delay arr_delay\n",
       "1 2013 517       830      2         11      \n",
       "2 2013 533       850      4         20      \n",
       "3 2013 542       923      2         33      \n",
       "4 2013 544      1004     -1        -18      \n",
       "5 2013 554       812     -6        -25      \n",
       "6 2013 554       740     -4         12      "
      ]
     },
     "metadata": {},
     "output_type": "display_data"
    }
   ],
   "source": [
    "head(select(flights,year,year,dep_time,arr_time,dep_time,dep_time,dep_delay,arr_delay,arr_delay))\n",
    "#as we are giving variables multiple times in select still it is selecting the column once"
   ]
  }
 ],
 "metadata": {
  "kernelspec": {
   "display_name": "R",
   "language": "R",
   "name": "ir"
  },
  "language_info": {
   "codemirror_mode": "r",
   "file_extension": ".r",
   "mimetype": "text/x-r-source",
   "name": "R",
   "pygments_lexer": "r",
   "version": "3.6.1"
  }
 },
 "nbformat": 4,
 "nbformat_minor": 4
}
