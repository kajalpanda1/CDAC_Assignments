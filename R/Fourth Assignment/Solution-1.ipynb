{
 "cells": [
  {
   "cell_type": "markdown",
   "metadata": {},
   "source": [
    "1.Find all flights that\n",
    "\n",
    "I.Had an arrival delay of two or more hours"
   ]
  },
  {
   "cell_type": "code",
   "execution_count": 1,
   "metadata": {},
   "outputs": [
    {
     "name": "stderr",
     "output_type": "stream",
     "text": [
      "\n",
      "Attaching package: 'dplyr'\n",
      "\n",
      "The following objects are masked from 'package:stats':\n",
      "\n",
      "    filter, lag\n",
      "\n",
      "The following objects are masked from 'package:base':\n",
      "\n",
      "    intersect, setdiff, setequal, union\n",
      "\n",
      "Warning message:\n",
      "\"package 'nycflights13' was built under R version 3.6.3\""
     ]
    }
   ],
   "source": [
    "library(dplyr)\n",
    "library(nycflights13)"
   ]
  },
  {
   "cell_type": "code",
   "execution_count": 2,
   "metadata": {},
   "outputs": [
    {
     "name": "stdout",
     "output_type": "stream",
     "text": [
      "Observations: 336,776\n",
      "Variables: 19\n",
      "$ year           <int> 2013, 2013, 2013, 2013, 2013, 2013, 2013, 2013, 2013...\n",
      "$ month          <int> 1, 1, 1, 1, 1, 1, 1, 1, 1, 1, 1, 1, 1, 1, 1, 1, 1, 1...\n",
      "$ day            <int> 1, 1, 1, 1, 1, 1, 1, 1, 1, 1, 1, 1, 1, 1, 1, 1, 1, 1...\n",
      "$ dep_time       <int> 517, 533, 542, 544, 554, 554, 555, 557, 557, 558, 55...\n",
      "$ sched_dep_time <int> 515, 529, 540, 545, 600, 558, 600, 600, 600, 600, 60...\n",
      "$ dep_delay      <dbl> 2, 4, 2, -1, -6, -4, -5, -3, -3, -2, -2, -2, -2, -2,...\n",
      "$ arr_time       <int> 830, 850, 923, 1004, 812, 740, 913, 709, 838, 753, 8...\n",
      "$ sched_arr_time <int> 819, 830, 850, 1022, 837, 728, 854, 723, 846, 745, 8...\n",
      "$ arr_delay      <dbl> 11, 20, 33, -18, -25, 12, 19, -14, -8, 8, -2, -3, 7,...\n",
      "$ carrier        <chr> \"UA\", \"UA\", \"AA\", \"B6\", \"DL\", \"UA\", \"B6\", \"EV\", \"B6\"...\n",
      "$ flight         <int> 1545, 1714, 1141, 725, 461, 1696, 507, 5708, 79, 301...\n",
      "$ tailnum        <chr> \"N14228\", \"N24211\", \"N619AA\", \"N804JB\", \"N668DN\", \"N...\n",
      "$ origin         <chr> \"EWR\", \"LGA\", \"JFK\", \"JFK\", \"LGA\", \"EWR\", \"EWR\", \"LG...\n",
      "$ dest           <chr> \"IAH\", \"IAH\", \"MIA\", \"BQN\", \"ATL\", \"ORD\", \"FLL\", \"IA...\n",
      "$ air_time       <dbl> 227, 227, 160, 183, 116, 150, 158, 53, 140, 138, 149...\n",
      "$ distance       <dbl> 1400, 1416, 1089, 1576, 762, 719, 1065, 229, 944, 73...\n",
      "$ hour           <dbl> 5, 5, 5, 5, 6, 5, 6, 6, 6, 6, 6, 6, 6, 6, 6, 5, 6, 6...\n",
      "$ minute         <dbl> 15, 29, 40, 45, 0, 58, 0, 0, 0, 0, 0, 0, 0, 0, 0, 59...\n",
      "$ time_hour      <dttm> 2013-01-01 05:00:00, 2013-01-01 05:00:00, 2013-01-0...\n"
     ]
    }
   ],
   "source": [
    "dplyr::glimpse(flights)"
   ]
  },
  {
   "cell_type": "code",
   "execution_count": 3,
   "metadata": {},
   "outputs": [
    {
     "data": {
      "text/html": [
       "<ol class=list-inline>\n",
       "\t<li>'year'</li>\n",
       "\t<li>'month'</li>\n",
       "\t<li>'day'</li>\n",
       "\t<li>'dep_time'</li>\n",
       "\t<li>'sched_dep_time'</li>\n",
       "\t<li>'dep_delay'</li>\n",
       "\t<li>'arr_time'</li>\n",
       "\t<li>'sched_arr_time'</li>\n",
       "\t<li>'arr_delay'</li>\n",
       "\t<li>'carrier'</li>\n",
       "\t<li>'flight'</li>\n",
       "\t<li>'tailnum'</li>\n",
       "\t<li>'origin'</li>\n",
       "\t<li>'dest'</li>\n",
       "\t<li>'air_time'</li>\n",
       "\t<li>'distance'</li>\n",
       "\t<li>'hour'</li>\n",
       "\t<li>'minute'</li>\n",
       "\t<li>'time_hour'</li>\n",
       "</ol>\n"
      ],
      "text/latex": [
       "\\begin{enumerate*}\n",
       "\\item 'year'\n",
       "\\item 'month'\n",
       "\\item 'day'\n",
       "\\item 'dep\\_time'\n",
       "\\item 'sched\\_dep\\_time'\n",
       "\\item 'dep\\_delay'\n",
       "\\item 'arr\\_time'\n",
       "\\item 'sched\\_arr\\_time'\n",
       "\\item 'arr\\_delay'\n",
       "\\item 'carrier'\n",
       "\\item 'flight'\n",
       "\\item 'tailnum'\n",
       "\\item 'origin'\n",
       "\\item 'dest'\n",
       "\\item 'air\\_time'\n",
       "\\item 'distance'\n",
       "\\item 'hour'\n",
       "\\item 'minute'\n",
       "\\item 'time\\_hour'\n",
       "\\end{enumerate*}\n"
      ],
      "text/markdown": [
       "1. 'year'\n",
       "2. 'month'\n",
       "3. 'day'\n",
       "4. 'dep_time'\n",
       "5. 'sched_dep_time'\n",
       "6. 'dep_delay'\n",
       "7. 'arr_time'\n",
       "8. 'sched_arr_time'\n",
       "9. 'arr_delay'\n",
       "10. 'carrier'\n",
       "11. 'flight'\n",
       "12. 'tailnum'\n",
       "13. 'origin'\n",
       "14. 'dest'\n",
       "15. 'air_time'\n",
       "16. 'distance'\n",
       "17. 'hour'\n",
       "18. 'minute'\n",
       "19. 'time_hour'\n",
       "\n",
       "\n"
      ],
      "text/plain": [
       " [1] \"year\"           \"month\"          \"day\"            \"dep_time\"      \n",
       " [5] \"sched_dep_time\" \"dep_delay\"      \"arr_time\"       \"sched_arr_time\"\n",
       " [9] \"arr_delay\"      \"carrier\"        \"flight\"         \"tailnum\"       \n",
       "[13] \"origin\"         \"dest\"           \"air_time\"       \"distance\"      \n",
       "[17] \"hour\"           \"minute\"         \"time_hour\"     "
      ]
     },
     "metadata": {},
     "output_type": "display_data"
    }
   ],
   "source": [
    "colnames(flights)"
   ]
  },
  {
   "cell_type": "code",
   "execution_count": 4,
   "metadata": {},
   "outputs": [
    {
     "data": {
      "text/html": [
       "<table>\n",
       "<thead><tr><th scope=col>year</th><th scope=col>month</th><th scope=col>day</th><th scope=col>dep_time</th><th scope=col>sched_dep_time</th><th scope=col>dep_delay</th><th scope=col>arr_time</th><th scope=col>sched_arr_time</th><th scope=col>arr_delay</th><th scope=col>carrier</th><th scope=col>flight</th><th scope=col>tailnum</th><th scope=col>origin</th><th scope=col>dest</th><th scope=col>air_time</th><th scope=col>distance</th><th scope=col>hour</th><th scope=col>minute</th><th scope=col>time_hour</th></tr></thead>\n",
       "<tbody>\n",
       "\t<tr><td>2013               </td><td>1                  </td><td>1                  </td><td>517                </td><td>515                </td><td> 2                 </td><td> 830               </td><td> 819               </td><td> 11                </td><td>UA                 </td><td>1545               </td><td>N14228             </td><td>EWR                </td><td>IAH                </td><td>227                </td><td>1400               </td><td>5                  </td><td>15                 </td><td>2013-01-01 05:00:00</td></tr>\n",
       "\t<tr><td>2013               </td><td>1                  </td><td>1                  </td><td>533                </td><td>529                </td><td> 4                 </td><td> 850               </td><td> 830               </td><td> 20                </td><td>UA                 </td><td>1714               </td><td>N24211             </td><td>LGA                </td><td>IAH                </td><td>227                </td><td>1416               </td><td>5                  </td><td>29                 </td><td>2013-01-01 05:00:00</td></tr>\n",
       "\t<tr><td>2013               </td><td>1                  </td><td>1                  </td><td>542                </td><td>540                </td><td> 2                 </td><td> 923               </td><td> 850               </td><td> 33                </td><td>AA                 </td><td>1141               </td><td>N619AA             </td><td>JFK                </td><td>MIA                </td><td>160                </td><td>1089               </td><td>5                  </td><td>40                 </td><td>2013-01-01 05:00:00</td></tr>\n",
       "\t<tr><td>2013               </td><td>1                  </td><td>1                  </td><td>544                </td><td>545                </td><td>-1                 </td><td>1004               </td><td>1022               </td><td>-18                </td><td>B6                 </td><td> 725               </td><td>N804JB             </td><td>JFK                </td><td>BQN                </td><td>183                </td><td>1576               </td><td>5                  </td><td>45                 </td><td>2013-01-01 05:00:00</td></tr>\n",
       "\t<tr><td>2013               </td><td>1                  </td><td>1                  </td><td>554                </td><td>600                </td><td>-6                 </td><td> 812               </td><td> 837               </td><td>-25                </td><td>DL                 </td><td> 461               </td><td>N668DN             </td><td>LGA                </td><td>ATL                </td><td>116                </td><td> 762               </td><td>6                  </td><td> 0                 </td><td>2013-01-01 06:00:00</td></tr>\n",
       "\t<tr><td>2013               </td><td>1                  </td><td>1                  </td><td>554                </td><td>558                </td><td>-4                 </td><td> 740               </td><td> 728               </td><td> 12                </td><td>UA                 </td><td>1696               </td><td>N39463             </td><td>EWR                </td><td>ORD                </td><td>150                </td><td> 719               </td><td>5                  </td><td>58                 </td><td>2013-01-01 05:00:00</td></tr>\n",
       "</tbody>\n",
       "</table>\n"
      ],
      "text/latex": [
       "\\begin{tabular}{r|lllllllllllllllllll}\n",
       " year & month & day & dep\\_time & sched\\_dep\\_time & dep\\_delay & arr\\_time & sched\\_arr\\_time & arr\\_delay & carrier & flight & tailnum & origin & dest & air\\_time & distance & hour & minute & time\\_hour\\\\\n",
       "\\hline\n",
       "\t 2013                & 1                   & 1                   & 517                 & 515                 &  2                  &  830                &  819                &  11                 & UA                  & 1545                & N14228              & EWR                 & IAH                 & 227                 & 1400                & 5                   & 15                  & 2013-01-01 05:00:00\\\\\n",
       "\t 2013                & 1                   & 1                   & 533                 & 529                 &  4                  &  850                &  830                &  20                 & UA                  & 1714                & N24211              & LGA                 & IAH                 & 227                 & 1416                & 5                   & 29                  & 2013-01-01 05:00:00\\\\\n",
       "\t 2013                & 1                   & 1                   & 542                 & 540                 &  2                  &  923                &  850                &  33                 & AA                  & 1141                & N619AA              & JFK                 & MIA                 & 160                 & 1089                & 5                   & 40                  & 2013-01-01 05:00:00\\\\\n",
       "\t 2013                & 1                   & 1                   & 544                 & 545                 & -1                  & 1004                & 1022                & -18                 & B6                  &  725                & N804JB              & JFK                 & BQN                 & 183                 & 1576                & 5                   & 45                  & 2013-01-01 05:00:00\\\\\n",
       "\t 2013                & 1                   & 1                   & 554                 & 600                 & -6                  &  812                &  837                & -25                 & DL                  &  461                & N668DN              & LGA                 & ATL                 & 116                 &  762                & 6                   &  0                  & 2013-01-01 06:00:00\\\\\n",
       "\t 2013                & 1                   & 1                   & 554                 & 558                 & -4                  &  740                &  728                &  12                 & UA                  & 1696                & N39463              & EWR                 & ORD                 & 150                 &  719                & 5                   & 58                  & 2013-01-01 05:00:00\\\\\n",
       "\\end{tabular}\n"
      ],
      "text/markdown": [
       "\n",
       "| year | month | day | dep_time | sched_dep_time | dep_delay | arr_time | sched_arr_time | arr_delay | carrier | flight | tailnum | origin | dest | air_time | distance | hour | minute | time_hour |\n",
       "|---|---|---|---|---|---|---|---|---|---|---|---|---|---|---|---|---|---|---|\n",
       "| 2013                | 1                   | 1                   | 517                 | 515                 |  2                  |  830                |  819                |  11                 | UA                  | 1545                | N14228              | EWR                 | IAH                 | 227                 | 1400                | 5                   | 15                  | 2013-01-01 05:00:00 |\n",
       "| 2013                | 1                   | 1                   | 533                 | 529                 |  4                  |  850                |  830                |  20                 | UA                  | 1714                | N24211              | LGA                 | IAH                 | 227                 | 1416                | 5                   | 29                  | 2013-01-01 05:00:00 |\n",
       "| 2013                | 1                   | 1                   | 542                 | 540                 |  2                  |  923                |  850                |  33                 | AA                  | 1141                | N619AA              | JFK                 | MIA                 | 160                 | 1089                | 5                   | 40                  | 2013-01-01 05:00:00 |\n",
       "| 2013                | 1                   | 1                   | 544                 | 545                 | -1                  | 1004                | 1022                | -18                 | B6                  |  725                | N804JB              | JFK                 | BQN                 | 183                 | 1576                | 5                   | 45                  | 2013-01-01 05:00:00 |\n",
       "| 2013                | 1                   | 1                   | 554                 | 600                 | -6                  |  812                |  837                | -25                 | DL                  |  461                | N668DN              | LGA                 | ATL                 | 116                 |  762                | 6                   |  0                  | 2013-01-01 06:00:00 |\n",
       "| 2013                | 1                   | 1                   | 554                 | 558                 | -4                  |  740                |  728                |  12                 | UA                  | 1696                | N39463              | EWR                 | ORD                 | 150                 |  719                | 5                   | 58                  | 2013-01-01 05:00:00 |\n",
       "\n"
      ],
      "text/plain": [
       "  year month day dep_time sched_dep_time dep_delay arr_time sched_arr_time\n",
       "1 2013 1     1   517      515             2         830      819          \n",
       "2 2013 1     1   533      529             4         850      830          \n",
       "3 2013 1     1   542      540             2         923      850          \n",
       "4 2013 1     1   544      545            -1        1004     1022          \n",
       "5 2013 1     1   554      600            -6         812      837          \n",
       "6 2013 1     1   554      558            -4         740      728          \n",
       "  arr_delay carrier flight tailnum origin dest air_time distance hour minute\n",
       "1  11       UA      1545   N14228  EWR    IAH  227      1400     5    15    \n",
       "2  20       UA      1714   N24211  LGA    IAH  227      1416     5    29    \n",
       "3  33       AA      1141   N619AA  JFK    MIA  160      1089     5    40    \n",
       "4 -18       B6       725   N804JB  JFK    BQN  183      1576     5    45    \n",
       "5 -25       DL       461   N668DN  LGA    ATL  116       762     6     0    \n",
       "6  12       UA      1696   N39463  EWR    ORD  150       719     5    58    \n",
       "  time_hour          \n",
       "1 2013-01-01 05:00:00\n",
       "2 2013-01-01 05:00:00\n",
       "3 2013-01-01 05:00:00\n",
       "4 2013-01-01 05:00:00\n",
       "5 2013-01-01 06:00:00\n",
       "6 2013-01-01 05:00:00"
      ]
     },
     "metadata": {},
     "output_type": "display_data"
    }
   ],
   "source": [
    "head(flights)"
   ]
  },
  {
   "cell_type": "code",
   "execution_count": 5,
   "metadata": {},
   "outputs": [
    {
     "data": {
      "text/html": [
       "<table>\n",
       "<thead><tr><th scope=col>year</th><th scope=col>month</th><th scope=col>day</th><th scope=col>dep_time</th><th scope=col>sched_dep_time</th><th scope=col>dep_delay</th><th scope=col>arr_time</th><th scope=col>sched_arr_time</th><th scope=col>arr_delay</th><th scope=col>carrier</th><th scope=col>flight</th><th scope=col>tailnum</th><th scope=col>origin</th><th scope=col>dest</th><th scope=col>air_time</th><th scope=col>distance</th><th scope=col>hour</th><th scope=col>minute</th><th scope=col>time_hour</th></tr></thead>\n",
       "<tbody>\n",
       "\t<tr><td>2013               </td><td>1                  </td><td>1                  </td><td>658                </td><td>700                </td><td>-2                 </td><td>1027               </td><td>1025               </td><td>2                  </td><td>VX                 </td><td> 399               </td><td>N627VA             </td><td>JFK                </td><td>LAX                </td><td>361                </td><td>2475               </td><td>7                  </td><td> 0                 </td><td>2013-01-01 07:00:00</td></tr>\n",
       "\t<tr><td>2013               </td><td>1                  </td><td>1                  </td><td>732                </td><td>729                </td><td> 3                 </td><td>1041               </td><td>1039               </td><td>2                  </td><td>B6                 </td><td>1601               </td><td>N563JB             </td><td>LGA                </td><td>RSW                </td><td>167                </td><td>1080               </td><td>7                  </td><td>29                 </td><td>2013-01-01 07:00:00</td></tr>\n",
       "\t<tr><td>2013               </td><td>1                  </td><td>1                  </td><td>741                </td><td>745                </td><td>-4                 </td><td>1038               </td><td>1036               </td><td>2                  </td><td>B6                 </td><td> 983               </td><td>N633JB             </td><td>LGA                </td><td>TPA                </td><td>158                </td><td>1010               </td><td>7                  </td><td>45                 </td><td>2013-01-01 07:00:00</td></tr>\n",
       "\t<tr><td>2013               </td><td>1                  </td><td>1                  </td><td>824                </td><td>830                </td><td>-6                 </td><td>1027               </td><td>1025               </td><td>2                  </td><td>AA                 </td><td>1855               </td><td>N573AA             </td><td>LGA                </td><td>STL                </td><td>169                </td><td> 888               </td><td>8                  </td><td>30                 </td><td>2013-01-01 08:00:00</td></tr>\n",
       "\t<tr><td>2013               </td><td>1                  </td><td>1                  </td><td>853                </td><td>845                </td><td> 8                 </td><td>1147               </td><td>1145               </td><td>2                  </td><td>B6                 </td><td>  59               </td><td>N184JB             </td><td>JFK                </td><td>TPA                </td><td>159                </td><td>1005               </td><td>8                  </td><td>45                 </td><td>2013-01-01 08:00:00</td></tr>\n",
       "\t<tr><td>2013               </td><td>1                  </td><td>1                  </td><td>926                </td><td>922                </td><td> 4                 </td><td>1221               </td><td>1219               </td><td>2                  </td><td>B6                 </td><td>  57               </td><td>N534JB             </td><td>JFK                </td><td>PBI                </td><td>151                </td><td>1028               </td><td>9                  </td><td>22                 </td><td>2013-01-01 09:00:00</td></tr>\n",
       "</tbody>\n",
       "</table>\n"
      ],
      "text/latex": [
       "\\begin{tabular}{r|lllllllllllllllllll}\n",
       " year & month & day & dep\\_time & sched\\_dep\\_time & dep\\_delay & arr\\_time & sched\\_arr\\_time & arr\\_delay & carrier & flight & tailnum & origin & dest & air\\_time & distance & hour & minute & time\\_hour\\\\\n",
       "\\hline\n",
       "\t 2013                & 1                   & 1                   & 658                 & 700                 & -2                  & 1027                & 1025                & 2                   & VX                  &  399                & N627VA              & JFK                 & LAX                 & 361                 & 2475                & 7                   &  0                  & 2013-01-01 07:00:00\\\\\n",
       "\t 2013                & 1                   & 1                   & 732                 & 729                 &  3                  & 1041                & 1039                & 2                   & B6                  & 1601                & N563JB              & LGA                 & RSW                 & 167                 & 1080                & 7                   & 29                  & 2013-01-01 07:00:00\\\\\n",
       "\t 2013                & 1                   & 1                   & 741                 & 745                 & -4                  & 1038                & 1036                & 2                   & B6                  &  983                & N633JB              & LGA                 & TPA                 & 158                 & 1010                & 7                   & 45                  & 2013-01-01 07:00:00\\\\\n",
       "\t 2013                & 1                   & 1                   & 824                 & 830                 & -6                  & 1027                & 1025                & 2                   & AA                  & 1855                & N573AA              & LGA                 & STL                 & 169                 &  888                & 8                   & 30                  & 2013-01-01 08:00:00\\\\\n",
       "\t 2013                & 1                   & 1                   & 853                 & 845                 &  8                  & 1147                & 1145                & 2                   & B6                  &   59                & N184JB              & JFK                 & TPA                 & 159                 & 1005                & 8                   & 45                  & 2013-01-01 08:00:00\\\\\n",
       "\t 2013                & 1                   & 1                   & 926                 & 922                 &  4                  & 1221                & 1219                & 2                   & B6                  &   57                & N534JB              & JFK                 & PBI                 & 151                 & 1028                & 9                   & 22                  & 2013-01-01 09:00:00\\\\\n",
       "\\end{tabular}\n"
      ],
      "text/markdown": [
       "\n",
       "| year | month | day | dep_time | sched_dep_time | dep_delay | arr_time | sched_arr_time | arr_delay | carrier | flight | tailnum | origin | dest | air_time | distance | hour | minute | time_hour |\n",
       "|---|---|---|---|---|---|---|---|---|---|---|---|---|---|---|---|---|---|---|\n",
       "| 2013                | 1                   | 1                   | 658                 | 700                 | -2                  | 1027                | 1025                | 2                   | VX                  |  399                | N627VA              | JFK                 | LAX                 | 361                 | 2475                | 7                   |  0                  | 2013-01-01 07:00:00 |\n",
       "| 2013                | 1                   | 1                   | 732                 | 729                 |  3                  | 1041                | 1039                | 2                   | B6                  | 1601                | N563JB              | LGA                 | RSW                 | 167                 | 1080                | 7                   | 29                  | 2013-01-01 07:00:00 |\n",
       "| 2013                | 1                   | 1                   | 741                 | 745                 | -4                  | 1038                | 1036                | 2                   | B6                  |  983                | N633JB              | LGA                 | TPA                 | 158                 | 1010                | 7                   | 45                  | 2013-01-01 07:00:00 |\n",
       "| 2013                | 1                   | 1                   | 824                 | 830                 | -6                  | 1027                | 1025                | 2                   | AA                  | 1855                | N573AA              | LGA                 | STL                 | 169                 |  888                | 8                   | 30                  | 2013-01-01 08:00:00 |\n",
       "| 2013                | 1                   | 1                   | 853                 | 845                 |  8                  | 1147                | 1145                | 2                   | B6                  |   59                | N184JB              | JFK                 | TPA                 | 159                 | 1005                | 8                   | 45                  | 2013-01-01 08:00:00 |\n",
       "| 2013                | 1                   | 1                   | 926                 | 922                 |  4                  | 1221                | 1219                | 2                   | B6                  |   57                | N534JB              | JFK                 | PBI                 | 151                 | 1028                | 9                   | 22                  | 2013-01-01 09:00:00 |\n",
       "\n"
      ],
      "text/plain": [
       "  year month day dep_time sched_dep_time dep_delay arr_time sched_arr_time\n",
       "1 2013 1     1   658      700            -2        1027     1025          \n",
       "2 2013 1     1   732      729             3        1041     1039          \n",
       "3 2013 1     1   741      745            -4        1038     1036          \n",
       "4 2013 1     1   824      830            -6        1027     1025          \n",
       "5 2013 1     1   853      845             8        1147     1145          \n",
       "6 2013 1     1   926      922             4        1221     1219          \n",
       "  arr_delay carrier flight tailnum origin dest air_time distance hour minute\n",
       "1 2         VX       399   N627VA  JFK    LAX  361      2475     7     0    \n",
       "2 2         B6      1601   N563JB  LGA    RSW  167      1080     7    29    \n",
       "3 2         B6       983   N633JB  LGA    TPA  158      1010     7    45    \n",
       "4 2         AA      1855   N573AA  LGA    STL  169       888     8    30    \n",
       "5 2         B6        59   N184JB  JFK    TPA  159      1005     8    45    \n",
       "6 2         B6        57   N534JB  JFK    PBI  151      1028     9    22    \n",
       "  time_hour          \n",
       "1 2013-01-01 07:00:00\n",
       "2 2013-01-01 07:00:00\n",
       "3 2013-01-01 07:00:00\n",
       "4 2013-01-01 08:00:00\n",
       "5 2013-01-01 08:00:00\n",
       "6 2013-01-01 09:00:00"
      ]
     },
     "metadata": {},
     "output_type": "display_data"
    }
   ],
   "source": [
    "flights1=filter(flights,flights$arr_delay>=2)\n",
    "head(arrange(flights1,arr_delay))"
   ]
  },
  {
   "cell_type": "code",
   "execution_count": 6,
   "metadata": {},
   "outputs": [
    {
     "name": "stdout",
     "output_type": "stream",
     "text": [
      "[1] \"Number of Flights with arrival delay of two or more hours:\"\n",
      "# A tibble: 1 x 1\n",
      "       n\n",
      "   <int>\n",
      "1 127929\n"
     ]
    }
   ],
   "source": [
    "print(\"Number of Flights with arrival delay of two or more hours:\")\n",
    "print(count(flights1))"
   ]
  },
  {
   "cell_type": "markdown",
   "metadata": {},
   "source": [
    "II.Flew to Houston (IAH or HOU)"
   ]
  },
  {
   "cell_type": "code",
   "execution_count": 7,
   "metadata": {},
   "outputs": [
    {
     "data": {
      "text/html": [
       "<table>\n",
       "<thead><tr><th scope=col>year</th><th scope=col>month</th><th scope=col>day</th><th scope=col>dep_time</th><th scope=col>sched_dep_time</th><th scope=col>dep_delay</th><th scope=col>arr_time</th><th scope=col>sched_arr_time</th><th scope=col>arr_delay</th><th scope=col>carrier</th><th scope=col>flight</th><th scope=col>tailnum</th><th scope=col>origin</th><th scope=col>dest</th><th scope=col>air_time</th><th scope=col>distance</th><th scope=col>hour</th><th scope=col>minute</th><th scope=col>time_hour</th></tr></thead>\n",
       "<tbody>\n",
       "\t<tr><td>2013               </td><td>1                  </td><td>1                  </td><td>517                </td><td>515                </td><td> 2                 </td><td> 830               </td><td> 819               </td><td>11                 </td><td>UA                 </td><td>1545               </td><td>N14228             </td><td>EWR                </td><td>IAH                </td><td>227                </td><td>1400               </td><td>5                  </td><td>15                 </td><td>2013-01-01 05:00:00</td></tr>\n",
       "\t<tr><td>2013               </td><td>1                  </td><td>1                  </td><td>533                </td><td>529                </td><td> 4                 </td><td> 850               </td><td> 830               </td><td>20                 </td><td>UA                 </td><td>1714               </td><td>N24211             </td><td>LGA                </td><td>IAH                </td><td>227                </td><td>1416               </td><td>5                  </td><td>29                 </td><td>2013-01-01 05:00:00</td></tr>\n",
       "\t<tr><td>2013               </td><td>1                  </td><td>1                  </td><td>623                </td><td>627                </td><td>-4                 </td><td> 933               </td><td> 932               </td><td> 1                 </td><td>UA                 </td><td> 496               </td><td>N459UA             </td><td>LGA                </td><td>IAH                </td><td>229                </td><td>1416               </td><td>6                  </td><td>27                 </td><td>2013-01-01 06:00:00</td></tr>\n",
       "\t<tr><td>2013               </td><td>1                  </td><td>1                  </td><td>728                </td><td>732                </td><td>-4                 </td><td>1041               </td><td>1038               </td><td> 3                 </td><td>UA                 </td><td> 473               </td><td>N488UA             </td><td>LGA                </td><td>IAH                </td><td>238                </td><td>1416               </td><td>7                  </td><td>32                 </td><td>2013-01-01 07:00:00</td></tr>\n",
       "\t<tr><td>2013               </td><td>1                  </td><td>1                  </td><td>739                </td><td>739                </td><td> 0                 </td><td>1104               </td><td>1038               </td><td>26                 </td><td>UA                 </td><td>1479               </td><td>N37408             </td><td>EWR                </td><td>IAH                </td><td>249                </td><td>1400               </td><td>7                  </td><td>39                 </td><td>2013-01-01 07:00:00</td></tr>\n",
       "\t<tr><td>2013               </td><td>1                  </td><td>1                  </td><td>908                </td><td>908                </td><td> 0                 </td><td>1228               </td><td>1219               </td><td> 9                 </td><td>UA                 </td><td>1220               </td><td>N12216             </td><td>EWR                </td><td>IAH                </td><td>233                </td><td>1400               </td><td>9                  </td><td> 8                 </td><td>2013-01-01 09:00:00</td></tr>\n",
       "</tbody>\n",
       "</table>\n"
      ],
      "text/latex": [
       "\\begin{tabular}{r|lllllllllllllllllll}\n",
       " year & month & day & dep\\_time & sched\\_dep\\_time & dep\\_delay & arr\\_time & sched\\_arr\\_time & arr\\_delay & carrier & flight & tailnum & origin & dest & air\\_time & distance & hour & minute & time\\_hour\\\\\n",
       "\\hline\n",
       "\t 2013                & 1                   & 1                   & 517                 & 515                 &  2                  &  830                &  819                & 11                  & UA                  & 1545                & N14228              & EWR                 & IAH                 & 227                 & 1400                & 5                   & 15                  & 2013-01-01 05:00:00\\\\\n",
       "\t 2013                & 1                   & 1                   & 533                 & 529                 &  4                  &  850                &  830                & 20                  & UA                  & 1714                & N24211              & LGA                 & IAH                 & 227                 & 1416                & 5                   & 29                  & 2013-01-01 05:00:00\\\\\n",
       "\t 2013                & 1                   & 1                   & 623                 & 627                 & -4                  &  933                &  932                &  1                  & UA                  &  496                & N459UA              & LGA                 & IAH                 & 229                 & 1416                & 6                   & 27                  & 2013-01-01 06:00:00\\\\\n",
       "\t 2013                & 1                   & 1                   & 728                 & 732                 & -4                  & 1041                & 1038                &  3                  & UA                  &  473                & N488UA              & LGA                 & IAH                 & 238                 & 1416                & 7                   & 32                  & 2013-01-01 07:00:00\\\\\n",
       "\t 2013                & 1                   & 1                   & 739                 & 739                 &  0                  & 1104                & 1038                & 26                  & UA                  & 1479                & N37408              & EWR                 & IAH                 & 249                 & 1400                & 7                   & 39                  & 2013-01-01 07:00:00\\\\\n",
       "\t 2013                & 1                   & 1                   & 908                 & 908                 &  0                  & 1228                & 1219                &  9                  & UA                  & 1220                & N12216              & EWR                 & IAH                 & 233                 & 1400                & 9                   &  8                  & 2013-01-01 09:00:00\\\\\n",
       "\\end{tabular}\n"
      ],
      "text/markdown": [
       "\n",
       "| year | month | day | dep_time | sched_dep_time | dep_delay | arr_time | sched_arr_time | arr_delay | carrier | flight | tailnum | origin | dest | air_time | distance | hour | minute | time_hour |\n",
       "|---|---|---|---|---|---|---|---|---|---|---|---|---|---|---|---|---|---|---|\n",
       "| 2013                | 1                   | 1                   | 517                 | 515                 |  2                  |  830                |  819                | 11                  | UA                  | 1545                | N14228              | EWR                 | IAH                 | 227                 | 1400                | 5                   | 15                  | 2013-01-01 05:00:00 |\n",
       "| 2013                | 1                   | 1                   | 533                 | 529                 |  4                  |  850                |  830                | 20                  | UA                  | 1714                | N24211              | LGA                 | IAH                 | 227                 | 1416                | 5                   | 29                  | 2013-01-01 05:00:00 |\n",
       "| 2013                | 1                   | 1                   | 623                 | 627                 | -4                  |  933                |  932                |  1                  | UA                  |  496                | N459UA              | LGA                 | IAH                 | 229                 | 1416                | 6                   | 27                  | 2013-01-01 06:00:00 |\n",
       "| 2013                | 1                   | 1                   | 728                 | 732                 | -4                  | 1041                | 1038                |  3                  | UA                  |  473                | N488UA              | LGA                 | IAH                 | 238                 | 1416                | 7                   | 32                  | 2013-01-01 07:00:00 |\n",
       "| 2013                | 1                   | 1                   | 739                 | 739                 |  0                  | 1104                | 1038                | 26                  | UA                  | 1479                | N37408              | EWR                 | IAH                 | 249                 | 1400                | 7                   | 39                  | 2013-01-01 07:00:00 |\n",
       "| 2013                | 1                   | 1                   | 908                 | 908                 |  0                  | 1228                | 1219                |  9                  | UA                  | 1220                | N12216              | EWR                 | IAH                 | 233                 | 1400                | 9                   |  8                  | 2013-01-01 09:00:00 |\n",
       "\n"
      ],
      "text/plain": [
       "  year month day dep_time sched_dep_time dep_delay arr_time sched_arr_time\n",
       "1 2013 1     1   517      515             2         830      819          \n",
       "2 2013 1     1   533      529             4         850      830          \n",
       "3 2013 1     1   623      627            -4         933      932          \n",
       "4 2013 1     1   728      732            -4        1041     1038          \n",
       "5 2013 1     1   739      739             0        1104     1038          \n",
       "6 2013 1     1   908      908             0        1228     1219          \n",
       "  arr_delay carrier flight tailnum origin dest air_time distance hour minute\n",
       "1 11        UA      1545   N14228  EWR    IAH  227      1400     5    15    \n",
       "2 20        UA      1714   N24211  LGA    IAH  227      1416     5    29    \n",
       "3  1        UA       496   N459UA  LGA    IAH  229      1416     6    27    \n",
       "4  3        UA       473   N488UA  LGA    IAH  238      1416     7    32    \n",
       "5 26        UA      1479   N37408  EWR    IAH  249      1400     7    39    \n",
       "6  9        UA      1220   N12216  EWR    IAH  233      1400     9     8    \n",
       "  time_hour          \n",
       "1 2013-01-01 05:00:00\n",
       "2 2013-01-01 05:00:00\n",
       "3 2013-01-01 06:00:00\n",
       "4 2013-01-01 07:00:00\n",
       "5 2013-01-01 07:00:00\n",
       "6 2013-01-01 09:00:00"
      ]
     },
     "metadata": {},
     "output_type": "display_data"
    }
   ],
   "source": [
    "flights2=filter(flights,dest=='IAH'|dest=='HOU')\n",
    "head(flights2)"
   ]
  },
  {
   "cell_type": "code",
   "execution_count": 8,
   "metadata": {},
   "outputs": [
    {
     "name": "stdout",
     "output_type": "stream",
     "text": [
      "[1] \"Number of Flights flew to Houston:\"\n",
      "# A tibble: 1 x 1\n",
      "      n\n",
      "  <int>\n",
      "1  9313\n"
     ]
    }
   ],
   "source": [
    "print(\"Number of Flights flew to Houston:\")\n",
    "print(count(flights2))"
   ]
  },
  {
   "cell_type": "markdown",
   "metadata": {},
   "source": [
    "III.Were operated by United, American, or Delta"
   ]
  },
  {
   "cell_type": "code",
   "execution_count": 9,
   "metadata": {},
   "outputs": [
    {
     "data": {
      "text/html": [
       "<table>\n",
       "<thead><tr><th scope=col>year</th><th scope=col>month</th><th scope=col>day</th><th scope=col>dep_time</th><th scope=col>sched_dep_time</th><th scope=col>dep_delay</th><th scope=col>arr_time</th><th scope=col>sched_arr_time</th><th scope=col>arr_delay</th><th scope=col>carrier</th><th scope=col>flight</th><th scope=col>tailnum</th><th scope=col>origin</th><th scope=col>dest</th><th scope=col>air_time</th><th scope=col>distance</th><th scope=col>hour</th><th scope=col>minute</th><th scope=col>time_hour</th></tr></thead>\n",
       "<tbody>\n",
       "\t<tr><td>2013               </td><td>1                  </td><td>1                  </td><td>517                </td><td>515                </td><td> 2                 </td><td>830                </td><td>819                </td><td> 11                </td><td>UA                 </td><td>1545               </td><td>N14228             </td><td>EWR                </td><td>IAH                </td><td>227                </td><td>1400               </td><td>5                  </td><td>15                 </td><td>2013-01-01 05:00:00</td></tr>\n",
       "\t<tr><td>2013               </td><td>1                  </td><td>1                  </td><td>533                </td><td>529                </td><td> 4                 </td><td>850                </td><td>830                </td><td> 20                </td><td>UA                 </td><td>1714               </td><td>N24211             </td><td>LGA                </td><td>IAH                </td><td>227                </td><td>1416               </td><td>5                  </td><td>29                 </td><td>2013-01-01 05:00:00</td></tr>\n",
       "\t<tr><td>2013               </td><td>1                  </td><td>1                  </td><td>542                </td><td>540                </td><td> 2                 </td><td>923                </td><td>850                </td><td> 33                </td><td>AA                 </td><td>1141               </td><td>N619AA             </td><td>JFK                </td><td>MIA                </td><td>160                </td><td>1089               </td><td>5                  </td><td>40                 </td><td>2013-01-01 05:00:00</td></tr>\n",
       "\t<tr><td>2013               </td><td>1                  </td><td>1                  </td><td>554                </td><td>600                </td><td>-6                 </td><td>812                </td><td>837                </td><td>-25                </td><td>DL                 </td><td> 461               </td><td>N668DN             </td><td>LGA                </td><td>ATL                </td><td>116                </td><td> 762               </td><td>6                  </td><td> 0                 </td><td>2013-01-01 06:00:00</td></tr>\n",
       "\t<tr><td>2013               </td><td>1                  </td><td>1                  </td><td>554                </td><td>558                </td><td>-4                 </td><td>740                </td><td>728                </td><td> 12                </td><td>UA                 </td><td>1696               </td><td>N39463             </td><td>EWR                </td><td>ORD                </td><td>150                </td><td> 719               </td><td>5                  </td><td>58                 </td><td>2013-01-01 05:00:00</td></tr>\n",
       "\t<tr><td>2013               </td><td>1                  </td><td>1                  </td><td>558                </td><td>600                </td><td>-2                 </td><td>753                </td><td>745                </td><td>  8                </td><td>AA                 </td><td> 301               </td><td>N3ALAA             </td><td>LGA                </td><td>ORD                </td><td>138                </td><td> 733               </td><td>6                  </td><td> 0                 </td><td>2013-01-01 06:00:00</td></tr>\n",
       "</tbody>\n",
       "</table>\n"
      ],
      "text/latex": [
       "\\begin{tabular}{r|lllllllllllllllllll}\n",
       " year & month & day & dep\\_time & sched\\_dep\\_time & dep\\_delay & arr\\_time & sched\\_arr\\_time & arr\\_delay & carrier & flight & tailnum & origin & dest & air\\_time & distance & hour & minute & time\\_hour\\\\\n",
       "\\hline\n",
       "\t 2013                & 1                   & 1                   & 517                 & 515                 &  2                  & 830                 & 819                 &  11                 & UA                  & 1545                & N14228              & EWR                 & IAH                 & 227                 & 1400                & 5                   & 15                  & 2013-01-01 05:00:00\\\\\n",
       "\t 2013                & 1                   & 1                   & 533                 & 529                 &  4                  & 850                 & 830                 &  20                 & UA                  & 1714                & N24211              & LGA                 & IAH                 & 227                 & 1416                & 5                   & 29                  & 2013-01-01 05:00:00\\\\\n",
       "\t 2013                & 1                   & 1                   & 542                 & 540                 &  2                  & 923                 & 850                 &  33                 & AA                  & 1141                & N619AA              & JFK                 & MIA                 & 160                 & 1089                & 5                   & 40                  & 2013-01-01 05:00:00\\\\\n",
       "\t 2013                & 1                   & 1                   & 554                 & 600                 & -6                  & 812                 & 837                 & -25                 & DL                  &  461                & N668DN              & LGA                 & ATL                 & 116                 &  762                & 6                   &  0                  & 2013-01-01 06:00:00\\\\\n",
       "\t 2013                & 1                   & 1                   & 554                 & 558                 & -4                  & 740                 & 728                 &  12                 & UA                  & 1696                & N39463              & EWR                 & ORD                 & 150                 &  719                & 5                   & 58                  & 2013-01-01 05:00:00\\\\\n",
       "\t 2013                & 1                   & 1                   & 558                 & 600                 & -2                  & 753                 & 745                 &   8                 & AA                  &  301                & N3ALAA              & LGA                 & ORD                 & 138                 &  733                & 6                   &  0                  & 2013-01-01 06:00:00\\\\\n",
       "\\end{tabular}\n"
      ],
      "text/markdown": [
       "\n",
       "| year | month | day | dep_time | sched_dep_time | dep_delay | arr_time | sched_arr_time | arr_delay | carrier | flight | tailnum | origin | dest | air_time | distance | hour | minute | time_hour |\n",
       "|---|---|---|---|---|---|---|---|---|---|---|---|---|---|---|---|---|---|---|\n",
       "| 2013                | 1                   | 1                   | 517                 | 515                 |  2                  | 830                 | 819                 |  11                 | UA                  | 1545                | N14228              | EWR                 | IAH                 | 227                 | 1400                | 5                   | 15                  | 2013-01-01 05:00:00 |\n",
       "| 2013                | 1                   | 1                   | 533                 | 529                 |  4                  | 850                 | 830                 |  20                 | UA                  | 1714                | N24211              | LGA                 | IAH                 | 227                 | 1416                | 5                   | 29                  | 2013-01-01 05:00:00 |\n",
       "| 2013                | 1                   | 1                   | 542                 | 540                 |  2                  | 923                 | 850                 |  33                 | AA                  | 1141                | N619AA              | JFK                 | MIA                 | 160                 | 1089                | 5                   | 40                  | 2013-01-01 05:00:00 |\n",
       "| 2013                | 1                   | 1                   | 554                 | 600                 | -6                  | 812                 | 837                 | -25                 | DL                  |  461                | N668DN              | LGA                 | ATL                 | 116                 |  762                | 6                   |  0                  | 2013-01-01 06:00:00 |\n",
       "| 2013                | 1                   | 1                   | 554                 | 558                 | -4                  | 740                 | 728                 |  12                 | UA                  | 1696                | N39463              | EWR                 | ORD                 | 150                 |  719                | 5                   | 58                  | 2013-01-01 05:00:00 |\n",
       "| 2013                | 1                   | 1                   | 558                 | 600                 | -2                  | 753                 | 745                 |   8                 | AA                  |  301                | N3ALAA              | LGA                 | ORD                 | 138                 |  733                | 6                   |  0                  | 2013-01-01 06:00:00 |\n",
       "\n"
      ],
      "text/plain": [
       "  year month day dep_time sched_dep_time dep_delay arr_time sched_arr_time\n",
       "1 2013 1     1   517      515             2        830      819           \n",
       "2 2013 1     1   533      529             4        850      830           \n",
       "3 2013 1     1   542      540             2        923      850           \n",
       "4 2013 1     1   554      600            -6        812      837           \n",
       "5 2013 1     1   554      558            -4        740      728           \n",
       "6 2013 1     1   558      600            -2        753      745           \n",
       "  arr_delay carrier flight tailnum origin dest air_time distance hour minute\n",
       "1  11       UA      1545   N14228  EWR    IAH  227      1400     5    15    \n",
       "2  20       UA      1714   N24211  LGA    IAH  227      1416     5    29    \n",
       "3  33       AA      1141   N619AA  JFK    MIA  160      1089     5    40    \n",
       "4 -25       DL       461   N668DN  LGA    ATL  116       762     6     0    \n",
       "5  12       UA      1696   N39463  EWR    ORD  150       719     5    58    \n",
       "6   8       AA       301   N3ALAA  LGA    ORD  138       733     6     0    \n",
       "  time_hour          \n",
       "1 2013-01-01 05:00:00\n",
       "2 2013-01-01 05:00:00\n",
       "3 2013-01-01 05:00:00\n",
       "4 2013-01-01 06:00:00\n",
       "5 2013-01-01 05:00:00\n",
       "6 2013-01-01 06:00:00"
      ]
     },
     "metadata": {},
     "output_type": "display_data"
    }
   ],
   "source": [
    "flights3=filter(flights, carrier %in% c(\"AA\",\"DL\",\"UA\"))\n",
    "head(flights3)"
   ]
  },
  {
   "cell_type": "code",
   "execution_count": 10,
   "metadata": {},
   "outputs": [
    {
     "name": "stdout",
     "output_type": "stream",
     "text": [
      "[1] \"Number of Flights operated by United, American, Delta:\"\n",
      "# A tibble: 1 x 1\n",
      "       n\n",
      "   <int>\n",
      "1 139504\n"
     ]
    }
   ],
   "source": [
    "print(\"Number of Flights operated by United, American, Delta:\")\n",
    "print(count(flights3))"
   ]
  },
  {
   "cell_type": "markdown",
   "metadata": {},
   "source": [
    "IV.Departed in summer (July, August, and September)"
   ]
  },
  {
   "cell_type": "code",
   "execution_count": 11,
   "metadata": {},
   "outputs": [
    {
     "data": {
      "text/html": [
       "<table>\n",
       "<thead><tr><th scope=col>year</th><th scope=col>month</th><th scope=col>day</th><th scope=col>dep_time</th><th scope=col>sched_dep_time</th><th scope=col>dep_delay</th><th scope=col>arr_time</th><th scope=col>sched_arr_time</th><th scope=col>arr_delay</th><th scope=col>carrier</th><th scope=col>flight</th><th scope=col>tailnum</th><th scope=col>origin</th><th scope=col>dest</th><th scope=col>air_time</th><th scope=col>distance</th><th scope=col>hour</th><th scope=col>minute</th><th scope=col>time_hour</th></tr></thead>\n",
       "<tbody>\n",
       "\t<tr><td>2013               </td><td>7                  </td><td>1                  </td><td> 1                 </td><td>2029               </td><td>212                </td><td>236                </td><td>2359               </td><td>157                </td><td>B6                 </td><td> 915               </td><td>N653JB             </td><td>JFK                </td><td>SFO                </td><td>315                </td><td>2586               </td><td>20                 </td><td>29                 </td><td>2013-07-01 20:00:00</td></tr>\n",
       "\t<tr><td>2013               </td><td>7                  </td><td>1                  </td><td> 2                 </td><td>2359               </td><td>  3                </td><td>344                </td><td> 344               </td><td>  0                </td><td>B6                 </td><td>1503               </td><td>N805JB             </td><td>JFK                </td><td>SJU                </td><td>200                </td><td>1598               </td><td>23                 </td><td>59                 </td><td>2013-07-01 23:00:00</td></tr>\n",
       "\t<tr><td>2013               </td><td>7                  </td><td>1                  </td><td>29                 </td><td>2245               </td><td>104                </td><td>151                </td><td>   1               </td><td>110                </td><td>B6                 </td><td> 234               </td><td>N348JB             </td><td>JFK                </td><td>BTV                </td><td> 66                </td><td> 266               </td><td>22                 </td><td>45                 </td><td>2013-07-01 22:00:00</td></tr>\n",
       "\t<tr><td>2013               </td><td>7                  </td><td>1                  </td><td>43                 </td><td>2130               </td><td>193                </td><td>322                </td><td>  14               </td><td>188                </td><td>B6                 </td><td>1371               </td><td>N794JB             </td><td>LGA                </td><td>FLL                </td><td>143                </td><td>1076               </td><td>21                 </td><td>30                 </td><td>2013-07-01 21:00:00</td></tr>\n",
       "\t<tr><td>2013               </td><td>7                  </td><td>1                  </td><td>44                 </td><td>2150               </td><td>174                </td><td>300                </td><td> 100               </td><td>120                </td><td>AA                 </td><td> 185               </td><td>N324AA             </td><td>JFK                </td><td>LAX                </td><td>297                </td><td>2475               </td><td>21                 </td><td>50                 </td><td>2013-07-01 21:00:00</td></tr>\n",
       "\t<tr><td>2013               </td><td>7                  </td><td>1                  </td><td>46                 </td><td>2051               </td><td>235                </td><td>304                </td><td>2358               </td><td>186                </td><td>B6                 </td><td> 165               </td><td>N640JB             </td><td>JFK                </td><td>PDX                </td><td>304                </td><td>2454               </td><td>20                 </td><td>51                 </td><td>2013-07-01 20:00:00</td></tr>\n",
       "</tbody>\n",
       "</table>\n"
      ],
      "text/latex": [
       "\\begin{tabular}{r|lllllllllllllllllll}\n",
       " year & month & day & dep\\_time & sched\\_dep\\_time & dep\\_delay & arr\\_time & sched\\_arr\\_time & arr\\_delay & carrier & flight & tailnum & origin & dest & air\\_time & distance & hour & minute & time\\_hour\\\\\n",
       "\\hline\n",
       "\t 2013                & 7                   & 1                   &  1                  & 2029                & 212                 & 236                 & 2359                & 157                 & B6                  &  915                & N653JB              & JFK                 & SFO                 & 315                 & 2586                & 20                  & 29                  & 2013-07-01 20:00:00\\\\\n",
       "\t 2013                & 7                   & 1                   &  2                  & 2359                &   3                 & 344                 &  344                &   0                 & B6                  & 1503                & N805JB              & JFK                 & SJU                 & 200                 & 1598                & 23                  & 59                  & 2013-07-01 23:00:00\\\\\n",
       "\t 2013                & 7                   & 1                   & 29                  & 2245                & 104                 & 151                 &    1                & 110                 & B6                  &  234                & N348JB              & JFK                 & BTV                 &  66                 &  266                & 22                  & 45                  & 2013-07-01 22:00:00\\\\\n",
       "\t 2013                & 7                   & 1                   & 43                  & 2130                & 193                 & 322                 &   14                & 188                 & B6                  & 1371                & N794JB              & LGA                 & FLL                 & 143                 & 1076                & 21                  & 30                  & 2013-07-01 21:00:00\\\\\n",
       "\t 2013                & 7                   & 1                   & 44                  & 2150                & 174                 & 300                 &  100                & 120                 & AA                  &  185                & N324AA              & JFK                 & LAX                 & 297                 & 2475                & 21                  & 50                  & 2013-07-01 21:00:00\\\\\n",
       "\t 2013                & 7                   & 1                   & 46                  & 2051                & 235                 & 304                 & 2358                & 186                 & B6                  &  165                & N640JB              & JFK                 & PDX                 & 304                 & 2454                & 20                  & 51                  & 2013-07-01 20:00:00\\\\\n",
       "\\end{tabular}\n"
      ],
      "text/markdown": [
       "\n",
       "| year | month | day | dep_time | sched_dep_time | dep_delay | arr_time | sched_arr_time | arr_delay | carrier | flight | tailnum | origin | dest | air_time | distance | hour | minute | time_hour |\n",
       "|---|---|---|---|---|---|---|---|---|---|---|---|---|---|---|---|---|---|---|\n",
       "| 2013                | 7                   | 1                   |  1                  | 2029                | 212                 | 236                 | 2359                | 157                 | B6                  |  915                | N653JB              | JFK                 | SFO                 | 315                 | 2586                | 20                  | 29                  | 2013-07-01 20:00:00 |\n",
       "| 2013                | 7                   | 1                   |  2                  | 2359                |   3                 | 344                 |  344                |   0                 | B6                  | 1503                | N805JB              | JFK                 | SJU                 | 200                 | 1598                | 23                  | 59                  | 2013-07-01 23:00:00 |\n",
       "| 2013                | 7                   | 1                   | 29                  | 2245                | 104                 | 151                 |    1                | 110                 | B6                  |  234                | N348JB              | JFK                 | BTV                 |  66                 |  266                | 22                  | 45                  | 2013-07-01 22:00:00 |\n",
       "| 2013                | 7                   | 1                   | 43                  | 2130                | 193                 | 322                 |   14                | 188                 | B6                  | 1371                | N794JB              | LGA                 | FLL                 | 143                 | 1076                | 21                  | 30                  | 2013-07-01 21:00:00 |\n",
       "| 2013                | 7                   | 1                   | 44                  | 2150                | 174                 | 300                 |  100                | 120                 | AA                  |  185                | N324AA              | JFK                 | LAX                 | 297                 | 2475                | 21                  | 50                  | 2013-07-01 21:00:00 |\n",
       "| 2013                | 7                   | 1                   | 46                  | 2051                | 235                 | 304                 | 2358                | 186                 | B6                  |  165                | N640JB              | JFK                 | PDX                 | 304                 | 2454                | 20                  | 51                  | 2013-07-01 20:00:00 |\n",
       "\n"
      ],
      "text/plain": [
       "  year month day dep_time sched_dep_time dep_delay arr_time sched_arr_time\n",
       "1 2013 7     1    1       2029           212       236      2359          \n",
       "2 2013 7     1    2       2359             3       344       344          \n",
       "3 2013 7     1   29       2245           104       151         1          \n",
       "4 2013 7     1   43       2130           193       322        14          \n",
       "5 2013 7     1   44       2150           174       300       100          \n",
       "6 2013 7     1   46       2051           235       304      2358          \n",
       "  arr_delay carrier flight tailnum origin dest air_time distance hour minute\n",
       "1 157       B6       915   N653JB  JFK    SFO  315      2586     20   29    \n",
       "2   0       B6      1503   N805JB  JFK    SJU  200      1598     23   59    \n",
       "3 110       B6       234   N348JB  JFK    BTV   66       266     22   45    \n",
       "4 188       B6      1371   N794JB  LGA    FLL  143      1076     21   30    \n",
       "5 120       AA       185   N324AA  JFK    LAX  297      2475     21   50    \n",
       "6 186       B6       165   N640JB  JFK    PDX  304      2454     20   51    \n",
       "  time_hour          \n",
       "1 2013-07-01 20:00:00\n",
       "2 2013-07-01 23:00:00\n",
       "3 2013-07-01 22:00:00\n",
       "4 2013-07-01 21:00:00\n",
       "5 2013-07-01 21:00:00\n",
       "6 2013-07-01 20:00:00"
      ]
     },
     "metadata": {},
     "output_type": "display_data"
    }
   ],
   "source": [
    "flights4=filter(flights,between(month,7,9))\n",
    "head(arrange(flights4,month))"
   ]
  },
  {
   "cell_type": "code",
   "execution_count": 14,
   "metadata": {},
   "outputs": [
    {
     "name": "stdout",
     "output_type": "stream",
     "text": [
      "[1] \"Flights in month of July,August,September:\"\n",
      "# A tibble: 1 x 1\n",
      "      n\n",
      "  <int>\n",
      "1 86326\n"
     ]
    }
   ],
   "source": [
    "print(\"Number of Flights flew in month of July,August,September:\")\n",
    "print(count(flights4))"
   ]
  },
  {
   "cell_type": "markdown",
   "metadata": {},
   "source": [
    "V.Arrived more than two hours late, but didn’t leave late"
   ]
  },
  {
   "cell_type": "code",
   "execution_count": 12,
   "metadata": {},
   "outputs": [
    {
     "data": {
      "text/html": [
       "<table>\n",
       "<thead><tr><th scope=col>year</th><th scope=col>month</th><th scope=col>day</th><th scope=col>dep_time</th><th scope=col>sched_dep_time</th><th scope=col>dep_delay</th><th scope=col>arr_time</th><th scope=col>sched_arr_time</th><th scope=col>arr_delay</th><th scope=col>carrier</th><th scope=col>flight</th><th scope=col>tailnum</th><th scope=col>origin</th><th scope=col>dest</th><th scope=col>air_time</th><th scope=col>distance</th><th scope=col>hour</th><th scope=col>minute</th><th scope=col>time_hour</th></tr></thead>\n",
       "<tbody>\n",
       "\t<tr><td>2013               </td><td>12                 </td><td> 7                 </td><td>2040               </td><td>2123               </td><td>-43                </td><td>  40               </td><td>2352               </td><td>48                 </td><td>B6                 </td><td>  97               </td><td>N592JB             </td><td>JFK                </td><td>DEN                </td><td>265                </td><td>1626               </td><td>21                 </td><td>23                 </td><td>2013-12-07 21:00:00</td></tr>\n",
       "\t<tr><td>2013               </td><td> 8                 </td><td> 9                 </td><td> 729               </td><td> 755               </td><td>-26                </td><td>1002               </td><td> 955               </td><td> 7                 </td><td>MQ                 </td><td>3478               </td><td>N711MQ             </td><td>LGA                </td><td>DTW                </td><td> 88                </td><td> 502               </td><td> 7                 </td><td>55                 </td><td>2013-08-09 07:00:00</td></tr>\n",
       "\t<tr><td>2013               </td><td> 5                 </td><td>18                 </td><td>1912               </td><td>1935               </td><td>-23                </td><td>2126               </td><td>2119               </td><td> 7                 </td><td>9E                 </td><td>4127               </td><td>N800AY             </td><td>JFK                </td><td>IAD                </td><td> 45                </td><td> 228               </td><td>19                 </td><td>35                 </td><td>2013-05-18 19:00:00</td></tr>\n",
       "\t<tr><td>2013               </td><td> 9                 </td><td> 8                 </td><td>2008               </td><td>2029               </td><td>-21                </td><td>2225               </td><td>2216               </td><td> 9                 </td><td>EV                 </td><td>5956               </td><td>N16541             </td><td>LGA                </td><td>CLE                </td><td> 67                </td><td> 419               </td><td>20                 </td><td>29                 </td><td>2013-09-08 20:00:00</td></tr>\n",
       "\t<tr><td>2013               </td><td>10                 </td><td>22                 </td><td> 700               </td><td> 720               </td><td>-20                </td><td>1002               </td><td>1000               </td><td> 2                 </td><td>UA                 </td><td> 261               </td><td>N514UA             </td><td>LGA                </td><td>IAH                </td><td>215                </td><td>1416               </td><td> 7                 </td><td>20                 </td><td>2013-10-22 07:00:00</td></tr>\n",
       "\t<tr><td>2013               </td><td> 5                 </td><td>22                 </td><td>1109               </td><td>1129               </td><td>-20                </td><td>1242               </td><td>1235               </td><td> 7                 </td><td>B6                 </td><td>1174               </td><td>N309JB             </td><td>EWR                </td><td>BOS                </td><td> 41                </td><td> 200               </td><td>11                 </td><td>29                 </td><td>2013-05-22 11:00:00</td></tr>\n",
       "</tbody>\n",
       "</table>\n"
      ],
      "text/latex": [
       "\\begin{tabular}{r|lllllllllllllllllll}\n",
       " year & month & day & dep\\_time & sched\\_dep\\_time & dep\\_delay & arr\\_time & sched\\_arr\\_time & arr\\_delay & carrier & flight & tailnum & origin & dest & air\\_time & distance & hour & minute & time\\_hour\\\\\n",
       "\\hline\n",
       "\t 2013                & 12                  &  7                  & 2040                & 2123                & -43                 &   40                & 2352                & 48                  & B6                  &   97                & N592JB              & JFK                 & DEN                 & 265                 & 1626                & 21                  & 23                  & 2013-12-07 21:00:00\\\\\n",
       "\t 2013                &  8                  &  9                  &  729                &  755                & -26                 & 1002                &  955                &  7                  & MQ                  & 3478                & N711MQ              & LGA                 & DTW                 &  88                 &  502                &  7                  & 55                  & 2013-08-09 07:00:00\\\\\n",
       "\t 2013                &  5                  & 18                  & 1912                & 1935                & -23                 & 2126                & 2119                &  7                  & 9E                  & 4127                & N800AY              & JFK                 & IAD                 &  45                 &  228                & 19                  & 35                  & 2013-05-18 19:00:00\\\\\n",
       "\t 2013                &  9                  &  8                  & 2008                & 2029                & -21                 & 2225                & 2216                &  9                  & EV                  & 5956                & N16541              & LGA                 & CLE                 &  67                 &  419                & 20                  & 29                  & 2013-09-08 20:00:00\\\\\n",
       "\t 2013                & 10                  & 22                  &  700                &  720                & -20                 & 1002                & 1000                &  2                  & UA                  &  261                & N514UA              & LGA                 & IAH                 & 215                 & 1416                &  7                  & 20                  & 2013-10-22 07:00:00\\\\\n",
       "\t 2013                &  5                  & 22                  & 1109                & 1129                & -20                 & 1242                & 1235                &  7                  & B6                  & 1174                & N309JB              & EWR                 & BOS                 &  41                 &  200                & 11                  & 29                  & 2013-05-22 11:00:00\\\\\n",
       "\\end{tabular}\n"
      ],
      "text/markdown": [
       "\n",
       "| year | month | day | dep_time | sched_dep_time | dep_delay | arr_time | sched_arr_time | arr_delay | carrier | flight | tailnum | origin | dest | air_time | distance | hour | minute | time_hour |\n",
       "|---|---|---|---|---|---|---|---|---|---|---|---|---|---|---|---|---|---|---|\n",
       "| 2013                | 12                  |  7                  | 2040                | 2123                | -43                 |   40                | 2352                | 48                  | B6                  |   97                | N592JB              | JFK                 | DEN                 | 265                 | 1626                | 21                  | 23                  | 2013-12-07 21:00:00 |\n",
       "| 2013                |  8                  |  9                  |  729                |  755                | -26                 | 1002                |  955                |  7                  | MQ                  | 3478                | N711MQ              | LGA                 | DTW                 |  88                 |  502                |  7                  | 55                  | 2013-08-09 07:00:00 |\n",
       "| 2013                |  5                  | 18                  | 1912                | 1935                | -23                 | 2126                | 2119                |  7                  | 9E                  | 4127                | N800AY              | JFK                 | IAD                 |  45                 |  228                | 19                  | 35                  | 2013-05-18 19:00:00 |\n",
       "| 2013                |  9                  |  8                  | 2008                | 2029                | -21                 | 2225                | 2216                |  9                  | EV                  | 5956                | N16541              | LGA                 | CLE                 |  67                 |  419                | 20                  | 29                  | 2013-09-08 20:00:00 |\n",
       "| 2013                | 10                  | 22                  |  700                |  720                | -20                 | 1002                | 1000                |  2                  | UA                  |  261                | N514UA              | LGA                 | IAH                 | 215                 | 1416                |  7                  | 20                  | 2013-10-22 07:00:00 |\n",
       "| 2013                |  5                  | 22                  | 1109                | 1129                | -20                 | 1242                | 1235                |  7                  | B6                  | 1174                | N309JB              | EWR                 | BOS                 |  41                 |  200                | 11                  | 29                  | 2013-05-22 11:00:00 |\n",
       "\n"
      ],
      "text/plain": [
       "  year month day dep_time sched_dep_time dep_delay arr_time sched_arr_time\n",
       "1 2013 12     7  2040     2123           -43         40     2352          \n",
       "2 2013  8     9   729      755           -26       1002      955          \n",
       "3 2013  5    18  1912     1935           -23       2126     2119          \n",
       "4 2013  9     8  2008     2029           -21       2225     2216          \n",
       "5 2013 10    22   700      720           -20       1002     1000          \n",
       "6 2013  5    22  1109     1129           -20       1242     1235          \n",
       "  arr_delay carrier flight tailnum origin dest air_time distance hour minute\n",
       "1 48        B6        97   N592JB  JFK    DEN  265      1626     21   23    \n",
       "2  7        MQ      3478   N711MQ  LGA    DTW   88       502      7   55    \n",
       "3  7        9E      4127   N800AY  JFK    IAD   45       228     19   35    \n",
       "4  9        EV      5956   N16541  LGA    CLE   67       419     20   29    \n",
       "5  2        UA       261   N514UA  LGA    IAH  215      1416      7   20    \n",
       "6  7        B6      1174   N309JB  EWR    BOS   41       200     11   29    \n",
       "  time_hour          \n",
       "1 2013-12-07 21:00:00\n",
       "2 2013-08-09 07:00:00\n",
       "3 2013-05-18 19:00:00\n",
       "4 2013-09-08 20:00:00\n",
       "5 2013-10-22 07:00:00\n",
       "6 2013-05-22 11:00:00"
      ]
     },
     "metadata": {},
     "output_type": "display_data"
    }
   ],
   "source": [
    "flights5=filter(flights1,dep_delay<=0)\n",
    "head(arrange(flights5,dep_delay))"
   ]
  },
  {
   "cell_type": "code",
   "execution_count": 13,
   "metadata": {},
   "outputs": [
    {
     "name": "stdout",
     "output_type": "stream",
     "text": [
      "[1] \"Number of Flights arrived late but not departed late:\"\n",
      "# A tibble: 1 x 1\n",
      "      n\n",
      "  <int>\n",
      "1 37527\n"
     ]
    }
   ],
   "source": [
    "print(\"Number of Flights arrived late but not departed late:\")\n",
    "print(count(flights5))"
   ]
  },
  {
   "cell_type": "markdown",
   "metadata": {},
   "source": [
    "VI.Were delayed by at least an hour, but made up over 30 minutes in flight"
   ]
  },
  {
   "cell_type": "code",
   "execution_count": 14,
   "metadata": {},
   "outputs": [
    {
     "data": {
      "text/html": [
       "<table>\n",
       "<thead><tr><th scope=col>year</th><th scope=col>month</th><th scope=col>day</th><th scope=col>dep_time</th><th scope=col>sched_dep_time</th><th scope=col>dep_delay</th><th scope=col>arr_time</th><th scope=col>sched_arr_time</th><th scope=col>arr_delay</th><th scope=col>carrier</th><th scope=col>flight</th><th scope=col>tailnum</th><th scope=col>origin</th><th scope=col>dest</th><th scope=col>air_time</th><th scope=col>distance</th><th scope=col>hour</th><th scope=col>minute</th><th scope=col>time_hour</th></tr></thead>\n",
       "<tbody>\n",
       "\t<tr><td>2013               </td><td>1                  </td><td>1                  </td><td>2205               </td><td>1720               </td><td>285                </td><td>  46               </td><td>2040               </td><td>246                </td><td>AA                 </td><td>1999               </td><td>N5DNAA             </td><td>EWR                </td><td>MIA                </td><td>146                </td><td>1085               </td><td>17                 </td><td>20                 </td><td>2013-01-01 17:00:00</td></tr>\n",
       "\t<tr><td>2013               </td><td>1                  </td><td>1                  </td><td>2326               </td><td>2130               </td><td>116                </td><td> 131               </td><td>  18               </td><td> 73                </td><td>B6                 </td><td> 199               </td><td>N594JB             </td><td>JFK                </td><td>LAS                </td><td>290                </td><td>2248               </td><td>21                 </td><td>30                 </td><td>2013-01-01 21:00:00</td></tr>\n",
       "\t<tr><td>2013               </td><td>1                  </td><td>3                  </td><td>1503               </td><td>1221               </td><td>162                </td><td>1803               </td><td>1555               </td><td>128                </td><td>UA                 </td><td> 551               </td><td>N835UA             </td><td>EWR                </td><td>SFO                </td><td>320                </td><td>2565               </td><td>12                 </td><td>21                 </td><td>2013-01-03 12:00:00</td></tr>\n",
       "\t<tr><td>2013               </td><td>1                  </td><td>3                  </td><td>1839               </td><td>1700               </td><td> 99                </td><td>2056               </td><td>1950               </td><td> 66                </td><td>AA                 </td><td> 575               </td><td>N631AA             </td><td>JFK                </td><td>EGE                </td><td>239                </td><td>1747               </td><td>17                 </td><td> 0                 </td><td>2013-01-03 17:00:00</td></tr>\n",
       "\t<tr><td>2013               </td><td>1                  </td><td>3                  </td><td>1850               </td><td>1745               </td><td> 65                </td><td>2148               </td><td>2120               </td><td> 28                </td><td>AA                 </td><td> 177               </td><td>N332AA             </td><td>JFK                </td><td>SFO                </td><td>314                </td><td>2586               </td><td>17                 </td><td>45                 </td><td>2013-01-03 17:00:00</td></tr>\n",
       "\t<tr><td>2013               </td><td>1                  </td><td>3                  </td><td>1941               </td><td>1759               </td><td>102                </td><td>2246               </td><td>2139               </td><td> 67                </td><td>UA                 </td><td> 979               </td><td>N402UA             </td><td>EWR                </td><td>PHX                </td><td>274                </td><td>2133               </td><td>17                 </td><td>59                 </td><td>2013-01-03 17:00:00</td></tr>\n",
       "</tbody>\n",
       "</table>\n"
      ],
      "text/latex": [
       "\\begin{tabular}{r|lllllllllllllllllll}\n",
       " year & month & day & dep\\_time & sched\\_dep\\_time & dep\\_delay & arr\\_time & sched\\_arr\\_time & arr\\_delay & carrier & flight & tailnum & origin & dest & air\\_time & distance & hour & minute & time\\_hour\\\\\n",
       "\\hline\n",
       "\t 2013                & 1                   & 1                   & 2205                & 1720                & 285                 &   46                & 2040                & 246                 & AA                  & 1999                & N5DNAA              & EWR                 & MIA                 & 146                 & 1085                & 17                  & 20                  & 2013-01-01 17:00:00\\\\\n",
       "\t 2013                & 1                   & 1                   & 2326                & 2130                & 116                 &  131                &   18                &  73                 & B6                  &  199                & N594JB              & JFK                 & LAS                 & 290                 & 2248                & 21                  & 30                  & 2013-01-01 21:00:00\\\\\n",
       "\t 2013                & 1                   & 3                   & 1503                & 1221                & 162                 & 1803                & 1555                & 128                 & UA                  &  551                & N835UA              & EWR                 & SFO                 & 320                 & 2565                & 12                  & 21                  & 2013-01-03 12:00:00\\\\\n",
       "\t 2013                & 1                   & 3                   & 1839                & 1700                &  99                 & 2056                & 1950                &  66                 & AA                  &  575                & N631AA              & JFK                 & EGE                 & 239                 & 1747                & 17                  &  0                  & 2013-01-03 17:00:00\\\\\n",
       "\t 2013                & 1                   & 3                   & 1850                & 1745                &  65                 & 2148                & 2120                &  28                 & AA                  &  177                & N332AA              & JFK                 & SFO                 & 314                 & 2586                & 17                  & 45                  & 2013-01-03 17:00:00\\\\\n",
       "\t 2013                & 1                   & 3                   & 1941                & 1759                & 102                 & 2246                & 2139                &  67                 & UA                  &  979                & N402UA              & EWR                 & PHX                 & 274                 & 2133                & 17                  & 59                  & 2013-01-03 17:00:00\\\\\n",
       "\\end{tabular}\n"
      ],
      "text/markdown": [
       "\n",
       "| year | month | day | dep_time | sched_dep_time | dep_delay | arr_time | sched_arr_time | arr_delay | carrier | flight | tailnum | origin | dest | air_time | distance | hour | minute | time_hour |\n",
       "|---|---|---|---|---|---|---|---|---|---|---|---|---|---|---|---|---|---|---|\n",
       "| 2013                | 1                   | 1                   | 2205                | 1720                | 285                 |   46                | 2040                | 246                 | AA                  | 1999                | N5DNAA              | EWR                 | MIA                 | 146                 | 1085                | 17                  | 20                  | 2013-01-01 17:00:00 |\n",
       "| 2013                | 1                   | 1                   | 2326                | 2130                | 116                 |  131                |   18                |  73                 | B6                  |  199                | N594JB              | JFK                 | LAS                 | 290                 | 2248                | 21                  | 30                  | 2013-01-01 21:00:00 |\n",
       "| 2013                | 1                   | 3                   | 1503                | 1221                | 162                 | 1803                | 1555                | 128                 | UA                  |  551                | N835UA              | EWR                 | SFO                 | 320                 | 2565                | 12                  | 21                  | 2013-01-03 12:00:00 |\n",
       "| 2013                | 1                   | 3                   | 1839                | 1700                |  99                 | 2056                | 1950                |  66                 | AA                  |  575                | N631AA              | JFK                 | EGE                 | 239                 | 1747                | 17                  |  0                  | 2013-01-03 17:00:00 |\n",
       "| 2013                | 1                   | 3                   | 1850                | 1745                |  65                 | 2148                | 2120                |  28                 | AA                  |  177                | N332AA              | JFK                 | SFO                 | 314                 | 2586                | 17                  | 45                  | 2013-01-03 17:00:00 |\n",
       "| 2013                | 1                   | 3                   | 1941                | 1759                | 102                 | 2246                | 2139                |  67                 | UA                  |  979                | N402UA              | EWR                 | PHX                 | 274                 | 2133                | 17                  | 59                  | 2013-01-03 17:00:00 |\n",
       "\n"
      ],
      "text/plain": [
       "  year month day dep_time sched_dep_time dep_delay arr_time sched_arr_time\n",
       "1 2013 1     1   2205     1720           285         46     2040          \n",
       "2 2013 1     1   2326     2130           116        131       18          \n",
       "3 2013 1     3   1503     1221           162       1803     1555          \n",
       "4 2013 1     3   1839     1700            99       2056     1950          \n",
       "5 2013 1     3   1850     1745            65       2148     2120          \n",
       "6 2013 1     3   1941     1759           102       2246     2139          \n",
       "  arr_delay carrier flight tailnum origin dest air_time distance hour minute\n",
       "1 246       AA      1999   N5DNAA  EWR    MIA  146      1085     17   20    \n",
       "2  73       B6       199   N594JB  JFK    LAS  290      2248     21   30    \n",
       "3 128       UA       551   N835UA  EWR    SFO  320      2565     12   21    \n",
       "4  66       AA       575   N631AA  JFK    EGE  239      1747     17    0    \n",
       "5  28       AA       177   N332AA  JFK    SFO  314      2586     17   45    \n",
       "6  67       UA       979   N402UA  EWR    PHX  274      2133     17   59    \n",
       "  time_hour          \n",
       "1 2013-01-01 17:00:00\n",
       "2 2013-01-01 21:00:00\n",
       "3 2013-01-03 12:00:00\n",
       "4 2013-01-03 17:00:00\n",
       "5 2013-01-03 17:00:00\n",
       "6 2013-01-03 17:00:00"
      ]
     },
     "metadata": {},
     "output_type": "display_data"
    }
   ],
   "source": [
    "flights6=filter(flights,dep_delay>=60,dep_delay-arr_delay>30)\n",
    "head(flights6)"
   ]
  },
  {
   "cell_type": "code",
   "execution_count": 15,
   "metadata": {},
   "outputs": [
    {
     "name": "stdout",
     "output_type": "stream",
     "text": [
      "[1] \"Number of Flights delayed by an hour but adjusted 30 minutes:\"\n",
      "# A tibble: 1 x 1\n",
      "      n\n",
      "  <int>\n",
      "1  1844\n"
     ]
    }
   ],
   "source": [
    "print(\"Number of Flights delayed by an hour but adjusted 30 minutes:\")\n",
    "print(count(flights6))"
   ]
  },
  {
   "cell_type": "markdown",
   "metadata": {},
   "source": [
    "VII.Departed between midnight and 6am (inclusive)"
   ]
  },
  {
   "cell_type": "code",
   "execution_count": 16,
   "metadata": {},
   "outputs": [
    {
     "data": {
      "text/html": [
       "<table>\n",
       "<thead><tr><th scope=col>year</th><th scope=col>month</th><th scope=col>day</th><th scope=col>dep_time</th><th scope=col>sched_dep_time</th><th scope=col>dep_delay</th><th scope=col>arr_time</th><th scope=col>sched_arr_time</th><th scope=col>arr_delay</th><th scope=col>carrier</th><th scope=col>flight</th><th scope=col>tailnum</th><th scope=col>origin</th><th scope=col>dest</th><th scope=col>air_time</th><th scope=col>distance</th><th scope=col>hour</th><th scope=col>minute</th><th scope=col>time_hour</th></tr></thead>\n",
       "<tbody>\n",
       "\t<tr><td>2013               </td><td> 1                 </td><td>13                 </td><td>1                  </td><td>2249               </td><td> 72                </td><td>108                </td><td>2357               </td><td> 71                </td><td>B6                 </td><td>  22               </td><td>N206JB             </td><td>JFK                </td><td>SYR                </td><td> 41                </td><td> 209               </td><td>22                 </td><td>49                 </td><td>2013-01-13 22:00:00</td></tr>\n",
       "\t<tr><td>2013               </td><td> 1                 </td><td>31                 </td><td>1                  </td><td>2100               </td><td>181                </td><td>124                </td><td>2225               </td><td>179                </td><td>WN                 </td><td> 530               </td><td>N550WN             </td><td>LGA                </td><td>MDW                </td><td>127                </td><td> 725               </td><td>21                 </td><td> 0                 </td><td>2013-01-31 21:00:00</td></tr>\n",
       "\t<tr><td>2013               </td><td>11                 </td><td>13                 </td><td>1                  </td><td>2359               </td><td>  2                </td><td>442                </td><td> 440               </td><td>  2                </td><td>B6                 </td><td>1503               </td><td>N627JB             </td><td>JFK                </td><td>SJU                </td><td>194                </td><td>1598               </td><td>23                 </td><td>59                 </td><td>2013-11-13 23:00:00</td></tr>\n",
       "\t<tr><td>2013               </td><td>12                 </td><td>16                 </td><td>1                  </td><td>2359               </td><td>  2                </td><td>447                </td><td> 437               </td><td> 10                </td><td>B6                 </td><td> 839               </td><td>N607JB             </td><td>JFK                </td><td>BQN                </td><td>202                </td><td>1576               </td><td>23                 </td><td>59                 </td><td>2013-12-16 23:00:00</td></tr>\n",
       "\t<tr><td>2013               </td><td>12                 </td><td>20                 </td><td>1                  </td><td>2359               </td><td>  2                </td><td>430                </td><td> 440               </td><td>-10                </td><td>B6                 </td><td>1503               </td><td>N608JB             </td><td>JFK                </td><td>SJU                </td><td>182                </td><td>1598               </td><td>23                 </td><td>59                 </td><td>2013-12-20 23:00:00</td></tr>\n",
       "\t<tr><td>2013               </td><td>12                 </td><td>26                 </td><td>1                  </td><td>2359               </td><td>  2                </td><td>437                </td><td> 440               </td><td> -3                </td><td>B6                 </td><td>1503               </td><td>N527JB             </td><td>JFK                </td><td>SJU                </td><td>197                </td><td>1598               </td><td>23                 </td><td>59                 </td><td>2013-12-26 23:00:00</td></tr>\n",
       "</tbody>\n",
       "</table>\n"
      ],
      "text/latex": [
       "\\begin{tabular}{r|lllllllllllllllllll}\n",
       " year & month & day & dep\\_time & sched\\_dep\\_time & dep\\_delay & arr\\_time & sched\\_arr\\_time & arr\\_delay & carrier & flight & tailnum & origin & dest & air\\_time & distance & hour & minute & time\\_hour\\\\\n",
       "\\hline\n",
       "\t 2013                &  1                  & 13                  & 1                   & 2249                &  72                 & 108                 & 2357                &  71                 & B6                  &   22                & N206JB              & JFK                 & SYR                 &  41                 &  209                & 22                  & 49                  & 2013-01-13 22:00:00\\\\\n",
       "\t 2013                &  1                  & 31                  & 1                   & 2100                & 181                 & 124                 & 2225                & 179                 & WN                  &  530                & N550WN              & LGA                 & MDW                 & 127                 &  725                & 21                  &  0                  & 2013-01-31 21:00:00\\\\\n",
       "\t 2013                & 11                  & 13                  & 1                   & 2359                &   2                 & 442                 &  440                &   2                 & B6                  & 1503                & N627JB              & JFK                 & SJU                 & 194                 & 1598                & 23                  & 59                  & 2013-11-13 23:00:00\\\\\n",
       "\t 2013                & 12                  & 16                  & 1                   & 2359                &   2                 & 447                 &  437                &  10                 & B6                  &  839                & N607JB              & JFK                 & BQN                 & 202                 & 1576                & 23                  & 59                  & 2013-12-16 23:00:00\\\\\n",
       "\t 2013                & 12                  & 20                  & 1                   & 2359                &   2                 & 430                 &  440                & -10                 & B6                  & 1503                & N608JB              & JFK                 & SJU                 & 182                 & 1598                & 23                  & 59                  & 2013-12-20 23:00:00\\\\\n",
       "\t 2013                & 12                  & 26                  & 1                   & 2359                &   2                 & 437                 &  440                &  -3                 & B6                  & 1503                & N527JB              & JFK                 & SJU                 & 197                 & 1598                & 23                  & 59                  & 2013-12-26 23:00:00\\\\\n",
       "\\end{tabular}\n"
      ],
      "text/markdown": [
       "\n",
       "| year | month | day | dep_time | sched_dep_time | dep_delay | arr_time | sched_arr_time | arr_delay | carrier | flight | tailnum | origin | dest | air_time | distance | hour | minute | time_hour |\n",
       "|---|---|---|---|---|---|---|---|---|---|---|---|---|---|---|---|---|---|---|\n",
       "| 2013                |  1                  | 13                  | 1                   | 2249                |  72                 | 108                 | 2357                |  71                 | B6                  |   22                | N206JB              | JFK                 | SYR                 |  41                 |  209                | 22                  | 49                  | 2013-01-13 22:00:00 |\n",
       "| 2013                |  1                  | 31                  | 1                   | 2100                | 181                 | 124                 | 2225                | 179                 | WN                  |  530                | N550WN              | LGA                 | MDW                 | 127                 |  725                | 21                  |  0                  | 2013-01-31 21:00:00 |\n",
       "| 2013                | 11                  | 13                  | 1                   | 2359                |   2                 | 442                 |  440                |   2                 | B6                  | 1503                | N627JB              | JFK                 | SJU                 | 194                 | 1598                | 23                  | 59                  | 2013-11-13 23:00:00 |\n",
       "| 2013                | 12                  | 16                  | 1                   | 2359                |   2                 | 447                 |  437                |  10                 | B6                  |  839                | N607JB              | JFK                 | BQN                 | 202                 | 1576                | 23                  | 59                  | 2013-12-16 23:00:00 |\n",
       "| 2013                | 12                  | 20                  | 1                   | 2359                |   2                 | 430                 |  440                | -10                 | B6                  | 1503                | N608JB              | JFK                 | SJU                 | 182                 | 1598                | 23                  | 59                  | 2013-12-20 23:00:00 |\n",
       "| 2013                | 12                  | 26                  | 1                   | 2359                |   2                 | 437                 |  440                |  -3                 | B6                  | 1503                | N527JB              | JFK                 | SJU                 | 197                 | 1598                | 23                  | 59                  | 2013-12-26 23:00:00 |\n",
       "\n"
      ],
      "text/plain": [
       "  year month day dep_time sched_dep_time dep_delay arr_time sched_arr_time\n",
       "1 2013  1    13  1        2249            72       108      2357          \n",
       "2 2013  1    31  1        2100           181       124      2225          \n",
       "3 2013 11    13  1        2359             2       442       440          \n",
       "4 2013 12    16  1        2359             2       447       437          \n",
       "5 2013 12    20  1        2359             2       430       440          \n",
       "6 2013 12    26  1        2359             2       437       440          \n",
       "  arr_delay carrier flight tailnum origin dest air_time distance hour minute\n",
       "1  71       B6        22   N206JB  JFK    SYR   41       209     22   49    \n",
       "2 179       WN       530   N550WN  LGA    MDW  127       725     21    0    \n",
       "3   2       B6      1503   N627JB  JFK    SJU  194      1598     23   59    \n",
       "4  10       B6       839   N607JB  JFK    BQN  202      1576     23   59    \n",
       "5 -10       B6      1503   N608JB  JFK    SJU  182      1598     23   59    \n",
       "6  -3       B6      1503   N527JB  JFK    SJU  197      1598     23   59    \n",
       "  time_hour          \n",
       "1 2013-01-13 22:00:00\n",
       "2 2013-01-31 21:00:00\n",
       "3 2013-11-13 23:00:00\n",
       "4 2013-12-16 23:00:00\n",
       "5 2013-12-20 23:00:00\n",
       "6 2013-12-26 23:00:00"
      ]
     },
     "metadata": {},
     "output_type": "display_data"
    }
   ],
   "source": [
    "flights7=filter(flights,dep_time %in% c(2400,1,2,3,4,5,6))\n",
    "head(arrange(flights7,dep_time))"
   ]
  },
  {
   "cell_type": "code",
   "execution_count": 17,
   "metadata": {},
   "outputs": [
    {
     "name": "stdout",
     "output_type": "stream",
     "text": [
      "[1] \"Number of Flights departed between midnight and 6 am:\"\n",
      "# A tibble: 1 x 1\n",
      "      n\n",
      "  <int>\n",
      "1   184\n"
     ]
    }
   ],
   "source": [
    "print(\"Number of Flights departed between midnight and 6 am:\")\n",
    "print(count(flights7))"
   ]
  }
 ],
 "metadata": {
  "kernelspec": {
   "display_name": "R",
   "language": "R",
   "name": "ir"
  },
  "language_info": {
   "codemirror_mode": "r",
   "file_extension": ".r",
   "mimetype": "text/x-r-source",
   "name": "R",
   "pygments_lexer": "r",
   "version": "3.6.1"
  }
 },
 "nbformat": 4,
 "nbformat_minor": 4
}
