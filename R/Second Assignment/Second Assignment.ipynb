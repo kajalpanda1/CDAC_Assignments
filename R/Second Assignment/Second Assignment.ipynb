{
 "cells": [
  {
   "cell_type": "markdown",
   "metadata": {},
   "source": [
    "#### Write a script file where you fit multiple models for different set of variable. In the file, you will see, 5 indepedent variable (X1, X2,...X5) and 3 dependent variables (Y1,Y2,Y3). FOr each dependent variable, look for the possible independent variable among (X1, X2..,X5) and fit a linear model for each dependent variable. YOur program must be very generic and and it should work for any number of independent and dependent variables."
   ]
  },
  {
   "cell_type": "code",
   "execution_count": 6,
   "metadata": {},
   "outputs": [],
   "source": [
    "data=read.csv(\"RpracticeData.csv\")\n",
    "row_num=nrow(data)\n",
    "corr_mat=cor(data)"
   ]
  },
  {
   "cell_type": "code",
   "execution_count": 7,
   "metadata": {},
   "outputs": [
    {
     "data": {
      "text/html": [
       "51"
      ],
      "text/latex": [
       "51"
      ],
      "text/markdown": [
       "51"
      ],
      "text/plain": [
       "[1] 51"
      ]
     },
     "metadata": {},
     "output_type": "display_data"
    }
   ],
   "source": [
    "row_num"
   ]
  },
  {
   "cell_type": "code",
   "execution_count": 8,
   "metadata": {},
   "outputs": [
    {
     "data": {
      "text/html": [
       "<table>\n",
       "<thead><tr><th></th><th scope=col>X1</th><th scope=col>X2</th><th scope=col>X3</th><th scope=col>X4</th><th scope=col>X5</th><th scope=col>Y1</th><th scope=col>Y2</th><th scope=col>Y3</th></tr></thead>\n",
       "<tbody>\n",
       "\t<tr><th scope=row>X1</th><td> 1.000000000</td><td> 0.007330298</td><td>-0.19434451 </td><td> 0.06342779 </td><td> 0.002416183</td><td> 0.97877042 </td><td> 0.05377998 </td><td>-0.18101474 </td></tr>\n",
       "\t<tr><th scope=row>X2</th><td> 0.007330298</td><td> 1.000000000</td><td>-0.07338489 </td><td>-0.22119225 </td><td>-0.026898459</td><td> 0.03241064 </td><td> 0.95948082 </td><td>-0.07353172 </td></tr>\n",
       "\t<tr><th scope=row>X3</th><td>-0.194344512</td><td>-0.073384886</td><td> 1.00000000 </td><td> 0.15430043 </td><td> 0.045011127</td><td>-0.17410387 </td><td>-0.34862435 </td><td> 0.94941149 </td></tr>\n",
       "\t<tr><th scope=row>X4</th><td> 0.063427788</td><td>-0.221192246</td><td> 0.15430043 </td><td> 1.00000000 </td><td>-0.112135727</td><td> 0.11419973 </td><td>-0.25944943 </td><td> 0.23665257 </td></tr>\n",
       "\t<tr><th scope=row>X5</th><td> 0.002416183</td><td>-0.026898459</td><td> 0.04501113 </td><td>-0.11213573 </td><td> 1.000000000</td><td> 0.02748883 </td><td>-0.03666116 </td><td>-0.26448570 </td></tr>\n",
       "\t<tr><th scope=row>Y1</th><td> 0.978770421</td><td> 0.032410638</td><td>-0.17410387 </td><td> 0.11419973 </td><td> 0.027488829</td><td> 1.00000000 </td><td> 0.07006603 </td><td>-0.16622234 </td></tr>\n",
       "\t<tr><th scope=row>Y2</th><td> 0.053779977</td><td> 0.959480824</td><td>-0.34862435 </td><td>-0.25944943 </td><td>-0.036661161</td><td> 0.07006603 </td><td> 1.00000000 </td><td>-0.33576988 </td></tr>\n",
       "\t<tr><th scope=row>Y3</th><td>-0.181014739</td><td>-0.073531721</td><td> 0.94941149 </td><td> 0.23665257 </td><td>-0.264485703</td><td>-0.16622234 </td><td>-0.33576988 </td><td> 1.00000000 </td></tr>\n",
       "</tbody>\n",
       "</table>\n"
      ],
      "text/latex": [
       "\\begin{tabular}{r|llllllll}\n",
       "  & X1 & X2 & X3 & X4 & X5 & Y1 & Y2 & Y3\\\\\n",
       "\\hline\n",
       "\tX1 &  1.000000000 &  0.007330298 & -0.19434451  &  0.06342779  &  0.002416183 &  0.97877042  &  0.05377998  & -0.18101474 \\\\\n",
       "\tX2 &  0.007330298 &  1.000000000 & -0.07338489  & -0.22119225  & -0.026898459 &  0.03241064  &  0.95948082  & -0.07353172 \\\\\n",
       "\tX3 & -0.194344512 & -0.073384886 &  1.00000000  &  0.15430043  &  0.045011127 & -0.17410387  & -0.34862435  &  0.94941149 \\\\\n",
       "\tX4 &  0.063427788 & -0.221192246 &  0.15430043  &  1.00000000  & -0.112135727 &  0.11419973  & -0.25944943  &  0.23665257 \\\\\n",
       "\tX5 &  0.002416183 & -0.026898459 &  0.04501113  & -0.11213573  &  1.000000000 &  0.02748883  & -0.03666116  & -0.26448570 \\\\\n",
       "\tY1 &  0.978770421 &  0.032410638 & -0.17410387  &  0.11419973  &  0.027488829 &  1.00000000  &  0.07006603  & -0.16622234 \\\\\n",
       "\tY2 &  0.053779977 &  0.959480824 & -0.34862435  & -0.25944943  & -0.036661161 &  0.07006603  &  1.00000000  & -0.33576988 \\\\\n",
       "\tY3 & -0.181014739 & -0.073531721 &  0.94941149  &  0.23665257  & -0.264485703 & -0.16622234  & -0.33576988  &  1.00000000 \\\\\n",
       "\\end{tabular}\n"
      ],
      "text/markdown": [
       "\n",
       "| <!--/--> | X1 | X2 | X3 | X4 | X5 | Y1 | Y2 | Y3 |\n",
       "|---|---|---|---|---|---|---|---|---|\n",
       "| X1 |  1.000000000 |  0.007330298 | -0.19434451  |  0.06342779  |  0.002416183 |  0.97877042  |  0.05377998  | -0.18101474  |\n",
       "| X2 |  0.007330298 |  1.000000000 | -0.07338489  | -0.22119225  | -0.026898459 |  0.03241064  |  0.95948082  | -0.07353172  |\n",
       "| X3 | -0.194344512 | -0.073384886 |  1.00000000  |  0.15430043  |  0.045011127 | -0.17410387  | -0.34862435  |  0.94941149  |\n",
       "| X4 |  0.063427788 | -0.221192246 |  0.15430043  |  1.00000000  | -0.112135727 |  0.11419973  | -0.25944943  |  0.23665257  |\n",
       "| X5 |  0.002416183 | -0.026898459 |  0.04501113  | -0.11213573  |  1.000000000 |  0.02748883  | -0.03666116  | -0.26448570  |\n",
       "| Y1 |  0.978770421 |  0.032410638 | -0.17410387  |  0.11419973  |  0.027488829 |  1.00000000  |  0.07006603  | -0.16622234  |\n",
       "| Y2 |  0.053779977 |  0.959480824 | -0.34862435  | -0.25944943  | -0.036661161 |  0.07006603  |  1.00000000  | -0.33576988  |\n",
       "| Y3 | -0.181014739 | -0.073531721 |  0.94941149  |  0.23665257  | -0.264485703 | -0.16622234  | -0.33576988  |  1.00000000  |\n",
       "\n"
      ],
      "text/plain": [
       "   X1           X2           X3          X4          X5           Y1         \n",
       "X1  1.000000000  0.007330298 -0.19434451  0.06342779  0.002416183  0.97877042\n",
       "X2  0.007330298  1.000000000 -0.07338489 -0.22119225 -0.026898459  0.03241064\n",
       "X3 -0.194344512 -0.073384886  1.00000000  0.15430043  0.045011127 -0.17410387\n",
       "X4  0.063427788 -0.221192246  0.15430043  1.00000000 -0.112135727  0.11419973\n",
       "X5  0.002416183 -0.026898459  0.04501113 -0.11213573  1.000000000  0.02748883\n",
       "Y1  0.978770421  0.032410638 -0.17410387  0.11419973  0.027488829  1.00000000\n",
       "Y2  0.053779977  0.959480824 -0.34862435 -0.25944943 -0.036661161  0.07006603\n",
       "Y3 -0.181014739 -0.073531721  0.94941149  0.23665257 -0.264485703 -0.16622234\n",
       "   Y2          Y3         \n",
       "X1  0.05377998 -0.18101474\n",
       "X2  0.95948082 -0.07353172\n",
       "X3 -0.34862435  0.94941149\n",
       "X4 -0.25944943  0.23665257\n",
       "X5 -0.03666116 -0.26448570\n",
       "Y1  0.07006603 -0.16622234\n",
       "Y2  1.00000000 -0.33576988\n",
       "Y3 -0.33576988  1.00000000"
      ]
     },
     "metadata": {},
     "output_type": "display_data"
    }
   ],
   "source": [
    "corr_mat"
   ]
  },
  {
   "cell_type": "code",
   "execution_count": 9,
   "metadata": {},
   "outputs": [],
   "source": [
    "#define threshold\n",
    "threshold=0.2"
   ]
  },
  {
   "cell_type": "code",
   "execution_count": 11,
   "metadata": {},
   "outputs": [
    {
     "name": "stdout",
     "output_type": "stream",
     "text": [
      "\n",
      "Call:\n",
      "lm(formula = as.formula(textformula), data = data)\n",
      "\n",
      "Residuals:\n",
      "    Min      1Q  Median      3Q     Max \n",
      "-4.2427 -1.7348  0.2229  1.3678  5.8135 \n",
      "\n",
      "Coefficients:\n",
      "            Estimate Std. Error t value Pr(>|t|)    \n",
      "(Intercept)  4.77506    0.40422   11.81 6.01e-16 ***\n",
      "X1           0.50672    0.01516   33.43  < 2e-16 ***\n",
      "---\n",
      "Signif. codes:  0 '***' 0.001 '**' 0.01 '*' 0.05 '.' 0.1 ' ' 1\n",
      "\n",
      "Residual standard error: 2.217 on 49 degrees of freedom\n",
      "Multiple R-squared:  0.958,\tAdjusted R-squared:  0.9571 \n",
      "F-statistic:  1117 on 1 and 49 DF,  p-value: < 2.2e-16\n",
      "\n",
      "\n",
      "Call:\n",
      "lm(formula = as.formula(textformula), data = data)\n",
      "\n",
      "Residuals:\n",
      "   Min     1Q Median     3Q    Max \n",
      "-32.27 -14.67   1.83  18.68  28.98 \n",
      "\n",
      "Coefficients:\n",
      "            Estimate Std. Error t value Pr(>|t|)    \n",
      "(Intercept)  1.51416    7.00192   0.216   0.8297    \n",
      "X2           0.03050    0.08380   0.364   0.7175    \n",
      "X3           1.95504    0.09262  21.107   <2e-16 ***\n",
      "X4           1.99848    0.94512   2.115   0.0398 *  \n",
      "---\n",
      "Signif. codes:  0 '***' 0.001 '**' 0.01 '*' 0.05 '.' 0.1 ' ' 1\n",
      "\n",
      "Residual standard error: 18.63 on 47 degrees of freedom\n",
      "Multiple R-squared:   0.91,\tAdjusted R-squared:  0.9042 \n",
      "F-statistic: 158.3 on 3 and 47 DF,  p-value: < 2.2e-16\n",
      "\n"
     ]
    },
    {
     "ename": "ERROR",
     "evalue": "Error in eval(predvars, data, env): object 'Y5' not found\n",
     "output_type": "error",
     "traceback": [
      "Error in eval(predvars, data, env): object 'Y5' not found\nTraceback:\n",
      "1. lm(as.formula(textformula), data = data)",
      "2. eval(mf, parent.frame())",
      "3. eval(mf, parent.frame())",
      "4. stats::model.frame(formula = as.formula(textformula), data = data, \n .     drop.unused.levels = TRUE)",
      "5. model.frame.default(formula = as.formula(textformula), data = data, \n .     drop.unused.levels = TRUE)",
      "6. eval(predvars, data, env)",
      "7. eval(predvars, data, env)"
     ]
    }
   ],
   "source": [
    "for (i in 1:3){\n",
    "  ycorr=corr_mat[1:5 , 5+i]\n",
    "  vars=which(abs(ycorr)>=threshold)\n",
    "  l=length(vars)\n",
    "  varibleName=c()\n",
    "  for (j in 1:l){\n",
    "    varibleName[j]=paste ('X', toString(vars[j]) , sep='')\n",
    "  }\n",
    "  dependentvar=paste('Y' , toString(vars[i]) , sep='')\n",
    "  X=paste(varibleName, collapse = \"+\")\n",
    "  textformula=paste(dependentvar, '~',X, sep='')\n",
    "  YModel=lm(as.formula(textformula), data=data)\n",
    "  print(summary(YModel))\n",
    "}   "
   ]
  }
 ],
 "metadata": {
  "kernelspec": {
   "display_name": "R",
   "language": "R",
   "name": "ir"
  },
  "language_info": {
   "codemirror_mode": "r",
   "file_extension": ".r",
   "mimetype": "text/x-r-source",
   "name": "R",
   "pygments_lexer": "r",
   "version": "3.6.1"
  }
 },
 "nbformat": 4,
 "nbformat_minor": 4
}
