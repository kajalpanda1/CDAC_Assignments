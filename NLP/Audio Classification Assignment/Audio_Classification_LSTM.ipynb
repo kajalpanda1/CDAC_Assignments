{
  "nbformat": 4,
  "nbformat_minor": 0,
  "metadata": {
    "colab": {
      "name": "Audio_Classification_LSTM.ipynb",
      "provenance": [],
      "collapsed_sections": []
    },
    "kernelspec": {
      "name": "python3",
      "display_name": "Python 3"
    }
  },
  "cells": [
    {
      "cell_type": "code",
      "metadata": {
        "colab": {
          "base_uri": "https://localhost:8080/"
        },
        "id": "7vXvnehNhE9f",
        "outputId": "440bfc80-f1ce-496c-a96c-3d7e3638159d"
      },
      "source": [
        "!wget \"http://opihi.cs.uvic.ca/sound/genres.tar.gz\""
      ],
      "execution_count": 1,
      "outputs": [
        {
          "output_type": "stream",
          "text": [
            "--2020-12-16 08:26:39--  http://opihi.cs.uvic.ca/sound/genres.tar.gz\n",
            "Resolving opihi.cs.uvic.ca (opihi.cs.uvic.ca)... 142.104.68.135\n",
            "Connecting to opihi.cs.uvic.ca (opihi.cs.uvic.ca)|142.104.68.135|:80... connected.\n",
            "HTTP request sent, awaiting response... 200 OK\n",
            "Length: 1225571541 (1.1G) [application/x-gzip]\n",
            "Saving to: ‘genres.tar.gz’\n",
            "\n",
            "genres.tar.gz       100%[===================>]   1.14G  1009KB/s    in 19m 37s \n",
            "\n",
            "2020-12-16 08:46:17 (1017 KB/s) - ‘genres.tar.gz’ saved [1225571541/1225571541]\n",
            "\n"
          ],
          "name": "stdout"
        }
      ]
    },
    {
      "cell_type": "code",
      "metadata": {
        "id": "RqsOrHxAhItH"
      },
      "source": [
        "#!tar -xvf genres.tar.gz"
      ],
      "execution_count": 3,
      "outputs": []
    },
    {
      "cell_type": "code",
      "metadata": {
        "id": "NMqBvyk8TbzV"
      },
      "source": [
        "#importing required libraries\n",
        "import librosa\n",
        "import pandas as pd\n",
        "import numpy as np\n",
        "import matplotlib.pyplot as plt\n",
        "%matplotlib inline\n",
        "\n",
        "import os\n",
        "from PIL import Image\n",
        "import pathlib\n",
        "import csv\n",
        "\n",
        "from sklearn.model_selection import train_test_split\n",
        "from sklearn.preprocessing import LabelEncoder, StandardScaler\n",
        "\n",
        "import keras\n",
        "from keras.utils import to_categorical\n",
        "from keras.models import Sequential\n",
        "from keras.layers.recurrent import LSTM\n",
        "from keras.layers import Dense\n",
        "from keras.optimizers import Adam\n",
        "\n",
        "import warnings\n",
        "warnings.filterwarnings('ignore')"
      ],
      "execution_count": 4,
      "outputs": []
    },
    {
      "cell_type": "code",
      "metadata": {
        "id": "temN3cKCGq21"
      },
      "source": [
        "#header name for the csv file \r\n",
        "header = 'filename'\r\n",
        "for i in range(1, 21):\r\n",
        "    header += f' mfcc{i}'\r\n",
        "header += ' label'\r\n",
        "header = header.split()"
      ],
      "execution_count": 8,
      "outputs": []
    },
    {
      "cell_type": "code",
      "metadata": {
        "id": "EEzM5Y1BGaqV"
      },
      "source": [
        "#extracting mfcc features and writing into csv file\r\n",
        "file = open('dataset.csv', 'w', newline='') \r\n",
        "with file:\r\n",
        "    writer = csv.writer(file)\r\n",
        "    writer.writerow(header)\r\n",
        "\r\n",
        "genres = 'blues classical country disco hiphop jazz metal pop reggae rock'.split()\r\n",
        "for g in genres:\r\n",
        "    for filename in os.listdir(f'genres/{g}'):\r\n",
        "        songname = f'genres/{g}/{filename}'\r\n",
        "        y, sr = librosa.load(songname, mono=True, duration=30)\r\n",
        "        mfcc = librosa.feature.mfcc(y=y, sr=sr)  \r\n",
        "        to_append = f'{filename}' \r\n",
        "        for e in mfcc:\r\n",
        "            to_append += f' {np.mean(e)}'\r\n",
        "        to_append += f' {g}'\r\n",
        "        file = open('dataset.csv', 'a', newline='')\r\n",
        "        with file:\r\n",
        "            writer = csv.writer(file)\r\n",
        "            writer.writerow(to_append.split())"
      ],
      "execution_count": 9,
      "outputs": []
    },
    {
      "cell_type": "code",
      "metadata": {
        "colab": {
          "base_uri": "https://localhost:8080/",
          "height": 224
        },
        "id": "910PZD_xGmQB",
        "outputId": "45d2edba-3d48-4a3b-e607-b3b6512783e9"
      },
      "source": [
        "#reading the csv file\r\n",
        "data = pd.read_csv('dataset.csv')\r\n",
        "data.head()"
      ],
      "execution_count": 10,
      "outputs": [
        {
          "output_type": "execute_result",
          "data": {
            "text/html": [
              "<div>\n",
              "<style scoped>\n",
              "    .dataframe tbody tr th:only-of-type {\n",
              "        vertical-align: middle;\n",
              "    }\n",
              "\n",
              "    .dataframe tbody tr th {\n",
              "        vertical-align: top;\n",
              "    }\n",
              "\n",
              "    .dataframe thead th {\n",
              "        text-align: right;\n",
              "    }\n",
              "</style>\n",
              "<table border=\"1\" class=\"dataframe\">\n",
              "  <thead>\n",
              "    <tr style=\"text-align: right;\">\n",
              "      <th></th>\n",
              "      <th>filename</th>\n",
              "      <th>mfcc1</th>\n",
              "      <th>mfcc2</th>\n",
              "      <th>mfcc3</th>\n",
              "      <th>mfcc4</th>\n",
              "      <th>mfcc5</th>\n",
              "      <th>mfcc6</th>\n",
              "      <th>mfcc7</th>\n",
              "      <th>mfcc8</th>\n",
              "      <th>mfcc9</th>\n",
              "      <th>mfcc10</th>\n",
              "      <th>mfcc11</th>\n",
              "      <th>mfcc12</th>\n",
              "      <th>mfcc13</th>\n",
              "      <th>mfcc14</th>\n",
              "      <th>mfcc15</th>\n",
              "      <th>mfcc16</th>\n",
              "      <th>mfcc17</th>\n",
              "      <th>mfcc18</th>\n",
              "      <th>mfcc19</th>\n",
              "      <th>mfcc20</th>\n",
              "      <th>label</th>\n",
              "    </tr>\n",
              "  </thead>\n",
              "  <tbody>\n",
              "    <tr>\n",
              "      <th>0</th>\n",
              "      <td>blues.00059.wav</td>\n",
              "      <td>-86.225308</td>\n",
              "      <td>91.948446</td>\n",
              "      <td>-23.408660</td>\n",
              "      <td>68.253294</td>\n",
              "      <td>-3.895874</td>\n",
              "      <td>22.745264</td>\n",
              "      <td>-9.899615</td>\n",
              "      <td>16.895979</td>\n",
              "      <td>-11.397530</td>\n",
              "      <td>18.431677</td>\n",
              "      <td>-7.015263</td>\n",
              "      <td>10.771055</td>\n",
              "      <td>-11.938686</td>\n",
              "      <td>1.005815</td>\n",
              "      <td>-5.923496</td>\n",
              "      <td>5.318166</td>\n",
              "      <td>-6.140526</td>\n",
              "      <td>1.948991</td>\n",
              "      <td>-5.102755</td>\n",
              "      <td>-0.666248</td>\n",
              "      <td>blues</td>\n",
              "    </tr>\n",
              "    <tr>\n",
              "      <th>1</th>\n",
              "      <td>blues.00024.wav</td>\n",
              "      <td>-274.288785</td>\n",
              "      <td>130.417424</td>\n",
              "      <td>-6.394800</td>\n",
              "      <td>70.410680</td>\n",
              "      <td>13.265857</td>\n",
              "      <td>9.463105</td>\n",
              "      <td>7.723189</td>\n",
              "      <td>-1.245347</td>\n",
              "      <td>-0.575020</td>\n",
              "      <td>-2.299992</td>\n",
              "      <td>3.783482</td>\n",
              "      <td>0.080915</td>\n",
              "      <td>-0.939682</td>\n",
              "      <td>2.295373</td>\n",
              "      <td>4.290512</td>\n",
              "      <td>-1.661926</td>\n",
              "      <td>-10.444825</td>\n",
              "      <td>-6.797826</td>\n",
              "      <td>-1.068164</td>\n",
              "      <td>-1.596130</td>\n",
              "      <td>blues</td>\n",
              "    </tr>\n",
              "    <tr>\n",
              "      <th>2</th>\n",
              "      <td>blues.00093.wav</td>\n",
              "      <td>-350.436204</td>\n",
              "      <td>169.545752</td>\n",
              "      <td>31.820372</td>\n",
              "      <td>16.682836</td>\n",
              "      <td>28.710147</td>\n",
              "      <td>19.256975</td>\n",
              "      <td>7.863395</td>\n",
              "      <td>10.036764</td>\n",
              "      <td>4.735106</td>\n",
              "      <td>2.907466</td>\n",
              "      <td>3.915553</td>\n",
              "      <td>1.821690</td>\n",
              "      <td>-5.970892</td>\n",
              "      <td>-5.259568</td>\n",
              "      <td>-0.229211</td>\n",
              "      <td>-1.776851</td>\n",
              "      <td>-3.713751</td>\n",
              "      <td>0.181590</td>\n",
              "      <td>2.072390</td>\n",
              "      <td>-2.896225</td>\n",
              "      <td>blues</td>\n",
              "    </tr>\n",
              "    <tr>\n",
              "      <th>3</th>\n",
              "      <td>blues.00056.wav</td>\n",
              "      <td>-145.434568</td>\n",
              "      <td>102.829023</td>\n",
              "      <td>-12.517677</td>\n",
              "      <td>56.993472</td>\n",
              "      <td>2.271347</td>\n",
              "      <td>26.591402</td>\n",
              "      <td>-4.274803</td>\n",
              "      <td>17.338809</td>\n",
              "      <td>-7.985593</td>\n",
              "      <td>15.235427</td>\n",
              "      <td>-6.934599</td>\n",
              "      <td>7.457218</td>\n",
              "      <td>-10.470444</td>\n",
              "      <td>-2.360483</td>\n",
              "      <td>-6.783623</td>\n",
              "      <td>2.671134</td>\n",
              "      <td>-4.760879</td>\n",
              "      <td>-0.949005</td>\n",
              "      <td>0.024832</td>\n",
              "      <td>-2.005315</td>\n",
              "      <td>blues</td>\n",
              "    </tr>\n",
              "    <tr>\n",
              "      <th>4</th>\n",
              "      <td>blues.00071.wav</td>\n",
              "      <td>-89.357906</td>\n",
              "      <td>93.786055</td>\n",
              "      <td>-14.574538</td>\n",
              "      <td>54.391654</td>\n",
              "      <td>-33.508380</td>\n",
              "      <td>19.420994</td>\n",
              "      <td>-19.761601</td>\n",
              "      <td>13.026320</td>\n",
              "      <td>-13.865957</td>\n",
              "      <td>14.607766</td>\n",
              "      <td>-14.969526</td>\n",
              "      <td>10.585571</td>\n",
              "      <td>-18.026934</td>\n",
              "      <td>6.654247</td>\n",
              "      <td>-10.204747</td>\n",
              "      <td>6.527642</td>\n",
              "      <td>-10.846745</td>\n",
              "      <td>3.319423</td>\n",
              "      <td>-6.189024</td>\n",
              "      <td>2.994841</td>\n",
              "      <td>blues</td>\n",
              "    </tr>\n",
              "  </tbody>\n",
              "</table>\n",
              "</div>"
            ],
            "text/plain": [
              "          filename       mfcc1       mfcc2  ...    mfcc19    mfcc20  label\n",
              "0  blues.00059.wav  -86.225308   91.948446  ... -5.102755 -0.666248  blues\n",
              "1  blues.00024.wav -274.288785  130.417424  ... -1.068164 -1.596130  blues\n",
              "2  blues.00093.wav -350.436204  169.545752  ...  2.072390 -2.896225  blues\n",
              "3  blues.00056.wav -145.434568  102.829023  ...  0.024832 -2.005315  blues\n",
              "4  blues.00071.wav  -89.357906   93.786055  ... -6.189024  2.994841  blues\n",
              "\n",
              "[5 rows x 22 columns]"
            ]
          },
          "metadata": {
            "tags": []
          },
          "execution_count": 10
        }
      ]
    },
    {
      "cell_type": "code",
      "metadata": {
        "id": "Y4qij-PMG8R4"
      },
      "source": [
        "#segregating the filename from the dataset\r\n",
        "data = data.drop(['filename'],axis=1)\r\n",
        "\r\n",
        "#encoding the Labels\r\n",
        "genre_list = data.iloc[:, -1]\r\n",
        "encoder = LabelEncoder()\r\n",
        "y = encoder.fit_transform(genre_list)\r\n",
        "\r\n",
        "#scaling the Feature columns\r\n",
        "scaler = StandardScaler()\r\n",
        "X = scaler.fit_transform(np.array(data.iloc[:, :-1], dtype = float))"
      ],
      "execution_count": 11,
      "outputs": []
    },
    {
      "cell_type": "code",
      "metadata": {
        "id": "FTF1WypDhKky"
      },
      "source": [
        "#splitting data into training and Testing set\r\n",
        "X_train, X_test, y_train, y_test = train_test_split(X, y, test_size=0.2)"
      ],
      "execution_count": 42,
      "outputs": []
    },
    {
      "cell_type": "code",
      "metadata": {
        "colab": {
          "base_uri": "https://localhost:8080/"
        },
        "id": "-ULgoCHyHEX3",
        "outputId": "7d4c390b-9d3a-42e0-f54c-1efb0373fcae"
      },
      "source": [
        "print(\"Training X shape: \",X_train.shape)\r\n",
        "print(\"Training Y shape: \",y_train.shape)"
      ],
      "execution_count": 43,
      "outputs": [
        {
          "output_type": "stream",
          "text": [
            "Training X shape:  (800, 20)\n",
            "Training Y shape:  (800,)\n"
          ],
          "name": "stdout"
        }
      ]
    },
    {
      "cell_type": "code",
      "metadata": {
        "colab": {
          "base_uri": "https://localhost:8080/"
        },
        "id": "34ftGrAuHSaz",
        "outputId": "54740451-1e1a-494b-d105-92f20a856c01"
      },
      "source": [
        "print(\"Test X shape: \",X_test.shape)\r\n",
        "print(\"Test Y shape: \",y_test.shape)"
      ],
      "execution_count": 44,
      "outputs": [
        {
          "output_type": "stream",
          "text": [
            "Test X shape:  (200, 20)\n",
            "Test Y shape:  (200,)\n"
          ],
          "name": "stdout"
        }
      ]
    },
    {
      "cell_type": "code",
      "metadata": {
        "id": "fltKDrXQYnka"
      },
      "source": [
        "#reshaping the input for LSTM model\r\n",
        "X_train = X_train.reshape(800,20,1)\r\n",
        "X_test = X_test.reshape(200,20,1)"
      ],
      "execution_count": 45,
      "outputs": []
    },
    {
      "cell_type": "code",
      "metadata": {
        "id": "EfQrQPWsYtqw"
      },
      "source": [
        "#converting the labels to numerical ones\r\n",
        "y_train = to_categorical(y_train)\r\n",
        "y_test = to_categorical(y_test)"
      ],
      "execution_count": 46,
      "outputs": []
    },
    {
      "cell_type": "code",
      "metadata": {
        "id": "-rLMEb7MWzLV"
      },
      "source": [
        "#building LSTM model\r\n",
        "model = Sequential()\r\n",
        "model.add(LSTM(128, return_sequences=True, input_shape=(X_train.shape[1],X_train.shape[2])))\r\n",
        "model.add(LSTM(64))\r\n",
        "model.add(Dense(64, activation='relu'))\r\n",
        "model.add(keras.layers.Dropout(0.3))\r\n",
        "model.add(Dense(10, activation='softmax'))"
      ],
      "execution_count": 47,
      "outputs": []
    },
    {
      "cell_type": "code",
      "metadata": {
        "colab": {
          "base_uri": "https://localhost:8080/"
        },
        "id": "DCJe_-zIH4Wn",
        "outputId": "b5487f34-da05-4a02-adf1-18957ff917d1"
      },
      "source": [
        "model.compile(loss=\"categorical_crossentropy\", optimizer=Adam(), metrics=[\"accuracy\"])\r\n",
        "model.summary()"
      ],
      "execution_count": 48,
      "outputs": [
        {
          "output_type": "stream",
          "text": [
            "Model: \"sequential_3\"\n",
            "_________________________________________________________________\n",
            "Layer (type)                 Output Shape              Param #   \n",
            "=================================================================\n",
            "lstm_6 (LSTM)                (None, 20, 128)           66560     \n",
            "_________________________________________________________________\n",
            "lstm_7 (LSTM)                (None, 64)                49408     \n",
            "_________________________________________________________________\n",
            "dense_6 (Dense)              (None, 64)                4160      \n",
            "_________________________________________________________________\n",
            "dropout_3 (Dropout)          (None, 64)                0         \n",
            "_________________________________________________________________\n",
            "dense_7 (Dense)              (None, 10)                650       \n",
            "=================================================================\n",
            "Total params: 120,778\n",
            "Trainable params: 120,778\n",
            "Non-trainable params: 0\n",
            "_________________________________________________________________\n"
          ],
          "name": "stdout"
        }
      ]
    },
    {
      "cell_type": "code",
      "metadata": {
        "colab": {
          "base_uri": "https://localhost:8080/"
        },
        "id": "pdWofsOtIM2s",
        "outputId": "e2a66d9b-9b3b-4dbb-9461-2c955ae953f7"
      },
      "source": [
        "history=model.fit(X_train, y_train, epochs=30, batch_size=64, validation_data=(X_test, y_test))"
      ],
      "execution_count": 49,
      "outputs": [
        {
          "output_type": "stream",
          "text": [
            "Epoch 1/30\n",
            "13/13 [==============================] - 2s 119ms/step - loss: 2.2865 - accuracy: 0.1475 - val_loss: 2.2651 - val_accuracy: 0.1600\n",
            "Epoch 2/30\n",
            "13/13 [==============================] - 1s 55ms/step - loss: 2.2078 - accuracy: 0.1725 - val_loss: 2.1362 - val_accuracy: 0.1800\n",
            "Epoch 3/30\n",
            "13/13 [==============================] - 1s 55ms/step - loss: 2.0874 - accuracy: 0.2100 - val_loss: 2.0390 - val_accuracy: 0.2500\n",
            "Epoch 4/30\n",
            "13/13 [==============================] - 1s 54ms/step - loss: 2.0727 - accuracy: 0.2075 - val_loss: 2.0127 - val_accuracy: 0.2700\n",
            "Epoch 5/30\n",
            "13/13 [==============================] - 1s 54ms/step - loss: 2.0418 - accuracy: 0.2387 - val_loss: 2.0182 - val_accuracy: 0.2500\n",
            "Epoch 6/30\n",
            "13/13 [==============================] - 1s 56ms/step - loss: 2.0087 - accuracy: 0.2475 - val_loss: 2.0000 - val_accuracy: 0.2300\n",
            "Epoch 7/30\n",
            "13/13 [==============================] - 1s 55ms/step - loss: 2.0013 - accuracy: 0.2463 - val_loss: 1.9878 - val_accuracy: 0.2700\n",
            "Epoch 8/30\n",
            "13/13 [==============================] - 1s 54ms/step - loss: 1.9744 - accuracy: 0.2775 - val_loss: 1.9384 - val_accuracy: 0.3050\n",
            "Epoch 9/30\n",
            "13/13 [==============================] - 1s 53ms/step - loss: 1.9473 - accuracy: 0.2825 - val_loss: 1.9877 - val_accuracy: 0.2650\n",
            "Epoch 10/30\n",
            "13/13 [==============================] - 1s 53ms/step - loss: 1.9549 - accuracy: 0.2850 - val_loss: 1.9657 - val_accuracy: 0.2550\n",
            "Epoch 11/30\n",
            "13/13 [==============================] - 1s 56ms/step - loss: 1.9404 - accuracy: 0.2725 - val_loss: 1.9250 - val_accuracy: 0.3000\n",
            "Epoch 12/30\n",
            "13/13 [==============================] - 1s 55ms/step - loss: 1.9349 - accuracy: 0.2612 - val_loss: 1.9389 - val_accuracy: 0.2950\n",
            "Epoch 13/30\n",
            "13/13 [==============================] - 1s 53ms/step - loss: 1.9179 - accuracy: 0.2837 - val_loss: 1.9106 - val_accuracy: 0.2950\n",
            "Epoch 14/30\n",
            "13/13 [==============================] - 1s 55ms/step - loss: 1.8973 - accuracy: 0.2962 - val_loss: 1.9222 - val_accuracy: 0.3000\n",
            "Epoch 15/30\n",
            "13/13 [==============================] - 1s 53ms/step - loss: 1.9088 - accuracy: 0.2975 - val_loss: 1.8891 - val_accuracy: 0.3200\n",
            "Epoch 16/30\n",
            "13/13 [==============================] - 1s 55ms/step - loss: 1.8708 - accuracy: 0.3250 - val_loss: 1.8950 - val_accuracy: 0.3250\n",
            "Epoch 17/30\n",
            "13/13 [==============================] - 1s 54ms/step - loss: 1.8708 - accuracy: 0.3038 - val_loss: 1.9073 - val_accuracy: 0.3350\n",
            "Epoch 18/30\n",
            "13/13 [==============================] - 1s 53ms/step - loss: 1.8507 - accuracy: 0.2962 - val_loss: 1.9117 - val_accuracy: 0.3200\n",
            "Epoch 19/30\n",
            "13/13 [==============================] - 1s 55ms/step - loss: 1.8756 - accuracy: 0.3063 - val_loss: 1.8740 - val_accuracy: 0.3250\n",
            "Epoch 20/30\n",
            "13/13 [==============================] - 1s 53ms/step - loss: 1.8345 - accuracy: 0.3288 - val_loss: 1.8798 - val_accuracy: 0.3650\n",
            "Epoch 21/30\n",
            "13/13 [==============================] - 1s 53ms/step - loss: 1.8114 - accuracy: 0.3438 - val_loss: 1.8517 - val_accuracy: 0.3700\n",
            "Epoch 22/30\n",
            "13/13 [==============================] - 1s 53ms/step - loss: 1.7920 - accuracy: 0.3512 - val_loss: 1.8743 - val_accuracy: 0.3400\n",
            "Epoch 23/30\n",
            "13/13 [==============================] - 1s 54ms/step - loss: 1.7929 - accuracy: 0.3400 - val_loss: 1.8694 - val_accuracy: 0.3550\n",
            "Epoch 24/30\n",
            "13/13 [==============================] - 1s 56ms/step - loss: 1.7681 - accuracy: 0.3650 - val_loss: 1.8294 - val_accuracy: 0.3850\n",
            "Epoch 25/30\n",
            "13/13 [==============================] - 1s 55ms/step - loss: 1.7317 - accuracy: 0.3875 - val_loss: 1.8194 - val_accuracy: 0.3600\n",
            "Epoch 26/30\n",
            "13/13 [==============================] - 1s 54ms/step - loss: 1.7211 - accuracy: 0.3675 - val_loss: 1.7453 - val_accuracy: 0.4300\n",
            "Epoch 27/30\n",
            "13/13 [==============================] - 1s 56ms/step - loss: 1.7138 - accuracy: 0.3762 - val_loss: 1.7519 - val_accuracy: 0.4050\n",
            "Epoch 28/30\n",
            "13/13 [==============================] - 1s 55ms/step - loss: 1.6715 - accuracy: 0.3950 - val_loss: 1.7274 - val_accuracy: 0.3700\n",
            "Epoch 29/30\n",
            "13/13 [==============================] - 1s 54ms/step - loss: 1.6510 - accuracy: 0.4087 - val_loss: 1.7464 - val_accuracy: 0.3800\n",
            "Epoch 30/30\n",
            "13/13 [==============================] - 1s 55ms/step - loss: 1.6452 - accuracy: 0.4225 - val_loss: 1.7219 - val_accuracy: 0.4100\n"
          ],
          "name": "stdout"
        }
      ]
    },
    {
      "cell_type": "code",
      "metadata": {
        "id": "8yF-BAcLw_cQ",
        "colab": {
          "base_uri": "https://localhost:8080/"
        },
        "outputId": "02403aed-4b70-47a9-e76b-61d2415b282e"
      },
      "source": [
        " # evaluate model on test set\r\n",
        "test_loss, test_acc = model.evaluate(X_test, y_test, verbose=2)\r\n",
        "print('\\nTest accuracy:', test_acc)"
      ],
      "execution_count": 50,
      "outputs": [
        {
          "output_type": "stream",
          "text": [
            "7/7 - 0s - loss: 1.7219 - accuracy: 0.4100\n",
            "\n",
            "Test accuracy: 0.4099999964237213\n"
          ],
          "name": "stdout"
        }
      ]
    },
    {
      "cell_type": "code",
      "metadata": {
        "id": "D_zvf64fJlvM",
        "colab": {
          "base_uri": "https://localhost:8080/",
          "height": 312
        },
        "outputId": "74f31713-5ecf-4767-f7b3-59eb4e541f11"
      },
      "source": [
        "# create accuracy sublpot\r\n",
        "plt.plot(history.history[\"accuracy\"], label=\"train accuracy\")\r\n",
        "plt.plot(history.history[\"val_accuracy\"], label=\"test accuracy\")\r\n",
        "plt.xlabel(\"Epoch\")\r\n",
        "plt.ylabel(\"Count\")\r\n",
        "plt.legend(loc=\"upper left\")\r\n",
        "plt.title(\"Accuracy of the model\")"
      ],
      "execution_count": 52,
      "outputs": [
        {
          "output_type": "execute_result",
          "data": {
            "text/plain": [
              "Text(0.5, 1.0, 'Accuracy of the model')"
            ]
          },
          "metadata": {
            "tags": []
          },
          "execution_count": 52
        },
        {
          "output_type": "display_data",
          "data": {
            "image/png": "[encoded data removed]",
            "text/plain": [
              "<Figure size 432x288 with 1 Axes>"
            ]
          },
          "metadata": {
            "tags": [],
            "needs_background": "light"
          }
        }
      ]
    }
  ]
}