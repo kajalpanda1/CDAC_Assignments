{
  "nbformat": 4,
  "nbformat_minor": 0,
  "metadata": {
    "colab": {
      "name": "Question-3.ipynb",
      "provenance": [],
      "collapsed_sections": []
    },
    "kernelspec": {
      "name": "python3",
      "display_name": "Python 3"
    }
  },
  "cells": [
    {
      "cell_type": "markdown",
      "metadata": {
        "id": "XMyp04_fxppq",
        "colab_type": "text"
      },
      "source": [
        "Use the make_classification() function to create a synthetic binary classification problem with 1,000 examples and 20 input features. Use this synthetic dataset to build a classification model using Random forest classifier. Evaluate your model using stratified cross fold validation. \n"
      ]
    },
    {
      "cell_type": "code",
      "metadata": {
        "id": "CWZATKx5yZ_g",
        "colab_type": "code",
        "colab": {}
      },
      "source": [
        "from sklearn.datasets import make_classification\n",
        "from sklearn.model_selection import cross_val_score\n",
        "from sklearn.ensemble import RandomForestClassifier\n",
        "from sklearn.model_selection import StratifiedKFold"
      ],
      "execution_count": 27,
      "outputs": []
    },
    {
      "cell_type": "code",
      "metadata": {
        "id": "cZ8xJGYDzmsf",
        "colab_type": "code",
        "colab": {}
      },
      "source": [
        "x,y=make_classification(n_samples=1000,n_features=20,random_state=10)"
      ],
      "execution_count": 54,
      "outputs": []
    },
    {
      "cell_type": "code",
      "metadata": {
        "id": "J0RVOy-ty3YF",
        "colab_type": "code",
        "colab": {
          "base_uri": "https://localhost:8080/",
          "height": 70
        },
        "outputId": "4f25ca87-3934-4a50-f9e8-392d85b044bc"
      },
      "source": [
        "skfold=StratifiedKFold(n_splits=5,random_state=10)\n",
        "model_skfold=RandomForestClassifier(n_estimators=100)\n",
        "results_skfold=cross_val_score(model_skfold,x,y,cv=skfold)"
      ],
      "execution_count": 55,
      "outputs": [
        {
          "output_type": "stream",
          "text": [
            "/usr/local/lib/python3.6/dist-packages/sklearn/model_selection/_split.py:296: FutureWarning: Setting a random_state has no effect since shuffle is False. This will raise an error in 0.24. You should leave random_state to its default (None), or set shuffle=True.\n",
            "  FutureWarning\n"
          ],
          "name": "stderr"
        }
      ]
    },
    {
      "cell_type": "code",
      "metadata": {
        "id": "ERG_gLjA0kjP",
        "colab_type": "code",
        "colab": {
          "base_uri": "https://localhost:8080/",
          "height": 34
        },
        "outputId": "2bf55b7f-5d28-4bd1-97c1-05c32c57ecbc"
      },
      "source": [
        "print(\"Accuracy: \",results_skfold.mean()*100)"
      ],
      "execution_count": 56,
      "outputs": [
        {
          "output_type": "stream",
          "text": [
            "Accuracy:  89.30000000000001\n"
          ],
          "name": "stdout"
        }
      ]
    }
  ]
}