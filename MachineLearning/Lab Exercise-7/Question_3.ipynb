{
  "nbformat": 4,
  "nbformat_minor": 0,
  "metadata": {
    "colab": {
      "name": "Question-3.ipynb",
      "provenance": [],
      "collapsed_sections": []
    },
    "kernelspec": {
      "name": "python3",
      "display_name": "Python 3"
    }
  },
  "cells": [
    {
      "cell_type": "markdown",
      "metadata": {
        "id": "XMyp04_fxppq",
        "colab_type": "text"
      },
      "source": [
        "Use the make_classification() function to create a synthetic binary classification problem with 1,000 examples and 20 input features. Use this synthetic dataset to build a classification model using Random forest classifier. Evaluate your model using stratified cross fold validation. \n"
      ]
    },
    {
      "cell_type": "code",
      "metadata": {
        "id": "CWZATKx5yZ_g",
        "colab_type": "code",
        "colab": {}
      },
      "source": [
        "from sklearn.datasets import make_classification\n",
        "from sklearn.model_selection import cross_val_score\n",
        "from sklearn.ensemble import RandomForestClassifier\n",
        "from sklearn.model_selection import StratifiedKFold"
      ],
      "execution_count": 5,
      "outputs": []
    },
    {
      "cell_type": "code",
      "metadata": {
        "id": "cZ8xJGYDzmsf",
        "colab_type": "code",
        "colab": {}
      },
      "source": [
        "x,y=make_classification(n_samples=1000,n_features=20,random_state=10)"
      ],
      "execution_count": 6,
      "outputs": []
    },
    {
      "cell_type": "code",
      "metadata": {
        "id": "J0RVOy-ty3YF",
        "colab_type": "code",
        "colab": {
          "base_uri": "https://localhost:8080/",
          "height": 70
        },
        "outputId": "31f8c0c3-13d6-4370-e863-e06f8dee01ea"
      },
      "source": [
        "skfold=StratifiedKFold(n_splits=10,random_state=10)\n",
        "model_skfold=RandomForestClassifier()\n",
        "results_skfold=cross_val_score(model_skfold,x,y,cv=skfold)"
      ],
      "execution_count": 24,
      "outputs": [
        {
          "output_type": "stream",
          "text": [
            "/usr/local/lib/python3.6/dist-packages/sklearn/model_selection/_split.py:296: FutureWarning: Setting a random_state has no effect since shuffle is False. This will raise an error in 0.24. You should leave random_state to its default (None), or set shuffle=True.\n",
            "  FutureWarning\n"
          ],
          "name": "stderr"
        }
      ]
    },
    {
      "cell_type": "code",
      "metadata": {
        "id": "9zWJc9xe02zF",
        "colab_type": "code",
        "colab": {
          "base_uri": "https://localhost:8080/",
          "height": 34
        },
        "outputId": "f49b3bf5-3726-4e97-bbe5-fde71f4bf245"
      },
      "source": [
        "model_skfold.n_estimators"
      ],
      "execution_count": 25,
      "outputs": [
        {
          "output_type": "execute_result",
          "data": {
            "text/plain": [
              "100"
            ]
          },
          "metadata": {
            "tags": []
          },
          "execution_count": 25
        }
      ]
    },
    {
      "cell_type": "code",
      "metadata": {
        "id": "ERG_gLjA0kjP",
        "colab_type": "code",
        "colab": {
          "base_uri": "https://localhost:8080/",
          "height": 34
        },
        "outputId": "db4ccab1-7339-4189-f8ca-76d7fde03c82"
      },
      "source": [
        "print(\"Accuracy: \",results_skfold.mean()*100)"
      ],
      "execution_count": 26,
      "outputs": [
        {
          "output_type": "stream",
          "text": [
            "Accuracy:  89.2\n"
          ],
          "name": "stdout"
        }
      ]
    }
  ]
}