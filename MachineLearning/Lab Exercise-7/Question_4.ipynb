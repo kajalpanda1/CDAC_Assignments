{
  "nbformat": 4,
  "nbformat_minor": 0,
  "metadata": {
    "colab": {
      "name": "Question-4.ipynb",
      "provenance": [],
      "collapsed_sections": []
    },
    "kernelspec": {
      "name": "python3",
      "display_name": "Python 3"
    }
  },
  "cells": [
    {
      "cell_type": "markdown",
      "metadata": {
        "id": "YW6q9r9y1ebT",
        "colab_type": "text"
      },
      "source": [
        "Use the make_regression() function to create a synthetic binary classification problem with 1,000 examples and 20 input features. Use this synthetic dataset to build a classification model using Random forest regressor. Evaluate your model using stratified cross fold validation."
      ]
    },
    {
      "cell_type": "code",
      "metadata": {
        "id": "CWZATKx5yZ_g",
        "colab_type": "code",
        "colab": {}
      },
      "source": [
        "from sklearn.datasets import make_regression\n",
        "from sklearn.model_selection import cross_val_score\n",
        "from sklearn.ensemble import RandomForestRegressor\n",
        "from sklearn.model_selection import KFold"
      ],
      "execution_count": 24,
      "outputs": []
    },
    {
      "cell_type": "code",
      "metadata": {
        "id": "fD11z2aF2DdR",
        "colab_type": "code",
        "colab": {}
      },
      "source": [
        "x,y=make_regression(n_samples=1000,n_features=20,random_state=10)"
      ],
      "execution_count": 25,
      "outputs": []
    },
    {
      "cell_type": "code",
      "metadata": {
        "id": "fUA6XgTb7Den",
        "colab_type": "code",
        "colab": {}
      },
      "source": [
        "kfold=KFold(n_splits=8)\n",
        "model_kfold=RandomForestRegressor()\n",
        "results_kfold=cross_val_score(model_kfold,x,y,cv=kfold,scoring='r2')"
      ],
      "execution_count": 26,
      "outputs": []
    },
    {
      "cell_type": "code",
      "metadata": {
        "id": "RQR8GL704dF8",
        "colab_type": "code",
        "colab": {
          "base_uri": "https://localhost:8080/",
          "height": 34
        },
        "outputId": "2005a158-f356-4aa4-f194-e6393fa92aee"
      },
      "source": [
        "print(\"Accuracy: \",results_kfold.mean())"
      ],
      "execution_count": 27,
      "outputs": [
        {
          "output_type": "stream",
          "text": [
            "Accuracy:  0.7953508372073029\n"
          ],
          "name": "stdout"
        }
      ]
    }
  ]
}