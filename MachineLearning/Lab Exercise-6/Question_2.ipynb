{
  "nbformat": 4,
  "nbformat_minor": 0,
  "metadata": {
    "colab": {
      "name": "Question-2.ipynb",
      "provenance": [],
      "collapsed_sections": []
    },
    "kernelspec": {
      "name": "python3",
      "display_name": "Python 3"
    }
  },
  "cells": [
    {
      "cell_type": "markdown",
      "metadata": {
        "id": "J-hzs2IedT-w",
        "colab_type": "text"
      },
      "source": [
        "Use the wine dataset, which is a very famous multi-class classification problem. This data is the result of a chemical analysis of wines grown in the same region in Italy using three different cultivars. The analysis determined the quantities of 13 constituents found in each of the three types of wines. The dataset comprises 13 features ('alcohol', 'malic_acid', 'ash', 'alcalinity_of_ash', 'magnesium', 'total_phenols', 'flavanoids', 'nonflavanoid_phenols', 'proanthocyanins', 'color_intensity', 'hue', 'od280/od315_of_diluted_wines', 'proline') and a target (type of cultivars). This data has three types of cultivar classes: 'class_0', 'class_1', and 'class_2'. \n",
        "Your task is to build a model using k-nn classifier to classify the type of cultivar. Access the performance of your model using different values of ‘k’.\n",
        " \n"
      ]
    },
    {
      "cell_type": "code",
      "metadata": {
        "id": "xiqI6udqdWjh",
        "colab_type": "code",
        "colab": {}
      },
      "source": [
        "from sklearn.neighbors import KNeighborsClassifier\n",
        "from sklearn.model_selection import train_test_split"
      ],
      "execution_count": 13,
      "outputs": []
    },
    {
      "cell_type": "code",
      "metadata": {
        "id": "vqMQpvZ2dlYa",
        "colab_type": "code",
        "colab": {}
      },
      "source": [
        "from sklearn import datasets\n",
        "wine_data=datasets.load_wine()"
      ],
      "execution_count": 14,
      "outputs": []
    },
    {
      "cell_type": "code",
      "metadata": {
        "id": "pFSYXkLYnYhf",
        "colab_type": "code",
        "colab": {
          "base_uri": "https://localhost:8080/",
          "height": 235
        },
        "outputId": "19e2b127-936c-4641-f9d4-7491ce7de08c"
      },
      "source": [
        "wine_data.feature_names"
      ],
      "execution_count": 23,
      "outputs": [
        {
          "output_type": "execute_result",
          "data": {
            "text/plain": [
              "['alcohol',\n",
              " 'malic_acid',\n",
              " 'ash',\n",
              " 'alcalinity_of_ash',\n",
              " 'magnesium',\n",
              " 'total_phenols',\n",
              " 'flavanoids',\n",
              " 'nonflavanoid_phenols',\n",
              " 'proanthocyanins',\n",
              " 'color_intensity',\n",
              " 'hue',\n",
              " 'od280/od315_of_diluted_wines',\n",
              " 'proline']"
            ]
          },
          "metadata": {
            "tags": []
          },
          "execution_count": 23
        }
      ]
    },
    {
      "cell_type": "code",
      "metadata": {
        "id": "IR4tUZgOmsq0",
        "colab_type": "code",
        "colab": {
          "base_uri": "https://localhost:8080/",
          "height": 34
        },
        "outputId": "8caf6508-377f-4208-c3aa-f5249e87c0a4"
      },
      "source": [
        "wine_data.target_names"
      ],
      "execution_count": 24,
      "outputs": [
        {
          "output_type": "execute_result",
          "data": {
            "text/plain": [
              "array(['class_0', 'class_1', 'class_2'], dtype='<U7')"
            ]
          },
          "metadata": {
            "tags": []
          },
          "execution_count": 24
        }
      ]
    },
    {
      "cell_type": "code",
      "metadata": {
        "id": "zNxsZh55m-ot",
        "colab_type": "code",
        "colab": {}
      },
      "source": [
        "x=wine_data.data\n",
        "y=wine_data.target"
      ],
      "execution_count": 25,
      "outputs": []
    },
    {
      "cell_type": "code",
      "metadata": {
        "id": "zoc7hkm0nlAN",
        "colab_type": "code",
        "colab": {
          "base_uri": "https://localhost:8080/",
          "height": 34
        },
        "outputId": "465bbc10-c290-4e63-a26c-b9c15bb3021f"
      },
      "source": [
        "x.shape"
      ],
      "execution_count": 26,
      "outputs": [
        {
          "output_type": "execute_result",
          "data": {
            "text/plain": [
              "(178, 13)"
            ]
          },
          "metadata": {
            "tags": []
          },
          "execution_count": 26
        }
      ]
    },
    {
      "cell_type": "code",
      "metadata": {
        "id": "BXq4X3L0nmCu",
        "colab_type": "code",
        "colab": {
          "base_uri": "https://localhost:8080/",
          "height": 34
        },
        "outputId": "eea72289-cc71-439c-9b6f-b9293802b53f"
      },
      "source": [
        "y.shape"
      ],
      "execution_count": 27,
      "outputs": [
        {
          "output_type": "execute_result",
          "data": {
            "text/plain": [
              "(178,)"
            ]
          },
          "metadata": {
            "tags": []
          },
          "execution_count": 27
        }
      ]
    },
    {
      "cell_type": "code",
      "metadata": {
        "id": "YcaXOUt7nmnA",
        "colab_type": "code",
        "colab": {}
      },
      "source": [
        "x_train,x_test,y_train,y_test=train_test_split(x,y,test_size=0.3,random_state=0)"
      ],
      "execution_count": 28,
      "outputs": []
    },
    {
      "cell_type": "code",
      "metadata": {
        "id": "BNmIyDUIpF4a",
        "colab_type": "code",
        "colab": {}
      },
      "source": [
        "wine_knn=KNeighborsClassifier(n_neighbors=)"
      ],
      "execution_count": null,
      "outputs": []
    },
    {
      "cell_type": "code",
      "metadata": {
        "id": "ZA2HharTpAKd",
        "colab_type": "code",
        "colab": {}
      },
      "source": [
        "K = [] \n",
        "training = [] \n",
        "testing = [] \n",
        "scores = {} \n",
        "  \n",
        "for k in range(2,25): \n",
        "    wine_knn=KNeighborsClassifier(n_neighbors = k) \n",
        "    wine_knn.fit(x_train,y_train) \n",
        "  \n",
        "    training_score=wine_knn.score(x_train,y_train) \n",
        "    testing_score=wine_knn.score(x_test,y_test) \n",
        "    K.append(k) \n",
        "  \n",
        "    training.append(training_score) \n",
        "    testing.append(testing_score) \n",
        "    scores[k]=[training_score,testing_score]"
      ],
      "execution_count": 33,
      "outputs": []
    },
    {
      "cell_type": "code",
      "metadata": {
        "id": "RAFnM8_3pacX",
        "colab_type": "code",
        "colab": {
          "base_uri": "https://localhost:8080/",
          "height": 403
        },
        "outputId": "f7859ddb-9320-466d-8bcb-59b9df4c2cae"
      },
      "source": [
        "for keys, values in scores.items(): \n",
        "    print(keys, ':', values)"
      ],
      "execution_count": 36,
      "outputs": [
        {
          "output_type": "stream",
          "text": [
            "2 : [0.8790322580645161, 0.6666666666666666]\n",
            "3 : [0.9032258064516129, 0.7037037037037037]\n",
            "4 : [0.8387096774193549, 0.7592592592592593]\n",
            "5 : [0.7903225806451613, 0.7222222222222222]\n",
            "6 : [0.7580645161290323, 0.7222222222222222]\n",
            "7 : [0.7903225806451613, 0.7777777777777778]\n",
            "8 : [0.7661290322580645, 0.6481481481481481]\n",
            "9 : [0.7419354838709677, 0.7222222222222222]\n",
            "10 : [0.7419354838709677, 0.7037037037037037]\n",
            "11 : [0.7096774193548387, 0.7037037037037037]\n",
            "12 : [0.7258064516129032, 0.7222222222222222]\n",
            "13 : [0.7338709677419355, 0.7222222222222222]\n",
            "14 : [0.717741935483871, 0.7222222222222222]\n",
            "15 : [0.7258064516129032, 0.7407407407407407]\n",
            "16 : [0.717741935483871, 0.7407407407407407]\n",
            "17 : [0.7338709677419355, 0.7407407407407407]\n",
            "18 : [0.7338709677419355, 0.7222222222222222]\n",
            "19 : [0.7258064516129032, 0.7407407407407407]\n",
            "20 : [0.717741935483871, 0.6851851851851852]\n",
            "21 : [0.7338709677419355, 0.7222222222222222]\n",
            "22 : [0.7338709677419355, 0.7592592592592593]\n",
            "23 : [0.717741935483871, 0.7777777777777778]\n",
            "24 : [0.717741935483871, 0.7407407407407407]\n"
          ],
          "name": "stdout"
        }
      ]
    },
    {
      "cell_type": "markdown",
      "metadata": {
        "id": "jt_yfO9bqIWu",
        "colab_type": "text"
      },
      "source": [
        "for k=14,15 gives good training and testing scores\n",
        "\n"
      ]
    }
  ]
}