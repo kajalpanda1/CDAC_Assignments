{
  "nbformat": 4,
  "nbformat_minor": 0,
  "metadata": {
    "colab": {
      "name": "Question-2.ipynb",
      "provenance": [],
      "collapsed_sections": []
    },
    "kernelspec": {
      "name": "python3",
      "display_name": "Python 3"
    }
  },
  "cells": [
    {
      "cell_type": "markdown",
      "metadata": {
        "id": "cM_5scaOZfir",
        "colab_type": "text"
      },
      "source": [
        "Use the titanic dataset you used in Q1. Now use AdaBoost ensemble method to create classification model. Compare the accuracy of this model with the ensemble model obtained in Q1.\n"
      ]
    },
    {
      "cell_type": "code",
      "metadata": {
        "id": "QtABGXcNZibP",
        "colab_type": "code",
        "colab": {}
      },
      "source": [
        "#Importing titanic dataset\n",
        "import pandas as pd\n",
        "titanic_df=pd.read_csv(\"https://raw.githubusercontent.com/kajalpanda1/DatasetRepository/master/Titanic.csv\")"
      ],
      "execution_count": 1,
      "outputs": []
    },
    {
      "cell_type": "code",
      "metadata": {
        "id": "sDAQl47RZ8IF",
        "colab_type": "code",
        "colab": {
          "base_uri": "https://localhost:8080/",
          "height": 336
        },
        "outputId": "ffeb2b37-89a7-4a62-fc6b-23f05d1ccbb0"
      },
      "source": [
        "#Checking for NULL values\n",
        "titanic_df.info()"
      ],
      "execution_count": 2,
      "outputs": [
        {
          "output_type": "stream",
          "text": [
            "<class 'pandas.core.frame.DataFrame'>\n",
            "RangeIndex: 156 entries, 0 to 155\n",
            "Data columns (total 12 columns):\n",
            " #   Column       Non-Null Count  Dtype  \n",
            "---  ------       --------------  -----  \n",
            " 0   PassengerId  156 non-null    int64  \n",
            " 1   Survived     156 non-null    int64  \n",
            " 2   Pclass       156 non-null    int64  \n",
            " 3   Name         156 non-null    object \n",
            " 4   Sex          156 non-null    object \n",
            " 5   Age          126 non-null    float64\n",
            " 6   SibSp        156 non-null    int64  \n",
            " 7   Parch        156 non-null    int64  \n",
            " 8   Ticket       156 non-null    object \n",
            " 9   Fare         156 non-null    float64\n",
            " 10  Cabin        31 non-null     object \n",
            " 11  Embarked     155 non-null    object \n",
            "dtypes: float64(2), int64(5), object(5)\n",
            "memory usage: 14.8+ KB\n"
          ],
          "name": "stdout"
        }
      ]
    },
    {
      "cell_type": "code",
      "metadata": {
        "id": "KCSY88P_huY3",
        "colab_type": "code",
        "colab": {
          "base_uri": "https://localhost:8080/",
          "height": 67
        },
        "outputId": "ece2c3fc-e059-4e07-f543-8b41be3f7997"
      },
      "source": [
        "#Accessing column names of titanic dataset\n",
        "titanic_df.columns"
      ],
      "execution_count": 3,
      "outputs": [
        {
          "output_type": "execute_result",
          "data": {
            "text/plain": [
              "Index(['PassengerId', 'Survived', 'Pclass', 'Name', 'Sex', 'Age', 'SibSp',\n",
              "       'Parch', 'Ticket', 'Fare', 'Cabin', 'Embarked'],\n",
              "      dtype='object')"
            ]
          },
          "metadata": {
            "tags": []
          },
          "execution_count": 3
        }
      ]
    },
    {
      "cell_type": "code",
      "metadata": {
        "id": "S2d7J-BSaTxT",
        "colab_type": "code",
        "colab": {}
      },
      "source": [
        "#Dropping ineffective columns from the titanic dataset\n",
        "titanic_df=titanic_df.drop(columns=['PassengerId','Name','Ticket','Fare','Cabin'])"
      ],
      "execution_count": 4,
      "outputs": []
    },
    {
      "cell_type": "code",
      "metadata": {
        "id": "yUdMEYiCIrLU",
        "colab_type": "code",
        "colab": {
          "base_uri": "https://localhost:8080/",
          "height": 195
        },
        "outputId": "bc9440fb-c7be-4fd2-a750-f107ec792f66"
      },
      "source": [
        "#Accessing records after dropping columns\n",
        "titanic_df.head()"
      ],
      "execution_count": 5,
      "outputs": [
        {
          "output_type": "execute_result",
          "data": {
            "text/html": [
              "<div>\n",
              "<style scoped>\n",
              "    .dataframe tbody tr th:only-of-type {\n",
              "        vertical-align: middle;\n",
              "    }\n",
              "\n",
              "    .dataframe tbody tr th {\n",
              "        vertical-align: top;\n",
              "    }\n",
              "\n",
              "    .dataframe thead th {\n",
              "        text-align: right;\n",
              "    }\n",
              "</style>\n",
              "<table border=\"1\" class=\"dataframe\">\n",
              "  <thead>\n",
              "    <tr style=\"text-align: right;\">\n",
              "      <th></th>\n",
              "      <th>Survived</th>\n",
              "      <th>Pclass</th>\n",
              "      <th>Sex</th>\n",
              "      <th>Age</th>\n",
              "      <th>SibSp</th>\n",
              "      <th>Parch</th>\n",
              "      <th>Embarked</th>\n",
              "    </tr>\n",
              "  </thead>\n",
              "  <tbody>\n",
              "    <tr>\n",
              "      <th>0</th>\n",
              "      <td>0</td>\n",
              "      <td>3</td>\n",
              "      <td>male</td>\n",
              "      <td>22.0</td>\n",
              "      <td>1</td>\n",
              "      <td>0</td>\n",
              "      <td>S</td>\n",
              "    </tr>\n",
              "    <tr>\n",
              "      <th>1</th>\n",
              "      <td>1</td>\n",
              "      <td>1</td>\n",
              "      <td>female</td>\n",
              "      <td>38.0</td>\n",
              "      <td>1</td>\n",
              "      <td>0</td>\n",
              "      <td>C</td>\n",
              "    </tr>\n",
              "    <tr>\n",
              "      <th>2</th>\n",
              "      <td>1</td>\n",
              "      <td>3</td>\n",
              "      <td>female</td>\n",
              "      <td>26.0</td>\n",
              "      <td>0</td>\n",
              "      <td>0</td>\n",
              "      <td>S</td>\n",
              "    </tr>\n",
              "    <tr>\n",
              "      <th>3</th>\n",
              "      <td>1</td>\n",
              "      <td>1</td>\n",
              "      <td>female</td>\n",
              "      <td>35.0</td>\n",
              "      <td>1</td>\n",
              "      <td>0</td>\n",
              "      <td>S</td>\n",
              "    </tr>\n",
              "    <tr>\n",
              "      <th>4</th>\n",
              "      <td>0</td>\n",
              "      <td>3</td>\n",
              "      <td>male</td>\n",
              "      <td>35.0</td>\n",
              "      <td>0</td>\n",
              "      <td>0</td>\n",
              "      <td>S</td>\n",
              "    </tr>\n",
              "  </tbody>\n",
              "</table>\n",
              "</div>"
            ],
            "text/plain": [
              "   Survived  Pclass     Sex   Age  SibSp  Parch Embarked\n",
              "0         0       3    male  22.0      1      0        S\n",
              "1         1       1  female  38.0      1      0        C\n",
              "2         1       3  female  26.0      0      0        S\n",
              "3         1       1  female  35.0      1      0        S\n",
              "4         0       3    male  35.0      0      0        S"
            ]
          },
          "metadata": {
            "tags": []
          },
          "execution_count": 5
        }
      ]
    },
    {
      "cell_type": "code",
      "metadata": {
        "id": "i91qkZgmSR2v",
        "colab_type": "code",
        "colab": {}
      },
      "source": [
        "#Handling NULL values in Age column\n",
        "titanic_df['Age']=titanic_df['Age'].fillna(titanic_df['Age'].median())"
      ],
      "execution_count": 6,
      "outputs": []
    },
    {
      "cell_type": "code",
      "metadata": {
        "id": "_Cobtl93SWeL",
        "colab_type": "code",
        "colab": {}
      },
      "source": [
        "#Handling NULL values in Embarked column\n",
        "titanic_df['Embarked']=titanic_df['Embarked'].fillna('ffill')"
      ],
      "execution_count": 7,
      "outputs": []
    },
    {
      "cell_type": "code",
      "metadata": {
        "id": "Bmtuj-awiygB",
        "colab_type": "code",
        "colab": {}
      },
      "source": [
        "#Handling categorical values to extract correspond numerical values for Sex and Embarked column\n",
        "from sklearn.preprocessing import LabelEncoder\n",
        "le=LabelEncoder()\n",
        "titanic_df['Sex']=le.fit_transform(titanic_df['Sex'])\n",
        "titanic_df['Embarked']=le.fit_transform(titanic_df['Embarked'])"
      ],
      "execution_count": 8,
      "outputs": []
    },
    {
      "cell_type": "code",
      "metadata": {
        "id": "t9q1lgvsSj-k",
        "colab_type": "code",
        "colab": {}
      },
      "source": [
        "#Extracting features and target dataframes from the titanic dataset\n",
        "feature_df=titanic_df.iloc[:,1:].values\n",
        "target_df=titanic_df.iloc[:,0].values"
      ],
      "execution_count": 9,
      "outputs": []
    },
    {
      "cell_type": "code",
      "metadata": {
        "id": "eZE5k_YQSu30",
        "colab_type": "code",
        "colab": {}
      },
      "source": [
        "#Standardizing the features of the titanic dataset\n",
        "from sklearn.preprocessing import StandardScaler\n",
        "ss=StandardScaler()\n",
        "feature_df=ss.fit_transform(feature_df)"
      ],
      "execution_count": 10,
      "outputs": []
    },
    {
      "cell_type": "code",
      "metadata": {
        "id": "pBY5DKWcSy6Y",
        "colab_type": "code",
        "colab": {}
      },
      "source": [
        "#Splitting titanic dataset into training and testing set\n",
        "from sklearn.model_selection import train_test_split\n",
        "x_train,x_test,y_train,y_test=train_test_split(feature_df,target_df,test_size=0.2,random_state=3)"
      ],
      "execution_count": 11,
      "outputs": []
    },
    {
      "cell_type": "code",
      "metadata": {
        "id": "KTf5VkiZS2k2",
        "colab_type": "code",
        "colab": {}
      },
      "source": [
        "#Building Decision Tree Classifier model\n",
        "from sklearn.tree import DecisionTreeClassifier\n",
        "titanic_tree=DecisionTreeClassifier(max_depth=5,random_state=10)\n",
        "model_dt=titanic_tree.fit(x_train,y_train)"
      ],
      "execution_count": 12,
      "outputs": []
    },
    {
      "cell_type": "code",
      "metadata": {
        "id": "BJEQvvJ6S6j-",
        "colab_type": "code",
        "colab": {}
      },
      "source": [
        "#Building Logistic Regressor model\n",
        "from sklearn.linear_model import LogisticRegression\n",
        "lgr=LogisticRegression(solver='liblinear',random_state=10) \n",
        "model_lgr=lgr.fit(x_train,y_train)"
      ],
      "execution_count": 13,
      "outputs": []
    },
    {
      "cell_type": "code",
      "metadata": {
        "id": "p4NVjVWOS-1n",
        "colab_type": "code",
        "colab": {}
      },
      "source": [
        "#Building Support Vector Classifier model\n",
        "from sklearn import svm\n",
        "svc=svm.SVC(kernel='linear',C=0.1,probability=True)\n",
        "model_svc=svc.fit(x_train,y_train)"
      ],
      "execution_count": 36,
      "outputs": []
    },
    {
      "cell_type": "code",
      "metadata": {
        "id": "BAqBEKkPTCQR",
        "colab_type": "code",
        "colab": {
          "base_uri": "https://localhost:8080/",
          "height": 470
        },
        "outputId": "30521423-2544-44da-c11c-3c4204129e2c"
      },
      "source": [
        "#ENSEMBLE VOTING CLASSIFIER\n",
        "from sklearn.ensemble import VotingClassifier\n",
        "estimators=[('decision tree', model_dt), ('logistic regression', model_lgr), ('svm', model_svc)]\n",
        "ensemble = VotingClassifier(estimators, voting='hard')\n",
        "\n",
        "#Fitting model with training instances\n",
        "ensemble.fit(x_train, y_train)"
      ],
      "execution_count": 37,
      "outputs": [
        {
          "output_type": "execute_result",
          "data": {
            "text/plain": [
              "VotingClassifier(estimators=[('decision tree',\n",
              "                              DecisionTreeClassifier(ccp_alpha=0.0,\n",
              "                                                     class_weight=None,\n",
              "                                                     criterion='gini',\n",
              "                                                     max_depth=5,\n",
              "                                                     max_features=None,\n",
              "                                                     max_leaf_nodes=None,\n",
              "                                                     min_impurity_decrease=0.0,\n",
              "                                                     min_impurity_split=None,\n",
              "                                                     min_samples_leaf=1,\n",
              "                                                     min_samples_split=2,\n",
              "                                                     min_weight_fraction_leaf=0.0,\n",
              "                                                     presort='deprecated',\n",
              "                                                     random_state=10,\n",
              "                                                     splitter='best')),\n",
              "                             ('logistic...\n",
              "                                                 solver='liblinear', tol=0.0001,\n",
              "                                                 verbose=0, warm_start=False)),\n",
              "                             ('svm',\n",
              "                              SVC(C=0.1, break_ties=False, cache_size=200,\n",
              "                                  class_weight=None, coef0=0.0,\n",
              "                                  decision_function_shape='ovr', degree=3,\n",
              "                                  gamma='scale', kernel='linear', max_iter=-1,\n",
              "                                  probability=True, random_state=None,\n",
              "                                  shrinking=True, tol=0.001, verbose=False))],\n",
              "                 flatten_transform=True, n_jobs=None, voting='hard',\n",
              "                 weights=None)"
            ]
          },
          "metadata": {
            "tags": []
          },
          "execution_count": 37
        }
      ]
    },
    {
      "cell_type": "code",
      "metadata": {
        "id": "bDbyAJbBTHZw",
        "colab_type": "code",
        "colab": {
          "base_uri": "https://localhost:8080/",
          "height": 50
        },
        "outputId": "b1f2d96f-d6a9-4d97-fea7-50c081b1fe79"
      },
      "source": [
        "#Training and testing accuracies for voting classifier model\n",
        "print('Training Accuracy:',ensemble.score(x_train,y_train))\n",
        "print('Testing Accuracy:',ensemble.score(x_test, y_test))"
      ],
      "execution_count": 38,
      "outputs": [
        {
          "output_type": "stream",
          "text": [
            "Training Accuracy: 0.8064516129032258\n",
            "Testing Accuracy: 0.84375\n"
          ],
          "name": "stdout"
        }
      ]
    },
    {
      "cell_type": "code",
      "metadata": {
        "id": "ssXRouXhTLeE",
        "colab_type": "code",
        "colab": {}
      },
      "source": [
        "#Importing adaboostclassifier\n",
        "from sklearn.ensemble import AdaBoostClassifier\n",
        "#Implementing adaboost classifier with base model as decision tree classifier\n",
        "abc=AdaBoostClassifier(n_estimators=300, base_estimator=model_dt, learning_rate=3.0)\n",
        "abc_dt=abc.fit(x_train,y_train)"
      ],
      "execution_count": 62,
      "outputs": []
    },
    {
      "cell_type": "code",
      "metadata": {
        "id": "XA8BMk3mT9qu",
        "colab_type": "code",
        "colab": {
          "base_uri": "https://localhost:8080/",
          "height": 50
        },
        "outputId": "bf764aef-00dc-4b7a-cbeb-d82e6cef8461"
      },
      "source": [
        "#Training and testing accuracies for adaboost classifier model\n",
        "print('Training Accuracy:',abc_dt.score(x_train,y_train))\n",
        "print('Testing Accuracy:',abc_dt.score(x_test, y_test))"
      ],
      "execution_count": 63,
      "outputs": [
        {
          "output_type": "stream",
          "text": [
            "Training Accuracy: 0.75\n",
            "Testing Accuracy: 0.78125\n"
          ],
          "name": "stdout"
        }
      ]
    },
    {
      "cell_type": "code",
      "metadata": {
        "id": "Ox_rZck9TxgX",
        "colab_type": "code",
        "colab": {}
      },
      "source": [
        "#Implementing adaboost classifier with base model as svm classifier\n",
        "abc1=AdaBoostClassifier(n_estimators=500, base_estimator=model_svc)\n",
        "abc_svc=abc1.fit(x_train,y_train)"
      ],
      "execution_count": 68,
      "outputs": []
    },
    {
      "cell_type": "code",
      "metadata": {
        "id": "3hc21xrZVC8V",
        "colab_type": "code",
        "colab": {
          "base_uri": "https://localhost:8080/",
          "height": 50
        },
        "outputId": "471db842-ea18-46af-e81e-20099dea3a2f"
      },
      "source": [
        "#Training and testing accuracies for adaboost classifier model\n",
        "print('Training Accuracy:',abc_svc.score(x_train,y_train))\n",
        "print('Testing Accuracy:',abc_svc.score(x_test, y_test))"
      ],
      "execution_count": 69,
      "outputs": [
        {
          "output_type": "stream",
          "text": [
            "Training Accuracy: 0.6370967741935484\n",
            "Testing Accuracy: 0.71875\n"
          ],
          "name": "stdout"
        }
      ]
    },
    {
      "cell_type": "code",
      "metadata": {
        "id": "OL_TwlPNT1wT",
        "colab_type": "code",
        "colab": {}
      },
      "source": [
        "#Implementing adaboost classifier with base model as logistic regressor\n",
        "abc2=AdaBoostClassifier(n_estimators=500, base_estimator=model_lgr)\n",
        "abc_lgr=abc2.fit(x_train,y_train)"
      ],
      "execution_count": 70,
      "outputs": []
    },
    {
      "cell_type": "code",
      "metadata": {
        "id": "g80EmnJxT6ux",
        "colab_type": "code",
        "colab": {
          "base_uri": "https://localhost:8080/",
          "height": 50
        },
        "outputId": "b6d2c741-04da-4f51-b544-b846c6f9ab2c"
      },
      "source": [
        "#Training and testing accuracies for adaboost classifier model\n",
        "print('Training Accuracy:',abc_lgr.score(x_train,y_train))\n",
        "print('Testing Accuracy:',abc_lgr.score(x_test, y_test))"
      ],
      "execution_count": 71,
      "outputs": [
        {
          "output_type": "stream",
          "text": [
            "Training Accuracy: 0.8064516129032258\n",
            "Testing Accuracy: 0.84375\n"
          ],
          "name": "stdout"
        }
      ]
    }
  ]
}