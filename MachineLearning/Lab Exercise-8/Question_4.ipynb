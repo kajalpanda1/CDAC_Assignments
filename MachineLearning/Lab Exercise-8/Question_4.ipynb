{
  "nbformat": 4,
  "nbformat_minor": 0,
  "metadata": {
    "colab": {
      "name": "Question-4.ipynb",
      "provenance": [],
      "collapsed_sections": []
    },
    "kernelspec": {
      "name": "python3",
      "display_name": "Python 3"
    }
  },
  "cells": [
    {
      "cell_type": "markdown",
      "metadata": {
        "id": "Jk56QbM4lotl",
        "colab_type": "text"
      },
      "source": [
        "Use dataset of Q3. Implement GradientBoosting Ensemble Classifier on the dataset. Analyze the performance of your model and compare your results with the previously created model in Q3."
      ]
    },
    {
      "cell_type": "code",
      "metadata": {
        "id": "kO8BNM7kZoS8",
        "colab_type": "code",
        "colab": {}
      },
      "source": [
        "#Importing PIMA Indian Diabetes dataset\n",
        "import pandas as pd\n",
        "diabetes_df=pd.read_csv(\"https://raw.githubusercontent.com/kajalpanda1/DatasetRepository/master/pima-indians-diabetes.csv\")"
      ],
      "execution_count": 1,
      "outputs": []
    },
    {
      "cell_type": "code",
      "metadata": {
        "id": "QbgjAyOIlvCL",
        "colab_type": "code",
        "colab": {}
      },
      "source": [
        "#Adding column labels to the dataset\n",
        "diabetes_df.columns=['pregnancies','glucose','bloodpressure','skin_thickness','insulin','bmi','diabetes_pedigree','age','outcome']\n",
        "feature_columns=['pregnancies','glucose','bloodpressure','skin_thickness','insulin','bmi','diabetes_pedigree','age']"
      ],
      "execution_count": 2,
      "outputs": []
    },
    {
      "cell_type": "code",
      "metadata": {
        "id": "oGUVXvEQl2X5",
        "colab_type": "code",
        "colab": {
          "base_uri": "https://localhost:8080/",
          "height": 195
        },
        "outputId": "01dfa338-2e2a-40b5-d131-d6f9ac9b448f"
      },
      "source": [
        "#Accessing first five records of the dataset\n",
        "diabetes_df.head()"
      ],
      "execution_count": 3,
      "outputs": [
        {
          "output_type": "execute_result",
          "data": {
            "text/html": [
              "<div>\n",
              "<style scoped>\n",
              "    .dataframe tbody tr th:only-of-type {\n",
              "        vertical-align: middle;\n",
              "    }\n",
              "\n",
              "    .dataframe tbody tr th {\n",
              "        vertical-align: top;\n",
              "    }\n",
              "\n",
              "    .dataframe thead th {\n",
              "        text-align: right;\n",
              "    }\n",
              "</style>\n",
              "<table border=\"1\" class=\"dataframe\">\n",
              "  <thead>\n",
              "    <tr style=\"text-align: right;\">\n",
              "      <th></th>\n",
              "      <th>pregnancies</th>\n",
              "      <th>glucose</th>\n",
              "      <th>bloodpressure</th>\n",
              "      <th>skin_thickness</th>\n",
              "      <th>insulin</th>\n",
              "      <th>bmi</th>\n",
              "      <th>diabetes_pedigree</th>\n",
              "      <th>age</th>\n",
              "      <th>outcome</th>\n",
              "    </tr>\n",
              "  </thead>\n",
              "  <tbody>\n",
              "    <tr>\n",
              "      <th>0</th>\n",
              "      <td>1</td>\n",
              "      <td>85</td>\n",
              "      <td>66</td>\n",
              "      <td>29</td>\n",
              "      <td>0</td>\n",
              "      <td>26.6</td>\n",
              "      <td>0.351</td>\n",
              "      <td>31</td>\n",
              "      <td>0</td>\n",
              "    </tr>\n",
              "    <tr>\n",
              "      <th>1</th>\n",
              "      <td>8</td>\n",
              "      <td>183</td>\n",
              "      <td>64</td>\n",
              "      <td>0</td>\n",
              "      <td>0</td>\n",
              "      <td>23.3</td>\n",
              "      <td>0.672</td>\n",
              "      <td>32</td>\n",
              "      <td>1</td>\n",
              "    </tr>\n",
              "    <tr>\n",
              "      <th>2</th>\n",
              "      <td>1</td>\n",
              "      <td>89</td>\n",
              "      <td>66</td>\n",
              "      <td>23</td>\n",
              "      <td>94</td>\n",
              "      <td>28.1</td>\n",
              "      <td>0.167</td>\n",
              "      <td>21</td>\n",
              "      <td>0</td>\n",
              "    </tr>\n",
              "    <tr>\n",
              "      <th>3</th>\n",
              "      <td>0</td>\n",
              "      <td>137</td>\n",
              "      <td>40</td>\n",
              "      <td>35</td>\n",
              "      <td>168</td>\n",
              "      <td>43.1</td>\n",
              "      <td>2.288</td>\n",
              "      <td>33</td>\n",
              "      <td>1</td>\n",
              "    </tr>\n",
              "    <tr>\n",
              "      <th>4</th>\n",
              "      <td>5</td>\n",
              "      <td>116</td>\n",
              "      <td>74</td>\n",
              "      <td>0</td>\n",
              "      <td>0</td>\n",
              "      <td>25.6</td>\n",
              "      <td>0.201</td>\n",
              "      <td>30</td>\n",
              "      <td>0</td>\n",
              "    </tr>\n",
              "  </tbody>\n",
              "</table>\n",
              "</div>"
            ],
            "text/plain": [
              "   pregnancies  glucose  bloodpressure  ...  diabetes_pedigree  age  outcome\n",
              "0            1       85             66  ...              0.351   31        0\n",
              "1            8      183             64  ...              0.672   32        1\n",
              "2            1       89             66  ...              0.167   21        0\n",
              "3            0      137             40  ...              2.288   33        1\n",
              "4            5      116             74  ...              0.201   30        0\n",
              "\n",
              "[5 rows x 9 columns]"
            ]
          },
          "metadata": {
            "tags": []
          },
          "execution_count": 3
        }
      ]
    },
    {
      "cell_type": "code",
      "metadata": {
        "id": "JnWMi8PZl9Ws",
        "colab_type": "code",
        "colab": {
          "base_uri": "https://localhost:8080/",
          "height": 286
        },
        "outputId": "4806aa0a-bfec-43c8-8b6d-d700c57cb68d"
      },
      "source": [
        "#Checking for NULL values in the dataset\n",
        "diabetes_df.info()"
      ],
      "execution_count": 4,
      "outputs": [
        {
          "output_type": "stream",
          "text": [
            "<class 'pandas.core.frame.DataFrame'>\n",
            "RangeIndex: 767 entries, 0 to 766\n",
            "Data columns (total 9 columns):\n",
            " #   Column             Non-Null Count  Dtype  \n",
            "---  ------             --------------  -----  \n",
            " 0   pregnancies        767 non-null    int64  \n",
            " 1   glucose            767 non-null    int64  \n",
            " 2   bloodpressure      767 non-null    int64  \n",
            " 3   skin_thickness     767 non-null    int64  \n",
            " 4   insulin            767 non-null    int64  \n",
            " 5   bmi                767 non-null    float64\n",
            " 6   diabetes_pedigree  767 non-null    float64\n",
            " 7   age                767 non-null    int64  \n",
            " 8   outcome            767 non-null    int64  \n",
            "dtypes: float64(2), int64(7)\n",
            "memory usage: 54.1 KB\n"
          ],
          "name": "stdout"
        }
      ]
    },
    {
      "cell_type": "code",
      "metadata": {
        "id": "BVAxLg7pmBqy",
        "colab_type": "code",
        "colab": {}
      },
      "source": [
        "#Extracting features and target dataframe from the dataset\n",
        "features_df=diabetes_df.iloc[:,0:8].values\n",
        "target_df=diabetes_df.iloc[:,8].values"
      ],
      "execution_count": 5,
      "outputs": []
    },
    {
      "cell_type": "code",
      "metadata": {
        "id": "UtQrw7CYmFUs",
        "colab_type": "code",
        "colab": {}
      },
      "source": [
        "#Standardizing features dataframe \n",
        "from sklearn.preprocessing import StandardScaler\n",
        "norm=StandardScaler()\n",
        "features_df=norm.fit_transform(features_df)"
      ],
      "execution_count": 6,
      "outputs": []
    },
    {
      "cell_type": "code",
      "metadata": {
        "id": "Ni42zlwfmHkJ",
        "colab_type": "code",
        "colab": {}
      },
      "source": [
        "#Splitting titanic dataset into training and testing set\n",
        "from sklearn.model_selection import train_test_split\n",
        "x_train,x_test,y_train,y_test=train_test_split(features_df,target_df,test_size=0.2,random_state=3)"
      ],
      "execution_count": 70,
      "outputs": []
    },
    {
      "cell_type": "code",
      "metadata": {
        "id": "LDrkVX7JoHiK",
        "colab_type": "code",
        "colab": {
          "base_uri": "https://localhost:8080/",
          "height": 50
        },
        "outputId": "dd8350fc-10bd-4ad5-bd05-9920927b33c4"
      },
      "source": [
        "#Importing gradientboostingclassifier\n",
        "from sklearn.ensemble import GradientBoostingClassifier\n",
        "\n",
        "#Setting parameters to implement grid search cross validation\n",
        "param_grid={'n_estimators':[50,100,200,300,400,500],'learning_rate':[0.01,0.001]}\n",
        "gbc=GradientBoostingClassifier(random_state=10)\n",
        "\n",
        "#Implementing grid search cross validation\n",
        "from sklearn.model_selection import GridSearchCV\n",
        "gbc_cv=GridSearchCV(gbc,param_grid)\n",
        "gbc_cv.fit(x_train,y_train)\n",
        "\n",
        "#Best score and parameters from gridsearchcv\n",
        "print(gbc_cv.best_params_)\n",
        "print(gbc_cv.best_score_)"
      ],
      "execution_count": 75,
      "outputs": [
        {
          "output_type": "stream",
          "text": [
            "{'learning_rate': 0.01, 'n_estimators': 300}\n",
            "0.7586432093829135\n"
          ],
          "name": "stdout"
        }
      ]
    },
    {
      "cell_type": "code",
      "metadata": {
        "id": "gvQWl_jamKoK",
        "colab_type": "code",
        "colab": {
          "base_uri": "https://localhost:8080/",
          "height": 185
        },
        "outputId": "b678098d-b5c6-47f1-e387-4a276da3322d"
      },
      "source": [
        "#Fitting gradientboosting classifier model\n",
        "model=GradientBoostingClassifier(n_estimators=300,learning_rate=0.01)\n",
        "model.fit(x_train,y_train)"
      ],
      "execution_count": 73,
      "outputs": [
        {
          "output_type": "execute_result",
          "data": {
            "text/plain": [
              "GradientBoostingClassifier(ccp_alpha=0.0, criterion='friedman_mse', init=None,\n",
              "                           learning_rate=0.01, loss='deviance', max_depth=3,\n",
              "                           max_features=None, max_leaf_nodes=None,\n",
              "                           min_impurity_decrease=0.0, min_impurity_split=None,\n",
              "                           min_samples_leaf=1, min_samples_split=2,\n",
              "                           min_weight_fraction_leaf=0.0, n_estimators=300,\n",
              "                           n_iter_no_change=None, presort='deprecated',\n",
              "                           random_state=None, subsample=1.0, tol=0.0001,\n",
              "                           validation_fraction=0.1, verbose=0,\n",
              "                           warm_start=False)"
            ]
          },
          "metadata": {
            "tags": []
          },
          "execution_count": 73
        }
      ]
    },
    {
      "cell_type": "code",
      "metadata": {
        "id": "WMlJxuYSmj6L",
        "colab_type": "code",
        "colab": {
          "base_uri": "https://localhost:8080/",
          "height": 50
        },
        "outputId": "7d5c3c88-d046-48b5-b2f6-060cdffade8e"
      },
      "source": [
        "#Training and testing accuracies for gradient boosting classifier model\n",
        "print('Training Accuracy:',model.score(x_train,y_train))\n",
        "print('Testing Accuracy:',model.score(x_test, y_test))"
      ],
      "execution_count": 74,
      "outputs": [
        {
          "output_type": "stream",
          "text": [
            "Training Accuracy: 0.8531810766721044\n",
            "Testing Accuracy: 0.7597402597402597\n"
          ],
          "name": "stdout"
        }
      ]
    },
    {
      "cell_type": "code",
      "metadata": {
        "id": "7-3xWYuBgbDn",
        "colab_type": "code",
        "colab": {}
      },
      "source": [
        "#Importing adaboostclassifier\n",
        "from sklearn.ensemble import AdaBoostClassifier"
      ],
      "execution_count": 76,
      "outputs": []
    },
    {
      "cell_type": "code",
      "metadata": {
        "id": "RivrygzXgvoE",
        "colab_type": "code",
        "colab": {}
      },
      "source": [
        "#Importing logisticregressor\n",
        "from sklearn.linear_model import LogisticRegression\n",
        "lgr=LogisticRegression()"
      ],
      "execution_count": 77,
      "outputs": []
    },
    {
      "cell_type": "code",
      "metadata": {
        "id": "RtQLhzwEp89i",
        "colab_type": "code",
        "colab": {}
      },
      "source": [
        "#Implementing adaboost classifier with base model as logistic regressor\n",
        "abc=AdaBoostClassifier(n_estimators=500, base_estimator=lgr,learning_rate=0.01)\n",
        "abc_lgr=abc.fit(x_train,y_train)"
      ],
      "execution_count": 78,
      "outputs": []
    },
    {
      "cell_type": "code",
      "metadata": {
        "id": "67xPAWrjp_r_",
        "colab_type": "code",
        "colab": {
          "base_uri": "https://localhost:8080/",
          "height": 50
        },
        "outputId": "5c3195d0-9b04-4e1e-a4e5-08aed5ed4fce"
      },
      "source": [
        "#Training and testing accuracies for adaboost classifier model\n",
        "print('Training Accuracy:',abc_lgr.score(x_train,y_train))\n",
        "print('Testing Accuracy:',abc_lgr.score(x_test, y_test))"
      ],
      "execution_count": 79,
      "outputs": [
        {
          "output_type": "stream",
          "text": [
            "Training Accuracy: 0.7748776508972267\n",
            "Testing Accuracy: 0.7857142857142857\n"
          ],
          "name": "stdout"
        }
      ]
    },
    {
      "cell_type": "code",
      "metadata": {
        "id": "V60AsXmcqJfk",
        "colab_type": "code",
        "colab": {}
      },
      "source": [
        "#Predicting test instances with gradient boosting classifier\n",
        "y_pred_gbc=model.predict(x_test)"
      ],
      "execution_count": 82,
      "outputs": []
    },
    {
      "cell_type": "code",
      "metadata": {
        "id": "OdXKYYajqCEL",
        "colab_type": "code",
        "colab": {
          "base_uri": "https://localhost:8080/",
          "height": 168
        },
        "outputId": "ca8f7d9a-557f-4038-9a6e-fb7ae28bab99"
      },
      "source": [
        "#Classification report for gradient boosting classifier model\n",
        "from sklearn.metrics import classification_report\n",
        "print(classification_report(y_test,y_pred_gbc))"
      ],
      "execution_count": 83,
      "outputs": [
        {
          "output_type": "stream",
          "text": [
            "              precision    recall  f1-score   support\n",
            "\n",
            "           0       0.81      0.85      0.83       104\n",
            "           1       0.64      0.58      0.61        50\n",
            "\n",
            "    accuracy                           0.76       154\n",
            "   macro avg       0.73      0.71      0.72       154\n",
            "weighted avg       0.75      0.76      0.76       154\n",
            "\n"
          ],
          "name": "stdout"
        }
      ]
    }
  ]
}