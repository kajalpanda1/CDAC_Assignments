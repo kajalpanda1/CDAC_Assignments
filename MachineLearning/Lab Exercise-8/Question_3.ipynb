{
  "nbformat": 4,
  "nbformat_minor": 0,
  "metadata": {
    "colab": {
      "name": "Question-3.ipynb",
      "provenance": [],
      "collapsed_sections": []
    },
    "kernelspec": {
      "name": "python3",
      "display_name": "Python 3"
    }
  },
  "cells": [
    {
      "cell_type": "markdown",
      "metadata": {
        "id": "KCPiop6yZiyX",
        "colab_type": "text"
      },
      "source": [
        "Use pima-indian-diabetes dataset. Apply Adaboosting Ensemble method and construct the classification model for the dataset. Analyze the accuracy of your model.\n",
        " \n"
      ]
    },
    {
      "cell_type": "code",
      "metadata": {
        "id": "kO8BNM7kZoS8",
        "colab_type": "code",
        "colab": {}
      },
      "source": [
        "#Importing PIMA Indian Diabetes dataset\n",
        "import pandas as pd\n",
        "diabetes_df=pd.read_csv(\"https://raw.githubusercontent.com/kajalpanda1/DatasetRepository/master/pima-indians-diabetes.csv\")"
      ],
      "execution_count": 2,
      "outputs": []
    },
    {
      "cell_type": "code",
      "metadata": {
        "id": "T1dM_bznaBpy",
        "colab_type": "code",
        "colab": {}
      },
      "source": [
        "#Adding column labels to the dataset\n",
        "diabetes_df.columns=['pregnancies','glucose','bloodpressure','skin_thickness','insulin','bmi','diabetes_pedigree','age','outcome']\n",
        "feature_columns=['pregnancies','glucose','bloodpressure','skin_thickness','insulin','bmi','diabetes_pedigree','age']"
      ],
      "execution_count": 3,
      "outputs": []
    },
    {
      "cell_type": "code",
      "metadata": {
        "id": "aAEFy3Yha3fi",
        "colab_type": "code",
        "colab": {
          "base_uri": "https://localhost:8080/",
          "height": 195
        },
        "outputId": "ca8f24eb-5eb7-4394-a25d-185d21b2006b"
      },
      "source": [
        "#Accessing first five records of the dataset\n",
        "diabetes_df.head()"
      ],
      "execution_count": 4,
      "outputs": [
        {
          "output_type": "execute_result",
          "data": {
            "text/html": [
              "<div>\n",
              "<style scoped>\n",
              "    .dataframe tbody tr th:only-of-type {\n",
              "        vertical-align: middle;\n",
              "    }\n",
              "\n",
              "    .dataframe tbody tr th {\n",
              "        vertical-align: top;\n",
              "    }\n",
              "\n",
              "    .dataframe thead th {\n",
              "        text-align: right;\n",
              "    }\n",
              "</style>\n",
              "<table border=\"1\" class=\"dataframe\">\n",
              "  <thead>\n",
              "    <tr style=\"text-align: right;\">\n",
              "      <th></th>\n",
              "      <th>pregnancies</th>\n",
              "      <th>glucose</th>\n",
              "      <th>bloodpressure</th>\n",
              "      <th>skin_thickness</th>\n",
              "      <th>insulin</th>\n",
              "      <th>bmi</th>\n",
              "      <th>diabetes_pedigree</th>\n",
              "      <th>age</th>\n",
              "      <th>outcome</th>\n",
              "    </tr>\n",
              "  </thead>\n",
              "  <tbody>\n",
              "    <tr>\n",
              "      <th>0</th>\n",
              "      <td>1</td>\n",
              "      <td>85</td>\n",
              "      <td>66</td>\n",
              "      <td>29</td>\n",
              "      <td>0</td>\n",
              "      <td>26.6</td>\n",
              "      <td>0.351</td>\n",
              "      <td>31</td>\n",
              "      <td>0</td>\n",
              "    </tr>\n",
              "    <tr>\n",
              "      <th>1</th>\n",
              "      <td>8</td>\n",
              "      <td>183</td>\n",
              "      <td>64</td>\n",
              "      <td>0</td>\n",
              "      <td>0</td>\n",
              "      <td>23.3</td>\n",
              "      <td>0.672</td>\n",
              "      <td>32</td>\n",
              "      <td>1</td>\n",
              "    </tr>\n",
              "    <tr>\n",
              "      <th>2</th>\n",
              "      <td>1</td>\n",
              "      <td>89</td>\n",
              "      <td>66</td>\n",
              "      <td>23</td>\n",
              "      <td>94</td>\n",
              "      <td>28.1</td>\n",
              "      <td>0.167</td>\n",
              "      <td>21</td>\n",
              "      <td>0</td>\n",
              "    </tr>\n",
              "    <tr>\n",
              "      <th>3</th>\n",
              "      <td>0</td>\n",
              "      <td>137</td>\n",
              "      <td>40</td>\n",
              "      <td>35</td>\n",
              "      <td>168</td>\n",
              "      <td>43.1</td>\n",
              "      <td>2.288</td>\n",
              "      <td>33</td>\n",
              "      <td>1</td>\n",
              "    </tr>\n",
              "    <tr>\n",
              "      <th>4</th>\n",
              "      <td>5</td>\n",
              "      <td>116</td>\n",
              "      <td>74</td>\n",
              "      <td>0</td>\n",
              "      <td>0</td>\n",
              "      <td>25.6</td>\n",
              "      <td>0.201</td>\n",
              "      <td>30</td>\n",
              "      <td>0</td>\n",
              "    </tr>\n",
              "  </tbody>\n",
              "</table>\n",
              "</div>"
            ],
            "text/plain": [
              "   pregnancies  glucose  bloodpressure  ...  diabetes_pedigree  age  outcome\n",
              "0            1       85             66  ...              0.351   31        0\n",
              "1            8      183             64  ...              0.672   32        1\n",
              "2            1       89             66  ...              0.167   21        0\n",
              "3            0      137             40  ...              2.288   33        1\n",
              "4            5      116             74  ...              0.201   30        0\n",
              "\n",
              "[5 rows x 9 columns]"
            ]
          },
          "metadata": {
            "tags": []
          },
          "execution_count": 4
        }
      ]
    },
    {
      "cell_type": "code",
      "metadata": {
        "id": "n67Iek1WgBKr",
        "colab_type": "code",
        "colab": {
          "base_uri": "https://localhost:8080/",
          "height": 185
        },
        "outputId": "7705d685-2564-4d60-9624-d1b1480fa4dc"
      },
      "source": [
        "#Checking for NULL values in the dataset\n",
        "diabetes_df.isnull().sum()"
      ],
      "execution_count": 5,
      "outputs": [
        {
          "output_type": "execute_result",
          "data": {
            "text/plain": [
              "pregnancies          0\n",
              "glucose              0\n",
              "bloodpressure        0\n",
              "skin_thickness       0\n",
              "insulin              0\n",
              "bmi                  0\n",
              "diabetes_pedigree    0\n",
              "age                  0\n",
              "outcome              0\n",
              "dtype: int64"
            ]
          },
          "metadata": {
            "tags": []
          },
          "execution_count": 5
        }
      ]
    },
    {
      "cell_type": "code",
      "metadata": {
        "id": "B3ykC0fhgKXQ",
        "colab_type": "code",
        "colab": {}
      },
      "source": [
        "#Extracting features and target dataframe from the dataset\n",
        "features_df=diabetes_df.iloc[:,0:8].values\n",
        "target_df=diabetes_df.iloc[:,8].values"
      ],
      "execution_count": 6,
      "outputs": []
    },
    {
      "cell_type": "code",
      "metadata": {
        "id": "x51Q75WIgZ6v",
        "colab_type": "code",
        "colab": {}
      },
      "source": [
        "#Standardizing features dataframe \n",
        "from sklearn.preprocessing import StandardScaler\n",
        "norm=StandardScaler()\n",
        "features_df=norm.fit_transform(features_df)"
      ],
      "execution_count": 7,
      "outputs": []
    },
    {
      "cell_type": "code",
      "metadata": {
        "id": "VO4_APTsgluM",
        "colab_type": "code",
        "colab": {}
      },
      "source": [
        "#Splitting titanic dataset into training and testing set\n",
        "from sklearn.model_selection import train_test_split\n",
        "x_train,x_test,y_train,y_test=train_test_split(features_df,target_df,test_size=0.2,random_state=3)"
      ],
      "execution_count": 9,
      "outputs": []
    },
    {
      "cell_type": "code",
      "metadata": {
        "id": "7-3xWYuBgbDn",
        "colab_type": "code",
        "colab": {}
      },
      "source": [
        "#Importing adaboostclassifier\n",
        "from sklearn.ensemble import AdaBoostClassifier"
      ],
      "execution_count": 10,
      "outputs": []
    },
    {
      "cell_type": "code",
      "metadata": {
        "id": "RivrygzXgvoE",
        "colab_type": "code",
        "colab": {}
      },
      "source": [
        "#Importing logisticregressor\n",
        "from sklearn.linear_model import LogisticRegression\n",
        "lgr=LogisticRegression()"
      ],
      "execution_count": 12,
      "outputs": []
    },
    {
      "cell_type": "code",
      "metadata": {
        "id": "TsShnOOSggZG",
        "colab_type": "code",
        "colab": {}
      },
      "source": [
        "#Implementing adaboost classifier with base model as logistic regressor\n",
        "abc=AdaBoostClassifier(n_estimators=500, base_estimator=lgr,learning_rate=0.01)\n",
        "abc_lgr=abc.fit(x_train,y_train)"
      ],
      "execution_count": 53,
      "outputs": []
    },
    {
      "cell_type": "code",
      "metadata": {
        "id": "YmtYWDbOgtsT",
        "colab_type": "code",
        "colab": {
          "base_uri": "https://localhost:8080/",
          "height": 50
        },
        "outputId": "c472a242-159e-4e1d-cf52-8f69849b8c05"
      },
      "source": [
        "#Training and testing accuracies for adaboost classifier model\n",
        "print('Training Accuracy:',abc_lgr.score(x_train,y_train))\n",
        "print('Testing Accuracy:',abc_lgr.score(x_test, y_test))"
      ],
      "execution_count": 54,
      "outputs": [
        {
          "output_type": "stream",
          "text": [
            "Training Accuracy: 0.7748776508972267\n",
            "Testing Accuracy: 0.7857142857142857\n"
          ],
          "name": "stdout"
        }
      ]
    },
    {
      "cell_type": "code",
      "metadata": {
        "id": "BAbjfh3YidBC",
        "colab_type": "code",
        "colab": {}
      },
      "source": [
        "#Predicting test instances with adaboost classifier\n",
        "y_pred_abc=abc_lgr.predict(x_test)"
      ],
      "execution_count": 55,
      "outputs": []
    },
    {
      "cell_type": "code",
      "metadata": {
        "id": "f5D393eeg7zk",
        "colab_type": "code",
        "colab": {
          "base_uri": "https://localhost:8080/",
          "height": 168
        },
        "outputId": "c5e62025-4afb-478f-b373-a1956d750f7c"
      },
      "source": [
        "#Classification report for adaboost ensemble classifier model\n",
        "from sklearn.metrics import classification_report\n",
        "print(classification_report(y_test,y_pred_abc))"
      ],
      "execution_count": 57,
      "outputs": [
        {
          "output_type": "stream",
          "text": [
            "              precision    recall  f1-score   support\n",
            "\n",
            "           0       0.79      0.93      0.85       104\n",
            "           1       0.77      0.48      0.59        50\n",
            "\n",
            "    accuracy                           0.79       154\n",
            "   macro avg       0.78      0.71      0.72       154\n",
            "weighted avg       0.78      0.79      0.77       154\n",
            "\n"
          ],
          "name": "stdout"
        }
      ]
    }
  ]
}