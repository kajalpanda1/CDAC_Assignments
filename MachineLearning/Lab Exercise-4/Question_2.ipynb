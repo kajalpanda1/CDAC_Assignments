{
  "nbformat": 4,
  "nbformat_minor": 0,
  "metadata": {
    "colab": {
      "name": "Question-2.ipynb",
      "provenance": [],
      "collapsed_sections": []
    },
    "kernelspec": {
      "name": "python3",
      "display_name": "Python 3"
    }
  },
  "cells": [
    {
      "cell_type": "markdown",
      "metadata": {
        "id": "qt044jNhtvkA",
        "colab_type": "text"
      },
      "source": [
        "Use balance dataset and perform the following:\n",
        "\n",
        "Use preprocessing methods to clean the dataset.\n",
        "\n",
        "Spit the dataset into Train and Test dataset, respectively.\n",
        "\n",
        "Use train dataset to create a Decision tree model.\n",
        "\n",
        "Use test set for making predictions.\n",
        "\n",
        "Access the quality of your classification model.\n"
      ]
    },
    {
      "cell_type": "code",
      "metadata": {
        "id": "c6rURWtgtxcR",
        "colab_type": "code",
        "colab": {
          "base_uri": "https://localhost:8080/",
          "height": 70
        },
        "outputId": "8aa37646-c23a-484f-ab34-72c463c6f2dc"
      },
      "source": [
        "import numpy as np\n",
        "import pandas as pd\n",
        "import seaborn as sns\n",
        "import matplotlib.pyplot as plt\n",
        "from sklearn.model_selection import train_test_split\n",
        "from sklearn.tree import DecisionTreeClassifier\n",
        "from sklearn.metrics import accuracy_score"
      ],
      "execution_count": 1,
      "outputs": [
        {
          "output_type": "stream",
          "text": [
            "/usr/local/lib/python3.6/dist-packages/statsmodels/tools/_testing.py:19: FutureWarning: pandas.util.testing is deprecated. Use the functions in the public API at pandas.testing instead.\n",
            "  import pandas.util.testing as tm\n"
          ],
          "name": "stderr"
        }
      ]
    },
    {
      "cell_type": "code",
      "metadata": {
        "id": "aOusc2Do-r_R",
        "colab_type": "code",
        "colab": {}
      },
      "source": [
        "#importing balance dataset\n",
        "bal_df=pd.read_csv('https://raw.githubusercontent.com/kajalpanda1/DatasetRepository/master/Balance.csv',header=None)"
      ],
      "execution_count": 2,
      "outputs": []
    },
    {
      "cell_type": "code",
      "metadata": {
        "id": "evoPVvMSuDXK",
        "colab_type": "code",
        "colab": {}
      },
      "source": [
        "#adding column labels to dataset\n",
        "bal_df.columns=['class_name','l_weight','l_distance','r_weight','r_distance']\n",
        "feature_columns1=['l_weight','l_distance','r_weight','r_distance']"
      ],
      "execution_count": 3,
      "outputs": []
    },
    {
      "cell_type": "code",
      "metadata": {
        "id": "IwZpSxM-uIAh",
        "colab_type": "code",
        "colab": {
          "base_uri": "https://localhost:8080/",
          "height": 195
        },
        "outputId": "617fb34e-b2be-4925-e788-357634fe0d66"
      },
      "source": [
        "bal_df.head()"
      ],
      "execution_count": 4,
      "outputs": [
        {
          "output_type": "execute_result",
          "data": {
            "text/html": [
              "<div>\n",
              "<style scoped>\n",
              "    .dataframe tbody tr th:only-of-type {\n",
              "        vertical-align: middle;\n",
              "    }\n",
              "\n",
              "    .dataframe tbody tr th {\n",
              "        vertical-align: top;\n",
              "    }\n",
              "\n",
              "    .dataframe thead th {\n",
              "        text-align: right;\n",
              "    }\n",
              "</style>\n",
              "<table border=\"1\" class=\"dataframe\">\n",
              "  <thead>\n",
              "    <tr style=\"text-align: right;\">\n",
              "      <th></th>\n",
              "      <th>class_name</th>\n",
              "      <th>l_weight</th>\n",
              "      <th>l_distance</th>\n",
              "      <th>r_weight</th>\n",
              "      <th>r_distance</th>\n",
              "    </tr>\n",
              "  </thead>\n",
              "  <tbody>\n",
              "    <tr>\n",
              "      <th>0</th>\n",
              "      <td>B</td>\n",
              "      <td>1</td>\n",
              "      <td>1</td>\n",
              "      <td>1</td>\n",
              "      <td>1</td>\n",
              "    </tr>\n",
              "    <tr>\n",
              "      <th>1</th>\n",
              "      <td>R</td>\n",
              "      <td>1</td>\n",
              "      <td>1</td>\n",
              "      <td>1</td>\n",
              "      <td>2</td>\n",
              "    </tr>\n",
              "    <tr>\n",
              "      <th>2</th>\n",
              "      <td>R</td>\n",
              "      <td>1</td>\n",
              "      <td>1</td>\n",
              "      <td>1</td>\n",
              "      <td>3</td>\n",
              "    </tr>\n",
              "    <tr>\n",
              "      <th>3</th>\n",
              "      <td>R</td>\n",
              "      <td>1</td>\n",
              "      <td>1</td>\n",
              "      <td>1</td>\n",
              "      <td>4</td>\n",
              "    </tr>\n",
              "    <tr>\n",
              "      <th>4</th>\n",
              "      <td>R</td>\n",
              "      <td>1</td>\n",
              "      <td>1</td>\n",
              "      <td>1</td>\n",
              "      <td>5</td>\n",
              "    </tr>\n",
              "  </tbody>\n",
              "</table>\n",
              "</div>"
            ],
            "text/plain": [
              "  class_name  l_weight  l_distance  r_weight  r_distance\n",
              "0          B         1           1         1           1\n",
              "1          R         1           1         1           2\n",
              "2          R         1           1         1           3\n",
              "3          R         1           1         1           4\n",
              "4          R         1           1         1           5"
            ]
          },
          "metadata": {
            "tags": []
          },
          "execution_count": 4
        }
      ]
    },
    {
      "cell_type": "code",
      "metadata": {
        "id": "UVnaJrgtuKzP",
        "colab_type": "code",
        "colab": {
          "base_uri": "https://localhost:8080/",
          "height": 34
        },
        "outputId": "cb758678-3ed0-447f-dafc-a27341d14f48"
      },
      "source": [
        "#checking for null values in the dataset\n",
        "bal_df.isnull().sum().values"
      ],
      "execution_count": 5,
      "outputs": [
        {
          "output_type": "execute_result",
          "data": {
            "text/plain": [
              "array([0, 0, 0, 0, 0])"
            ]
          },
          "metadata": {
            "tags": []
          },
          "execution_count": 5
        }
      ]
    },
    {
      "cell_type": "code",
      "metadata": {
        "id": "LGc-y7E4uPxF",
        "colab_type": "code",
        "colab": {}
      },
      "source": [
        "#extracting features and target dataframe from the dataset\n",
        "features_df=bal_df.iloc[:,1:].values\n",
        "target_df=bal_df.iloc[:,0].values"
      ],
      "execution_count": 7,
      "outputs": []
    },
    {
      "cell_type": "code",
      "metadata": {
        "id": "F_QreEZSuS9N",
        "colab_type": "code",
        "colab": {}
      },
      "source": [
        "#splitting dataset into training and testing sets\n",
        "from sklearn.model_selection import train_test_split\n",
        "X_train, X_test, y_train, y_test = train_test_split(features_df, target_df, test_size = 0.3, random_state = 10)"
      ],
      "execution_count": 8,
      "outputs": []
    },
    {
      "cell_type": "code",
      "metadata": {
        "id": "HUxyckbMubCj",
        "colab_type": "code",
        "colab": {
          "base_uri": "https://localhost:8080/",
          "height": 118
        },
        "outputId": "cb5ded91-2681-446a-9d6d-326430bb3fc3"
      },
      "source": [
        "#using training set to create a decision tree model\n",
        "bal_tree=DecisionTreeClassifier(criterion=\"gini\",random_state=10)\n",
        "bal_tree.fit(X_train, y_train)"
      ],
      "execution_count": 9,
      "outputs": [
        {
          "output_type": "execute_result",
          "data": {
            "text/plain": [
              "DecisionTreeClassifier(ccp_alpha=0.0, class_weight=None, criterion='gini',\n",
              "                       max_depth=None, max_features=None, max_leaf_nodes=None,\n",
              "                       min_impurity_decrease=0.0, min_impurity_split=None,\n",
              "                       min_samples_leaf=1, min_samples_split=2,\n",
              "                       min_weight_fraction_leaf=0.0, presort='deprecated',\n",
              "                       random_state=10, splitter='best')"
            ]
          },
          "metadata": {
            "tags": []
          },
          "execution_count": 9
        }
      ]
    },
    {
      "cell_type": "code",
      "metadata": {
        "id": "QvPNLlqrvpKk",
        "colab_type": "code",
        "colab": {}
      },
      "source": [
        "#predicting y values using testing set\n",
        "y_pred=bal_tree.predict(X_test)"
      ],
      "execution_count": 12,
      "outputs": []
    },
    {
      "cell_type": "code",
      "metadata": {
        "id": "WWr9J4L1v6em",
        "colab_type": "code",
        "colab": {
          "base_uri": "https://localhost:8080/",
          "height": 34
        },
        "outputId": "f3dd12d5-22ee-4bd3-c53e-a1073fda543f"
      },
      "source": [
        "#calculating accuracy score of the model\n",
        "acc=accuracy_score(y_test,y_pred)*100\n",
        "print( \"Accuracy of classification model is \",round(acc,4))"
      ],
      "execution_count": 14,
      "outputs": [
        {
          "output_type": "stream",
          "text": [
            "Accuracy of classification model is  76.5957\n"
          ],
          "name": "stdout"
        }
      ]
    },
    {
      "cell_type": "code",
      "metadata": {
        "id": "yx73DO14v-nO",
        "colab_type": "code",
        "colab": {}
      },
      "source": [
        ""
      ],
      "execution_count": null,
      "outputs": []
    }
  ]
}