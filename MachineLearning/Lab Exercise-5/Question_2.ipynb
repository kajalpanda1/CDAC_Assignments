{
  "nbformat": 4,
  "nbformat_minor": 0,
  "metadata": {
    "colab": {
      "name": "Question-2.ipynb",
      "provenance": [],
      "collapsed_sections": []
    },
    "kernelspec": {
      "name": "python3",
      "display_name": "Python 3"
    }
  },
  "cells": [
    {
      "cell_type": "markdown",
      "metadata": {
        "id": "qKNv-EUxUP8R",
        "colab_type": "text"
      },
      "source": [
        "Use “naïve_bayes_classification” dataset. Build a naïve bayes classification model to predict whether a person is diabetic based on glucose and bloodpressure attribute values."
      ]
    },
    {
      "cell_type": "code",
      "metadata": {
        "id": "5RhYnfc0UQ8P",
        "colab_type": "code",
        "colab": {}
      },
      "source": [
        "import pandas as pd\n",
        "from sklearn.model_selection import train_test_split\n",
        "from sklearn.naive_bayes import GaussianNB"
      ],
      "execution_count": 88,
      "outputs": []
    },
    {
      "cell_type": "code",
      "metadata": {
        "id": "va5jQ3KXUmqU",
        "colab_type": "code",
        "colab": {}
      },
      "source": [
        "#importing pima-indian-diabetes\n",
        "diabetes_df=pd.read_csv('https://raw.githubusercontent.com/kajalpanda1/DatasetRepository/master/pima-indians-diabetes.csv',header=None)"
      ],
      "execution_count": 89,
      "outputs": []
    },
    {
      "cell_type": "code",
      "metadata": {
        "id": "xDGMTM4BUpj8",
        "colab_type": "code",
        "colab": {}
      },
      "source": [
        "#adding column labels to dataset\n",
        "diabetes_df.columns=['pregnancies','glucose','bloodpressure','skin_thickness','insulin','bmi','diabetes_pedigree','age','outcome']\n",
        "feature_columns=['pregnancies','glucose','bloodpressure','skin_thickness','insulin','bmi','diabetes_pedigree','age']"
      ],
      "execution_count": 90,
      "outputs": []
    },
    {
      "cell_type": "code",
      "metadata": {
        "id": "E2Qr5f0GUt-F",
        "colab_type": "code",
        "colab": {
          "base_uri": "https://localhost:8080/",
          "height": 195
        },
        "outputId": "c4781eb2-911b-4f77-9d8a-473c7f0ed154"
      },
      "source": [
        "diabetes_df.head()"
      ],
      "execution_count": 91,
      "outputs": [
        {
          "output_type": "execute_result",
          "data": {
            "text/html": [
              "<div>\n",
              "<style scoped>\n",
              "    .dataframe tbody tr th:only-of-type {\n",
              "        vertical-align: middle;\n",
              "    }\n",
              "\n",
              "    .dataframe tbody tr th {\n",
              "        vertical-align: top;\n",
              "    }\n",
              "\n",
              "    .dataframe thead th {\n",
              "        text-align: right;\n",
              "    }\n",
              "</style>\n",
              "<table border=\"1\" class=\"dataframe\">\n",
              "  <thead>\n",
              "    <tr style=\"text-align: right;\">\n",
              "      <th></th>\n",
              "      <th>pregnancies</th>\n",
              "      <th>glucose</th>\n",
              "      <th>bloodpressure</th>\n",
              "      <th>skin_thickness</th>\n",
              "      <th>insulin</th>\n",
              "      <th>bmi</th>\n",
              "      <th>diabetes_pedigree</th>\n",
              "      <th>age</th>\n",
              "      <th>outcome</th>\n",
              "    </tr>\n",
              "  </thead>\n",
              "  <tbody>\n",
              "    <tr>\n",
              "      <th>0</th>\n",
              "      <td>6</td>\n",
              "      <td>148</td>\n",
              "      <td>72</td>\n",
              "      <td>35</td>\n",
              "      <td>0</td>\n",
              "      <td>33.6</td>\n",
              "      <td>0.627</td>\n",
              "      <td>50</td>\n",
              "      <td>1</td>\n",
              "    </tr>\n",
              "    <tr>\n",
              "      <th>1</th>\n",
              "      <td>1</td>\n",
              "      <td>85</td>\n",
              "      <td>66</td>\n",
              "      <td>29</td>\n",
              "      <td>0</td>\n",
              "      <td>26.6</td>\n",
              "      <td>0.351</td>\n",
              "      <td>31</td>\n",
              "      <td>0</td>\n",
              "    </tr>\n",
              "    <tr>\n",
              "      <th>2</th>\n",
              "      <td>8</td>\n",
              "      <td>183</td>\n",
              "      <td>64</td>\n",
              "      <td>0</td>\n",
              "      <td>0</td>\n",
              "      <td>23.3</td>\n",
              "      <td>0.672</td>\n",
              "      <td>32</td>\n",
              "      <td>1</td>\n",
              "    </tr>\n",
              "    <tr>\n",
              "      <th>3</th>\n",
              "      <td>1</td>\n",
              "      <td>89</td>\n",
              "      <td>66</td>\n",
              "      <td>23</td>\n",
              "      <td>94</td>\n",
              "      <td>28.1</td>\n",
              "      <td>0.167</td>\n",
              "      <td>21</td>\n",
              "      <td>0</td>\n",
              "    </tr>\n",
              "    <tr>\n",
              "      <th>4</th>\n",
              "      <td>0</td>\n",
              "      <td>137</td>\n",
              "      <td>40</td>\n",
              "      <td>35</td>\n",
              "      <td>168</td>\n",
              "      <td>43.1</td>\n",
              "      <td>2.288</td>\n",
              "      <td>33</td>\n",
              "      <td>1</td>\n",
              "    </tr>\n",
              "  </tbody>\n",
              "</table>\n",
              "</div>"
            ],
            "text/plain": [
              "   pregnancies  glucose  bloodpressure  ...  diabetes_pedigree  age  outcome\n",
              "0            6      148             72  ...              0.627   50        1\n",
              "1            1       85             66  ...              0.351   31        0\n",
              "2            8      183             64  ...              0.672   32        1\n",
              "3            1       89             66  ...              0.167   21        0\n",
              "4            0      137             40  ...              2.288   33        1\n",
              "\n",
              "[5 rows x 9 columns]"
            ]
          },
          "metadata": {
            "tags": []
          },
          "execution_count": 91
        }
      ]
    },
    {
      "cell_type": "code",
      "metadata": {
        "id": "pHS3Jj97UwYI",
        "colab_type": "code",
        "colab": {}
      },
      "source": [
        "#extracting features and target dataframe from the dataset\n",
        "features_df=diabetes_df.iloc[:,1:3].values\n",
        "target_df=diabetes_df.iloc[:,8].values"
      ],
      "execution_count": 92,
      "outputs": []
    },
    {
      "cell_type": "code",
      "metadata": {
        "id": "nr-zMRmvU4Xk",
        "colab_type": "code",
        "colab": {}
      },
      "source": [
        "#standardizing features dataframe \n",
        "from sklearn.preprocessing import StandardScaler\n",
        "norm=StandardScaler()\n",
        "features_df=norm.fit_transform(features_df)"
      ],
      "execution_count": 93,
      "outputs": []
    },
    {
      "cell_type": "code",
      "metadata": {
        "id": "QYqboAIEU-GE",
        "colab_type": "code",
        "colab": {
          "base_uri": "https://localhost:8080/",
          "height": 34
        },
        "outputId": "c2dd4043-eba2-469b-deb0-9a8545a27c13"
      },
      "source": [
        "features_df.shape"
      ],
      "execution_count": 94,
      "outputs": [
        {
          "output_type": "execute_result",
          "data": {
            "text/plain": [
              "(768, 2)"
            ]
          },
          "metadata": {
            "tags": []
          },
          "execution_count": 94
        }
      ]
    },
    {
      "cell_type": "code",
      "metadata": {
        "id": "6I9lEWIbU_zU",
        "colab_type": "code",
        "colab": {
          "base_uri": "https://localhost:8080/",
          "height": 34
        },
        "outputId": "eea3fc4a-d870-48b0-ceab-85e2f0407c7b"
      },
      "source": [
        "target_df.shape"
      ],
      "execution_count": 95,
      "outputs": [
        {
          "output_type": "execute_result",
          "data": {
            "text/plain": [
              "(768,)"
            ]
          },
          "metadata": {
            "tags": []
          },
          "execution_count": 95
        }
      ]
    },
    {
      "cell_type": "code",
      "metadata": {
        "id": "x8RtVSzgVB1D",
        "colab_type": "code",
        "colab": {}
      },
      "source": [
        "#splitting dataset into training and testing sets\n",
        "X_train,X_test,y_train,y_test=train_test_split(features_df,target_df,test_size=0.3,random_state=10)"
      ],
      "execution_count": 96,
      "outputs": []
    },
    {
      "cell_type": "code",
      "metadata": {
        "id": "uqPz_uD1VF-4",
        "colab_type": "code",
        "colab": {}
      },
      "source": [
        "#using training set to create naive bayes classifier\n",
        "gnb=GaussianNB(var_smoothing=1)\n",
        "diabetes_nb=gnb.fit(X_train,y_train)"
      ],
      "execution_count": 97,
      "outputs": []
    },
    {
      "cell_type": "code",
      "metadata": {
        "id": "DVPxUPG-VPDG",
        "colab_type": "code",
        "colab": {}
      },
      "source": [
        "#predicting y values using testing set\n",
        "y_pred=diabetes_nb.predict(X_test)"
      ],
      "execution_count": 98,
      "outputs": []
    },
    {
      "cell_type": "code",
      "metadata": {
        "id": "luNbKmSNVZI_",
        "colab_type": "code",
        "colab": {
          "base_uri": "https://localhost:8080/",
          "height": 34
        },
        "outputId": "bf017687-dbc6-4d64-bd1a-7173bb35b892"
      },
      "source": [
        "#accuracy on training and testing set\n",
        "print( \"Accuracy: \",diabetes_nb.score(y_test.reshape(-1,1),y_pred.reshape(-1,1))*100)"
      ],
      "execution_count": 99,
      "outputs": [
        {
          "output_type": "stream",
          "text": [
            "Accuracy:  92.20779220779221\n"
          ],
          "name": "stdout"
        }
      ]
    }
  ]
}