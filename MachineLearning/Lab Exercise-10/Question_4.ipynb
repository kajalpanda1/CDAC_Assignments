{
  "nbformat": 4,
  "nbformat_minor": 0,
  "metadata": {
    "colab": {
      "name": "Question-4.ipynb",
      "provenance": [],
      "collapsed_sections": []
    },
    "kernelspec": {
      "name": "python3",
      "display_name": "Python 3"
    }
  },
  "cells": [
    {
      "cell_type": "markdown",
      "metadata": {
        "id": "dfs1z0UqEJ-o",
        "colab_type": "text"
      },
      "source": [
        "Use digits dataset. Implement a knn classifier, a SVM classifier and a neural network classifier for this dataset. Compare the results and performance of these three classifiers.  "
      ]
    },
    {
      "cell_type": "code",
      "metadata": {
        "id": "bCV5yfe9EUNZ",
        "colab_type": "code",
        "colab": {}
      },
      "source": [
        "#importing digits dataset\n",
        "from sklearn import datasets\n",
        "digit=datasets.load_digits()"
      ],
      "execution_count": 64,
      "outputs": []
    },
    {
      "cell_type": "code",
      "metadata": {
        "id": "gprm1pz9EktW",
        "colab_type": "code",
        "colab": {}
      },
      "source": [
        "#standardizing the data\n",
        "from sklearn.preprocessing import StandardScaler\n",
        "ss=StandardScaler()\n",
        "digit.data=ss.fit_transform(digit.data)"
      ],
      "execution_count": 65,
      "outputs": []
    },
    {
      "cell_type": "code",
      "metadata": {
        "id": "NaQ1TDZyFDSv",
        "colab_type": "code",
        "colab": {}
      },
      "source": [
        "#splitting training and testing set\n",
        "from sklearn.model_selection import train_test_split  \n",
        "x_train,x_test,y_train,y_test=train_test_split(digit.data, digit.target, test_size=0.2)"
      ],
      "execution_count": 66,
      "outputs": []
    },
    {
      "cell_type": "code",
      "metadata": {
        "id": "mgEFXfaxFJrY",
        "colab_type": "code",
        "colab": {
          "base_uri": "https://localhost:8080/",
          "height": 151
        },
        "outputId": "56d784fa-68ce-40b8-f0d0-0b4089ee0052"
      },
      "source": [
        "#implementing Multi-layer perceptron classifier\n",
        "from sklearn.neural_network import MLPClassifier  \n",
        "mlp=MLPClassifier() \n",
        "mlp.fit(x_train, y_train)"
      ],
      "execution_count": 67,
      "outputs": [
        {
          "output_type": "execute_result",
          "data": {
            "text/plain": [
              "MLPClassifier(activation='relu', alpha=0.0001, batch_size='auto', beta_1=0.9,\n",
              "              beta_2=0.999, early_stopping=False, epsilon=1e-08,\n",
              "              hidden_layer_sizes=(100,), learning_rate='constant',\n",
              "              learning_rate_init=0.001, max_fun=15000, max_iter=200,\n",
              "              momentum=0.9, n_iter_no_change=10, nesterovs_momentum=True,\n",
              "              power_t=0.5, random_state=None, shuffle=True, solver='adam',\n",
              "              tol=0.0001, validation_fraction=0.1, verbose=False,\n",
              "              warm_start=False)"
            ]
          },
          "metadata": {
            "tags": []
          },
          "execution_count": 67
        }
      ]
    },
    {
      "cell_type": "code",
      "metadata": {
        "id": "eCgiKNl1FYi7",
        "colab_type": "code",
        "colab": {}
      },
      "source": [
        "#predicting test instances with MLP classifier model\n",
        "predictions=mlp.predict(x_test)"
      ],
      "execution_count": 68,
      "outputs": []
    },
    {
      "cell_type": "code",
      "metadata": {
        "id": "HrIEMtGMFgFj",
        "colab_type": "code",
        "colab": {
          "base_uri": "https://localhost:8080/",
          "height": 185
        },
        "outputId": "69c7223f-aac1-45d3-dae9-7765771d1665"
      },
      "source": [
        "#evaluating the algorithm\n",
        "from sklearn.metrics import classification_report, confusion_matrix  \n",
        "confusion_matrix(y_test,predictions)"
      ],
      "execution_count": 69,
      "outputs": [
        {
          "output_type": "execute_result",
          "data": {
            "text/plain": [
              "array([[36,  0,  1,  0,  0,  0,  0,  0,  0,  0],\n",
              "       [ 0, 39,  0,  0,  0,  0,  1,  0,  0,  0],\n",
              "       [ 0,  0, 32,  0,  0,  0,  0,  0,  0,  0],\n",
              "       [ 0,  0,  0, 35,  0,  0,  0,  0,  0,  0],\n",
              "       [ 0,  0,  0,  0, 41,  0,  0,  0,  1,  0],\n",
              "       [ 0,  0,  0,  0,  0, 38,  0,  0,  0,  0],\n",
              "       [ 0,  0,  0,  0,  0,  0, 40,  0,  0,  0],\n",
              "       [ 0,  0,  0,  0,  1,  0,  0, 32,  0,  0],\n",
              "       [ 0,  1,  0,  0,  0,  0,  0,  0, 28,  0],\n",
              "       [ 0,  0,  0,  2,  0,  0,  0,  0,  0, 32]])"
            ]
          },
          "metadata": {
            "tags": []
          },
          "execution_count": 69
        }
      ]
    },
    {
      "cell_type": "code",
      "metadata": {
        "id": "mKWpoqFmFm1u",
        "colab_type": "code",
        "colab": {
          "base_uri": "https://localhost:8080/",
          "height": 50
        },
        "outputId": "c09d591f-195a-4146-d71e-4524e3075954"
      },
      "source": [
        "#training and testing accuracy of the model\n",
        "print('Training Accuracy:',mlp.score(x_train,y_train)*100)\n",
        "print('Testing Accuracy:',mlp.score(x_test,y_test)*100)"
      ],
      "execution_count": 70,
      "outputs": [
        {
          "output_type": "stream",
          "text": [
            "Training Accuracy: 100.0\n",
            "Testing Accuracy: 98.05555555555556\n"
          ],
          "name": "stdout"
        }
      ]
    }
  ]
}