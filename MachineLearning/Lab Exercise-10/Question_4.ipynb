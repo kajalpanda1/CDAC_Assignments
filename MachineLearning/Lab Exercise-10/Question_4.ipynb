{
  "nbformat": 4,
  "nbformat_minor": 0,
  "metadata": {
    "colab": {
      "name": "Question-4.ipynb",
      "provenance": [],
      "collapsed_sections": []
    },
    "kernelspec": {
      "name": "python3",
      "display_name": "Python 3"
    }
  },
  "cells": [
    {
      "cell_type": "markdown",
      "metadata": {
        "id": "dfs1z0UqEJ-o",
        "colab_type": "text"
      },
      "source": [
        "Use digits dataset. Implement a knn classifier, a SVM classifier and a neural network classifier for this dataset. Compare the results and performance of these three classifiers.  "
      ]
    },
    {
      "cell_type": "code",
      "metadata": {
        "id": "bCV5yfe9EUNZ",
        "colab_type": "code",
        "colab": {}
      },
      "source": [
        "#importing digits dataset\n",
        "from sklearn import datasets\n",
        "digit=datasets.load_digits()"
      ],
      "execution_count": 57,
      "outputs": []
    },
    {
      "cell_type": "code",
      "metadata": {
        "id": "gprm1pz9EktW",
        "colab_type": "code",
        "colab": {}
      },
      "source": [
        "#standardizing the data\n",
        "from sklearn.preprocessing import StandardScaler\n",
        "ss=StandardScaler()\n",
        "digit.data=ss.fit_transform(digit.data)"
      ],
      "execution_count": 58,
      "outputs": []
    },
    {
      "cell_type": "code",
      "metadata": {
        "id": "NaQ1TDZyFDSv",
        "colab_type": "code",
        "colab": {}
      },
      "source": [
        "#splitting training and testing set\n",
        "from sklearn.model_selection import train_test_split  \n",
        "x_train,x_test,y_train,y_test=train_test_split(digit.data, digit.target, test_size=0.3)"
      ],
      "execution_count": 59,
      "outputs": []
    },
    {
      "cell_type": "code",
      "metadata": {
        "id": "mgEFXfaxFJrY",
        "colab_type": "code",
        "colab": {
          "base_uri": "https://localhost:8080/",
          "height": 151
        },
        "outputId": "e5358216-b523-4e6a-d89f-c9eb57a34cd6"
      },
      "source": [
        "#implementing Multi-layer perceptron classifier\n",
        "from sklearn.neural_network import MLPClassifier  \n",
        "mlp=MLPClassifier() \n",
        "mlp.fit(x_train, y_train)"
      ],
      "execution_count": 60,
      "outputs": [
        {
          "output_type": "execute_result",
          "data": {
            "text/plain": [
              "MLPClassifier(activation='relu', alpha=0.0001, batch_size='auto', beta_1=0.9,\n",
              "              beta_2=0.999, early_stopping=False, epsilon=1e-08,\n",
              "              hidden_layer_sizes=(100,), learning_rate='constant',\n",
              "              learning_rate_init=0.001, max_fun=15000, max_iter=200,\n",
              "              momentum=0.9, n_iter_no_change=10, nesterovs_momentum=True,\n",
              "              power_t=0.5, random_state=None, shuffle=True, solver='adam',\n",
              "              tol=0.0001, validation_fraction=0.1, verbose=False,\n",
              "              warm_start=False)"
            ]
          },
          "metadata": {
            "tags": []
          },
          "execution_count": 60
        }
      ]
    },
    {
      "cell_type": "code",
      "metadata": {
        "id": "eCgiKNl1FYi7",
        "colab_type": "code",
        "colab": {}
      },
      "source": [
        "#alpha=0.0005, hidden_layer_sizes=(3,), max_iter=500\n",
        "#predicting test instances with MLP classifier model\n",
        "predictions=mlp.predict(x_test)"
      ],
      "execution_count": 61,
      "outputs": []
    },
    {
      "cell_type": "code",
      "metadata": {
        "id": "HrIEMtGMFgFj",
        "colab_type": "code",
        "colab": {
          "base_uri": "https://localhost:8080/",
          "height": 185
        },
        "outputId": "3712de55-b37b-4eee-a288-aa3fefba9715"
      },
      "source": [
        "#evaluating the algorithm\n",
        "from sklearn.metrics import classification_report, confusion_matrix  \n",
        "confusion_matrix(y_test,predictions)"
      ],
      "execution_count": 62,
      "outputs": [
        {
          "output_type": "execute_result",
          "data": {
            "text/plain": [
              "array([[59,  0,  0,  0,  0,  0,  0,  0,  0,  0],\n",
              "       [ 0, 52,  0,  0,  0,  0,  0,  0,  0,  0],\n",
              "       [ 0,  0, 50,  0,  0,  0,  0,  0,  0,  0],\n",
              "       [ 0,  0,  0, 51,  0,  1,  0,  0,  1,  0],\n",
              "       [ 0,  0,  0,  0, 62,  0,  0,  2,  0,  1],\n",
              "       [ 0,  0,  0,  0,  0, 59,  1,  0,  0,  1],\n",
              "       [ 0,  0,  0,  0,  0,  1, 46,  0,  0,  0],\n",
              "       [ 0,  0,  0,  0,  0,  0,  0, 49,  0,  1],\n",
              "       [ 0,  2,  0,  1,  0,  0,  0,  0, 41,  1],\n",
              "       [ 0,  0,  0,  0,  0,  0,  0,  1,  3, 54]])"
            ]
          },
          "metadata": {
            "tags": []
          },
          "execution_count": 62
        }
      ]
    },
    {
      "cell_type": "code",
      "metadata": {
        "id": "mKWpoqFmFm1u",
        "colab_type": "code",
        "colab": {
          "base_uri": "https://localhost:8080/",
          "height": 50
        },
        "outputId": "a200b107-49d3-4668-f555-a223f432f73a"
      },
      "source": [
        "#training and testing accuracy of the model\n",
        "print('Training Accuracy:',mlp.score(x_train,y_train)*100)\n",
        "print('Testing Accuracy:',mlp.score(x_test,y_test)*100)"
      ],
      "execution_count": 63,
      "outputs": [
        {
          "output_type": "stream",
          "text": [
            "Training Accuracy: 100.0\n",
            "Testing Accuracy: 96.85185185185186\n"
          ],
          "name": "stdout"
        }
      ]
    }
  ]
}