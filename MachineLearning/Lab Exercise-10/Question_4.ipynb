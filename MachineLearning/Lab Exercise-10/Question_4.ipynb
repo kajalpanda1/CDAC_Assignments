{
  "nbformat": 4,
  "nbformat_minor": 0,
  "metadata": {
    "colab": {
      "name": "Question-4.ipynb",
      "provenance": [],
      "collapsed_sections": []
    },
    "kernelspec": {
      "name": "python3",
      "display_name": "Python 3"
    }
  },
  "cells": [
    {
      "cell_type": "markdown",
      "metadata": {
        "id": "dfs1z0UqEJ-o",
        "colab_type": "text"
      },
      "source": [
        "Use digits dataset. Implement a knn classifier, a SVM classifier and a neural network classifier for this dataset. Compare the results and performance of these three classifiers.  "
      ]
    },
    {
      "cell_type": "code",
      "metadata": {
        "id": "bCV5yfe9EUNZ",
        "colab_type": "code",
        "colab": {}
      },
      "source": [
        "#importing digits dataset\n",
        "from sklearn import datasets\n",
        "digit=datasets.load_digits()"
      ],
      "execution_count": 1,
      "outputs": []
    },
    {
      "cell_type": "code",
      "metadata": {
        "id": "VTO8207AoIjf",
        "colab_type": "code",
        "colab": {
          "base_uri": "https://localhost:8080/",
          "height": 34
        },
        "outputId": "ebf747f6-d413-4fab-d4f1-9e998407a16c"
      },
      "source": [
        "digit.data.shape"
      ],
      "execution_count": 14,
      "outputs": [
        {
          "output_type": "execute_result",
          "data": {
            "text/plain": [
              "(1797, 64)"
            ]
          },
          "metadata": {
            "tags": []
          },
          "execution_count": 14
        }
      ]
    },
    {
      "cell_type": "code",
      "metadata": {
        "id": "yi-M5tQMoObv",
        "colab_type": "code",
        "colab": {
          "base_uri": "https://localhost:8080/",
          "height": 34
        },
        "outputId": "aceac901-3a48-4290-cd07-3a65183b1ba1"
      },
      "source": [
        "digit.target_names"
      ],
      "execution_count": 16,
      "outputs": [
        {
          "output_type": "execute_result",
          "data": {
            "text/plain": [
              "array([0, 1, 2, 3, 4, 5, 6, 7, 8, 9])"
            ]
          },
          "metadata": {
            "tags": []
          },
          "execution_count": 16
        }
      ]
    },
    {
      "cell_type": "code",
      "metadata": {
        "id": "gprm1pz9EktW",
        "colab_type": "code",
        "colab": {}
      },
      "source": [
        "#standardizing the data\n",
        "from sklearn.preprocessing import StandardScaler\n",
        "ss=StandardScaler()\n",
        "digit.data=ss.fit_transform(digit.data)"
      ],
      "execution_count": 2,
      "outputs": []
    },
    {
      "cell_type": "code",
      "metadata": {
        "id": "NaQ1TDZyFDSv",
        "colab_type": "code",
        "colab": {}
      },
      "source": [
        "#splitting training and testing set\n",
        "from sklearn.model_selection import train_test_split  \n",
        "x_train,x_test,y_train,y_test=train_test_split(digit.data, digit.target, test_size=0.2)"
      ],
      "execution_count": 3,
      "outputs": []
    },
    {
      "cell_type": "code",
      "metadata": {
        "id": "h6ZKnEuehocB",
        "colab_type": "code",
        "colab": {}
      },
      "source": [
        "#import KNeighborsClassifier\n",
        "from sklearn.neighbors import KNeighborsClassifier\n",
        "import numpy as np\n",
        "\n",
        "#checking training and testing accuracy for different k values in KNN model\n",
        "neighbors=np.arange(1,11)\n",
        "train_accuracy=np.empty(len(neighbors))\n",
        "test_accuracy=np.empty(len(neighbors))\n",
        "\n",
        "for i,k in enumerate(neighbors):\n",
        "    knn=KNeighborsClassifier(n_neighbors=k)\n",
        "    knn.fit(x_train, y_train)\n",
        "    train_accuracy[i]=knn.score(x_train, y_train)\n",
        "    test_accuracy[i] = knn.score(x_test, y_test)"
      ],
      "execution_count": 5,
      "outputs": []
    },
    {
      "cell_type": "code",
      "metadata": {
        "id": "Jj1qpRWKmhfe",
        "colab_type": "code",
        "colab": {
          "base_uri": "https://localhost:8080/",
          "height": 295
        },
        "outputId": "4d842373-51d7-478a-f4a8-fb14f1c155dd"
      },
      "source": [
        "#plotting training and testing accuracies for different k values in KNN model\n",
        "import matplotlib.pyplot as plt\n",
        "plt.title('K varying values for KNN')\n",
        "plt.plot(neighbors,train_accuracy,'r',label='Training accuracy')\n",
        "plt.plot(neighbors,test_accuracy,'g',label='Testing Accuracy')\n",
        "plt.legend()\n",
        "plt.xlabel('Number of neighbors(K)')\n",
        "plt.ylabel('Accuracies')\n",
        "plt.show()"
      ],
      "execution_count": 46,
      "outputs": [
        {
          "output_type": "display_data",
          "data": {
            "image/png": "[encoded data removed]",
            "text/plain": [
              "<Figure size 432x288 with 1 Axes>"
            ]
          },
          "metadata": {
            "tags": [],
            "needs_background": "light"
          }
        }
      ]
    },
    {
      "cell_type": "code",
      "metadata": {
        "id": "ANdwVMALmv0A",
        "colab_type": "code",
        "colab": {
          "base_uri": "https://localhost:8080/",
          "height": 67
        },
        "outputId": "e7a9087d-1fbf-4ed1-cb3f-9336c1baf283"
      },
      "source": [
        "#K=9 is the best number of neighbors from above plot\n",
        "knn=KNeighborsClassifier(n_neighbors=9)\n",
        "knn.fit(x_train,y_train)"
      ],
      "execution_count": 55,
      "outputs": [
        {
          "output_type": "execute_result",
          "data": {
            "text/plain": [
              "KNeighborsClassifier(algorithm='auto', leaf_size=30, metric='minkowski',\n",
              "                     metric_params=None, n_jobs=None, n_neighbors=9, p=2,\n",
              "                     weights='uniform')"
            ]
          },
          "metadata": {
            "tags": []
          },
          "execution_count": 55
        }
      ]
    },
    {
      "cell_type": "code",
      "metadata": {
        "id": "Jzk9ul1Y5-J0",
        "colab_type": "code",
        "colab": {}
      },
      "source": [
        "#predicting for new instances with KNN model\n",
        "y_pred_knn=knn.predict(x_test)"
      ],
      "execution_count": 51,
      "outputs": []
    },
    {
      "cell_type": "code",
      "metadata": {
        "id": "osWtXP_Gm8xu",
        "colab_type": "code",
        "colab": {
          "base_uri": "https://localhost:8080/",
          "height": 319
        },
        "outputId": "c3c6f2fb-b396-430e-d194-b5083d93139c"
      },
      "source": [
        "#importing classification_report\n",
        "from sklearn.metrics import classification_report\n",
        "print(\"The report of accuracies of KNN model:\\n\",classification_report(y_test,y_pred_knn))"
      ],
      "execution_count": 52,
      "outputs": [
        {
          "output_type": "stream",
          "text": [
            "The report of accuracies of KNN model:\n",
            "               precision    recall  f1-score   support\n",
            "\n",
            "           0       1.00      1.00      1.00        38\n",
            "           1       0.90      1.00      0.95        37\n",
            "           2       1.00      1.00      1.00        31\n",
            "           3       1.00      1.00      1.00        44\n",
            "           4       1.00      0.97      0.98        32\n",
            "           5       1.00      0.94      0.97        36\n",
            "           6       1.00      1.00      1.00        35\n",
            "           7       1.00      0.97      0.98        32\n",
            "           8       1.00      0.93      0.96        41\n",
            "           9       0.92      1.00      0.96        34\n",
            "\n",
            "    accuracy                           0.98       360\n",
            "   macro avg       0.98      0.98      0.98       360\n",
            "weighted avg       0.98      0.98      0.98       360\n",
            "\n"
          ],
          "name": "stdout"
        }
      ]
    },
    {
      "cell_type": "code",
      "metadata": {
        "id": "WitGYjZy6gDo",
        "colab_type": "code",
        "colab": {
          "base_uri": "https://localhost:8080/",
          "height": 50
        },
        "outputId": "0577bfff-4cf8-44f0-c722-48cfb95281a8"
      },
      "source": [
        "#training and testing accuracy for KNN model\n",
        "print(\"Training accuracy of KNN:\",knn.score(x_train,y_train)*100)\n",
        "print(\"Testing accuracy of KNN:\",knn.score(x_test,y_test)*100)"
      ],
      "execution_count": null,
      "outputs": [
        {
          "output_type": "stream",
          "text": [
            "Training accuracy of KNN: 97.98190675017398\n",
            "Testing accuracy of KNN: 98.05555555555556\n"
          ],
          "name": "stdout"
        }
      ]
    },
    {
      "cell_type": "code",
      "metadata": {
        "id": "bZsUC6KTnqJx",
        "colab_type": "code",
        "colab": {
          "base_uri": "https://localhost:8080/",
          "height": 84
        },
        "outputId": "79455355-cb39-4521-f7fc-cdb8438f4a4d"
      },
      "source": [
        "#implementing svm.SVC with RBF kernel\n",
        "from sklearn.svm import SVC\n",
        "rbf_svc=SVC(kernel='rbf',gamma=0.001, C=1.0)\n",
        "rbf_svc.fit(x_train, y_train)"
      ],
      "execution_count": 50,
      "outputs": [
        {
          "output_type": "execute_result",
          "data": {
            "text/plain": [
              "SVC(C=1.0, break_ties=False, cache_size=200, class_weight=None, coef0=0.0,\n",
              "    decision_function_shape='ovr', degree=3, gamma=0.001, kernel='rbf',\n",
              "    max_iter=-1, probability=False, random_state=None, shrinking=True,\n",
              "    tol=0.001, verbose=False)"
            ]
          },
          "metadata": {
            "tags": []
          },
          "execution_count": 50
        }
      ]
    },
    {
      "cell_type": "code",
      "metadata": {
        "id": "Sa95JCEkpeGx",
        "colab_type": "code",
        "colab": {}
      },
      "source": [
        "#predicting test instances with SVM model\n",
        "y_pred_svc=rbf_svc.predict(x_test)"
      ],
      "execution_count": 53,
      "outputs": []
    },
    {
      "cell_type": "code",
      "metadata": {
        "id": "gzT63DFiqJ_z",
        "colab_type": "code",
        "colab": {
          "base_uri": "https://localhost:8080/",
          "height": 319
        },
        "outputId": "440383ec-dbea-435a-8694-a8bd5d7357ad"
      },
      "source": [
        "print(\"The report of accuracies of SVM model:\\n\",classification_report(y_test,y_pred_svc))"
      ],
      "execution_count": 54,
      "outputs": [
        {
          "output_type": "stream",
          "text": [
            "The report of accuracies of SVM model:\n",
            "               precision    recall  f1-score   support\n",
            "\n",
            "           0       0.97      0.97      0.97        38\n",
            "           1       0.82      0.97      0.89        37\n",
            "           2       0.97      0.94      0.95        31\n",
            "           3       1.00      0.95      0.98        44\n",
            "           4       0.97      0.97      0.97        32\n",
            "           5       0.97      0.94      0.96        36\n",
            "           6       1.00      0.97      0.99        35\n",
            "           7       1.00      0.97      0.98        32\n",
            "           8       0.95      0.85      0.90        41\n",
            "           9       0.89      0.97      0.93        34\n",
            "\n",
            "    accuracy                           0.95       360\n",
            "   macro avg       0.95      0.95      0.95       360\n",
            "weighted avg       0.95      0.95      0.95       360\n",
            "\n"
          ],
          "name": "stdout"
        }
      ]
    },
    {
      "cell_type": "code",
      "metadata": {
        "id": "32Id2sAspqem",
        "colab_type": "code",
        "colab": {
          "base_uri": "https://localhost:8080/",
          "height": 50
        },
        "outputId": "7157b566-fccb-438c-e2cb-380196bd4d4b"
      },
      "source": [
        "#training and testing accuracy for SVM model\n",
        "print(\"Training accuracy of SVM:\",rbf_svc.score(x_train,y_train)*100)\n",
        "print(\"Testing accuracy of SVM:\",rbf_svc.score(x_test,y_test)*100)"
      ],
      "execution_count": 57,
      "outputs": [
        {
          "output_type": "stream",
          "text": [
            "Training accuracy of SVM: 95.96381350034795\n",
            "Testing accuracy of SVM: 95.0\n"
          ],
          "name": "stdout"
        }
      ]
    },
    {
      "cell_type": "code",
      "metadata": {
        "id": "mgEFXfaxFJrY",
        "colab_type": "code",
        "colab": {
          "base_uri": "https://localhost:8080/",
          "height": 151
        },
        "outputId": "85b3e13e-1299-499b-be92-53ea9dd2f2e8"
      },
      "source": [
        "#implementing Multi-layer perceptron classifier\n",
        "from sklearn.neural_network import MLPClassifier  \n",
        "mlp=MLPClassifier(alpha=0.001,max_iter=300)\n",
        "mlp.fit(x_train, y_train)"
      ],
      "execution_count": 75,
      "outputs": [
        {
          "output_type": "execute_result",
          "data": {
            "text/plain": [
              "MLPClassifier(activation='relu', alpha=0.001, batch_size='auto', beta_1=0.9,\n",
              "              beta_2=0.999, early_stopping=False, epsilon=1e-08,\n",
              "              hidden_layer_sizes=(100,), learning_rate='constant',\n",
              "              learning_rate_init=0.001, max_fun=15000, max_iter=300,\n",
              "              momentum=0.9, n_iter_no_change=10, nesterovs_momentum=True,\n",
              "              power_t=0.5, random_state=None, shuffle=True, solver='adam',\n",
              "              tol=0.0001, validation_fraction=0.1, verbose=False,\n",
              "              warm_start=False)"
            ]
          },
          "metadata": {
            "tags": []
          },
          "execution_count": 75
        }
      ]
    },
    {
      "cell_type": "code",
      "metadata": {
        "id": "eCgiKNl1FYi7",
        "colab_type": "code",
        "colab": {}
      },
      "source": [
        "#predicting test instances with MLP classifier model\n",
        "y_pred_mlp=mlp.predict(x_test)"
      ],
      "execution_count": 76,
      "outputs": []
    },
    {
      "cell_type": "code",
      "metadata": {
        "id": "HrIEMtGMFgFj",
        "colab_type": "code",
        "colab": {
          "base_uri": "https://localhost:8080/",
          "height": 319
        },
        "outputId": "d6fdbf5d-1064-4952-ee00-cf4c96a1bde5"
      },
      "source": [
        "print(\"The report of accuracies of MLP model:\\n\",classification_report(y_test,y_pred_mlp))"
      ],
      "execution_count": 77,
      "outputs": [
        {
          "output_type": "stream",
          "text": [
            "The report of accuracies of MLP model:\n",
            "               precision    recall  f1-score   support\n",
            "\n",
            "           0       1.00      1.00      1.00        38\n",
            "           1       0.90      1.00      0.95        37\n",
            "           2       1.00      1.00      1.00        31\n",
            "           3       1.00      1.00      1.00        44\n",
            "           4       1.00      0.97      0.98        32\n",
            "           5       0.97      0.97      0.97        36\n",
            "           6       1.00      0.97      0.99        35\n",
            "           7       1.00      0.97      0.98        32\n",
            "           8       1.00      0.93      0.96        41\n",
            "           9       0.94      1.00      0.97        34\n",
            "\n",
            "    accuracy                           0.98       360\n",
            "   macro avg       0.98      0.98      0.98       360\n",
            "weighted avg       0.98      0.98      0.98       360\n",
            "\n"
          ],
          "name": "stdout"
        }
      ]
    },
    {
      "cell_type": "code",
      "metadata": {
        "id": "mKWpoqFmFm1u",
        "colab_type": "code",
        "colab": {
          "base_uri": "https://localhost:8080/",
          "height": 50
        },
        "outputId": "b5fda9b6-c1d8-4b92-854d-02bb6e3e0608"
      },
      "source": [
        "#training and testing accuracy of neural network model\n",
        "print('Training Accuracy of MLP model:',mlp.score(x_train,y_train)*100)\n",
        "print('Testing Accuracy of MLP model:',mlp.score(x_test,y_test)*100)"
      ],
      "execution_count": 79,
      "outputs": [
        {
          "output_type": "stream",
          "text": [
            "Training Accuracy of MLP model: 100.0\n",
            "Testing Accuracy of MLP model: 98.05555555555556\n"
          ],
          "name": "stdout"
        }
      ]
    }
  ]
}