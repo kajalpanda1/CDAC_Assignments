{
  "nbformat": 4,
  "nbformat_minor": 0,
  "metadata": {
    "colab": {
      "name": "Question-1.ipynb",
      "provenance": [],
      "collapsed_sections": []
    },
    "kernelspec": {
      "name": "python3",
      "display_name": "Python 3"
    }
  },
  "cells": [
    {
      "cell_type": "markdown",
      "metadata": {
        "id": "gP1Wkpd6_BE2",
        "colab_type": "text"
      },
      "source": [
        "Use MNIST dataset. Create multi-layer neural network model using sklearn package. Tune the hyperparameters in order increase the accuracy of test data. Also check the overfitting of your model.\n"
      ]
    },
    {
      "cell_type": "code",
      "metadata": {
        "id": "4vfGX1sl_Cc7",
        "colab_type": "code",
        "colab": {}
      },
      "source": [
        "#importing the mnist dataset\n",
        "from tensorflow import keras\n",
        "mnist=keras.datasets.mnist"
      ],
      "execution_count": 1,
      "outputs": []
    },
    {
      "cell_type": "code",
      "metadata": {
        "id": "d6AHd6HH_QGf",
        "colab_type": "code",
        "colab": {
          "base_uri": "https://localhost:8080/",
          "height": 50
        },
        "outputId": "623b83e1-1db1-40c0-bfa8-6cc99d47c155"
      },
      "source": [
        "#splitting training and testing set\n",
        "(x_train,y_train),(x_test,y_test)=mnist.load_data()\n",
        "#normalizing feature data\n",
        "x_train,x_test=x_train/255.0,x_test/255.0"
      ],
      "execution_count": 2,
      "outputs": [
        {
          "output_type": "stream",
          "text": [
            "Downloading data from https://storage.googleapis.com/tensorflow/tf-keras-datasets/mnist.npz\n",
            "11493376/11490434 [==============================] - 0s 0us/step\n"
          ],
          "name": "stdout"
        }
      ]
    },
    {
      "cell_type": "code",
      "metadata": {
        "id": "9-F_G0MdAhb_",
        "colab_type": "code",
        "colab": {
          "base_uri": "https://localhost:8080/",
          "height": 34
        },
        "outputId": "19c4e4a0-8f7d-4c03-ca25-6e48ac64900b"
      },
      "source": [
        "x_train.ndim"
      ],
      "execution_count": 22,
      "outputs": [
        {
          "output_type": "execute_result",
          "data": {
            "text/plain": [
              "3"
            ]
          },
          "metadata": {
            "tags": []
          },
          "execution_count": 22
        }
      ]
    },
    {
      "cell_type": "code",
      "metadata": {
        "id": "oIafZXL9CUBa",
        "colab_type": "code",
        "colab": {}
      },
      "source": [
        "nsamples, nx, ny = x_train.shape\n",
        "x_train=x_train.reshape((nsamples,(nx*ny)))"
      ],
      "execution_count": 24,
      "outputs": []
    },
    {
      "cell_type": "code",
      "metadata": {
        "id": "EEKJgj3CDW6d",
        "colab_type": "code",
        "colab": {}
      },
      "source": [
        "nsamples, nx, ny = x_test.shape\n",
        "x_test=x_test.reshape((nsamples,(nx*ny)))"
      ],
      "execution_count": 27,
      "outputs": []
    },
    {
      "cell_type": "code",
      "metadata": {
        "id": "kMM8EO-SAnEq",
        "colab_type": "code",
        "colab": {
          "base_uri": "https://localhost:8080/",
          "height": 34
        },
        "outputId": "240b6320-494d-455f-dde0-c4c09c430727"
      },
      "source": [
        "y_train.ndim"
      ],
      "execution_count": 10,
      "outputs": [
        {
          "output_type": "execute_result",
          "data": {
            "text/plain": [
              "1"
            ]
          },
          "metadata": {
            "tags": []
          },
          "execution_count": 10
        }
      ]
    },
    {
      "cell_type": "code",
      "metadata": {
        "id": "TcNZkfSL_oxy",
        "colab_type": "code",
        "colab": {
          "base_uri": "https://localhost:8080/",
          "height": 151
        },
        "outputId": "5bc3e461-ad52-4328-911b-d998ae9fe7ab"
      },
      "source": [
        "#implementing Multi-layer perceptron classifier\n",
        "from sklearn.neural_network import MLPClassifier  \n",
        "mlp=MLPClassifier(alpha=0.0005, hidden_layer_sizes=(3,2), max_iter=500) \n",
        "mlp.fit(x_train,y_train)"
      ],
      "execution_count": 25,
      "outputs": [
        {
          "output_type": "execute_result",
          "data": {
            "text/plain": [
              "MLPClassifier(activation='relu', alpha=0.0005, batch_size='auto', beta_1=0.9,\n",
              "              beta_2=0.999, early_stopping=False, epsilon=1e-08,\n",
              "              hidden_layer_sizes=(3, 2), learning_rate='constant',\n",
              "              learning_rate_init=0.001, max_fun=15000, max_iter=500,\n",
              "              momentum=0.9, n_iter_no_change=10, nesterovs_momentum=True,\n",
              "              power_t=0.5, random_state=None, shuffle=True, solver='adam',\n",
              "              tol=0.0001, validation_fraction=0.1, verbose=False,\n",
              "              warm_start=False)"
            ]
          },
          "metadata": {
            "tags": []
          },
          "execution_count": 25
        }
      ]
    },
    {
      "cell_type": "code",
      "metadata": {
        "id": "s1hXtdlz_tvw",
        "colab_type": "code",
        "colab": {}
      },
      "source": [
        "#predicting test instances with MLP classifier model\n",
        "predictions=mlp.predict(x_test)"
      ],
      "execution_count": 28,
      "outputs": []
    },
    {
      "cell_type": "code",
      "metadata": {
        "id": "LWG5UaHbCx4D",
        "colab_type": "code",
        "colab": {
          "base_uri": "https://localhost:8080/",
          "height": 185
        },
        "outputId": "a8fc8512-0367-4b2c-8b17-7250aaedfcfc"
      },
      "source": [
        "#evaluating the algorithm\n",
        "from sklearn.metrics import classification_report, confusion_matrix  \n",
        "confusion_matrix(y_test,predictions)"
      ],
      "execution_count": 29,
      "outputs": [
        {
          "output_type": "execute_result",
          "data": {
            "text/plain": [
              "array([[ 852,    1,   67,    3,    6,    5,   41,    1,    4,    0],\n",
              "       [   0, 1044,    3,   32,    0,    3,    1,    2,   46,    4],\n",
              "       [  75,   10,  797,   70,   11,   14,   27,    1,   23,    4],\n",
              "       [   0,   49,   84,  796,    1,    8,    0,    7,   62,    3],\n",
              "       [   4,    0,    1,    0,  803,    1,   29,    4,   15,  125],\n",
              "       [   6,   22,   51,   87,   31,   79,   33,    2,  571,   10],\n",
              "       [  47,    1,    6,    0,   24,   14,  852,    0,   13,    1],\n",
              "       [   1,   67,    6,    9,    5,    0,    0,  845,    8,   87],\n",
              "       [   5,   30,   18,   80,   38,   85,   38,    4,  654,   22],\n",
              "       [   4,   15,    3,    5,  108,    1,    3,   57,   32,  781]])"
            ]
          },
          "metadata": {
            "tags": []
          },
          "execution_count": 29
        }
      ]
    },
    {
      "cell_type": "code",
      "metadata": {
        "id": "SEz21-ajDge4",
        "colab_type": "code",
        "colab": {
          "base_uri": "https://localhost:8080/",
          "height": 50
        },
        "outputId": "19a65e35-df55-4951-ce1e-3a354e7180a9"
      },
      "source": [
        "#training and testing accuracy of the model\n",
        "print('Training Accuracy:',mlp.score(x_train,y_train)*100)\n",
        "print('Testing Accuracy:',mlp.score(x_test,y_test)*100)"
      ],
      "execution_count": 30,
      "outputs": [
        {
          "output_type": "stream",
          "text": [
            "Training Accuracy: 75.80833333333334\n",
            "Testing Accuracy: 75.03\n"
          ],
          "name": "stdout"
        }
      ]
    }
  ]
}